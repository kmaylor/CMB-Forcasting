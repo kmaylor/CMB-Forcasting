{
 "cells": [
  {
   "cell_type": "code",
   "execution_count": 3,
   "metadata": {},
   "outputs": [
    {
     "name": "stdout",
     "output_type": "stream",
     "text": [
      "Populating the interactive namespace from numpy and matplotlib\n"
     ]
    }
   ],
   "source": [
    "%pylab notebook"
   ]
  },
  {
   "cell_type": "code",
   "execution_count": 4,
   "metadata": {
    "collapsed": true
   },
   "outputs": [],
   "source": [
    "from Fisher_CMB import *\n",
    "from Models.SPT3G.spt3G_model import spt3G_model\n",
    "from Models.Planck.Planck_model import planck_model\n",
    "from pickle import load as pload\n",
    "from pickle import dump\n",
    "from Covariances.create_basic_cov import *\n",
    "import pandas as pd\n",
    "import cosmoslik as K\n",
    "import matplotlib.lines as mlines"
   ]
  },
  {
   "cell_type": "markdown",
   "metadata": {},
   "source": [
    "# Make Fisher Matrices and Save "
   ]
  },
  {
   "cell_type": "markdown",
   "metadata": {},
   "source": [
    "##  LCDM Fisher Matrices"
   ]
  },
  {
   "cell_type": "code",
   "execution_count": 28,
   "metadata": {
    "collapsed": true
   },
   "outputs": [],
   "source": [
    "params={'H0':fish_param(67.90,0.55),\n",
    "                           'ombh2':fish_param(0.02227,0.0002),\n",
    "                           'ommh2':fish_param(0.1413,0.0011),\n",
    "                           'tau':fish_param(0.067,0.013, 0.02),\n",
    "                           'clamp':fish_param(1.873,0.0115),\n",
    "                           'ns':fish_param( 0.9681,0.0044),\n",
    "                           'lmax':6000,'lens_potential_accuracy':5.0}"
   ]
  },
  {
   "cell_type": "code",
   "execution_count": 16,
   "metadata": {
    "collapsed": true
   },
   "outputs": [],
   "source": [
    "params3g={'H0':fish_param(67.90,0.55),\n",
    "                           'ombh2':fish_param(0.02227,0.0002),\n",
    "                           'ommh2':fish_param(0.1413,0.0011),\n",
    "                           'tau':fish_param(0.067,0.013, 0.02),\n",
    "                           'clamp':fish_param(1.873,0.0115),\n",
    "                           'ns':fish_param( 0.9681,0.0044),\n",
    "                            'Asz':fish_param(5.5,3,3,nuisance=True),\n",
    "                            'Aps':fish_param(19.3,3.5,3.5,nuisance=True),\n",
    "                            'Acib':fish_param(5,2.5,2.5,nuisance=True),\n",
    "                            'A_TEps' : fish_param(.16,.05,nuisance=True),\n",
    "                            'Pcal':fish_param(1.06,.01,.01,nuisance=True),\n",
    "                           'lmax':6000,'lens_potential_accuracy':5.0}"
   ]
  },
  {
   "cell_type": "markdown",
   "metadata": {},
   "source": [
    "### Planck TT $\\ell$ < 800 Fisher matrix"
   ]
  },
  {
   "cell_type": "code",
   "execution_count": 30,
   "metadata": {},
   "outputs": [
    {
     "name": "stderr",
     "output_type": "stream",
     "text": [
      "/nfs/home/kmaylor/Forecasting/Covariances/create_basic_cov.py:37: RuntimeWarning: divide by zero encountered in true_divide\n",
      "  con=lambda n:arcmin_per_sr/n**2\n"
     ]
    }
   ],
   "source": [
    "pcov_800=create_basic_cov(.7,[.0003],[0,'ukarc'],\n",
    "                     specrange = (2,800),\n",
    "                     bin_size = 5,\n",
    "                     spectra=['TT'],\n",
    "                     )\n",
    "\n",
    "full_pcov_800 = make_full_cov(['TT'],pcov_800)\n",
    "\n",
    "\n",
    "Fp_800,names=Fisher_Matrix(params,full_pcov_800,\n",
    "                 planck_model(specrange = [('TT',(2,800))],bin_size=5),show_results=False)\n",
    "\n",
    "pd.DataFrame(Fp_800,index=names,columns=names).to_hdf('Saved_Fisher_Matrices/planck_lcdm_800_Fisher_Matrix.h5','key')"
   ]
  },
  {
   "cell_type": "markdown",
   "metadata": {
    "collapsed": true
   },
   "source": [
    "### Planck $\\ell$ < 2500 Fisher Matrix"
   ]
  },
  {
   "cell_type": "code",
   "execution_count": 20,
   "metadata": {
    "collapsed": true
   },
   "outputs": [],
   "source": [
    "def add_params(planck):\n",
    "    planck['ommh2']=planck['omegabh2']+planck['omegach2']\n",
    "    planck['H0']=planck['H0*']\n",
    "    planck['clamp']=planck['clamp*']\n",
    "    planck['ombh2']=planck['omegabh2']\n",
    "    planck['YHe']=planck.get('yhe',planck['H0*'])\n",
    "    planck['omk']=planck.get('omegak',planck['H0*'])\n",
    "    return planck"
   ]
  },
  {
   "cell_type": "code",
   "execution_count": 47,
   "metadata": {
    "collapsed": true
   },
   "outputs": [],
   "source": [
    "Planck_path=\"/nfs/home/kmaylor/Official_Planck_chains/base/plikHM_TTTEEE_lowTEB/base_plikHM_TTTEEE_lowTEB\" #loading planck 2015 chain\n",
    "Planck_chain=K.chains.load_cosmomc_chain(Planck_path).burnin(1000).join()\n",
    "Planck_chain=add_params(Planck_chain)\n",
    "\n",
    "cov_params=sorted(['H0','ombh2','ommh2','tau','clamp','ns'])\n",
    "Planck_cov = Planck_chain.cov(cov_params)\n",
    "Fp=inv(Planck_cov)\n",
    "\n",
    "pd.DataFrame(Fp,index=cov_params,columns=cov_params).to_hdf('Saved_Fisher_Matrices/planck_lcdm_Fisher_Matrix.h5','key')"
   ]
  },
  {
   "cell_type": "markdown",
   "metadata": {},
   "source": [
    "### SPT-SZ Fisher Matrix"
   ]
  },
  {
   "cell_type": "code",
   "execution_count": 48,
   "metadata": {
    "collapsed": true
   },
   "outputs": [],
   "source": [
    "def slik2cmc( c ):\n",
    "    c['ns'] = c['cosmo.ns']\n",
    "    c['ombh2'] = c['cosmo.ombh2']\n",
    "    c['omch2'] = c['cosmo.omch2']\n",
    "    c['tau'] = c['cosmo.tau']\n",
    "    c['clamp'] = exp(c['cosmo.logA'])*exp(-2*c['tau'])/10\n",
    "    c['ommh2']=c['ombh2']+c['omch2']\n",
    "    c['H0'] = c['cosmo.H0']\n",
    "    return c"
   ]
  },
  {
   "cell_type": "code",
   "execution_count": 49,
   "metadata": {
    "collapsed": true
   },
   "outputs": [],
   "source": [
    "SPTSZ_path=\"/home/kmaylor/Python_Projects/cosmology_chains/SPT_chainz_150x150.chains\"\n",
    "SPTSZ_chain=K.load_chain(SPTSZ_path).burnin(500).join()\n",
    "SPTSZ_chain = slik2cmc(SPTSZ_chain)\n",
    "cov_params=sorted(['H0','ombh2','ommh2','tau','clamp','ns'])\n",
    "SPTSZ_cov = SPTSZ_chain.cov(cov_params)\n",
    "Fsz=inv(SPTSZ_cov)\n",
    "pd.DataFrame(Fsz,index=cov_params,columns=cov_params).to_hdf('Saved_Fisher_Matrices/SPTSZ_lcdm_Fisher_Matrix.h5','key')"
   ]
  },
  {
   "cell_type": "markdown",
   "metadata": {},
   "source": [
    "### SPT3G Fisher Matrix"
   ]
  },
  {
   "cell_type": "code",
   "execution_count": 10,
   "metadata": {
    "collapsed": true
   },
   "outputs": [],
   "source": [
    "def SPT3G_Fisher_for_lmin(fsky,lmin_range,beam_width,noise,P_lmax,T_lmax,spectra,binn,filename):\n",
    "    lmin_dic={}\n",
    "\n",
    "    for lmin in arange(lmin_range[0],lmin_range[1],100):\n",
    "        spt3g_cov=create_basic_cov(fsky,beam_width,noise,specrange = (lmin,P_lmax),bin_size = binn,spectra=spectra)\n",
    "    \n",
    "        full_spt3g_cov=make_full_cov(spectra,spt3g_cov)\n",
    "\n",
    "        Fs,names=Fisher_Matrix(params3g,full_spt3g_cov,\n",
    "                 spt3G_model(specrange = list(zip(spectra,[(lmin,T_lmax),(lmin,P_lmax),(lmin,P_lmax)])),\n",
    "                             bin_size=binn),show_results=False)\n",
    "    \n",
    "        lmin_dic[str(lmin)]=pd.DataFrame(Fs,index=names,columns=names)\n",
    "    lmin_pn=pd.Panel(lmin_dic)\n",
    "    lmin_pn.to_hdf(filename,'key')"
   ]
  },
  {
   "cell_type": "code",
   "execution_count": 6,
   "metadata": {},
   "outputs": [
    {
     "name": "stderr",
     "output_type": "stream",
     "text": [
      "/nfs/home/kmaylor/.virtualenvs/Forecasting_env/local/lib/python3.4/site-packages/ipykernel_launcher.py:9: DeprecationWarning: \n",
      "Panel is deprecated and will be removed in a future version.\n",
      "The recommended way to represent these types of 3-dimensional data are with a MultiIndex on a DataFrame, via the Panel.to_frame() method\n",
      "Alternatively, you can use the xarray package http://xarray.pydata.org/en/stable/.\n",
      "Pandas provides a `.to_xarray()` method to help automate this conversion.\n",
      "\n",
      "  if __name__ == '__main__':\n"
     ]
    }
   ],
   "source": [
    "SPT3G_Fisher_for_lmin(fsky=0.06,\n",
    "lmin_range=[100,700],\n",
    "beam_width=array([0.00032*150/90,.00032,.00032*150/220]),\n",
    "noise=[array([3.6,3.3,8.5]),'ukarc'],\n",
    "P_lmax = 5000,\n",
    "T_lmax = 3000,\n",
    "spectra = ['TT','EE','TE'],\n",
    "binn=5,\n",
    "filename = 'Saved_Fisher_Matrices/SPT3G_lcdm_lmin_100_700_Fisher_Matrices.h5')"
   ]
  },
  {
   "cell_type": "markdown",
   "metadata": {},
   "source": [
    "### SPT3G Fisher Matrix fsky =0.035"
   ]
  },
  {
   "cell_type": "code",
   "execution_count": 7,
   "metadata": {},
   "outputs": [
    {
     "name": "stderr",
     "output_type": "stream",
     "text": [
      "/nfs/home/kmaylor/.virtualenvs/Forecasting_env/local/lib/python3.4/site-packages/ipykernel_launcher.py:9: DeprecationWarning: \n",
      "Panel is deprecated and will be removed in a future version.\n",
      "The recommended way to represent these types of 3-dimensional data are with a MultiIndex on a DataFrame, via the Panel.to_frame() method\n",
      "Alternatively, you can use the xarray package http://xarray.pydata.org/en/stable/.\n",
      "Pandas provides a `.to_xarray()` method to help automate this conversion.\n",
      "\n",
      "  if __name__ == '__main__':\n"
     ]
    }
   ],
   "source": [
    "SPT3G_Fisher_for_lmin(fsky=0.035,\n",
    "lmin_range=[100,700],\n",
    "beam_width=array([0.00032*150/90,.00032,.00032*150/220]),\n",
    "noise=[array([2.8,2.6,6.6]),'ukarc'],\n",
    "P_lmax = 5000,\n",
    "T_lmax = 3000,\n",
    "spectra = ['TT','EE','TE'],\n",
    "binn=5,\n",
    "filename = 'Saved_Fisher_Matrices/SPT3G_f035_lcdm_lmin_100_700_Fisher_Matrices.h5')"
   ]
  },
  {
   "cell_type": "markdown",
   "metadata": {},
   "source": [
    "###  SPT3G lensing reconstruction Fisher Matrix"
   ]
  },
  {
   "cell_type": "code",
   "execution_count": 3,
   "metadata": {
    "collapsed": true
   },
   "outputs": [],
   "source": [
    "paramsphi={'H0':fish_param(67.90,0.55),#'cosmomc_theta': fish_param(1.04106e-2,0.00041),\n",
    "                           'ombh2':fish_param(0.02227,0.0002),\n",
    "                           'ommh2':fish_param(0.1413,0.0011),\n",
    "                           'tau':fish_param(0.067,0.013, 0.02),\n",
    "                           'clamp':fish_param(1.873,0.0115),\n",
    "                           'ns':fish_param( 0.9681,0.0044),\n",
    "                           #'mnu':fish_param(.06,0.01),\n",
    "                           #'nnu':fish_param(3.046,0.03),\n",
    "                           #'YHe':fish_param(.252,.014),\n",
    "                            #'Asz':fish_param(5.5,3,3,nuisance=True),\n",
    "                            #'Aps':fish_param(19.3,3.5,3.5,nuisance=True),\n",
    "                            #'Acib':fish_param(5,2.5,2.5,nuisance=True),\n",
    "                            #'A_TEps' : fish_param(.16,.05,nuisance=True),\n",
    "                            #'Pcal':fish_param(1.06,.01,.01,nuisance=True),\n",
    "                           'lmax':6000,'lens_potential_accuracy':5.0}"
   ]
  },
  {
   "cell_type": "code",
   "execution_count": 11,
   "metadata": {
    "collapsed": true
   },
   "outputs": [],
   "source": [
    "def SPT3G_phi_Fisher_for_lmin(fsky,lmin_range,lmax,binn,filename):\n",
    "    lmin_dic={}\n",
    "\n",
    "    for lmin in arange(lmin_range[0],lmin_range[1],100):\n",
    "        m=spt3G_model(specrange = [('PP',(lmin,lmax))],bin_size=binn)\n",
    "\n",
    "        lensing_recon_cov_file = 'Covariances/spt3g_3.3uk_lmaxTT3000_lmaxPOL5000_nx1024_plikHM_TT_lowTEB_lensing.dat'\n",
    "\n",
    "        PP_cov=diag(dot(m.windows['PP'],\n",
    "                (loadtxt(lensing_recon_cov_file)[:3000,-1]*(2.725*1e6)**2)[m.windowrange['PP']]))\n",
    "        \n",
    "        Fs_phi,names=Fisher_Matrix(paramsphi,PP_cov,\n",
    "                                   spt3G_model(specrange = [('PP',(lmin,lmax))],bin_size=binn),show_results=False)\n",
    "        lmin_dic[str(lmin)]=pd.DataFrame(Fs_phi,index=names,columns=names)\n",
    "    lmin_pn=pd.Panel(lmin_dic)\n",
    "    lmin_pn.to_hdf(filename,'key')"
   ]
  },
  {
   "cell_type": "code",
   "execution_count": 8,
   "metadata": {},
   "outputs": [
    {
     "name": "stderr",
     "output_type": "stream",
     "text": [
      "/nfs/home/kmaylor/.virtualenvs/Forecasting_env/local/lib/python3.4/site-packages/ipykernel_launcher.py:1: DeprecationWarning: \n",
      "Panel is deprecated and will be removed in a future version.\n",
      "The recommended way to represent these types of 3-dimensional data are with a MultiIndex on a DataFrame, via the Panel.to_frame() method\n",
      "Alternatively, you can use the xarray package http://xarray.pydata.org/en/stable/.\n",
      "Pandas provides a `.to_xarray()` method to help automate this conversion.\n",
      "\n",
      "  \"\"\"Entry point for launching an IPython kernel.\n"
     ]
    }
   ],
   "source": [
    "SPT3G_phi_Fisher_for_lmin(0.06,(100,700),3000,5,'Saved_Fisher_Matrices/SPT3G_phi_lcdm_lmin_100_700_Fisher_Matrices.h5')"
   ]
  },
  {
   "cell_type": "code",
   "execution_count": 9,
   "metadata": {},
   "outputs": [
    {
     "name": "stderr",
     "output_type": "stream",
     "text": [
      "/nfs/home/kmaylor/.virtualenvs/Forecasting_env/local/lib/python3.4/site-packages/ipykernel_launcher.py:1: DeprecationWarning: \n",
      "Panel is deprecated and will be removed in a future version.\n",
      "The recommended way to represent these types of 3-dimensional data are with a MultiIndex on a DataFrame, via the Panel.to_frame() method\n",
      "Alternatively, you can use the xarray package http://xarray.pydata.org/en/stable/.\n",
      "Pandas provides a `.to_xarray()` method to help automate this conversion.\n",
      "\n",
      "  \"\"\"Entry point for launching an IPython kernel.\n"
     ]
    }
   ],
   "source": [
    "SPT3G_phi_Fisher_for_lmin(0.035,(100,700),3000,5,'Saved_Fisher_Matrices/SPT3G_phi_f035_lcdm_lmin_100_700_Fisher_Matrices.h5')"
   ]
  },
  {
   "cell_type": "markdown",
   "metadata": {},
   "source": [
    "## LCDM + Neff"
   ]
  },
  {
   "cell_type": "code",
   "execution_count": 8,
   "metadata": {
    "collapsed": true
   },
   "outputs": [],
   "source": [
    "params={'H0':fish_param(67.90,0.55),#'cosmomc_theta': fish_param(1.04106e-2,0.00041),\n",
    "                           'ombh2':fish_param(0.02227,0.0002),\n",
    "                           'ommh2':fish_param(0.1413,0.0011),\n",
    "                           'tau':fish_param(0.067,0.013, 0.02),\n",
    "                           'clamp':fish_param(1.873,0.0115),\n",
    "                           'ns':fish_param( 0.9681,0.0044),\n",
    "                           #'mnu':fish_param(.06,0.01),\n",
    "                           'nnu':fish_param(3.046,0.03),\n",
    "                           #'YHe':fish_param(.252,.014),\n",
    "                           'lmax':6000,'lens_potential_accuracy':5.0}"
   ]
  },
  {
   "cell_type": "code",
   "execution_count": 8,
   "metadata": {
    "collapsed": true
   },
   "outputs": [],
   "source": [
    "params3g={'H0':fish_param(67.90,0.55),#'cosmomc_theta': fish_param(1.04106e-2,0.00041),\n",
    "                           'ombh2':fish_param(0.02227,0.0002),\n",
    "                           'ommh2':fish_param(0.1413,0.0011),\n",
    "                           'tau':fish_param(0.067,0.013, 0.02),\n",
    "                           'clamp':fish_param(1.873,0.0115),\n",
    "                           'ns':fish_param( 0.9681,0.0044),\n",
    "                           #'mnu':fish_param(.06,0.01),\n",
    "                           'nnu':fish_param(3.046,0.03),\n",
    "                           #'YHe':fish_param(.252,.014),\n",
    "                            'Asz':fish_param(5.5,3,3,nuisance=True),\n",
    "                            'Aps':fish_param(19.3,3.5,3.5,nuisance=True),\n",
    "                            'Acib':fish_param(5,2.5,2.5,nuisance=True),\n",
    "                            'A_TEps' : fish_param(.16,.05,nuisance=True),\n",
    "                            'Pcal':fish_param(1.06,.01,.01,nuisance=True),\n",
    "                           'lmax':6000,'lens_potential_accuracy':5.0}"
   ]
  },
  {
   "cell_type": "markdown",
   "metadata": {},
   "source": [
    "### Planck $\\ell$ < 800"
   ]
  },
  {
   "cell_type": "code",
   "execution_count": 131,
   "metadata": {
    "collapsed": true
   },
   "outputs": [],
   "source": [
    "Fp_800_neff,names=Fisher_Matrix(params,full_pcov_800,\n",
    "                 planck_model(specrange = [('TT',(2,800))],bin_size=5),show_results=False)\n",
    "\n",
    "pd.DataFrame(Fp_800_neff,index=names,columns=names).to_hdf('Saved_Fisher_Matrices/planck_lcdm_neff_800_Fisher_Matrix.h5','key')"
   ]
  },
  {
   "cell_type": "markdown",
   "metadata": {},
   "source": [
    "### Planck $\\ell$ < 2500 Fisher Matrix"
   ]
  },
  {
   "cell_type": "code",
   "execution_count": 100,
   "metadata": {
    "collapsed": true
   },
   "outputs": [],
   "source": [
    "Planck_neff_path=\"/nfs/home/kmaylor/Official_Planck_chains/base_nnu/plikHM_TTTEEE_lowTEB/base_nnu_plikHM_TTTEEE_lowTEB\" #loading planck 2015 chain\n",
    "Planck_neff_chain=K.chains.load_cosmomc_chain(Planck_neff_path).burnin(1000).join()\n",
    "Planck_neff_chain=add_params(Planck_neff_chain)\n",
    "\n",
    "cov_params_neff=sorted(['H0','ombh2','ommh2','tau','clamp','ns','nnu'])\n",
    "Planck_neff_cov = Planck_neff_chain.cov(cov_params_neff)\n",
    "Fp_neff=inv(Planck_neff_cov)\n",
    "\n",
    "pd.DataFrame(Fp_neff,index=cov_params_neff,columns=cov_params_neff).to_hdf('Saved_Fisher_Matrices/planck_lcdm_neff_Fisher_Matrix.h5','key')"
   ]
  },
  {
   "cell_type": "markdown",
   "metadata": {},
   "source": [
    "### SPT3G Fisher Matrix"
   ]
  },
  {
   "cell_type": "code",
   "execution_count": 9,
   "metadata": {},
   "outputs": [
    {
     "name": "stderr",
     "output_type": "stream",
     "text": [
      "/nfs/home/kmaylor/.virtualenvs/Forecasting_env/local/lib/python3.4/site-packages/ipykernel_launcher.py:9: DeprecationWarning: \n",
      "Panel is deprecated and will be removed in a future version.\n",
      "The recommended way to represent these types of 3-dimensional data are with a MultiIndex on a DataFrame, via the Panel.to_frame() method\n",
      "Alternatively, you can use the xarray package http://xarray.pydata.org/en/stable/.\n",
      "Pandas provides a `.to_xarray()` method to help automate this conversion.\n",
      "\n",
      "  if __name__ == '__main__':\n"
     ]
    }
   ],
   "source": [
    "SPT3G_Fisher_for_lmin(fsky=0.06,\n",
    "lmin_range=[100,700],\n",
    "beam_width=array([0.00032*150/90,.00032,.00032*150/220]),\n",
    "noise=[array([3.6,3.3,8.5]),'ukarc'],\n",
    "P_lmax = 5000,\n",
    "T_lmax = 3000,\n",
    "spectra = ['TT','EE','TE'],\n",
    "binn=5,\n",
    "filename = 'Saved_Fisher_Matrices/SPT3G_lcdm_neff_lmin_100_700_Fisher_Matrices.h5')"
   ]
  },
  {
   "cell_type": "markdown",
   "metadata": {},
   "source": [
    "### SPT3G Fisher Matrix fsky =0.035"
   ]
  },
  {
   "cell_type": "code",
   "execution_count": 10,
   "metadata": {},
   "outputs": [
    {
     "name": "stderr",
     "output_type": "stream",
     "text": [
      "/nfs/home/kmaylor/.virtualenvs/Forecasting_env/local/lib/python3.4/site-packages/ipykernel_launcher.py:9: DeprecationWarning: \n",
      "Panel is deprecated and will be removed in a future version.\n",
      "The recommended way to represent these types of 3-dimensional data are with a MultiIndex on a DataFrame, via the Panel.to_frame() method\n",
      "Alternatively, you can use the xarray package http://xarray.pydata.org/en/stable/.\n",
      "Pandas provides a `.to_xarray()` method to help automate this conversion.\n",
      "\n",
      "  if __name__ == '__main__':\n"
     ]
    }
   ],
   "source": [
    "SPT3G_Fisher_for_lmin(fsky=0.035,\n",
    "lmin_range=[100,700],\n",
    "beam_width=array([0.00032*150/90,.00032,.00032*150/220]),\n",
    "noise=[array([2.8,2.6,6.6]),'ukarc'],\n",
    "P_lmax = 5000,\n",
    "T_lmax = 3000,\n",
    "spectra = ['TT','EE','TE'],\n",
    "binn=5,\n",
    "filename = 'Saved_Fisher_Matrices/SPT3G_f035_lcdm_neff_lmin_100_700_Fisher_Matrices.h5')"
   ]
  },
  {
   "cell_type": "markdown",
   "metadata": {},
   "source": [
    "###  SPT3G lensing reconstruction Fisher Matrix"
   ]
  },
  {
   "cell_type": "code",
   "execution_count": 10,
   "metadata": {},
   "outputs": [
    {
     "name": "stderr",
     "output_type": "stream",
     "text": [
      "/nfs/home/kmaylor/.virtualenvs/Forecasting_env/local/lib/python3.4/site-packages/ipykernel_launcher.py:11: DeprecationWarning: \n",
      "Panel is deprecated and will be removed in a future version.\n",
      "The recommended way to represent these types of 3-dimensional data are with a MultiIndex on a DataFrame, via the Panel.to_frame() method\n",
      "Alternatively, you can use the xarray package http://xarray.pydata.org/en/stable/.\n",
      "Pandas provides a `.to_xarray()` method to help automate this conversion.\n",
      "\n",
      "  # This is added back by InteractiveShellApp.init_path()\n"
     ]
    }
   ],
   "source": [
    "paramsphi={'H0':fish_param(67.90,0.55),#'cosmomc_theta': fish_param(1.04106e-2,0.00041),\n",
    "                           'ombh2':fish_param(0.02227,0.0002),\n",
    "                           'ommh2':fish_param(0.1413,0.0011),\n",
    "                           'tau':fish_param(0.067,0.013, 0.02),\n",
    "                           'clamp':fish_param(1.873,0.0115),\n",
    "                           'ns':fish_param( 0.9681,0.0044),\n",
    "                           #'mnu':fish_param(.06,0.01),\n",
    "                           'nnu':fish_param(3.046,0.03),\n",
    "                           'lmax':6000,'lens_potential_accuracy':5.0}\n",
    "\n",
    "SPT3G_phi_Fisher_for_lmin(0.06,(100,700),3000,5,'Saved_Fisher_Matrices/SPT3G_phi_lcdm_neff_lmin_100_700_Fisher_Matrices.h5')"
   ]
  },
  {
   "cell_type": "code",
   "execution_count": 11,
   "metadata": {},
   "outputs": [
    {
     "name": "stderr",
     "output_type": "stream",
     "text": [
      "/nfs/home/kmaylor/.virtualenvs/Forecasting_env/local/lib/python3.4/site-packages/ipykernel_launcher.py:1: DeprecationWarning: \n",
      "Panel is deprecated and will be removed in a future version.\n",
      "The recommended way to represent these types of 3-dimensional data are with a MultiIndex on a DataFrame, via the Panel.to_frame() method\n",
      "Alternatively, you can use the xarray package http://xarray.pydata.org/en/stable/.\n",
      "Pandas provides a `.to_xarray()` method to help automate this conversion.\n",
      "\n",
      "  \"\"\"Entry point for launching an IPython kernel.\n"
     ]
    }
   ],
   "source": [
    "SPT3G_phi_Fisher_for_lmin(0.035,(100,700),3000,5,'Saved_Fisher_Matrices/SPT3G_phi_f035_lcdm_lmin_neff_100_700_Fisher_Matrices.h5')"
   ]
  },
  {
   "cell_type": "markdown",
   "metadata": {},
   "source": [
    "##  LCDM + Neff + Yp"
   ]
  },
  {
   "cell_type": "code",
   "execution_count": null,
   "metadata": {
    "collapsed": true
   },
   "outputs": [],
   "source": [
    "params={'H0':fish_param(67.90,0.55),#'cosmomc_theta': fish_param(1.04106e-2,0.00041),\n",
    "                           'ombh2':fish_param(0.02227,0.0002),\n",
    "                           'ommh2':fish_param(0.1413,0.0011),\n",
    "                           'tau':fish_param(0.067,0.013, 0.02),\n",
    "                           'clamp':fish_param(1.873,0.0115),\n",
    "                           'ns':fish_param( 0.9681,0.0044),\n",
    "                           #'mnu':fish_param(.06,0.01),\n",
    "                           'nnu':fish_param(3.046,0.03),\n",
    "                           'YHe':fish_param(.252,.014),\n",
    "                           'lmax':6000,'lens_potential_accuracy':5.0}"
   ]
  },
  {
   "cell_type": "code",
   "execution_count": 11,
   "metadata": {
    "collapsed": true
   },
   "outputs": [],
   "source": [
    "params3g={'H0':fish_param(67.90,0.55),#'cosmomc_theta': fish_param(1.04106e-2,0.00041),\n",
    "                           'ombh2':fish_param(0.02227,0.0002),\n",
    "                           'ommh2':fish_param(0.1413,0.0011),\n",
    "                           'tau':fish_param(0.067,0.013, 0.02),\n",
    "                           'clamp':fish_param(1.873,0.0115),\n",
    "                           'ns':fish_param( 0.9681,0.0044),\n",
    "                           #'mnu':fish_param(.06,0.01),\n",
    "                           'nnu':fish_param(3.046,0.03),\n",
    "                           'YHe':fish_param(.252,.014),\n",
    "                           'Asz':fish_param(5.5,3,3,nuisance=True),\n",
    "                            'Aps':fish_param(19.3,3.5,3.5,nuisance=True),\n",
    "                            'Acib':fish_param(5,2.5,2.5,nuisance=True),\n",
    "                            'A_TEps' : fish_param(.16,.05,nuisance=True),\n",
    "                            'Pcal':fish_param(1.06,.01,.01,nuisance=True),\n",
    "                           'lmax':6000,'lens_potential_accuracy':5.0}"
   ]
  },
  {
   "cell_type": "markdown",
   "metadata": {},
   "source": [
    "### Planck $\\ell$ < 800\n"
   ]
  },
  {
   "cell_type": "code",
   "execution_count": 136,
   "metadata": {
    "collapsed": true
   },
   "outputs": [],
   "source": [
    "Fp_800_neff_yp,names=Fisher_Matrix(params,full_pcov_800,\n",
    "                 planck_model(specrange = [('TT',(2,800))],bin_size=5),show_results=False)\n",
    "\n",
    "pd.DataFrame(Fp_800_neff_yp,index=names,columns=names).to_hdf('Saved_Fisher_Matrices/planck_lcdm_neff_yp_800_Fisher_Matrix.h5','key')"
   ]
  },
  {
   "cell_type": "markdown",
   "metadata": {},
   "source": [
    "### Planck $\\ell$ < 2500 Fisher Matrix"
   ]
  },
  {
   "cell_type": "code",
   "execution_count": 101,
   "metadata": {
    "collapsed": true
   },
   "outputs": [],
   "source": [
    "Planck_neff_yp_path=\"/nfs/home/kmaylor/Official_Planck_chains/base_nnu_yhe/plikHM_TTTEEE_lowTEB/base_nnu_yhe_plikHM_TTTEEE_lowTEB\" #loading planck 2015 chain\n",
    "Planck_neff_yp_chain=K.chains.load_cosmomc_chain(Planck_neff_yp_path).burnin(1000).join()\n",
    "Planck_neff_yp_chain=add_params(Planck_neff_yp_chain)\n",
    "\n",
    "cov_params_neff_yp=sorted(['H0','ombh2','ommh2','tau','clamp','ns','nnu','YHe'])\n",
    "Planck_neff_yp_cov = Planck_neff_yp_chain.cov(cov_params_neff_yp)\n",
    "Fp_neff_yp=inv(Planck_neff_yp_cov)\n",
    "\n",
    "pd.DataFrame(Fp_neff_yp,index=cov_params_neff_yp,columns=cov_params_neff_yp).to_hdf('Saved_Fisher_Matrices/planck_lcdm_neff_yp_Fisher_Matrix.h5','key')"
   ]
  },
  {
   "cell_type": "markdown",
   "metadata": {},
   "source": [
    "### SPT3G Fisher Matrix"
   ]
  },
  {
   "cell_type": "code",
   "execution_count": 12,
   "metadata": {},
   "outputs": [
    {
     "name": "stderr",
     "output_type": "stream",
     "text": [
      "/nfs/home/kmaylor/.virtualenvs/Forecasting_env/local/lib/python3.4/site-packages/ipykernel_launcher.py:9: DeprecationWarning: \n",
      "Panel is deprecated and will be removed in a future version.\n",
      "The recommended way to represent these types of 3-dimensional data are with a MultiIndex on a DataFrame, via the Panel.to_frame() method\n",
      "Alternatively, you can use the xarray package http://xarray.pydata.org/en/stable/.\n",
      "Pandas provides a `.to_xarray()` method to help automate this conversion.\n",
      "\n",
      "  if __name__ == '__main__':\n"
     ]
    }
   ],
   "source": [
    "SPT3G_Fisher_for_lmin(fsky=0.06,\n",
    "lmin_range=[100,700],\n",
    "beam_width=array([0.00032*150/90,.00032,.00032*150/220]),\n",
    "noise=[array([3.6,3.3,8.5]),'ukarc'],\n",
    "P_lmax = 5000,\n",
    "T_lmax = 3000,\n",
    "spectra = ['TT','EE','TE'],\n",
    "binn=5,\n",
    "filename = 'Saved_Fisher_Matrices/SPT3G_lcdm_neff_yp_lmin_100_700_Fisher_Matrices.h5')"
   ]
  },
  {
   "cell_type": "markdown",
   "metadata": {},
   "source": [
    "### SPT3G Fisher Matrix fsky =0.035"
   ]
  },
  {
   "cell_type": "code",
   "execution_count": 13,
   "metadata": {},
   "outputs": [
    {
     "name": "stderr",
     "output_type": "stream",
     "text": [
      "/nfs/home/kmaylor/.virtualenvs/Forecasting_env/local/lib/python3.4/site-packages/ipykernel_launcher.py:9: DeprecationWarning: \n",
      "Panel is deprecated and will be removed in a future version.\n",
      "The recommended way to represent these types of 3-dimensional data are with a MultiIndex on a DataFrame, via the Panel.to_frame() method\n",
      "Alternatively, you can use the xarray package http://xarray.pydata.org/en/stable/.\n",
      "Pandas provides a `.to_xarray()` method to help automate this conversion.\n",
      "\n",
      "  if __name__ == '__main__':\n"
     ]
    }
   ],
   "source": [
    "SPT3G_Fisher_for_lmin(fsky=0.035,\n",
    "lmin_range=[100,700],\n",
    "beam_width=array([0.00032*150/90,.00032,.00032*150/220]),\n",
    "noise=[array([2.8,2.6,6.6]),'ukarc'],\n",
    "P_lmax = 5000,\n",
    "T_lmax = 3000,\n",
    "spectra = ['TT','EE','TE'],\n",
    "binn=5,\n",
    "filename = 'Saved_Fisher_Matrices/SPT3G_f035_lcdm_neff_yp_lmin_100_700_Fisher_Matrices.h5')"
   ]
  },
  {
   "cell_type": "markdown",
   "metadata": {},
   "source": [
    "###  SPT3G lensing reconstruction Fisher Matrix"
   ]
  },
  {
   "cell_type": "code",
   "execution_count": 12,
   "metadata": {},
   "outputs": [
    {
     "name": "stderr",
     "output_type": "stream",
     "text": [
      "/nfs/home/kmaylor/.virtualenvs/Forecasting_env/local/lib/python3.4/site-packages/ipykernel_launcher.py:11: DeprecationWarning: \n",
      "Panel is deprecated and will be removed in a future version.\n",
      "The recommended way to represent these types of 3-dimensional data are with a MultiIndex on a DataFrame, via the Panel.to_frame() method\n",
      "Alternatively, you can use the xarray package http://xarray.pydata.org/en/stable/.\n",
      "Pandas provides a `.to_xarray()` method to help automate this conversion.\n",
      "\n",
      "  # This is added back by InteractiveShellApp.init_path()\n"
     ]
    }
   ],
   "source": [
    "paramsphi={'H0':fish_param(67.90,0.55),#'cosmomc_theta': fish_param(1.04106e-2,0.00041),\n",
    "                           'ombh2':fish_param(0.02227,0.0002),\n",
    "                           'ommh2':fish_param(0.1413,0.0011),\n",
    "                           'tau':fish_param(0.067,0.013, 0.02),\n",
    "                           'clamp':fish_param(1.873,0.0115),\n",
    "                           'ns':fish_param( 0.9681,0.0044),\n",
    "                           #'mnu':fish_param(.06,0.01),\n",
    "                           'nnu':fish_param(3.046,0.03),\n",
    "                           'YHe':fish_param(.252,.014),\n",
    "                           'lmax':6000,'lens_potential_accuracy':5.0}\n",
    "SPT3G_phi_Fisher_for_lmin(0.06,(100,700),3000,5,'Saved_Fisher_Matrices/SPT3G_phi_lcdm_neff_yp_lmin_100_700_Fisher_Matrices.h5')"
   ]
  },
  {
   "cell_type": "code",
   "execution_count": 13,
   "metadata": {},
   "outputs": [
    {
     "name": "stderr",
     "output_type": "stream",
     "text": [
      "/nfs/home/kmaylor/.virtualenvs/Forecasting_env/local/lib/python3.4/site-packages/ipykernel_launcher.py:1: DeprecationWarning: \n",
      "Panel is deprecated and will be removed in a future version.\n",
      "The recommended way to represent these types of 3-dimensional data are with a MultiIndex on a DataFrame, via the Panel.to_frame() method\n",
      "Alternatively, you can use the xarray package http://xarray.pydata.org/en/stable/.\n",
      "Pandas provides a `.to_xarray()` method to help automate this conversion.\n",
      "\n",
      "  \"\"\"Entry point for launching an IPython kernel.\n"
     ]
    }
   ],
   "source": [
    "SPT3G_phi_Fisher_for_lmin(0.035,(100,700),3000,5,'Saved_Fisher_Matrices/SPT3G_phi_f035_lcdm_neff_yp_lmin_100_700_Fisher_Matrices.h5')"
   ]
  },
  {
   "cell_type": "markdown",
   "metadata": {},
   "source": [
    "##  LCDM + $\\Sigma m_{\\nu}$"
   ]
  },
  {
   "cell_type": "code",
   "execution_count": 14,
   "metadata": {
    "collapsed": true
   },
   "outputs": [],
   "source": [
    "params={'H0':fish_param(67.90,0.55),#'cosmomc_theta': fish_param(1.04106e-2,0.00041),\n",
    "                           'ombh2':fish_param(0.02227,0.0002),\n",
    "                           'ommh2':fish_param(0.1413,0.0011),\n",
    "                           'tau':fish_param(0.067,0.013, 0.02),\n",
    "                           'clamp':fish_param(1.873,0.0115),\n",
    "                           'ns':fish_param( 0.9681,0.0044),\n",
    "                           'mnu':fish_param(.06,0.01),\n",
    "                           #'nnu':fish_param(3.046,0.03),\n",
    "                           #'YHe':fish_param(.252,.014),\n",
    "                           'lmax':6000,'lens_potential_accuracy':5.0}"
   ]
  },
  {
   "cell_type": "code",
   "execution_count": 15,
   "metadata": {
    "collapsed": true
   },
   "outputs": [],
   "source": [
    "params3g={'H0':fish_param(67.90,0.55),#'cosmomc_theta': fish_param(1.04106e-2,0.00041),\n",
    "                           'ombh2':fish_param(0.02227,0.0002),\n",
    "                           'ommh2':fish_param(0.1413,0.0011),\n",
    "                           'tau':fish_param(0.067,0.013, 0.02),\n",
    "                           'clamp':fish_param(1.873,0.0115),\n",
    "                           'ns':fish_param( 0.9681,0.0044),\n",
    "                           'mnu':fish_param(.06,0.01),\n",
    "                           #'nnu':fish_param(3.046,0.03),\n",
    "                           #'YHe':fish_param(.252,.014),\n",
    "                           'Asz':fish_param(5.5,3,3,nuisance=True),\n",
    "                            'Aps':fish_param(19.3,3.5,3.5,nuisance=True),\n",
    "                            'Acib':fish_param(5,2.5,2.5,nuisance=True),\n",
    "                            'A_TEps' : fish_param(.16,.05,nuisance=True),\n",
    "                            'Pcal':fish_param(1.06,.01,.01,nuisance=True),\n",
    "                           'lmax':6000,'lens_potential_accuracy':5.0}"
   ]
  },
  {
   "cell_type": "markdown",
   "metadata": {},
   "source": [
    "### Planck $\\ell$ < 800\n"
   ]
  },
  {
   "cell_type": "code",
   "execution_count": 18,
   "metadata": {},
   "outputs": [
    {
     "name": "stderr",
     "output_type": "stream",
     "text": [
      "/nfs/home/kmaylor/Forecasting/Covariances/create_basic_cov.py:37: RuntimeWarning: divide by zero encountered in true_divide\n",
      "  con=lambda n:arcmin_per_sr/n**2\n"
     ]
    }
   ],
   "source": [
    "pcov_800=create_basic_cov(.7,[.0003],[0,'ukarc'],\n",
    "                     specrange = (2,800),\n",
    "                     bin_size = 5,\n",
    "                     spectra=['TT'],\n",
    "                     )\n",
    "\n",
    "full_pcov_800 = make_full_cov(['TT'],pcov_800)\n",
    "\n",
    "Fp_800_mnu,names=Fisher_Matrix(params,full_pcov_800,\n",
    "                 planck_model(specrange = [('TT',(2,800))],bin_size=5),show_results=False)\n",
    "\n",
    "pd.DataFrame(Fp_800_mnu,index=names,columns=names).to_hdf('Saved_Fisher_Matrices/planck_lcdm_mnu_800_Fisher_Matrix.h5','key')"
   ]
  },
  {
   "cell_type": "markdown",
   "metadata": {},
   "source": [
    "### Planck $\\ell$ < 2500 Fisher Matrix"
   ]
  },
  {
   "cell_type": "code",
   "execution_count": null,
   "metadata": {
    "collapsed": true
   },
   "outputs": [],
   "source": [
    "Planck_mnu_path=\"/nfs/home/kmaylor/Official_Planck_chains/base_mnu/plikHM_TTTEEE_lowTEB_lensing/base_mnu_plikHM_TTTEEE_lowTEB_lensing\" #loading planck 2015 chain\n",
    "Planck_mnu_chain=K.chains.load_cosmomc_chain(Planck_mnu_path).burnin(1000).join()\n",
    "Planck_mnu_chain=add_params(Planck_mnu_chain)\n",
    "\n",
    "cov_params_mnu=sorted(['H0','ombh2','ommh2','tau','clamp','ns','mnu'])\n",
    "Planck_mnu_cov = Planck_mnu_chain.cov(cov_params_mnu)\n",
    "Fp_mnu=inv(Planck_mnu_cov)\n",
    "\n",
    "pd.DataFrame(Fp_mnu,index=cov_params_mnu,columns=cov_params_mnu).to_hdf('Saved_Fisher_Matrices/planck_lcdm_mnu_Fisher_Matrix.h5','key')"
   ]
  },
  {
   "cell_type": "markdown",
   "metadata": {},
   "source": [
    "### SPT3G Fisher Matrix"
   ]
  },
  {
   "cell_type": "code",
   "execution_count": 24,
   "metadata": {},
   "outputs": [
    {
     "name": "stderr",
     "output_type": "stream",
     "text": [
      "/nfs/home/kmaylor/.virtualenvs/Forecasting_env/local/lib/python3.4/site-packages/ipykernel_launcher.py:9: DeprecationWarning: \n",
      "Panel is deprecated and will be removed in a future version.\n",
      "The recommended way to represent these types of 3-dimensional data are with a MultiIndex on a DataFrame, via the Panel.to_frame() method\n",
      "Alternatively, you can use the xarray package http://xarray.pydata.org/en/stable/.\n",
      "Pandas provides a `.to_xarray()` method to help automate this conversion.\n",
      "\n",
      "  if __name__ == '__main__':\n"
     ]
    }
   ],
   "source": [
    "SPT3G_Fisher_for_lmin(fsky=0.06,\n",
    "lmin_range=[100,700],\n",
    "beam_width=array([0.00032*150/90,.00032,.00032*150/220]),\n",
    "noise=[array([3.6,3.3,8.5]),'ukarc'],\n",
    "P_lmax = 5000,\n",
    "T_lmax = 3000,\n",
    "spectra = ['TT','EE','TE'],\n",
    "binn=5,\n",
    "filename = 'Saved_Fisher_Matrices/SPT3G_lcdm_mnu_lmin_100_700_Fisher_Matrices.h5')"
   ]
  },
  {
   "cell_type": "markdown",
   "metadata": {},
   "source": [
    "### SPT3G Fisher Matrix fsky =0.035"
   ]
  },
  {
   "cell_type": "code",
   "execution_count": 25,
   "metadata": {},
   "outputs": [
    {
     "name": "stderr",
     "output_type": "stream",
     "text": [
      "/nfs/home/kmaylor/.virtualenvs/Forecasting_env/local/lib/python3.4/site-packages/ipykernel_launcher.py:9: DeprecationWarning: \n",
      "Panel is deprecated and will be removed in a future version.\n",
      "The recommended way to represent these types of 3-dimensional data are with a MultiIndex on a DataFrame, via the Panel.to_frame() method\n",
      "Alternatively, you can use the xarray package http://xarray.pydata.org/en/stable/.\n",
      "Pandas provides a `.to_xarray()` method to help automate this conversion.\n",
      "\n",
      "  if __name__ == '__main__':\n"
     ]
    }
   ],
   "source": [
    "SPT3G_Fisher_for_lmin(fsky=0.035,\n",
    "lmin_range=[100,700],\n",
    "beam_width=array([0.00032*150/90,.00032,.00032*150/220]),\n",
    "noise=[array([2.8,2.6,6.6]),'ukarc'],\n",
    "P_lmax = 5000,\n",
    "T_lmax = 3000,\n",
    "spectra = ['TT','EE','TE'],\n",
    "binn=5,\n",
    "filename = 'Saved_Fisher_Matrices/SPT3G_f035_lcdm_mnu_lmin_100_700_Fisher_Matrices.h5')"
   ]
  },
  {
   "cell_type": "markdown",
   "metadata": {},
   "source": [
    "###  SPT3G lensing reconstruction Fisher Matrix"
   ]
  },
  {
   "cell_type": "code",
   "execution_count": 14,
   "metadata": {},
   "outputs": [
    {
     "name": "stderr",
     "output_type": "stream",
     "text": [
      "/nfs/home/kmaylor/.virtualenvs/Forecasting_env/local/lib/python3.4/site-packages/ipykernel_launcher.py:11: DeprecationWarning: \n",
      "Panel is deprecated and will be removed in a future version.\n",
      "The recommended way to represent these types of 3-dimensional data are with a MultiIndex on a DataFrame, via the Panel.to_frame() method\n",
      "Alternatively, you can use the xarray package http://xarray.pydata.org/en/stable/.\n",
      "Pandas provides a `.to_xarray()` method to help automate this conversion.\n",
      "\n",
      "  # This is added back by InteractiveShellApp.init_path()\n"
     ]
    }
   ],
   "source": [
    "paramsphi={'H0':fish_param(67.90,0.55),#'cosmomc_theta': fish_param(1.04106e-2,0.00041),\n",
    "                           'ombh2':fish_param(0.02227,0.0002),\n",
    "                           'ommh2':fish_param(0.1413,0.0011),\n",
    "                           'tau':fish_param(0.067,0.013, 0.02),\n",
    "                           'clamp':fish_param(1.873,0.0115),\n",
    "                           'ns':fish_param( 0.9681,0.0044),\n",
    "                           'mnu':fish_param(.06,0.01),\n",
    "                           #'nnu':fish_param(3.046,0.03),\n",
    "                           #'YHe':fish_param(.252,.014),\n",
    "                           'lmax':6000,'lens_potential_accuracy':5.0}\n",
    "SPT3G_phi_Fisher_for_lmin(0.06,(100,700),3000,5,'Saved_Fisher_Matrices/SPT3G_phi_lcdm_mnu_lmin_100_700_Fisher_Matrices.h5')"
   ]
  },
  {
   "cell_type": "code",
   "execution_count": 15,
   "metadata": {},
   "outputs": [
    {
     "name": "stderr",
     "output_type": "stream",
     "text": [
      "/nfs/home/kmaylor/.virtualenvs/Forecasting_env/local/lib/python3.4/site-packages/ipykernel_launcher.py:1: DeprecationWarning: \n",
      "Panel is deprecated and will be removed in a future version.\n",
      "The recommended way to represent these types of 3-dimensional data are with a MultiIndex on a DataFrame, via the Panel.to_frame() method\n",
      "Alternatively, you can use the xarray package http://xarray.pydata.org/en/stable/.\n",
      "Pandas provides a `.to_xarray()` method to help automate this conversion.\n",
      "\n",
      "  \"\"\"Entry point for launching an IPython kernel.\n"
     ]
    }
   ],
   "source": [
    "SPT3G_phi_Fisher_for_lmin(0.035,(100,700),3000,5,'Saved_Fisher_Matrices/SPT3G_phi_f035_lcdm_mnu_lmin_100_700_Fisher_Matrices.h5')"
   ]
  },
  {
   "cell_type": "code",
   "execution_count": null,
   "metadata": {
    "collapsed": true
   },
   "outputs": [],
   "source": []
  },
  {
   "cell_type": "markdown",
   "metadata": {},
   "source": [
    "##  LCDM + $\\Omega K$"
   ]
  },
  {
   "cell_type": "code",
   "execution_count": null,
   "metadata": {
    "collapsed": true
   },
   "outputs": [],
   "source": []
  },
  {
   "cell_type": "code",
   "execution_count": 5,
   "metadata": {
    "collapsed": true
   },
   "outputs": [],
   "source": [
    "params={'H0':fish_param(67.90,0.55),#'cosmomc_theta': fish_param(1.04106e-2,0.00041),\n",
    "                           'ombh2':fish_param(0.02227,0.0002),\n",
    "                           'ommh2':fish_param(0.1413,0.0011),\n",
    "                           'tau':fish_param(0.067,0.013, 0.02),\n",
    "                           'clamp':fish_param(1.873,0.0115),\n",
    "                           'ns':fish_param( 0.9681,0.0044),\n",
    "                           'omk':fish_param(-0.003687,0.007),\n",
    "                           'lmax':6000,'lens_potential_accuracy':5.0}"
   ]
  },
  {
   "cell_type": "code",
   "execution_count": 6,
   "metadata": {
    "collapsed": true
   },
   "outputs": [],
   "source": [
    "params3g={'H0':fish_param(67.90,0.55),#'cosmomc_theta': fish_param(1.04106e-2,0.00041),\n",
    "                           'ombh2':fish_param(0.02227,0.0002),\n",
    "                           'ommh2':fish_param(0.1413,0.0011),\n",
    "                           'tau':fish_param(0.067,0.013, 0.02),\n",
    "                           'clamp':fish_param(1.873,0.0115),\n",
    "                           'ns':fish_param( 0.9681,0.0044),\n",
    "                           'omk':fish_param(-0.003687,0.007),\n",
    "                           'Asz':fish_param(5.5,3,3,nuisance=True),\n",
    "                            'Aps':fish_param(19.3,3.5,3.5,nuisance=True),\n",
    "                            'Acib':fish_param(5,2.5,2.5,nuisance=True),\n",
    "                            'A_TEps' : fish_param(.16,.05,nuisance=True),\n",
    "                            'Pcal':fish_param(1.06,.01,.01,nuisance=True),\n",
    "                           'lmax':6000,'lens_potential_accuracy':5.0}"
   ]
  },
  {
   "cell_type": "markdown",
   "metadata": {},
   "source": [
    "### Planck $\\ell$ < 800\n"
   ]
  },
  {
   "cell_type": "code",
   "execution_count": 7,
   "metadata": {},
   "outputs": [
    {
     "name": "stderr",
     "output_type": "stream",
     "text": [
      "/nfs/home/kmaylor/Forecasting/Covariances/create_basic_cov.py:37: RuntimeWarning: divide by zero encountered in true_divide\n",
      "  con=lambda n:arcmin_per_sr/n**2\n"
     ]
    }
   ],
   "source": [
    "pcov_800=create_basic_cov(.7,[.0003],[0,'ukarc'],\n",
    "                     specrange = (2,800),\n",
    "                     bin_size = 5,\n",
    "                     spectra=['TT'],\n",
    "                     )\n",
    "\n",
    "full_pcov_800 = make_full_cov(['TT'],pcov_800)\n",
    "\n",
    "Fp_800_omk,names=Fisher_Matrix(params,full_pcov_800,\n",
    "                 planck_model(specrange = [('TT',(2,800))],bin_size=5),show_results=False)\n",
    "\n",
    "pd.DataFrame(Fp_800_omk,index=names,columns=names).to_hdf('Saved_Fisher_Matrices/planck_lcdm_omk_800_Fisher_Matrix.h5','key')"
   ]
  },
  {
   "cell_type": "markdown",
   "metadata": {},
   "source": [
    "### Planck $\\ell$ < 2500 Fisher Matrix"
   ]
  },
  {
   "cell_type": "code",
   "execution_count": 21,
   "metadata": {},
   "outputs": [],
   "source": [
    "Planck_omk_path=\"/nfs/home/kmaylor/Official_Planck_chains/base_omegak/plikHM_TTTEEE_lowTEB_lensing/base_omegak_plikHM_TTTEEE_lowTEB_lensing\" #loading planck 2015 chain\n",
    "Planck_omk_chain=K.chains.load_cosmomc_chain(Planck_omk_path).burnin(1000).join()\n",
    "Planck_omk_chain=add_params(Planck_omk_chain)\n",
    "\n",
    "cov_params_omk=sorted(['H0','ombh2','ommh2','tau','clamp','ns','omk'])\n",
    "Planck_omk_cov = Planck_omk_chain.cov(cov_params_omk)\n",
    "Fp_omk=inv(Planck_omk_cov)\n",
    "\n",
    "pd.DataFrame(Fp_omk,index=cov_params_omk,columns=cov_params_omk).to_hdf('Saved_Fisher_Matrices/planck_lcdm_omk_Fisher_Matrix.h5','key')"
   ]
  },
  {
   "cell_type": "markdown",
   "metadata": {},
   "source": [
    "### SPT3G Fisher Matrix"
   ]
  },
  {
   "cell_type": "code",
   "execution_count": null,
   "metadata": {},
   "outputs": [],
   "source": [
    "SPT3G_Fisher_for_lmin(fsky=0.06,\n",
    "lmin_range=[100,700],\n",
    "beam_width=array([0.00032*150/90,.00032,.00032*150/220]),\n",
    "noise=[array([3.6,3.3,8.5]),'ukarc'],\n",
    "P_lmax = 5000,\n",
    "T_lmax = 3000,\n",
    "spectra = ['TT','EE','TE'],\n",
    "binn=5,\n",
    "filename = 'Saved_Fisher_Matrices/SPT3G_lcdm_omk_lmin_100_700_Fisher_Matrices.h5')"
   ]
  },
  {
   "cell_type": "markdown",
   "metadata": {},
   "source": [
    "### SPT3G Fisher Matrix fsky =0.035"
   ]
  },
  {
   "cell_type": "code",
   "execution_count": null,
   "metadata": {},
   "outputs": [],
   "source": [
    "SPT3G_Fisher_for_lmin(fsky=0.035,\n",
    "lmin_range=[100,700],\n",
    "beam_width=array([0.00032*150/90,.00032,.00032*150/220]),\n",
    "noise=[array([2.8,2.6,6.6]),'ukarc'],\n",
    "P_lmax = 5000,\n",
    "T_lmax = 3000,\n",
    "spectra = ['TT','EE','TE'],\n",
    "binn=5,\n",
    "filename = 'Saved_Fisher_Matrices/SPT3G_f035_lcdm_omk_lmin_100_700_Fisher_Matrices.h5')"
   ]
  },
  {
   "cell_type": "markdown",
   "metadata": {},
   "source": [
    "###  SPT3G lensing reconstruction Fisher Matrix"
   ]
  },
  {
   "cell_type": "code",
   "execution_count": null,
   "metadata": {
    "collapsed": true
   },
   "outputs": [],
   "source": [
    "paramsphi={'H0':fish_param(67.90,0.55),#'cosmomc_theta': fish_param(1.04106e-2,0.00041),\n",
    "                           'ombh2':fish_param(0.02227,0.0002),\n",
    "                           'ommh2':fish_param(0.1413,0.0011),\n",
    "                           'tau':fish_param(0.067,0.013, 0.02),\n",
    "                           'clamp':fish_param(1.873,0.0115),\n",
    "                           'ns':fish_param( 0.9681,0.0044),\n",
    "                           'omk':fish_param(-0.003687,0.007),\n",
    "                           'lmax':6000,'lens_potential_accuracy':5.0}\n",
    "SPT3G_phi_Fisher_for_lmin(0.06,(100,700),3000,5,'Saved_Fisher_Matrices/SPT3G_phi_lcdm_omk_lmin_100_700_Fisher_Matrices.h5')"
   ]
  },
  {
   "cell_type": "code",
   "execution_count": null,
   "metadata": {
    "collapsed": true
   },
   "outputs": [],
   "source": [
    "SPT3G_phi_Fisher_for_lmin(0.035,(100,700),3000,5,'Saved_Fisher_Matrices/SPT3G_phi_f035_lcdm_omk_lmin_100_700_Fisher_Matrices.h5')"
   ]
  },
  {
   "cell_type": "markdown",
   "metadata": {},
   "source": [
    "# Load and Combine Planck and SPT FIsher Matrices"
   ]
  },
  {
   "cell_type": "markdown",
   "metadata": {},
   "source": [
    "### SPT3G \n"
   ]
  },
  {
   "cell_type": "code",
   "execution_count": null,
   "metadata": {
    "collapsed": true
   },
   "outputs": [],
   "source": [
    "Fs_lcdm_lmin_100_700=pd.read_hdf('Saved_Fisher_Matrices/SPT3G_lcdm_lmin_100_700_Fisher_Matrices.h5', 'key')\n",
    "\n",
    "Fs_lcdm_lensing_lmin_100_700=pd.read_hdf(\n",
    "    'Saved_Fisher_Matrices/SPT3G_phi_lcdm_lmin_100_700_Fisher_Matrices.h5', 'key').add(Fs_lcdm_lmin_100_700)\n",
    "\n",
    "Fs_lcdm_lmin_50_100=pd.read_hdf(\n",
    "    'Saved_Fisher_Matrices/SPT3G_lcdm_lmin_50_100_Fisher_Matrices.h5', 'key')\n",
    "\n",
    "Fs_lcdm_lmin_50_700=pd.concat([Fs_lcdm_lmin_100_700,Fs_lcdm_lmin_50_100.drop('100')])\n",
    "\n",
    "Fs_f035_lcdm_lmin_100_700=pd.read_hdf(\n",
    "    'Saved_Fisher_Matrices/SPT3G_f035_lcdm_lmin_100_700_Fisher_Matrices.h5', 'key')\n",
    "\n",
    "Fs_f035_lcdm_lensing_lmin_100_700=pd.read_hdf(\n",
    "    'Saved_Fisher_Matrices/SPT3G_phi_f035_lcdm_lmin_100_700_Fisher_Matrices.h5',\n",
    "    'key').add(Fs_f035_lcdm_lmin_100_700)\n",
    "\n",
    "Fs_f035_lcdm_lmin_50_100=pd.read_hdf(\n",
    "    'Saved_Fisher_Matrices/SPT3G_f035_lcdm_lmin_50_100_Fisher_Matrices.h5', 'key')\n",
    "\n",
    "Fs_f035_lcdm_lmin_50_700=pd.concat([Fs_f035_lcdm_lmin_100_700,Fs_f035_lcdm_lmin_50_100.drop('100')])\n",
    "\n",
    "Fs_lcdm_neff_lmin_100_700=pd.read_hdf(\n",
    "    'Saved_Fisher_Matrices/SPT3G_lcdm_neff_lmin_100_700_Fisher_Matrices.h5', 'key')\n",
    "\n",
    "Fs_lcdm_neff_lensing_lmin_100_700=pd.read_hdf(\n",
    "    'Saved_Fisher_Matrices/SPT3G_phi_lcdm_neff_lmin_100_700_Fisher_Matrices.h5',\n",
    "    'key').add(Fs_lcdm_neff_lmin_100_700)\n",
    "\n",
    "Fs_lcdm_neff_lmin_50_100=pd.read_hdf(\n",
    "    'Saved_Fisher_Matrices/SPT3G_lcdm_neff_lmin_50_100_Fisher_Matrices.h5', 'key')\n",
    "\n",
    "Fs_lcdm_neff_lmin_50_700=pd.concat([Fs_lcdm_neff_lmin_100_700,Fs_lcdm_neff_lmin_50_100.drop('100')])\n",
    "\n",
    "Fs_f035_lcdm_neff_lmin_100_700=pd.read_hdf(\n",
    "    'Saved_Fisher_Matrices/SPT3G_f035_lcdm_neff_lmin_100_700_Fisher_Matrices.h5', 'key')\n",
    "\n",
    "Fs_f035_lcdm_neff_lensing_lmin_100_700=pd.read_hdf(\n",
    "    'Saved_Fisher_Matrices/SPT3G_phi_f035_lcdm_lmin_neff_100_700_Fisher_Matrices.h5',\n",
    "    'key').add(Fs_f035_lcdm_neff_lmin_100_700)\n",
    "\n",
    "Fs_f035_lcdm_neff_lmin_50_100=pd.read_hdf(\n",
    "    'Saved_Fisher_Matrices/SPT3G_f035_lcdm_neff_lmin_50_100_Fisher_Matrices.h5', 'key')\n",
    "\n",
    "Fs_f035_lcdm_neff_lmin_50_700=pd.concat(\n",
    "    [Fs_f035_lcdm_neff_lmin_100_700,Fs_f035_lcdm_neff_lmin_50_100.drop('100')])\n",
    "\n",
    "Fs_lcdm_neff_yp_lmin_100_700=pd.read_hdf(\n",
    "    'Saved_Fisher_Matrices/SPT3G_lcdm_neff_yp_lmin_100_700_Fisher_Matrices.h5', 'key')\n",
    "\n",
    "Fs_lcdm_neff_yp_lensing_lmin_100_700=pd.read_hdf(\n",
    "    'Saved_Fisher_Matrices/SPT3G_phi_lcdm_neff_yp_lmin_100_700_Fisher_Matrices.h5',\n",
    "    'key').add(Fs_lcdm_neff_yp_lmin_100_700)\n",
    "\n",
    "Fs_lcdm_neff_yp_lmin_50_100=pd.read_hdf(\n",
    "    'Saved_Fisher_Matrices/SPT3G_lcdm_neff_yp_lmin_50_100_Fisher_Matrices.h5', 'key')\n",
    "\n",
    "Fs_lcdm_neff_yp_lmin_50_700=pd.concat([Fs_lcdm_neff_yp_lmin_100_700,Fs_lcdm_neff_yp_lmin_50_100.drop('100')])\n",
    "\n",
    "Fs_f035_lcdm_neff_yp_lmin_100_700=pd.read_hdf(\n",
    "    'Saved_Fisher_Matrices/SPT3G_f035_lcdm_neff_yp_lmin_100_700_Fisher_Matrices.h5', 'key')\n",
    "\n",
    "Fs_f035_lcdm_neff_yp_lensing_lmin_100_700=pd.read_hdf(\n",
    "    'Saved_Fisher_Matrices/SPT3G_phi_f035_lcdm_neff_yp_lmin_100_700_Fisher_Matrices.h5',\n",
    "    'key').add(Fs_f035_lcdm_neff_yp_lmin_100_700)\n",
    "\n",
    "Fs_f035_lcdm_neff_yp_lmin_50_100=pd.read_hdf(\n",
    "    'Saved_Fisher_Matrices/SPT3G_f035_lcdm_neff_yp_lmin_50_100_Fisher_Matrices.h5', 'key')\n",
    "\n",
    "Fs_f035_lcdm_neff_yp_lmin_50_700=pd.concat(\n",
    "    [Fs_f035_lcdm_neff_yp_lmin_100_700,Fs_f035_lcdm_neff_yp_lmin_50_100.drop('100')])\n",
    "\n",
    "Fs_lcdm_mnu_lmin_100_700=pd.read_hdf(\n",
    "    'Saved_Fisher_Matrices/SPT3G_lcdm__mnu_lmin_100_700_Fisher_Matrices.h5', 'key')\n",
    "\n",
    "Fs_lcdm_mnu_lensing_lmin_100_700=pd.read_hdf(\n",
    "    'Saved_Fisher_Matrices/SPT3G_phi_lcdm_mnu_lmin_100_700_Fisher_Matrices.h5',\n",
    "    'key').add(Fs_lcdm_mnu_lmin_100_700)\n",
    "\n",
    "Fs_f035_lcdm_mnu_lmin_100_700=pd.read_hdf(\n",
    "    'Saved_Fisher_Matrices/SPT3G_f035_lcdm__mnu_lmin_100_700_Fisher_Matrices.h5', 'key')\n",
    "\n",
    "Fs_f035_lcdm_mnu_lensing_lmin_100_700=pd.read_hdf(\n",
    "    'Saved_Fisher_Matrices/SPT3G_phi_f035_lcdm_mnu_lmin_100_700_Fisher_Matrices.h5',\n",
    "    'key').add(Fs_f035_lcdm_mnu_lmin_100_700)\n",
    "\n",
    "Fs_lcdm_omk_lmin_100_700=pd.read_hdf(\n",
    "    'Saved_Fisher_Matrices/SPT3G_lcdm__omk_lmin_100_700_Fisher_Matrices.h5', 'key')\n",
    "\n",
    "Fs_lcdm_omk_lensing_lmin_100_700=pd.read_hdf(\n",
    "    'Saved_Fisher_Matrices/SPT3G_phi_lcdm_omk_lmin_100_700_Fisher_Matrices.h5',\n",
    "    'key').add(Fs_lcdm_mnu_lmin_100_700)\n",
    "\n",
    "Fs_f035_lcdm_omk_lmin_100_700=pd.read_hdf(\n",
    "    'Saved_Fisher_Matrices/SPT3G_f035_lcdm__omk_lmin_100_700_Fisher_Matrices.h5', 'key')\n",
    "\n",
    "Fs_f035_lcdm_omk_lensing_lmin_100_700=pd.read_hdf(\n",
    "    'Saved_Fisher_Matrices/SPT3G_phi_f035_lcdm_omk_lmin_100_700_Fisher_Matrices.h5',\n",
    "    'key').add(Fs_f035_lcdm_mnu_lmin_100_700)"
   ]
  },
  {
   "cell_type": "code",
   "execution_count": null,
   "metadata": {
    "collapsed": true
   },
   "outputs": [],
   "source": []
  }
 ],
 "metadata": {
  "kernelspec": {
   "display_name": "Python 3",
   "language": "python",
   "name": "python3"
  },
  "language_info": {
   "codemirror_mode": {
    "name": "ipython",
    "version": 3
   },
   "file_extension": ".py",
   "mimetype": "text/x-python",
   "name": "python",
   "nbconvert_exporter": "python",
   "pygments_lexer": "ipython3",
   "version": "3.4.3"
  }
 },
 "nbformat": 4,
 "nbformat_minor": 2
}
