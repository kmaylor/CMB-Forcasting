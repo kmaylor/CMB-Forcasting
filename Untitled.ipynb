{
 "cells": [
  {
   "cell_type": "code",
   "execution_count": 1,
   "metadata": {},
   "outputs": [
    {
     "name": "stdout",
     "output_type": "stream",
     "text": [
      "Populating the interactive namespace from numpy and matplotlib\n"
     ]
    }
   ],
   "source": [
    "%pylab notebook"
   ]
  },
  {
   "cell_type": "code",
   "execution_count": null,
   "metadata": {
    "collapsed": true
   },
   "outputs": [],
   "source": [
    "from Models.SPT3G.spt3G_model import spt3G_model"
   ]
  },
  {
   "cell_type": "code",
   "execution_count": 26,
   "metadata": {
    "collapsed": true
   },
   "outputs": [],
   "source": [
    "params_class={'H0':67.90,'output':'tCl,pCl,lCl',\n",
    "                           'ombh2':0.02227,\n",
    "                           'omch2':0.1413-.02227,\n",
    "                           'tau':0.067,\n",
    "                           'As':2.22e-9,\n",
    "                           'ns':0.9681,\n",
    "                           'l_max_scalars':6000,\n",
    "              'AccuracyBoost':3.0,\n",
    "                           'lSampleBoost':2.0,\n",
    "                           'lAccuracyBoost':2.0,\n",
    "                           'lens_potential_accuracy':6,\n",
    "              \n",
    "              \n",
    "                                                    \n",
    "                           \n",
    "              \n",
    "}            "
   ]
  },
  {
   "cell_type": "code",
   "execution_count": null,
   "metadata": {
    "collapsed": true
   },
   "outputs": [],
   "source": [
    "m=spt3G_model(model='classy',specrange = [('PP',(lmin,lmax))],bin_size=5)\n",
    "spec = m.get_cmb_fgs_and_cals(params)[0]['PP']\n",
    "sample_var = (2/((2*ell+1)*fsky))*spec**2\n",
    "lensing_recon_cov_file = 'Covariances/spt3g_3.3uk_lmaxTT3000_lmaxPOL5000_nx1024_plikHM_TT_lowTEB_lensing.dat'\n",
    "PP_cov=diag(dot(m.windows['PP'],\n",
    "             (loadtxt(lensing_recon_cov_file)[:,-1]**2*(2.725*1e6)**4 + sample_var)[m.windowrange['PP']]))\n",
    "Fs_phi,names=Fisher_Matrix(params,PP_cov,m,show_results=False)"
   ]
  }
 ],
 "metadata": {
  "kernelspec": {
   "display_name": "Python 3",
   "language": "python",
   "name": "python3"
  },
  "language_info": {
   "codemirror_mode": {
    "name": "ipython",
    "version": 3
   },
   "file_extension": ".py",
   "mimetype": "text/x-python",
   "name": "python",
   "nbconvert_exporter": "python",
   "pygments_lexer": "ipython3",
   "version": "3.4.3"
  }
 },
 "nbformat": 4,
 "nbformat_minor": 2
}
