{
 "cells": [
  {
   "cell_type": "code",
   "execution_count": 1,
   "metadata": {},
   "outputs": [
    {
     "name": "stdout",
     "output_type": "stream",
     "text": [
      "Using CAMB installed at /nfs/home/kmaylor/Forecasting\n"
     ]
    }
   ],
   "source": [
    "%matplotlib inline\n",
    "import sys, platform, os\n",
    "from matplotlib import pyplot as plt\n",
    "import numpy as np\n",
    "#uncomment this if you are running remotely and want to keep in synch with repo changes\n",
    "#if platform.system()!='Windows':\n",
    "#    !cd $HOME/git/camb; git pull github master; git log -1\n",
    "print('Using CAMB installed at '+ os.path.realpath(os.path.join(os.getcwd(),'..')))\n",
    "sys.path.insert(0,os.path.realpath(os.path.join(os.getcwd(),'..')))\n",
    "import camb\n",
    "from camb import model, initialpower"
   ]
  },
  {
   "cell_type": "code",
   "execution_count": 2,
   "metadata": {
    "collapsed": true
   },
   "outputs": [],
   "source": [
    "#Set up a new set of parameters for CAMB\n",
    "pars = camb.CAMBparams()\n",
    "#This function sets up CosmoMC-like settings, with one massive neutrino and helium set using BBN consistency\n",
    "pars.set_cosmology(H0=67.5, ombh2=0.022, omch2=0.122, mnu=0.06, omk=0, tau=0.06)\n",
    "pars.InitPower.set_params(ns=0.965, r=0)\n",
    "pars.set_for_lmax(2500, lens_potential_accuracy=0);"
   ]
  },
  {
   "cell_type": "code",
   "execution_count": 3,
   "metadata": {
    "collapsed": true
   },
   "outputs": [],
   "source": [
    "#calculate results for these parameters\n",
    "results = camb.get_results(pars)"
   ]
  },
  {
   "cell_type": "code",
   "execution_count": 5,
   "metadata": {},
   "outputs": [
    {
     "name": "stdout",
     "output_type": "stream",
     "text": [
      "unlensed_scalar\n",
      "lens_potential\n",
      "unlensed_total\n",
      "tensor\n",
      "total\n",
      "lensed_scalar\n"
     ]
    }
   ],
   "source": [
    "#get dictionary of CAMB power spectra\n",
    "powers =results.get_cmb_power_spectra(pars)\n",
    "for name in powers: print(name)"
   ]
  },
  {
   "cell_type": "code",
   "execution_count": 13,
   "metadata": {},
   "outputs": [
    {
     "data": {
      "text/plain": [
       "array([[  0.00000000e+00,   0.00000000e+00,   0.00000000e+00,\n",
       "          0.00000000e+00],\n",
       "       [  0.00000000e+00,   0.00000000e+00,   0.00000000e+00,\n",
       "          0.00000000e+00],\n",
       "       [  1.30966884e-10,   4.30103165e-15,   0.00000000e+00,\n",
       "          3.48357318e-13],\n",
       "       ..., \n",
       "       [  7.64285356e-12,   4.01435696e-13,   0.00000000e+00,\n",
       "         -4.63636533e-13],\n",
       "       [  7.62997298e-12,   4.01329952e-13,   0.00000000e+00,\n",
       "         -4.68888973e-13],\n",
       "       [  7.61755461e-12,   4.01174215e-13,   0.00000000e+00,\n",
       "         -4.74138556e-13]])"
      ]
     },
     "execution_count": 13,
     "metadata": {},
     "output_type": "execute_result"
    }
   ],
   "source": [
    "powers['unlensed_total']"
   ]
  },
  {
   "cell_type": "code",
   "execution_count": 12,
   "metadata": {},
   "outputs": [
    {
     "data": {
      "text/plain": [
       "array([[  0.00000000e+00,   0.00000000e+00,   0.00000000e+00,\n",
       "          0.00000000e+00],\n",
       "       [  0.00000000e+00,   0.00000000e+00,   0.00000000e+00,\n",
       "          0.00000000e+00],\n",
       "       [  1.30966884e-10,   4.30103165e-15,   0.00000000e+00,\n",
       "          3.48357318e-13],\n",
       "       ..., \n",
       "       [  7.64285356e-12,   4.01435696e-13,   0.00000000e+00,\n",
       "         -4.63636533e-13],\n",
       "       [  7.62997298e-12,   4.01329952e-13,   0.00000000e+00,\n",
       "         -4.68888973e-13],\n",
       "       [  7.61755461e-12,   4.01174215e-13,   0.00000000e+00,\n",
       "         -4.74138556e-13]])"
      ]
     },
     "execution_count": 12,
     "metadata": {},
     "output_type": "execute_result"
    }
   ],
   "source": [
    "powers['unlensed_scalar']"
   ]
  },
  {
   "cell_type": "code",
   "execution_count": 1,
   "metadata": {
    "collapsed": true
   },
   "outputs": [],
   "source": [
    "import pickle as pk\n",
    "import matplotlib.pyplot as plt"
   ]
  },
  {
   "cell_type": "code",
   "execution_count": 3,
   "metadata": {},
   "outputs": [
    {
     "data": {
      "image/png": "[encoded data removed]",
      "text/plain": [
       "<matplotlib.figure.Figure at 0x7fd2f927b1d0>"
      ]
     },
     "metadata": {},
     "output_type": "display_data"
    }
   ],
   "source": [
    "plt.plot(pk.load(open('nlpp_ilc_res_SR_may2018_with_1_f_noise.pkl','rb'),fix_imports=True,encoding='latin1')['NMV'])\n",
    "plt.show()"
   ]
  },
  {
   "cell_type": "code",
   "execution_count": null,
   "metadata": {},
   "outputs": [],
   "source": []
  }
 ],
 "metadata": {
  "kernelspec": {
   "display_name": "Python 3",
   "language": "python",
   "name": "python3"
  },
  "language_info": {
   "codemirror_mode": {
    "name": "ipython",
    "version": 3
   },
   "file_extension": ".py",
   "mimetype": "text/x-python",
   "name": "python",
   "nbconvert_exporter": "python",
   "pygments_lexer": "ipython3",
   "version": "3.4.3"
  }
 },
 "nbformat": 4,
 "nbformat_minor": 2
}
