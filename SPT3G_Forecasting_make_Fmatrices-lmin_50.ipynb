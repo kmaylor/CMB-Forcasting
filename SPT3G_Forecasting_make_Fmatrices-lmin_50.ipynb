{
 "cells": [
  {
   "cell_type": "markdown",
   "metadata": {},
   "source": [
    "# Import necesarry modules "
   ]
  },
  {
   "cell_type": "code",
   "execution_count": 1,
   "metadata": {},
   "outputs": [
    {
     "name": "stdout",
     "output_type": "stream",
     "text": [
      "Populating the interactive namespace from numpy and matplotlib\n"
     ]
    }
   ],
   "source": [
    "%pylab notebook"
   ]
  },
  {
   "cell_type": "code",
   "execution_count": 2,
   "metadata": {
    "collapsed": true
   },
   "outputs": [],
   "source": [
    "from Fisher_CMB import *\n",
    "from Models.SPT3G.spt3G_model import spt3G_model\n",
    "from Models.Planck.Planck_model import planck_model\n",
    "import pickle as p\n",
    "from Covariances.create_basic_cov import *\n",
    "import pandas as pd\n",
    "import cosmoslik as K\n",
    "import matplotlib.lines as mlines"
   ]
  },
  {
   "cell_type": "markdown",
   "metadata": {},
   "source": [
    "# Define needed functions"
   ]
  },
  {
   "cell_type": "code",
   "execution_count": 3,
   "metadata": {
    "collapsed": true
   },
   "outputs": [],
   "source": [
    "def SPT3G_Fisher(params,fsky,saveas,\n",
    "                 beam_width=array([0.00032*150/90,.00032,.00032*150/220]),\n",
    "                 noise=[array([3.6,3.3,8.5]),'ukarc'],\n",
    "                 lmin=50,\n",
    "                 P_lmax=5000,\n",
    "                 T_lmax=3000,\n",
    "                 spectra=['TT','EE','TE']):\n",
    "    '''Calculate a SPT3G bandpower covariance, fisher matrix, and save as pandas dataframe\n",
    "    '''\n",
    "    cov_params={}\n",
    "    for k,v in params.items():\n",
    "        if isinstance(v,fish_param):\n",
    "            cov_params[k] = v.base\n",
    "        else:\n",
    "            cov_params[k]=v\n",
    "    spt3g_cov=create_basic_cov(fsky,beam_width,noise,model='classy',specrange = (lmin,max([T_lmax,P_lmax])),\n",
    "                               bin_size = 5,spectra=spectra,params=cov_params)\n",
    "    full_spt3g_cov=make_full_cov(spectra,spt3g_cov)\n",
    "    Fs,names=Fisher_Matrix(params,full_spt3g_cov,\n",
    "                spt3G_model(model='classy',specrange = list(zip(spectra,[(lmin,T_lmax),(lmin,P_lmax),\n",
    "                                                            (lmin,P_lmax)])),bin_size=5),show_results=False)\n",
    "    pd.DataFrame(Fs,index=names,columns=names).to_hdf(saveas,'key')"
   ]
  },
  {
   "cell_type": "code",
   "execution_count": 4,
   "metadata": {
    "collapsed": true
   },
   "outputs": [],
   "source": [
    "def SPT3G_phi_Fisher(params,fsky,saveas,\n",
    "                     lmin=50,lmax=3000):\n",
    "    '''Calculate a SPT3G phiphi fisher matrix from previously made covariance\n",
    "    '''\n",
    "    m=spt3G_model(model='classy',specrange = [('PP',(lmin,lmax))],bin_size=5)\n",
    "    lensing_recon_cov_file = 'Covariances/spt3g_3.3uk_lmaxTT3000_lmaxPOL5000_nx1024_plikHM_TT_lowTEB_lensing.dat'\n",
    "    PP_cov=diag(dot(m.windows['PP'],\n",
    "                (loadtxt(lensing_recon_cov_file)[:,-1]**2*(2.725*1e6)**4)[m.windowrange['PP']]))\n",
    "    Fs_phi,names=Fisher_Matrix(params,PP_cov,m,show_results=False)\n",
    "    pd.DataFrame(Fs_phi,index=names,columns=names).to_hdf(saveas,'key')"
   ]
  },
  {
   "cell_type": "code",
   "execution_count": 5,
   "metadata": {
    "collapsed": true
   },
   "outputs": [],
   "source": [
    "def Planck_800_Fisher(params,saveas):\n",
    "    '''Calculate a planck lmin<800 bandpower covariance, fisher matrix, and save as pandas dataframe\n",
    "    '''\n",
    "    cov_params={}\n",
    "    for k,v in params.items():\n",
    "        if isinstance(v,fish_param):\n",
    "            cov_params[k] = v.base\n",
    "        else:\n",
    "            cov_params[k]=v\n",
    "    pcov_800=create_basic_cov(.7,[.0003],[0,'ukarc'],model='classy',specrange = (2,800),bin_size = 5,\n",
    "                              spectra=['TT'],params=cov_params)\n",
    "    full_pcov_800 = make_full_cov(['TT'],pcov_800)\n",
    "    Fp_800,names=Fisher_Matrix(params,full_pcov_800,\n",
    "                 planck_model(model='classy',specrange = [('TT',(2,800))],bin_size=5),show_results=False)\n",
    "    pd.DataFrame(Fp_800,index=names,columns=names).to_hdf(saveas,'key')"
   ]
  },
  {
   "cell_type": "code",
   "execution_count": 6,
   "metadata": {
    "collapsed": true
   },
   "outputs": [],
   "source": [
    "def Planck_chain_Fisher(params,chain_path,saveas):\n",
    "    '''Calculate a Planck Fisher matrix from a chain'''\n",
    "    \n",
    "    Planck_chain=K.chains.load_cosmomc_chain(chain_path).burnin(1000).join()\n",
    "    Planck_chain=add_params(Planck_chain)\n",
    "    cov_params=sorted(params)\n",
    "    Planck_cov = Planck_chain.cov(cov_params)\n",
    "    Fp=inv(Planck_cov)\n",
    "    pd.DataFrame(Fp,index=cov_params,columns=cov_params).to_hdf(saveas,'key')"
   ]
  },
  {
   "cell_type": "code",
   "execution_count": 7,
   "metadata": {
    "collapsed": true
   },
   "outputs": [],
   "source": [
    "def SPTSZ_chain_Fisher(params,chain_path,saveas):\n",
    "    '''Calculate a SPTSZ Fisher matrix from a chain'''\n",
    "    \n",
    "    SPTSZ_chain=K.load_chain(chain_path).burnin(500).join()\n",
    "    SPTSZ_chain = slik2cmc(SPTSZ_chain)\n",
    "    cov_params=sorted(params)\n",
    "    SPTSZ_cov = SPTSZ_chain.cov(sorted(cov_params))\n",
    "    Fsz=inv(SPTSZ_cov)\n",
    "    pd.DataFrame(Fsz,index=cov_params,columns=cov_params).to_hdf(saveas,'key')"
   ]
  },
  {
   "cell_type": "code",
   "execution_count": 8,
   "metadata": {
    "collapsed": true
   },
   "outputs": [],
   "source": [
    "def add_params(planck):\n",
    "    '''Add parameters to planck chain'''\n",
    "    planck['ommh2']=planck['omegabh2']+planck['omegach2']\n",
    "    planck['H0']=planck['H0*']\n",
    "    planck['clamp']=planck['clamp*']\n",
    "    planck['ombh2']=planck['omegabh2']\n",
    "    planck['YHe']=planck.get('yhe',planck['H0*'])\n",
    "    planck['omk']=planck.get('omegak',planck['H0*'])\n",
    "    planck['cosmomc_theta']=planck['theta']/100\n",
    "    return planck"
   ]
  },
  {
   "cell_type": "code",
   "execution_count": 9,
   "metadata": {
    "collapsed": true
   },
   "outputs": [],
   "source": [
    "def slik2cmc( c ):\n",
    "    '''Convert slik params to names in use'''\n",
    "    c['ns'] = c['cosmo.ns']\n",
    "    c['ombh2'] = c['cosmo.ombh2']\n",
    "    c['omch2'] = c['cosmo.omch2']\n",
    "    c['tau'] = c['cosmo.tau']\n",
    "    c['clamp'] = exp(c['cosmo.logA'])*exp(-2*c['tau'])/10\n",
    "    c['ommh2']=c['ombh2']+c['omch2']\n",
    "    c['H0'] = c['cosmo.H0']\n",
    "    c['cosmomc_theta']=c['cosmo.theta']\n",
    "    return c"
   ]
  },
  {
   "cell_type": "markdown",
   "metadata": {},
   "source": [
    "# Make Fisher Matrices and Save "
   ]
  },
  {
   "cell_type": "markdown",
   "metadata": {},
   "source": [
    "##  LCDM Params"
   ]
  },
  {
   "cell_type": "code",
   "execution_count": 10,
   "metadata": {},
   "outputs": [],
   "source": [
    "params_base={'H0':fish_param(67.90,0.55),\n",
    "                           'ombh2':fish_param(0.02227,0.0002),\n",
    "                           'ommh2':fish_param(0.1413,0.0011),\n",
    "                           'tau':fish_param(0.067,0.013, 0.02),\n",
    "                           'clamp':fish_param(1.873,0.0115),\n",
    "                           'ns':fish_param( 0.9681,0.0044),\n",
    "                           'lmax':6000,\n",
    "                           'tol_background_integration' : 1.e-3 ,\n",
    "                            'tol_thermo_integration' : 1.e-3,\n",
    "                            'tol_perturb_integration' : 1.e-6,\n",
    "                            #'reionization_optical_depth_tol' : 1.e-5,\n",
    "                            'l_logstep' : 1.08, \n",
    "                            'l_linstep' : 25,\n",
    "                            'perturb_sampling_stepsize' : 0.04,\n",
    "                            'delta_l_max' : 800,\n",
    "                            'k_per_decade_for_pk': 10,\n",
    "                            'k_per_decade_for_bao': 70,\n",
    "                            'k_max_tau0_over_l_max': 6}"
   ]
  },
  {
   "cell_type": "code",
   "execution_count": 11,
   "metadata": {
    "collapsed": true
   },
   "outputs": [],
   "source": [
    "params3g_base={'H0':fish_param(67.90,0.55),\n",
    "                           'ombh2':fish_param(0.02227,0.0002),\n",
    "                           'ommh2':fish_param(0.1413,0.0011),\n",
    "                           'tau':fish_param(0.067,0.013, 0.02),\n",
    "                           'clamp':fish_param(1.873,0.0115),\n",
    "                           'ns':fish_param( 0.9681,0.0044),\n",
    "                            'Asz':fish_param(5.5,3,3,nuisance=True),\n",
    "                            'Aps':fish_param(19.3,3.5,3.5,nuisance=True),\n",
    "                            'Acib':fish_param(5,2.5,2.5,nuisance=True),\n",
    "                            'A_TEps' : fish_param(.16,.05,nuisance=True),\n",
    "                            'Pcal':fish_param(1.06,.01,.01,nuisance=True),\n",
    "                           'lmax':6000,\n",
    "                           'tol_background_integration' : 1.e-3 ,\n",
    "                            'tol_thermo_integration' : 1.e-3,\n",
    "                            'tol_perturb_integration' : 1.e-6,\n",
    "                            #'reionization_optical_depth_tol' : 1.e-5,\n",
    "                            'l_logstep' : 1.08, \n",
    "                            'l_linstep' : 25,\n",
    "                            'perturb_sampling_stepsize' : 0.04,\n",
    "                            'delta_l_max' : 800,\n",
    "                            'k_per_decade_for_pk': 10,\n",
    "                            'k_per_decade_for_bao': 70,\n",
    "                            'k_max_tau0_over_l_max': 6}"
   ]
  },
  {
   "cell_type": "raw",
   "metadata": {
    "collapsed": true
   },
   "source": [
    "params_base_theta={'H0':None,'cosmomc_theta':fish_param(1.04076967/100,0.000323773),\n",
    "                           'ombh2':fish_param(0.02227,0.0002),\n",
    "                           'ommh2':fish_param(0.1413,0.0011),\n",
    "                           'tau':fish_param(0.067,0.013, 0.02),\n",
    "                           'clamp':fish_param(1.873,0.0115),\n",
    "                           'ns':fish_param( 0.9681,0.0044),\n",
    "                           'lmax':6000,'lens_potential_accuracy':5.0}"
   ]
  },
  {
   "cell_type": "raw",
   "metadata": {
    "collapsed": true
   },
   "source": [
    "params3g_base_theta={'H0':None,'cosmomc_theta':fish_param(1.04076967/100,0.000323773),\n",
    "                           'ombh2':fish_param(0.02227,0.0002),\n",
    "                           'ommh2':fish_param(0.1413,0.0011),\n",
    "                           'tau':fish_param(0.067,0.013, 0.02),\n",
    "                           'clamp':fish_param(1.873,0.0115),\n",
    "                           'ns':fish_param( 0.9681,0.0044),\n",
    "                            'Asz':fish_param(5.5,3,3,nuisance=True),\n",
    "                            'Aps':fish_param(19.3,3.5,3.5,nuisance=True),\n",
    "                            'Acib':fish_param(5,2.5,2.5,nuisance=True),\n",
    "                            'A_TEps' : fish_param(.16,.05,nuisance=True),\n",
    "                            'Pcal':fish_param(1.06,.01,.01,nuisance=True),\n",
    "                           'lmax':6000,'lens_potential_accuracy':5.0}"
   ]
  },
  {
   "cell_type": "markdown",
   "metadata": {},
   "source": [
    "### Extensions"
   ]
  },
  {
   "cell_type": "code",
   "execution_count": 12,
   "metadata": {
    "collapsed": true
   },
   "outputs": [],
   "source": [
    "model_extensions=[#('lcdm',{}),\n",
    "#                   ('lcdm_neff',{'nnu':fish_param(3.046,0.03)}),\n",
    "#                   ('lcdm_neff_yp',{'nnu':fish_param(3.046,0.03),\n",
    "#                            'YHe':fish_param(.252,.014),}),\n",
    "#                   ('lcdm_mnu',{'mnu':fish_param(.06,0.01)}),\n",
    "#                   ('lcdm_omk',{'omk':fish_param(-0.003687,0.007)}),]\n",
    "                   ('lcdm_dmdr',{'N_drf':fish_param(.1,0.01), \n",
    "                                 'Gamma0_dmdrf':fish_param(.4,0.04),\n",
    "                                'gauge':'new'}),]\n",
    "#                   ('lcdm_cdi',{'ic':'ad,cdi',\n",
    "#                                'P_k_ini type':'two_scales',\n",
    "#                                'k1':.002,\n",
    "#                                'k2':.1,\n",
    "#                                  'clamp':None,\n",
    "#                                  'ns':None,\n",
    "#                                'P_{RR}^1':fish_param(24e-10,5e-11),\n",
    "#                                'P_{RR}^2':fish_param(21.5e-10,7.5e-11),\n",
    "#                                'P_{II}^1':fish_param(1e-11,5e-12),\n",
    "#                                'P_{II}^2':fish_param(10e-10,5e-10),\n",
    "#                                'P_{RI}^1':fish_param(1e-11,1e-11),\n",
    "#                                '|P_{RI}^2|':fish_param(1e-11,1e-11)}),\n",
    "#                   ('lcdm_ndi',{'ic':'ad,nid',\n",
    "#                                'P_k_ini type':'two_scales',\n",
    "#                                'k1':.002,\n",
    "#                                'k2':.1,\n",
    "#                                  'clamp':None,\n",
    "#                                  'ns':None,\n",
    "#                                'P_{RR}^1':fish_param(24e-10,5e-11),\n",
    "#                                'P_{RR}^2':fish_param(21e-10,5e-11),\n",
    "#                                'P_{II}^1':fish_param(7.5e-11,5e-11),\n",
    "#                                'P_{II}^2':fish_param(7.5e-10,3e-10),\n",
    "#                                'P_{RI}^1':fish_param(-1e-13,1e-11),\n",
    "#                                '|P_{RI}^2|':fish_param(2e-13,2e-13)}),\n",
    "#                   ('lcdm_nvi',{'ic':'ad,niv',\n",
    "#                                'P_k_ini type':'two_scales',\n",
    "#                                'k1':.002,\n",
    "#                                'k2':.1,\n",
    "#                                'clamp':None,\n",
    "#                                'ns':None,\n",
    "#                                'P_{RR}^1':fish_param(24.75e-10,5e-11),\n",
    "#                                'P_{RR}^2':fish_param(21.75e-10,5e-11),\n",
    "#                                'P_{II}^1':fish_param(7.5e-11,5e-11),\n",
    "#                                'P_{II}^2':fish_param(1e-10,5e-11),\n",
    "#                                'P_{RI}^1':fish_param(-7.5e-11,5e-12),\n",
    "#                                '|P_{RI}^2|':fish_param(7.5e-11,5e-12)}),]"
   ]
  },
  {
   "cell_type": "markdown",
   "metadata": {},
   "source": [
    "### Planck TT $\\ell$ < 800 Fisher matrix"
   ]
  },
  {
   "cell_type": "code",
   "execution_count": 13,
   "metadata": {
    "scrolled": true
   },
   "outputs": [
    {
     "name": "stdout",
     "output_type": "stream",
     "text": [
      "lcdm_dmdr\n"
     ]
    },
    {
     "name": "stderr",
     "output_type": "stream",
     "text": [
      "/nfs/home/kmaylor/Forecasting/Covariances/create_basic_cov.py:37: RuntimeWarning: divide by zero encountered in true_divide\n",
      "  con=lambda n:arcmin_per_sr/n**2\n"
     ]
    }
   ],
   "source": [
    "for k in model_extensions:\n",
    "    print(k[0])\n",
    "    params=dict(params_base,**k[1])\n",
    "    Planck_800_Fisher(params,'Saved_Fisher_Matrices/planck_TT_'+k[0]+'_800_Fisher_Matrix_theta.h5')"
   ]
  },
  {
   "cell_type": "markdown",
   "metadata": {},
   "source": [
    "### SPT3G Fisher Matrix"
   ]
  },
  {
   "cell_type": "code",
   "execution_count": 15,
   "metadata": {},
   "outputs": [
    {
     "name": "stdout",
     "output_type": "stream",
     "text": [
      "lcdm_dmdr\n"
     ]
    }
   ],
   "source": [
    "for k in model_extensions:\n",
    "    print(k[0])\n",
    "    params=dict(params3g_base,**k[1])\n",
    "    SPT3G_Fisher(params,0.06,'Saved_Fisher_Matrices/SPT3G_'+k[0]+'_lmin50_Fisher_Matrices_theta.h5')"
   ]
  },
  {
   "cell_type": "markdown",
   "metadata": {},
   "source": [
    "### SPT3G Fisher Matrix fsky =0.035"
   ]
  },
  {
   "cell_type": "raw",
   "metadata": {},
   "source": [
    "for k in model_extensions:\n",
    "    print(k[0])\n",
    "    params=dict(params3g_base,**k[1])\n",
    "    SPT3G_Fisher(params,0.035,'Saved_Fisher_Matrices/SPT3G_f035_'+k[0]+'_lmin50_Fisher_Matrices_theta.h5')"
   ]
  },
  {
   "cell_type": "markdown",
   "metadata": {},
   "source": [
    "###  SPT3G lensing reconstruction Fisher Matrix"
   ]
  },
  {
   "cell_type": "code",
   "execution_count": 16,
   "metadata": {},
   "outputs": [
    {
     "name": "stdout",
     "output_type": "stream",
     "text": [
      "lcdm_dmdr\n"
     ]
    }
   ],
   "source": [
    "for k in model_extensions:\n",
    "    print(k[0])\n",
    "    params=dict(params_base,**k[1])\n",
    "    SPT3G_phi_Fisher(params,0.06,'Saved_Fisher_Matrices/SPT3G_phi_'+k[0]+'_lmin50_Fisher_Matrices_theta.h5')"
   ]
  },
  {
   "cell_type": "raw",
   "metadata": {},
   "source": [
    "for k in model_extensions:\n",
    "    print(k[0])\n",
    "    params=dict(params_base,**k[1])\n",
    "    SPT3G_phi_Fisher(params,0.035,'Saved_Fisher_Matrices/SPT3G_phi_f035_'+k[0]+'_lmin50_Fisher_Matrices_theta.h5')"
   ]
  },
  {
   "cell_type": "markdown",
   "metadata": {
    "collapsed": true
   },
   "source": [
    "### plikHM_TTTEEE_lowTEB Fisher Matrix"
   ]
  },
  {
   "cell_type": "code",
   "execution_count": null,
   "metadata": {
    "collapsed": true
   },
   "outputs": [],
   "source": [
    "planck_paths=['base/plikHM_TTTEEE_lowTEB/base_plikHM_TTTEEE_lowTEB',\n",
    "             'base_nnu/plikHM_TTTEEE_lowTEB/base_nnu_plikHM_TTTEEE_lowTEB',\n",
    "             'base_nnu_yhe/plikHM_TTTEEE_lowTEB/base_nnu_yhe_plikHM_TTTEEE_lowTEB',\n",
    "             'base_mnu/plikHM_TTTEEE_lowTEB/base_mnu_plikHM_TTTEEE_lowTEB',\n",
    "             'base_omegak/plikHM_TTTEEE_lowTEB/base_omegak_plikHM_TTTEEE_lowTEB']\n",
    "for i,k in enumerate(model_extensions):\n",
    "    if i in [0,1,2,3,4]:\n",
    "        chain_path='/nfs/home/kmaylor/Official_Planck_chains/'+planck_paths[i]\n",
    "        params=dict(params_base,**k[1])\n",
    "        chain_params=[k for k,v in params.items() if isinstance(v,fish_param)]\n",
    "        Planck_chain_Fisher(chain_params,chain_path,\n",
    "                        'Saved_Fisher_Matrices/planck_TTTEEE_lowTEB'+k[0]+'_Fisher_Matrix_theta.h5')"
   ]
  },
  {
   "cell_type": "markdown",
   "metadata": {
    "collapsed": true
   },
   "source": [
    "### plikHM_TTTEEE_lowTEB_lensing Fisher Matrix"
   ]
  },
  {
   "cell_type": "code",
   "execution_count": null,
   "metadata": {
    "collapsed": true
   },
   "outputs": [],
   "source": [
    "planck_paths=['base/plikHM_TTTEEE_lowTEB_lensing/base_plikHM_TTTEEE_lowTEB_lensing',\n",
    "             'base_nnu/plikHM_TTTEEE_lowTEB_nnu1_lensing/base_nnu_plikHM_TTTEEE_lowTEB_nnu1_lensing',\n",
    "             'base_nnu_yhe/plikHM_TTTEEE_lowTEB_lensing/base_nnu_yhe_plikHM_TTTEEE_lowTEB_lensing',\n",
    "             'base_mnu/plikHM_TTTEEE_lowTEB_lensing/base_mnu_plikHM_TTTEEE_lowTEB_lensing',\n",
    "             'base_omegak/plikHM_TTTEEE_lowTEB_lensing/base_omegak_plikHM_TTTEEE_lowTEB_lensing']\n",
    "\n",
    "for i,k in enumerate(model_extensions):\n",
    "    if i in [0,3,4]:\n",
    "        chain_path='/nfs/home/kmaylor/Official_Planck_chains/'+planck_paths[i]\n",
    "        params=dict(params_base,**k[1])\n",
    "        chain_params=[k for k,v in params.items() if isinstance(v,fish_param)]\n",
    "        Planck_chain_Fisher(chain_params,chain_path,\n",
    "                        'Saved_Fisher_Matrices/planck_TTTEEE_lowTEB_lensing'+k[0]+'_Fisher_Matrix_theta.h5')"
   ]
  },
  {
   "cell_type": "markdown",
   "metadata": {
    "collapsed": true
   },
   "source": [
    "### plikHM_TTTEEE_lowTEB_lensing_BAO Fisher Matrix"
   ]
  },
  {
   "cell_type": "code",
   "execution_count": null,
   "metadata": {
    "collapsed": true
   },
   "outputs": [],
   "source": [
    "planck_paths=['base/plikHM_TTTEEE_lowTEB_lensing_BAO/base_plikHM_TTTEEE_lowTEB_lensing_BAO',\n",
    "             'base_nnu/plikHM_TTTEEE_lowTEB_nnu1_lensing_BAO/base_nnu_plikHM_TTTEEE_lowTEB_nnu1_lensing_BAO',\n",
    "             'base_nnu_yhe/plikHM_TTTEEE_lowTEB_lensing_BAO/base_nnu_yhe_plikHM_TTTEEE_lowTEB_lensing_BAO',\n",
    "             'base_mnu/plikHM_TTTEEE_lowTEB_lensing_BAO/base_mnu_plikHM_TTTEEE_lowTEB_lensing_BAO',\n",
    "             'base_omegak/plikHM_TTTEEE_lowTEB_lensing_BAO/base_omegak_plikHM_TTTEEE_lowTEB_lensing_BAO']\n",
    "\n",
    "for i,k in enumerate(model_extensions):\n",
    "    if i in [3]:\n",
    "        chain_path='/nfs/home/kmaylor/Official_Planck_chains/'+planck_paths[i]\n",
    "        params=dict(params_base,**k[1])\n",
    "        chain_params=[k for k,v in params.items() if isinstance(v,fish_param)]\n",
    "        Planck_chain_Fisher(chain_params,chain_path,\n",
    "                        'Saved_Fisher_Matrices/planck_TTTEEE_lowTEB_lensing_BAO'+k[0]+'_Fisher_Matrix_theta.h5')"
   ]
  },
  {
   "cell_type": "markdown",
   "metadata": {},
   "source": [
    "### SPT-SZ Fisher Matrix"
   ]
  },
  {
   "cell_type": "code",
   "execution_count": null,
   "metadata": {
    "collapsed": true
   },
   "outputs": [],
   "source": [
    "chain_params=[k for k,v in params_base.items() if isinstance(v,fish_param)]"
   ]
  },
  {
   "cell_type": "code",
   "execution_count": null,
   "metadata": {
    "collapsed": true
   },
   "outputs": [],
   "source": [
    "chain_path=\"/home/kmaylor/Python_Projects/cosmology_chains/SPT_chainz_150x150.chains\"\n",
    "SPTSZ_chain_Fisher(chain_params,chain_path,'Saved_Fisher_Matrices/SPTSZ_lcdm_Fisher_Matrix_theta.h5')"
   ]
  },
  {
   "cell_type": "markdown",
   "metadata": {},
   "source": [
    "# Load and Combine Planck and SPT FIsher Matrices"
   ]
  },
  {
   "cell_type": "code",
   "execution_count": 17,
   "metadata": {
    "collapsed": true
   },
   "outputs": [],
   "source": [
    "F={}\n",
    "F=p.load(open('Saved_Fisher_Matrices\\All_Planck_and_SPT3G_Fisher_matrices.p','rb'))\n",
    "for i,k in enumerate(model_extensions):\n",
    "    i=20\n",
    "    f={}\n",
    "    #SPT3G\n",
    "    #f['SPT3G_fsky_0.035']=pd.read_hdf(\n",
    "    #    'Saved_Fisher_Matrices/SPT3G_f035_'+k[0]+'_lmin50_Fisher_Matrices_theta.h5', 'key')\n",
    "    f['SPT3G_fsky_0.06']=pd.read_hdf(\n",
    "        'Saved_Fisher_Matrices/SPT3G_'+k[0]+'_lmin50_Fisher_Matrices_theta.h5', 'key')\n",
    "    #SPT3G_clphiphi\n",
    "    f['SPT3G_clphiphi_fsky_0.06']=pd.read_hdf(\n",
    "        'Saved_Fisher_Matrices/SPT3G_phi_'+k[0]+'_lmin50_Fisher_Matrices_theta.h5', 'key')\n",
    "    #f['SPT3G_clphiphi_fsky_0.035']=pd.read_hdf(\n",
    "    #    'Saved_Fisher_Matrices/SPT3G_phi_f035_'+k[0]+'_lmin50_Fisher_Matrices_theta.h5', 'key')\n",
    "    #SPT3G_lensing\n",
    "    #f['SPT3G_lensing_fsky_0.035']=f['SPT3G_fsky_0.035'].add(f['SPT3G_clphiphi_fsky_0.035'])\n",
    "    f['SPT3G_lensing_fsky_0.06']=f['SPT3G_fsky_0.06'].add(f['SPT3G_clphiphi_fsky_0.06'])\n",
    "    #Planck_lmax800\n",
    "    f['Planck_TT_lmax_800']=pd.read_hdf(\n",
    "        'Saved_Fisher_Matrices/planck_TT_'+k[0]+'_800_Fisher_Matrix_theta.h5', 'key')\n",
    "    #Planck_lmax800 and SPT3G\n",
    "    #f['Planck_TT_lmax_800_SPT3G_fsky_0.035']=f['Planck_TT_lmax_800'].add(f['SPT3G_fsky_0.035'])\n",
    "    f['Planck_TT_lmax_800_SPT3G_fsky_0.06']=f['Planck_TT_lmax_800'].add(f['SPT3G_fsky_0.06'])\n",
    "    #f['Planck_TT_lmax_800_SPT3G_lensing_fsky_0.035']=f['Planck_TT_lmax_800_SPT3G_fsky_0.035'].add(\n",
    "    #    f['SPT3G_clphiphi_fsky_0.035'])\n",
    "    f['Planck_TT_lmax_800_SPT3G_lensing_fsky_0.06']=f['Planck_TT_lmax_800_SPT3G_fsky_0.06'].add(\n",
    "        f['SPT3G_clphiphi_fsky_0.06'])\n",
    "    if i in [0,1,2,3,4]:\n",
    "        #Planck_TTTEEE_lowTEB\n",
    "        f['Planck_TTTEEE_lowTEB']=pd.read_hdf(\n",
    "            'Saved_Fisher_Matrices/planck_TTTEEE_lowTEB'+k[0]+'_Fisher_Matrix_theta.h5', 'key')\n",
    "        #Planck_TTTEEE_lowTEB and SPT3G\n",
    "     #   f['Planck_TTTEEE_lowTEB_SPT3G_fsky_0.035']=f['Planck_TTTEEE_lowTEB'].add(f['SPT3G_fsky_0.035'])\n",
    "        f['Planck_TTTEEE_lowTEB_SPT3G_fsky_0.06']=f['Planck_TTTEEE_lowTEB'].add(f['SPT3G_fsky_0.06'])\n",
    "      #  f['Planck_TTTEEE_lowTEB_SPT3G_lensing_fsky_0.035']=f['Planck_TTTEEE_lowTEB'].add(\n",
    "       #     f['SPT3G_lensing_fsky_0.035'])\n",
    "        f['Planck_TTTEEE_lowTEB_SPT3G_lensing_fsky_0.06']=f['Planck_TTTEEE_lowTEB'].add(\n",
    "            f['SPT3G_lensing_fsky_0.06'])\n",
    "    #Planck_TTTEEE_lowTEB_lensing and SPT3G_lensing\n",
    "    if i in [0,3,4]:\n",
    "        f['Planck_TTTEEE_lowTEB_lensing']=pd.read_hdf(\n",
    "            'Saved_Fisher_Matrices/planck_TTTEEE_lowTEB_lensing'+k[0]+'_Fisher_Matrix_theta.h5', 'key')\n",
    "        f['Planck_TTTEEE_lowTEB_lensing_SPT3G_lensing_fsky_0.06']=f['Planck_TTTEEE_lowTEB_lensing'].add(\n",
    "            f['SPT3G_lensing_fsky_0.06'])\n",
    "        f['Planck_TTTEEE_lowTEB_lensing_SPT3G_lensing_fsky_0.035']=f['Planck_TTTEEE_lowTEB_lensing'].add(\n",
    "            f['SPT3G_lensing_fsky_0.035'])\n",
    "        #Planck_TTTEEE_lowTEB_lensing_BAO and SPT3G_lensing\n",
    "    if i in [3]:\n",
    "        f['Planck_TTTEEE_lowTEB_lensing_BAO']=pd.read_hdf(\n",
    "            'Saved_Fisher_Matrices/planck_TTTEEE_lowTEB_lensing_BAO'+k[0]+'_Fisher_Matrix_theta.h5', 'key')\n",
    "        f['Planck_TTTEEE_lowTEB_lensing_BAO_SPT3G_lensing_fsky_0.06']=f['Planck_TTTEEE_lowTEB_lensing_BAO'].add(\n",
    "            f['SPT3G_lensing_fsky_0.06'])\n",
    "        f['Planck_TTTEEE_lowTEB_lensing_BAO_SPT3G_lensing_fsky_0.035']=f['Planck_TTTEEE_lowTEB_lensing_BAO'].add(\n",
    "            f['SPT3G_lensing_fsky_0.035'])\n",
    "        #SPTSZ\n",
    "    if i ==0:\n",
    "        f['SPTSZ']=pd.read_hdf('Saved_Fisher_Matrices/SPTSZ_lcdm_Fisher_Matrix_theta.h5', 'key')\n",
    "\n",
    "    F[k[0]]=pd.concat(f).transpose()"
   ]
  },
  {
   "cell_type": "code",
   "execution_count": 18,
   "metadata": {
    "collapsed": true
   },
   "outputs": [],
   "source": [
    "p.dump(F,open('Saved_Fisher_Matrices\\All_Planck_and_SPT3G_Fisher_matrices.p','wb'))"
   ]
  },
  {
   "cell_type": "code",
   "execution_count": null,
   "metadata": {
    "collapsed": true
   },
   "outputs": [],
   "source": [
    "\n",
    "F=p.load(open('Saved_Fisher_Matrices\\All_Planck_and_SPT3G_Fisher_matrices.p','rb'))"
   ]
  },
  {
   "cell_type": "code",
   "execution_count": null,
   "metadata": {
    "collapsed": true
   },
   "outputs": [],
   "source": [
    "F"
   ]
  },
  {
   "cell_type": "code",
   "execution_count": null,
   "metadata": {
    "collapsed": true
   },
   "outputs": [],
   "source": []
  }
 ],
 "metadata": {
  "kernelspec": {
   "display_name": "Python 3",
   "language": "python",
   "name": "python3"
  },
  "language_info": {
   "codemirror_mode": {
    "name": "ipython",
    "version": 3
   },
   "file_extension": ".py",
   "mimetype": "text/x-python",
   "name": "python",
   "nbconvert_exporter": "python",
   "pygments_lexer": "ipython3",
   "version": "3.4.3"
  }
 },
 "nbformat": 4,
 "nbformat_minor": 2
}
