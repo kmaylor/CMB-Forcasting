{
 "cells": [
  {
   "cell_type": "markdown",
   "metadata": {},
   "source": [
    "# Import necesarry modules "
   ]
  },
  {
   "cell_type": "code",
   "execution_count": 1,
   "metadata": {},
   "outputs": [
    {
     "name": "stdout",
     "output_type": "stream",
     "text": [
      "Populating the interactive namespace from numpy and matplotlib\n"
     ]
    }
   ],
   "source": [
    "%pylab notebook"
   ]
  },
  {
   "cell_type": "code",
   "execution_count": 2,
   "metadata": {
    "collapsed": true
   },
   "outputs": [],
   "source": [
    "from Fisher_CMB import *\n",
    "from Models.SPT3G.spt3G_model import spt3G_model\n",
    "from Models.Planck.Planck_model import planck_model\n",
    "import pickle as p\n",
    "from Covariances.create_basic_cov import *\n",
    "import pandas as pd\n",
    "import cosmoslik as K\n",
    "import matplotlib.lines as mlines"
   ]
  },
  {
   "cell_type": "markdown",
   "metadata": {},
   "source": [
    "# Define needed functions"
   ]
  },
  {
   "cell_type": "code",
   "execution_count": 3,
   "metadata": {
    "collapsed": true
   },
   "outputs": [],
   "source": [
    "def SPT3G_Fisher(params,fsky,saveas,\n",
    "                 beam_width=array([0.00032*150/90,.00032,.00032*150/220]),\n",
    "                 noise=[array([3.6,3.3,8.5]),'ukarc'],\n",
    "                 lmin=50,\n",
    "                 P_lmax=5000,\n",
    "                 T_lmax=3000,\n",
    "                 spectra=['TT','EE','TE']):\n",
    "    '''Calculate a SPT3G bandpower covariance, fisher matrix, and save as pandas dataframe\n",
    "    '''\n",
    "\n",
    "    spt3g_cov=create_basic_cov(fsky,beam_width,noise,specrange = (lmin,max([T_lmax,P_lmax])),\n",
    "                               bin_size = 5,spectra=spectra)\n",
    "    full_spt3g_cov=make_full_cov(spectra,spt3g_cov)\n",
    "    Fs,names=Fisher_Matrix(params,full_spt3g_cov,\n",
    "                spt3G_model(specrange = list(zip(spectra,[(lmin,T_lmax),(lmin,P_lmax),(lmin,P_lmax)])),\n",
    "                             bin_size=5),show_results=False)\n",
    "    pd.DataFrame(Fs,index=names,columns=names).to_hdf(saveas,'key')"
   ]
  },
  {
   "cell_type": "code",
   "execution_count": 14,
   "metadata": {},
   "outputs": [],
   "source": [
    "def SPT3G_phi_Fisher(params,fsky,saveas,\n",
    "                     lmin=50,lmax=3000):\n",
    "    '''Calculate a SPT3G phiphi fisher matrix from previously made covariance\n",
    "    '''\n",
    "    m=spt3G_model(specrange = [('PP',(lmin,lmax))],bin_size=5)\n",
    "    lensing_recon_cov_file = 'Covariances/spt3g_3.3uk_lmaxTT3000_lmaxPOL5000_nx1024_plikHM_TT_lowTEB_lensing.dat'\n",
    "    PP_cov=diag(dot(m.windows['PP'],\n",
    "                (loadtxt(lensing_recon_cov_file)[:,-1]**2*(2.725*1e6)**4)[m.windowrange['PP']]))\n",
    "    Fs_phi,names=Fisher_Matrix(params,PP_cov,\n",
    "                                spt3G_model(specrange = [('PP',(lmin,lmax))],bin_size=5),show_results=False)\n",
    "    pd.DataFrame(Fs_phi,index=names,columns=names).to_hdf(saveas,'key')"
   ]
  },
  {
   "cell_type": "code",
   "execution_count": 5,
   "metadata": {
    "collapsed": true
   },
   "outputs": [],
   "source": [
    "def Planck_800_Fisher(params,saveas):\n",
    "    '''Calculate a planck lmin<800 bandpower covariance, fisher matrix, and save as pandas dataframe\n",
    "    '''\n",
    "    pcov_800=create_basic_cov(.7,[.0003],[0,'ukarc'],specrange = (2,800),bin_size = 5,spectra=['TT'])\n",
    "    full_pcov_800 = make_full_cov(['TT'],pcov_800)\n",
    "    Fp_800,names=Fisher_Matrix(params,full_pcov_800,\n",
    "                 planck_model(specrange = [('TT',(2,800))],bin_size=5),show_results=False)\n",
    "    pd.DataFrame(Fp_800,index=names,columns=names).to_hdf(saveas,'key')"
   ]
  },
  {
   "cell_type": "code",
   "execution_count": 23,
   "metadata": {
    "collapsed": true
   },
   "outputs": [],
   "source": [
    "def Planck_chain_Fisher(params,chain_path,saveas):\n",
    "    '''Calculate a Planck Fisher matrix from a chain'''\n",
    "    \n",
    "    Planck_chain=K.chains.load_cosmomc_chain(chain_path).burnin(1000).join()\n",
    "    Planck_chain=add_params(Planck_chain)\n",
    "    cov_params=sorted(params)\n",
    "    Planck_cov = Planck_chain.cov(cov_params)\n",
    "    Fp=inv(Planck_cov)\n",
    "    pd.DataFrame(Fp,index=cov_params,columns=cov_params).to_hdf(saveas,'key')"
   ]
  },
  {
   "cell_type": "code",
   "execution_count": 7,
   "metadata": {
    "collapsed": true
   },
   "outputs": [],
   "source": [
    "def SPTSZ_chain_Fisher(params,chain_path,saveas):\n",
    "    '''Calculate a SPTSZ Fisher matrix from a chain'''\n",
    "    \n",
    "    SPTSZ_chain=K.load_chain(chain_path).burnin(500).join()\n",
    "    SPTSZ_chain = slik2cmc(SPTSZ_chain)\n",
    "    cov_params=sorted(params)\n",
    "    SPTSZ_cov = SPTSZ_chain.cov(sorted(cov_params))\n",
    "    Fsz=inv(SPTSZ_cov)\n",
    "    pd.DataFrame(Fsz,index=cov_params,columns=cov_params).to_hdf(saveas,'key')"
   ]
  },
  {
   "cell_type": "code",
   "execution_count": 25,
   "metadata": {
    "collapsed": true
   },
   "outputs": [],
   "source": [
    "def add_params(planck):\n",
    "    '''Add parameters to planck chain'''\n",
    "    planck['ommh2']=planck['omegabh2']+planck['omegach2']\n",
    "    planck['H0']=planck['H0*']\n",
    "    planck['clamp']=planck['clamp*']\n",
    "    planck['ombh2']=planck['omegabh2']\n",
    "    planck['YHe']=planck.get('yhe',planck['H0*'])\n",
    "    planck['omk']=planck.get('omegak',planck['H0*'])\n",
    "    return planck"
   ]
  },
  {
   "cell_type": "code",
   "execution_count": 9,
   "metadata": {
    "collapsed": true
   },
   "outputs": [],
   "source": [
    "def slik2cmc( c ):\n",
    "    '''Convert slik params to names in use'''\n",
    "    c['ns'] = c['cosmo.ns']\n",
    "    c['ombh2'] = c['cosmo.ombh2']\n",
    "    c['omch2'] = c['cosmo.omch2']\n",
    "    c['tau'] = c['cosmo.tau']\n",
    "    c['clamp'] = exp(c['cosmo.logA'])*exp(-2*c['tau'])/10\n",
    "    c['ommh2']=c['ombh2']+c['omch2']\n",
    "    c['H0'] = c['cosmo.H0']\n",
    "    return c"
   ]
  },
  {
   "cell_type": "markdown",
   "metadata": {},
   "source": [
    "# Make Fisher Matrices and Save "
   ]
  },
  {
   "cell_type": "markdown",
   "metadata": {},
   "source": [
    "##  LCDM Params"
   ]
  },
  {
   "cell_type": "code",
   "execution_count": 10,
   "metadata": {
    "collapsed": true
   },
   "outputs": [],
   "source": [
    "params_base={'H0':fish_param(67.90,0.55),\n",
    "                           'ombh2':fish_param(0.02227,0.0002),\n",
    "                           'ommh2':fish_param(0.1413,0.0011),\n",
    "                           'tau':fish_param(0.067,0.013, 0.02),\n",
    "                           'clamp':fish_param(1.873,0.0115),\n",
    "                           'ns':fish_param( 0.9681,0.0044),\n",
    "                           'lmax':6000,'lens_potential_accuracy':5.0}"
   ]
  },
  {
   "cell_type": "code",
   "execution_count": 11,
   "metadata": {
    "collapsed": true
   },
   "outputs": [],
   "source": [
    "params3g_base={'H0':fish_param(67.90,0.55),\n",
    "                           'ombh2':fish_param(0.02227,0.0002),\n",
    "                           'ommh2':fish_param(0.1413,0.0011),\n",
    "                           'tau':fish_param(0.067,0.013, 0.02),\n",
    "                           'clamp':fish_param(1.873,0.0115),\n",
    "                           'ns':fish_param( 0.9681,0.0044),\n",
    "                            'Asz':fish_param(5.5,3,3,nuisance=True),\n",
    "                            'Aps':fish_param(19.3,3.5,3.5,nuisance=True),\n",
    "                            'Acib':fish_param(5,2.5,2.5,nuisance=True),\n",
    "                            'A_TEps' : fish_param(.16,.05,nuisance=True),\n",
    "                            'Pcal':fish_param(1.06,.01,.01,nuisance=True),\n",
    "                           'lmax':6000,'lens_potential_accuracy':5.0}"
   ]
  },
  {
   "cell_type": "markdown",
   "metadata": {},
   "source": [
    "### Extensions"
   ]
  },
  {
   "cell_type": "code",
   "execution_count": 9,
   "metadata": {
    "collapsed": true
   },
   "outputs": [],
   "source": [
    "model_extensions=[('lcdm_',{}),\n",
    "                  ('lcdm_neff',{'nnu':fish_param(3.046,0.03)}),\n",
    "                  ('lcdm_neff_yp',{'nnu':fish_param(3.046,0.03),\n",
    "                           'YHe':fish_param(.252,.014),}),\n",
    "                  ('lcdm_mnu',{'mnu':fish_param(.06,0.01)}),\n",
    "                  ('lcdm_omk',{'omk':fish_param(-0.003687,0.007)})]"
   ]
  },
  {
   "cell_type": "markdown",
   "metadata": {},
   "source": [
    "### Planck TT $\\ell$ < 800 Fisher matrix"
   ]
  },
  {
   "cell_type": "code",
   "execution_count": 13,
   "metadata": {},
   "outputs": [
    {
     "name": "stdout",
     "output_type": "stream",
     "text": [
      "{'lens_potential_accuracy': 2.0, 'As': 2.139e-09, 'ombh2': 0.02227, 'omch2': 0.1184, 'H0': None, 'tau': 0.067, 'ns': 0.9681, 'cosmomc_theta': 0.0104106, 'lmax': 6000}\n"
     ]
    },
    {
     "name": "stderr",
     "output_type": "stream",
     "text": [
      "/nfs/home/kmaylor/Forecasting/Covariances/create_basic_cov.py:37: RuntimeWarning: divide by zero encountered in true_divide\n",
      "  con=lambda n:arcmin_per_sr/n**2\n"
     ]
    },
    {
     "name": "stdout",
     "output_type": "stream",
     "text": [
      "{'H0': 68.17500000000001, 'As': 2.1415747511944239e-09, 'ombh2': 0.02227, 'omch2': 0.11903000000000001, 'lens_potential_accuracy': 5.0, 'tau': 0.067, 'ns': 0.9681, 'lmax': 6000}\n",
      "{'H0': 67.62500000000001, 'As': 2.1415747511944239e-09, 'ombh2': 0.02227, 'omch2': 0.11903000000000001, 'lens_potential_accuracy': 5.0, 'tau': 0.067, 'ns': 0.9681, 'lmax': 6000}\n",
      "{'H0': 67.9, 'As': 2.1481492599073809e-09, 'ombh2': 0.02227, 'omch2': 0.11903000000000001, 'lens_potential_accuracy': 5.0, 'tau': 0.067, 'ns': 0.9681, 'lmax': 6000}\n",
      "{'H0': 67.9, 'As': 2.1350002424814674e-09, 'ombh2': 0.02227, 'omch2': 0.11903000000000001, 'lens_potential_accuracy': 5.0, 'tau': 0.067, 'ns': 0.9681, 'lmax': 6000}\n",
      "{'H0': 67.9, 'As': 2.1415747511944239e-09, 'ombh2': 0.02227, 'omch2': 0.11903000000000001, 'lens_potential_accuracy': 5.0, 'tau': 0.067, 'ns': 0.9702999999999999, 'lmax': 6000}\n",
      "{'H0': 67.9, 'As': 2.1415747511944239e-09, 'ombh2': 0.02227, 'omch2': 0.11903000000000001, 'lens_potential_accuracy': 5.0, 'tau': 0.067, 'ns': 0.9659, 'lmax': 6000}\n",
      "{'H0': 67.9, 'As': 2.1415747511944239e-09, 'ombh2': 0.02237, 'omch2': 0.11893000000000001, 'lens_potential_accuracy': 5.0, 'tau': 0.067, 'ns': 0.9681, 'lmax': 6000}\n",
      "{'H0': 67.9, 'As': 2.1415747511944239e-09, 'ombh2': 0.022170000000000002, 'omch2': 0.11913000000000001, 'lens_potential_accuracy': 5.0, 'tau': 0.067, 'ns': 0.9681, 'lmax': 6000}\n",
      "{'H0': 67.9, 'As': 2.1415747511944239e-09, 'ombh2': 0.02227, 'omch2': 0.11958, 'lens_potential_accuracy': 5.0, 'tau': 0.067, 'ns': 0.9681, 'lmax': 6000}\n",
      "{'H0': 67.9, 'As': 2.1415747511944239e-09, 'ombh2': 0.02227, 'omch2': 0.11848000000000002, 'lens_potential_accuracy': 5.0, 'tau': 0.067, 'ns': 0.9681, 'lmax': 6000}\n",
      "{'H0': 67.9, 'As': 2.1695969727549192e-09, 'ombh2': 0.02227, 'omch2': 0.11903000000000001, 'lens_potential_accuracy': 5.0, 'tau': 0.07350000000000001, 'ns': 0.9681, 'lmax': 6000}\n",
      "{'H0': 67.9, 'As': 2.1139144608640354e-09, 'ombh2': 0.02227, 'omch2': 0.11903000000000001, 'lens_potential_accuracy': 5.0, 'tau': 0.06050000000000001, 'ns': 0.9681, 'lmax': 6000}\n",
      "{'lens_potential_accuracy': 2.0, 'As': 2.139e-09, 'ombh2': 0.02227, 'omch2': 0.1184, 'H0': None, 'tau': 0.067, 'ns': 0.9681, 'cosmomc_theta': 0.0104106, 'lmax': 6000}\n",
      "{'H0': 68.17500000000001, 'As': 2.1415747511944239e-09, 'ombh2': 0.02227, 'nnu': 3.046, 'omch2': 0.11903000000000001, 'lens_potential_accuracy': 5.0, 'tau': 0.067, 'ns': 0.9681, 'lmax': 6000}\n",
      "{'H0': 67.62500000000001, 'As': 2.1415747511944239e-09, 'ombh2': 0.02227, 'nnu': 3.046, 'omch2': 0.11903000000000001, 'lens_potential_accuracy': 5.0, 'tau': 0.067, 'ns': 0.9681, 'lmax': 6000}\n",
      "{'H0': 67.9, 'As': 2.1481492599073809e-09, 'ombh2': 0.02227, 'nnu': 3.046, 'omch2': 0.11903000000000001, 'lens_potential_accuracy': 5.0, 'tau': 0.067, 'ns': 0.9681, 'lmax': 6000}\n",
      "{'H0': 67.9, 'As': 2.1350002424814674e-09, 'ombh2': 0.02227, 'nnu': 3.046, 'omch2': 0.11903000000000001, 'lens_potential_accuracy': 5.0, 'tau': 0.067, 'ns': 0.9681, 'lmax': 6000}\n",
      "{'H0': 67.9, 'As': 2.1415747511944239e-09, 'ombh2': 0.02227, 'nnu': 3.061, 'omch2': 0.11903000000000001, 'lens_potential_accuracy': 5.0, 'tau': 0.067, 'ns': 0.9681, 'lmax': 6000}\n",
      "{'H0': 67.9, 'As': 2.1415747511944239e-09, 'ombh2': 0.02227, 'nnu': 3.031, 'omch2': 0.11903000000000001, 'lens_potential_accuracy': 5.0, 'tau': 0.067, 'ns': 0.9681, 'lmax': 6000}\n",
      "{'H0': 67.9, 'As': 2.1415747511944239e-09, 'ombh2': 0.02227, 'nnu': 3.046, 'omch2': 0.11903000000000001, 'lens_potential_accuracy': 5.0, 'tau': 0.067, 'ns': 0.9702999999999999, 'lmax': 6000}\n",
      "{'H0': 67.9, 'As': 2.1415747511944239e-09, 'ombh2': 0.02227, 'nnu': 3.046, 'omch2': 0.11903000000000001, 'lens_potential_accuracy': 5.0, 'tau': 0.067, 'ns': 0.9659, 'lmax': 6000}\n",
      "{'H0': 67.9, 'As': 2.1415747511944239e-09, 'ombh2': 0.02237, 'nnu': 3.046, 'omch2': 0.11893000000000001, 'lens_potential_accuracy': 5.0, 'tau': 0.067, 'ns': 0.9681, 'lmax': 6000}\n",
      "{'H0': 67.9, 'As': 2.1415747511944239e-09, 'ombh2': 0.022170000000000002, 'nnu': 3.046, 'omch2': 0.11913000000000001, 'lens_potential_accuracy': 5.0, 'tau': 0.067, 'ns': 0.9681, 'lmax': 6000}\n",
      "{'H0': 67.9, 'As': 2.1415747511944239e-09, 'ombh2': 0.02227, 'nnu': 3.046, 'omch2': 0.11958, 'lens_potential_accuracy': 5.0, 'tau': 0.067, 'ns': 0.9681, 'lmax': 6000}\n",
      "{'H0': 67.9, 'As': 2.1415747511944239e-09, 'ombh2': 0.02227, 'nnu': 3.046, 'omch2': 0.11848000000000002, 'lens_potential_accuracy': 5.0, 'tau': 0.067, 'ns': 0.9681, 'lmax': 6000}\n",
      "{'H0': 67.9, 'As': 2.1695969727549192e-09, 'ombh2': 0.02227, 'nnu': 3.046, 'omch2': 0.11903000000000001, 'lens_potential_accuracy': 5.0, 'tau': 0.07350000000000001, 'ns': 0.9681, 'lmax': 6000}\n",
      "{'H0': 67.9, 'As': 2.1139144608640354e-09, 'ombh2': 0.02227, 'nnu': 3.046, 'omch2': 0.11903000000000001, 'lens_potential_accuracy': 5.0, 'tau': 0.06050000000000001, 'ns': 0.9681, 'lmax': 6000}\n",
      "{'lens_potential_accuracy': 2.0, 'As': 2.139e-09, 'ombh2': 0.02227, 'omch2': 0.1184, 'H0': None, 'tau': 0.067, 'ns': 0.9681, 'cosmomc_theta': 0.0104106, 'lmax': 6000}\n",
      "{'H0': 68.17500000000001, 'As': 2.1415747511944239e-09, 'ombh2': 0.02227, 'nnu': 3.046, 'omch2': 0.11903000000000001, 'lens_potential_accuracy': 5.0, 'tau': 0.067, 'ns': 0.9681, 'lmax': 6000, 'YHe': 0.252}\n",
      "{'H0': 67.62500000000001, 'As': 2.1415747511944239e-09, 'ombh2': 0.02227, 'nnu': 3.046, 'omch2': 0.11903000000000001, 'lens_potential_accuracy': 5.0, 'tau': 0.067, 'ns': 0.9681, 'lmax': 6000, 'YHe': 0.252}\n",
      "{'H0': 67.9, 'As': 2.1415747511944239e-09, 'ombh2': 0.02227, 'nnu': 3.046, 'omch2': 0.11903000000000001, 'lens_potential_accuracy': 5.0, 'tau': 0.067, 'ns': 0.9681, 'lmax': 6000, 'YHe': 0.259}\n",
      "{'H0': 67.9, 'As': 2.1415747511944239e-09, 'ombh2': 0.02227, 'nnu': 3.046, 'omch2': 0.11903000000000001, 'lens_potential_accuracy': 5.0, 'tau': 0.067, 'ns': 0.9681, 'lmax': 6000, 'YHe': 0.245}\n",
      "{'H0': 67.9, 'As': 2.1481492599073809e-09, 'ombh2': 0.02227, 'nnu': 3.046, 'omch2': 0.11903000000000001, 'lens_potential_accuracy': 5.0, 'tau': 0.067, 'ns': 0.9681, 'lmax': 6000, 'YHe': 0.252}\n",
      "{'H0': 67.9, 'As': 2.1350002424814674e-09, 'ombh2': 0.02227, 'nnu': 3.046, 'omch2': 0.11903000000000001, 'lens_potential_accuracy': 5.0, 'tau': 0.067, 'ns': 0.9681, 'lmax': 6000, 'YHe': 0.252}\n",
      "{'H0': 67.9, 'As': 2.1415747511944239e-09, 'ombh2': 0.02227, 'nnu': 3.061, 'omch2': 0.11903000000000001, 'lens_potential_accuracy': 5.0, 'tau': 0.067, 'ns': 0.9681, 'lmax': 6000, 'YHe': 0.252}\n",
      "{'H0': 67.9, 'As': 2.1415747511944239e-09, 'ombh2': 0.02227, 'nnu': 3.031, 'omch2': 0.11903000000000001, 'lens_potential_accuracy': 5.0, 'tau': 0.067, 'ns': 0.9681, 'lmax': 6000, 'YHe': 0.252}\n",
      "{'H0': 67.9, 'As': 2.1415747511944239e-09, 'ombh2': 0.02227, 'nnu': 3.046, 'omch2': 0.11903000000000001, 'lens_potential_accuracy': 5.0, 'tau': 0.067, 'ns': 0.9702999999999999, 'lmax': 6000, 'YHe': 0.252}\n",
      "{'H0': 67.9, 'As': 2.1415747511944239e-09, 'ombh2': 0.02227, 'nnu': 3.046, 'omch2': 0.11903000000000001, 'lens_potential_accuracy': 5.0, 'tau': 0.067, 'ns': 0.9659, 'lmax': 6000, 'YHe': 0.252}\n",
      "{'H0': 67.9, 'As': 2.1415747511944239e-09, 'ombh2': 0.02237, 'nnu': 3.046, 'omch2': 0.11893000000000001, 'lens_potential_accuracy': 5.0, 'tau': 0.067, 'ns': 0.9681, 'lmax': 6000, 'YHe': 0.252}\n",
      "{'H0': 67.9, 'As': 2.1415747511944239e-09, 'ombh2': 0.022170000000000002, 'nnu': 3.046, 'omch2': 0.11913000000000001, 'lens_potential_accuracy': 5.0, 'tau': 0.067, 'ns': 0.9681, 'lmax': 6000, 'YHe': 0.252}\n",
      "{'H0': 67.9, 'As': 2.1415747511944239e-09, 'ombh2': 0.02227, 'nnu': 3.046, 'omch2': 0.11958, 'lens_potential_accuracy': 5.0, 'tau': 0.067, 'ns': 0.9681, 'lmax': 6000, 'YHe': 0.252}\n",
      "{'H0': 67.9, 'As': 2.1415747511944239e-09, 'ombh2': 0.02227, 'nnu': 3.046, 'omch2': 0.11848000000000002, 'lens_potential_accuracy': 5.0, 'tau': 0.067, 'ns': 0.9681, 'lmax': 6000, 'YHe': 0.252}\n",
      "{'H0': 67.9, 'As': 2.1695969727549192e-09, 'ombh2': 0.02227, 'nnu': 3.046, 'omch2': 0.11903000000000001, 'lens_potential_accuracy': 5.0, 'tau': 0.07350000000000001, 'ns': 0.9681, 'lmax': 6000, 'YHe': 0.252}\n",
      "{'H0': 67.9, 'As': 2.1139144608640354e-09, 'ombh2': 0.02227, 'nnu': 3.046, 'omch2': 0.11903000000000001, 'lens_potential_accuracy': 5.0, 'tau': 0.06050000000000001, 'ns': 0.9681, 'lmax': 6000, 'YHe': 0.252}\n",
      "{'lens_potential_accuracy': 2.0, 'As': 2.139e-09, 'ombh2': 0.02227, 'omch2': 0.1184, 'H0': None, 'tau': 0.067, 'ns': 0.9681, 'cosmomc_theta': 0.0104106, 'lmax': 6000}\n"
     ]
    },
    {
     "name": "stdout",
     "output_type": "stream",
     "text": [
      "{'H0': 68.17500000000001, 'As': 2.1415747511944239e-09, 'mnu': 0.06, 'ombh2': 0.02227, 'omch2': 0.11903000000000001, 'lens_potential_accuracy': 5.0, 'tau': 0.067, 'ns': 0.9681, 'lmax': 6000}\n",
      "{'H0': 67.62500000000001, 'As': 2.1415747511944239e-09, 'mnu': 0.06, 'ombh2': 0.02227, 'omch2': 0.11903000000000001, 'lens_potential_accuracy': 5.0, 'tau': 0.067, 'ns': 0.9681, 'lmax': 6000}\n",
      "{'H0': 67.9, 'As': 2.1481492599073809e-09, 'mnu': 0.06, 'ombh2': 0.02227, 'omch2': 0.11903000000000001, 'lens_potential_accuracy': 5.0, 'tau': 0.067, 'ns': 0.9681, 'lmax': 6000}\n",
      "{'H0': 67.9, 'As': 2.1350002424814674e-09, 'mnu': 0.06, 'ombh2': 0.02227, 'omch2': 0.11903000000000001, 'lens_potential_accuracy': 5.0, 'tau': 0.067, 'ns': 0.9681, 'lmax': 6000}\n",
      "{'H0': 67.9, 'As': 2.1415747511944239e-09, 'mnu': 0.065, 'ombh2': 0.02227, 'omch2': 0.11903000000000001, 'lens_potential_accuracy': 5.0, 'tau': 0.067, 'ns': 0.9681, 'lmax': 6000}\n",
      "{'H0': 67.9, 'As': 2.1415747511944239e-09, 'mnu': 0.055, 'ombh2': 0.02227, 'omch2': 0.11903000000000001, 'lens_potential_accuracy': 5.0, 'tau': 0.067, 'ns': 0.9681, 'lmax': 6000}\n",
      "{'H0': 67.9, 'As': 2.1415747511944239e-09, 'mnu': 0.06, 'ombh2': 0.02227, 'omch2': 0.11903000000000001, 'lens_potential_accuracy': 5.0, 'tau': 0.067, 'ns': 0.9702999999999999, 'lmax': 6000}\n",
      "{'H0': 67.9, 'As': 2.1415747511944239e-09, 'mnu': 0.06, 'ombh2': 0.02227, 'omch2': 0.11903000000000001, 'lens_potential_accuracy': 5.0, 'tau': 0.067, 'ns': 0.9659, 'lmax': 6000}\n",
      "{'H0': 67.9, 'As': 2.1415747511944239e-09, 'mnu': 0.06, 'ombh2': 0.02237, 'omch2': 0.11893000000000001, 'lens_potential_accuracy': 5.0, 'tau': 0.067, 'ns': 0.9681, 'lmax': 6000}\n",
      "{'H0': 67.9, 'As': 2.1415747511944239e-09, 'mnu': 0.06, 'ombh2': 0.022170000000000002, 'omch2': 0.11913000000000001, 'lens_potential_accuracy': 5.0, 'tau': 0.067, 'ns': 0.9681, 'lmax': 6000}\n",
      "{'H0': 67.9, 'As': 2.1415747511944239e-09, 'mnu': 0.06, 'ombh2': 0.02227, 'omch2': 0.11958, 'lens_potential_accuracy': 5.0, 'tau': 0.067, 'ns': 0.9681, 'lmax': 6000}\n",
      "{'H0': 67.9, 'As': 2.1415747511944239e-09, 'mnu': 0.06, 'ombh2': 0.02227, 'omch2': 0.11848000000000002, 'lens_potential_accuracy': 5.0, 'tau': 0.067, 'ns': 0.9681, 'lmax': 6000}\n",
      "{'H0': 67.9, 'As': 2.1695969727549192e-09, 'mnu': 0.06, 'ombh2': 0.02227, 'omch2': 0.11903000000000001, 'lens_potential_accuracy': 5.0, 'tau': 0.07350000000000001, 'ns': 0.9681, 'lmax': 6000}\n",
      "{'H0': 67.9, 'As': 2.1139144608640354e-09, 'mnu': 0.06, 'ombh2': 0.02227, 'omch2': 0.11903000000000001, 'lens_potential_accuracy': 5.0, 'tau': 0.06050000000000001, 'ns': 0.9681, 'lmax': 6000}\n",
      "{'lens_potential_accuracy': 2.0, 'As': 2.139e-09, 'ombh2': 0.02227, 'omch2': 0.1184, 'H0': None, 'tau': 0.067, 'ns': 0.9681, 'cosmomc_theta': 0.0104106, 'lmax': 6000}\n",
      "{'H0': 68.17500000000001, 'As': 2.1415747511944239e-09, 'ombh2': 0.02227, 'omch2': 0.11903000000000001, 'lens_potential_accuracy': 5.0, 'tau': 0.067, 'ns': 0.9681, 'omk': -0.003687, 'lmax': 6000}\n",
      "{'H0': 67.62500000000001, 'As': 2.1415747511944239e-09, 'ombh2': 0.02227, 'omch2': 0.11903000000000001, 'lens_potential_accuracy': 5.0, 'tau': 0.067, 'ns': 0.9681, 'omk': -0.003687, 'lmax': 6000}\n",
      "{'H0': 67.9, 'As': 2.1481492599073809e-09, 'ombh2': 0.02227, 'omch2': 0.11903000000000001, 'lens_potential_accuracy': 5.0, 'tau': 0.067, 'ns': 0.9681, 'omk': -0.003687, 'lmax': 6000}\n",
      "{'H0': 67.9, 'As': 2.1350002424814674e-09, 'ombh2': 0.02227, 'omch2': 0.11903000000000001, 'lens_potential_accuracy': 5.0, 'tau': 0.067, 'ns': 0.9681, 'omk': -0.003687, 'lmax': 6000}\n",
      "{'H0': 67.9, 'As': 2.1415747511944239e-09, 'ombh2': 0.02227, 'omch2': 0.11903000000000001, 'lens_potential_accuracy': 5.0, 'tau': 0.067, 'ns': 0.9702999999999999, 'omk': -0.003687, 'lmax': 6000}\n",
      "{'H0': 67.9, 'As': 2.1415747511944239e-09, 'ombh2': 0.02227, 'omch2': 0.11903000000000001, 'lens_potential_accuracy': 5.0, 'tau': 0.067, 'ns': 0.9659, 'omk': -0.003687, 'lmax': 6000}\n",
      "{'H0': 67.9, 'As': 2.1415747511944239e-09, 'ombh2': 0.02237, 'omch2': 0.11893000000000001, 'lens_potential_accuracy': 5.0, 'tau': 0.067, 'ns': 0.9681, 'omk': -0.003687, 'lmax': 6000}\n",
      "{'H0': 67.9, 'As': 2.1415747511944239e-09, 'ombh2': 0.022170000000000002, 'omch2': 0.11913000000000001, 'lens_potential_accuracy': 5.0, 'tau': 0.067, 'ns': 0.9681, 'omk': -0.003687, 'lmax': 6000}\n",
      "{'H0': 67.9, 'As': 2.1415747511944239e-09, 'ombh2': 0.02227, 'omch2': 0.11903000000000001, 'lens_potential_accuracy': 5.0, 'tau': 0.067, 'ns': 0.9681, 'omk': -0.0001870000000000001, 'lmax': 6000}\n",
      "{'H0': 67.9, 'As': 2.1415747511944239e-09, 'ombh2': 0.02227, 'omch2': 0.11903000000000001, 'lens_potential_accuracy': 5.0, 'tau': 0.067, 'ns': 0.9681, 'omk': -0.007187000000000001, 'lmax': 6000}\n",
      "{'H0': 67.9, 'As': 2.1415747511944239e-09, 'ombh2': 0.02227, 'omch2': 0.11958, 'lens_potential_accuracy': 5.0, 'tau': 0.067, 'ns': 0.9681, 'omk': -0.003687, 'lmax': 6000}\n",
      "{'H0': 67.9, 'As': 2.1415747511944239e-09, 'ombh2': 0.02227, 'omch2': 0.11848000000000002, 'lens_potential_accuracy': 5.0, 'tau': 0.067, 'ns': 0.9681, 'omk': -0.003687, 'lmax': 6000}\n",
      "{'H0': 67.9, 'As': 2.1695969727549192e-09, 'ombh2': 0.02227, 'omch2': 0.11903000000000001, 'lens_potential_accuracy': 5.0, 'tau': 0.07350000000000001, 'ns': 0.9681, 'omk': -0.003687, 'lmax': 6000}\n",
      "{'H0': 67.9, 'As': 2.1139144608640354e-09, 'ombh2': 0.02227, 'omch2': 0.11903000000000001, 'lens_potential_accuracy': 5.0, 'tau': 0.06050000000000001, 'ns': 0.9681, 'omk': -0.003687, 'lmax': 6000}\n"
     ]
    }
   ],
   "source": [
    "for k in model_extensions:\n",
    "    params=dict(params_base,**k[1])\n",
    "    Planck_800_Fisher(params,'Saved_Fisher_Matrices/planck_TT_'+k[0]+'_800_Fisher_Matrix.h5')"
   ]
  },
  {
   "cell_type": "markdown",
   "metadata": {},
   "source": [
    "### SPT3G Fisher Matrix"
   ]
  },
  {
   "cell_type": "code",
   "execution_count": 15,
   "metadata": {},
   "outputs": [
    {
     "name": "stdout",
     "output_type": "stream",
     "text": [
      "{'lens_potential_accuracy': 2.0, 'As': 2.139e-09, 'ombh2': 0.02227, 'omch2': 0.1184, 'H0': None, 'tau': 0.067, 'ns': 0.9681, 'cosmomc_theta': 0.0104106, 'lmax': 6000}\n",
      "{'H0': 67.9, 'As': 2.1415747511944239e-09, 'ombh2': 0.02227, 'omch2': 0.11903000000000001, 'lens_potential_accuracy': 5.0, 'tau': 0.067, 'ns': 0.9681, 'lmax': 6000}\n",
      "{'H0': 67.9, 'As': 2.1415747511944239e-09, 'ombh2': 0.02227, 'omch2': 0.11903000000000001, 'lens_potential_accuracy': 5.0, 'tau': 0.067, 'ns': 0.9681, 'lmax': 6000}\n",
      "{'H0': 67.9, 'As': 2.1415747511944239e-09, 'ombh2': 0.02227, 'omch2': 0.11903000000000001, 'lens_potential_accuracy': 5.0, 'tau': 0.067, 'ns': 0.9681, 'lmax': 6000}\n",
      "{'H0': 67.9, 'As': 2.1415747511944239e-09, 'ombh2': 0.02227, 'omch2': 0.11903000000000001, 'lens_potential_accuracy': 5.0, 'tau': 0.067, 'ns': 0.9681, 'lmax': 6000}\n",
      "{'H0': 67.9, 'As': 2.1415747511944239e-09, 'ombh2': 0.02227, 'omch2': 0.11903000000000001, 'lens_potential_accuracy': 5.0, 'tau': 0.067, 'ns': 0.9681, 'lmax': 6000}\n",
      "{'H0': 67.9, 'As': 2.1415747511944239e-09, 'ombh2': 0.02227, 'omch2': 0.11903000000000001, 'lens_potential_accuracy': 5.0, 'tau': 0.067, 'ns': 0.9681, 'lmax': 6000}\n",
      "{'H0': 67.9, 'As': 2.1415747511944239e-09, 'ombh2': 0.02227, 'omch2': 0.11903000000000001, 'lens_potential_accuracy': 5.0, 'tau': 0.067, 'ns': 0.9681, 'lmax': 6000}\n",
      "{'H0': 67.9, 'As': 2.1415747511944239e-09, 'ombh2': 0.02227, 'omch2': 0.11903000000000001, 'lens_potential_accuracy': 5.0, 'tau': 0.067, 'ns': 0.9681, 'lmax': 6000}\n",
      "{'H0': 68.17500000000001, 'As': 2.1415747511944239e-09, 'ombh2': 0.02227, 'omch2': 0.11903000000000001, 'lens_potential_accuracy': 5.0, 'tau': 0.067, 'ns': 0.9681, 'lmax': 6000}\n",
      "{'H0': 67.62500000000001, 'As': 2.1415747511944239e-09, 'ombh2': 0.02227, 'omch2': 0.11903000000000001, 'lens_potential_accuracy': 5.0, 'tau': 0.067, 'ns': 0.9681, 'lmax': 6000}\n",
      "{'H0': 67.9, 'As': 2.1415747511944239e-09, 'ombh2': 0.02227, 'omch2': 0.11903000000000001, 'lens_potential_accuracy': 5.0, 'tau': 0.067, 'ns': 0.9681, 'lmax': 6000}\n",
      "{'H0': 67.9, 'As': 2.1415747511944239e-09, 'ombh2': 0.02227, 'omch2': 0.11903000000000001, 'lens_potential_accuracy': 5.0, 'tau': 0.067, 'ns': 0.9681, 'lmax': 6000}\n",
      "{'H0': 67.9, 'As': 2.1481492599073809e-09, 'ombh2': 0.02227, 'omch2': 0.11903000000000001, 'lens_potential_accuracy': 5.0, 'tau': 0.067, 'ns': 0.9681, 'lmax': 6000}\n",
      "{'H0': 67.9, 'As': 2.1350002424814674e-09, 'ombh2': 0.02227, 'omch2': 0.11903000000000001, 'lens_potential_accuracy': 5.0, 'tau': 0.067, 'ns': 0.9681, 'lmax': 6000}\n",
      "{'H0': 67.9, 'As': 2.1415747511944239e-09, 'ombh2': 0.02227, 'omch2': 0.11903000000000001, 'lens_potential_accuracy': 5.0, 'tau': 0.067, 'ns': 0.9702999999999999, 'lmax': 6000}\n",
      "{'H0': 67.9, 'As': 2.1415747511944239e-09, 'ombh2': 0.02227, 'omch2': 0.11903000000000001, 'lens_potential_accuracy': 5.0, 'tau': 0.067, 'ns': 0.9659, 'lmax': 6000}\n",
      "{'H0': 67.9, 'As': 2.1415747511944239e-09, 'ombh2': 0.02237, 'omch2': 0.11893000000000001, 'lens_potential_accuracy': 5.0, 'tau': 0.067, 'ns': 0.9681, 'lmax': 6000}\n",
      "{'H0': 67.9, 'As': 2.1415747511944239e-09, 'ombh2': 0.022170000000000002, 'omch2': 0.11913000000000001, 'lens_potential_accuracy': 5.0, 'tau': 0.067, 'ns': 0.9681, 'lmax': 6000}\n",
      "{'H0': 67.9, 'As': 2.1415747511944239e-09, 'ombh2': 0.02227, 'omch2': 0.11958, 'lens_potential_accuracy': 5.0, 'tau': 0.067, 'ns': 0.9681, 'lmax': 6000}\n",
      "{'H0': 67.9, 'As': 2.1415747511944239e-09, 'ombh2': 0.02227, 'omch2': 0.11848000000000002, 'lens_potential_accuracy': 5.0, 'tau': 0.067, 'ns': 0.9681, 'lmax': 6000}\n",
      "{'H0': 67.9, 'As': 2.1695969727549192e-09, 'ombh2': 0.02227, 'omch2': 0.11903000000000001, 'lens_potential_accuracy': 5.0, 'tau': 0.07350000000000001, 'ns': 0.9681, 'lmax': 6000}\n",
      "{'H0': 67.9, 'As': 2.1139144608640354e-09, 'ombh2': 0.02227, 'omch2': 0.11903000000000001, 'lens_potential_accuracy': 5.0, 'tau': 0.06050000000000001, 'ns': 0.9681, 'lmax': 6000}\n",
      "{'lens_potential_accuracy': 2.0, 'As': 2.139e-09, 'ombh2': 0.02227, 'omch2': 0.1184, 'H0': None, 'tau': 0.067, 'ns': 0.9681, 'cosmomc_theta': 0.0104106, 'lmax': 6000}\n",
      "{'H0': 67.9, 'As': 2.1415747511944239e-09, 'ombh2': 0.02227, 'nnu': 3.046, 'omch2': 0.11903000000000001, 'lens_potential_accuracy': 5.0, 'tau': 0.067, 'ns': 0.9681, 'lmax': 6000}\n",
      "{'H0': 67.9, 'As': 2.1415747511944239e-09, 'ombh2': 0.02227, 'nnu': 3.046, 'omch2': 0.11903000000000001, 'lens_potential_accuracy': 5.0, 'tau': 0.067, 'ns': 0.9681, 'lmax': 6000}\n",
      "{'H0': 67.9, 'As': 2.1415747511944239e-09, 'ombh2': 0.02227, 'nnu': 3.046, 'omch2': 0.11903000000000001, 'lens_potential_accuracy': 5.0, 'tau': 0.067, 'ns': 0.9681, 'lmax': 6000}\n",
      "{'H0': 67.9, 'As': 2.1415747511944239e-09, 'ombh2': 0.02227, 'nnu': 3.046, 'omch2': 0.11903000000000001, 'lens_potential_accuracy': 5.0, 'tau': 0.067, 'ns': 0.9681, 'lmax': 6000}\n",
      "{'H0': 67.9, 'As': 2.1415747511944239e-09, 'ombh2': 0.02227, 'nnu': 3.046, 'omch2': 0.11903000000000001, 'lens_potential_accuracy': 5.0, 'tau': 0.067, 'ns': 0.9681, 'lmax': 6000}\n",
      "{'H0': 67.9, 'As': 2.1415747511944239e-09, 'ombh2': 0.02227, 'nnu': 3.046, 'omch2': 0.11903000000000001, 'lens_potential_accuracy': 5.0, 'tau': 0.067, 'ns': 0.9681, 'lmax': 6000}\n",
      "{'H0': 67.9, 'As': 2.1415747511944239e-09, 'ombh2': 0.02227, 'nnu': 3.046, 'omch2': 0.11903000000000001, 'lens_potential_accuracy': 5.0, 'tau': 0.067, 'ns': 0.9681, 'lmax': 6000}\n",
      "{'H0': 67.9, 'As': 2.1415747511944239e-09, 'ombh2': 0.02227, 'nnu': 3.046, 'omch2': 0.11903000000000001, 'lens_potential_accuracy': 5.0, 'tau': 0.067, 'ns': 0.9681, 'lmax': 6000}\n",
      "{'H0': 68.17500000000001, 'As': 2.1415747511944239e-09, 'ombh2': 0.02227, 'nnu': 3.046, 'omch2': 0.11903000000000001, 'lens_potential_accuracy': 5.0, 'tau': 0.067, 'ns': 0.9681, 'lmax': 6000}\n",
      "{'H0': 67.62500000000001, 'As': 2.1415747511944239e-09, 'ombh2': 0.02227, 'nnu': 3.046, 'omch2': 0.11903000000000001, 'lens_potential_accuracy': 5.0, 'tau': 0.067, 'ns': 0.9681, 'lmax': 6000}\n",
      "{'H0': 67.9, 'As': 2.1415747511944239e-09, 'ombh2': 0.02227, 'nnu': 3.046, 'omch2': 0.11903000000000001, 'lens_potential_accuracy': 5.0, 'tau': 0.067, 'ns': 0.9681, 'lmax': 6000}\n",
      "{'H0': 67.9, 'As': 2.1415747511944239e-09, 'ombh2': 0.02227, 'nnu': 3.046, 'omch2': 0.11903000000000001, 'lens_potential_accuracy': 5.0, 'tau': 0.067, 'ns': 0.9681, 'lmax': 6000}\n",
      "{'H0': 67.9, 'As': 2.1481492599073809e-09, 'ombh2': 0.02227, 'nnu': 3.046, 'omch2': 0.11903000000000001, 'lens_potential_accuracy': 5.0, 'tau': 0.067, 'ns': 0.9681, 'lmax': 6000}\n",
      "{'H0': 67.9, 'As': 2.1350002424814674e-09, 'ombh2': 0.02227, 'nnu': 3.046, 'omch2': 0.11903000000000001, 'lens_potential_accuracy': 5.0, 'tau': 0.067, 'ns': 0.9681, 'lmax': 6000}\n",
      "{'H0': 67.9, 'As': 2.1415747511944239e-09, 'ombh2': 0.02227, 'nnu': 3.061, 'omch2': 0.11903000000000001, 'lens_potential_accuracy': 5.0, 'tau': 0.067, 'ns': 0.9681, 'lmax': 6000}\n",
      "{'H0': 67.9, 'As': 2.1415747511944239e-09, 'ombh2': 0.02227, 'nnu': 3.031, 'omch2': 0.11903000000000001, 'lens_potential_accuracy': 5.0, 'tau': 0.067, 'ns': 0.9681, 'lmax': 6000}\n",
      "{'H0': 67.9, 'As': 2.1415747511944239e-09, 'ombh2': 0.02227, 'nnu': 3.046, 'omch2': 0.11903000000000001, 'lens_potential_accuracy': 5.0, 'tau': 0.067, 'ns': 0.9702999999999999, 'lmax': 6000}\n",
      "{'H0': 67.9, 'As': 2.1415747511944239e-09, 'ombh2': 0.02227, 'nnu': 3.046, 'omch2': 0.11903000000000001, 'lens_potential_accuracy': 5.0, 'tau': 0.067, 'ns': 0.9659, 'lmax': 6000}\n",
      "{'H0': 67.9, 'As': 2.1415747511944239e-09, 'ombh2': 0.02237, 'nnu': 3.046, 'omch2': 0.11893000000000001, 'lens_potential_accuracy': 5.0, 'tau': 0.067, 'ns': 0.9681, 'lmax': 6000}\n",
      "{'H0': 67.9, 'As': 2.1415747511944239e-09, 'ombh2': 0.022170000000000002, 'nnu': 3.046, 'omch2': 0.11913000000000001, 'lens_potential_accuracy': 5.0, 'tau': 0.067, 'ns': 0.9681, 'lmax': 6000}\n",
      "{'H0': 67.9, 'As': 2.1415747511944239e-09, 'ombh2': 0.02227, 'nnu': 3.046, 'omch2': 0.11958, 'lens_potential_accuracy': 5.0, 'tau': 0.067, 'ns': 0.9681, 'lmax': 6000}\n",
      "{'H0': 67.9, 'As': 2.1415747511944239e-09, 'ombh2': 0.02227, 'nnu': 3.046, 'omch2': 0.11848000000000002, 'lens_potential_accuracy': 5.0, 'tau': 0.067, 'ns': 0.9681, 'lmax': 6000}\n",
      "{'H0': 67.9, 'As': 2.1695969727549192e-09, 'ombh2': 0.02227, 'nnu': 3.046, 'omch2': 0.11903000000000001, 'lens_potential_accuracy': 5.0, 'tau': 0.07350000000000001, 'ns': 0.9681, 'lmax': 6000}\n"
     ]
    },
    {
     "name": "stdout",
     "output_type": "stream",
     "text": [
      "{'H0': 67.9, 'As': 2.1139144608640354e-09, 'ombh2': 0.02227, 'nnu': 3.046, 'omch2': 0.11903000000000001, 'lens_potential_accuracy': 5.0, 'tau': 0.06050000000000001, 'ns': 0.9681, 'lmax': 6000}\n",
      "{'lens_potential_accuracy': 2.0, 'As': 2.139e-09, 'ombh2': 0.02227, 'omch2': 0.1184, 'H0': None, 'tau': 0.067, 'ns': 0.9681, 'cosmomc_theta': 0.0104106, 'lmax': 6000}\n",
      "{'H0': 67.9, 'As': 2.1415747511944239e-09, 'ombh2': 0.02227, 'nnu': 3.046, 'omch2': 0.11903000000000001, 'lens_potential_accuracy': 5.0, 'tau': 0.067, 'ns': 0.9681, 'lmax': 6000, 'YHe': 0.252}\n",
      "{'H0': 67.9, 'As': 2.1415747511944239e-09, 'ombh2': 0.02227, 'nnu': 3.046, 'omch2': 0.11903000000000001, 'lens_potential_accuracy': 5.0, 'tau': 0.067, 'ns': 0.9681, 'lmax': 6000, 'YHe': 0.252}\n",
      "{'H0': 67.9, 'As': 2.1415747511944239e-09, 'ombh2': 0.02227, 'nnu': 3.046, 'omch2': 0.11903000000000001, 'lens_potential_accuracy': 5.0, 'tau': 0.067, 'ns': 0.9681, 'lmax': 6000, 'YHe': 0.252}\n",
      "{'H0': 67.9, 'As': 2.1415747511944239e-09, 'ombh2': 0.02227, 'nnu': 3.046, 'omch2': 0.11903000000000001, 'lens_potential_accuracy': 5.0, 'tau': 0.067, 'ns': 0.9681, 'lmax': 6000, 'YHe': 0.252}\n",
      "{'H0': 67.9, 'As': 2.1415747511944239e-09, 'ombh2': 0.02227, 'nnu': 3.046, 'omch2': 0.11903000000000001, 'lens_potential_accuracy': 5.0, 'tau': 0.067, 'ns': 0.9681, 'lmax': 6000, 'YHe': 0.252}\n",
      "{'H0': 67.9, 'As': 2.1415747511944239e-09, 'ombh2': 0.02227, 'nnu': 3.046, 'omch2': 0.11903000000000001, 'lens_potential_accuracy': 5.0, 'tau': 0.067, 'ns': 0.9681, 'lmax': 6000, 'YHe': 0.252}\n",
      "{'H0': 67.9, 'As': 2.1415747511944239e-09, 'ombh2': 0.02227, 'nnu': 3.046, 'omch2': 0.11903000000000001, 'lens_potential_accuracy': 5.0, 'tau': 0.067, 'ns': 0.9681, 'lmax': 6000, 'YHe': 0.252}\n",
      "{'H0': 67.9, 'As': 2.1415747511944239e-09, 'ombh2': 0.02227, 'nnu': 3.046, 'omch2': 0.11903000000000001, 'lens_potential_accuracy': 5.0, 'tau': 0.067, 'ns': 0.9681, 'lmax': 6000, 'YHe': 0.252}\n",
      "{'H0': 68.17500000000001, 'As': 2.1415747511944239e-09, 'ombh2': 0.02227, 'nnu': 3.046, 'omch2': 0.11903000000000001, 'lens_potential_accuracy': 5.0, 'tau': 0.067, 'ns': 0.9681, 'lmax': 6000, 'YHe': 0.252}\n",
      "{'H0': 67.62500000000001, 'As': 2.1415747511944239e-09, 'ombh2': 0.02227, 'nnu': 3.046, 'omch2': 0.11903000000000001, 'lens_potential_accuracy': 5.0, 'tau': 0.067, 'ns': 0.9681, 'lmax': 6000, 'YHe': 0.252}\n",
      "{'H0': 67.9, 'As': 2.1415747511944239e-09, 'ombh2': 0.02227, 'nnu': 3.046, 'omch2': 0.11903000000000001, 'lens_potential_accuracy': 5.0, 'tau': 0.067, 'ns': 0.9681, 'lmax': 6000, 'YHe': 0.252}\n",
      "{'H0': 67.9, 'As': 2.1415747511944239e-09, 'ombh2': 0.02227, 'nnu': 3.046, 'omch2': 0.11903000000000001, 'lens_potential_accuracy': 5.0, 'tau': 0.067, 'ns': 0.9681, 'lmax': 6000, 'YHe': 0.252}\n",
      "{'H0': 67.9, 'As': 2.1415747511944239e-09, 'ombh2': 0.02227, 'nnu': 3.046, 'omch2': 0.11903000000000001, 'lens_potential_accuracy': 5.0, 'tau': 0.067, 'ns': 0.9681, 'lmax': 6000, 'YHe': 0.259}\n",
      "{'H0': 67.9, 'As': 2.1415747511944239e-09, 'ombh2': 0.02227, 'nnu': 3.046, 'omch2': 0.11903000000000001, 'lens_potential_accuracy': 5.0, 'tau': 0.067, 'ns': 0.9681, 'lmax': 6000, 'YHe': 0.245}\n",
      "{'H0': 67.9, 'As': 2.1481492599073809e-09, 'ombh2': 0.02227, 'nnu': 3.046, 'omch2': 0.11903000000000001, 'lens_potential_accuracy': 5.0, 'tau': 0.067, 'ns': 0.9681, 'lmax': 6000, 'YHe': 0.252}\n",
      "{'H0': 67.9, 'As': 2.1350002424814674e-09, 'ombh2': 0.02227, 'nnu': 3.046, 'omch2': 0.11903000000000001, 'lens_potential_accuracy': 5.0, 'tau': 0.067, 'ns': 0.9681, 'lmax': 6000, 'YHe': 0.252}\n",
      "{'H0': 67.9, 'As': 2.1415747511944239e-09, 'ombh2': 0.02227, 'nnu': 3.061, 'omch2': 0.11903000000000001, 'lens_potential_accuracy': 5.0, 'tau': 0.067, 'ns': 0.9681, 'lmax': 6000, 'YHe': 0.252}\n",
      "{'H0': 67.9, 'As': 2.1415747511944239e-09, 'ombh2': 0.02227, 'nnu': 3.031, 'omch2': 0.11903000000000001, 'lens_potential_accuracy': 5.0, 'tau': 0.067, 'ns': 0.9681, 'lmax': 6000, 'YHe': 0.252}\n",
      "{'H0': 67.9, 'As': 2.1415747511944239e-09, 'ombh2': 0.02227, 'nnu': 3.046, 'omch2': 0.11903000000000001, 'lens_potential_accuracy': 5.0, 'tau': 0.067, 'ns': 0.9702999999999999, 'lmax': 6000, 'YHe': 0.252}\n",
      "{'H0': 67.9, 'As': 2.1415747511944239e-09, 'ombh2': 0.02227, 'nnu': 3.046, 'omch2': 0.11903000000000001, 'lens_potential_accuracy': 5.0, 'tau': 0.067, 'ns': 0.9659, 'lmax': 6000, 'YHe': 0.252}\n",
      "{'H0': 67.9, 'As': 2.1415747511944239e-09, 'ombh2': 0.02237, 'nnu': 3.046, 'omch2': 0.11893000000000001, 'lens_potential_accuracy': 5.0, 'tau': 0.067, 'ns': 0.9681, 'lmax': 6000, 'YHe': 0.252}\n",
      "{'H0': 67.9, 'As': 2.1415747511944239e-09, 'ombh2': 0.022170000000000002, 'nnu': 3.046, 'omch2': 0.11913000000000001, 'lens_potential_accuracy': 5.0, 'tau': 0.067, 'ns': 0.9681, 'lmax': 6000, 'YHe': 0.252}\n",
      "{'H0': 67.9, 'As': 2.1415747511944239e-09, 'ombh2': 0.02227, 'nnu': 3.046, 'omch2': 0.11958, 'lens_potential_accuracy': 5.0, 'tau': 0.067, 'ns': 0.9681, 'lmax': 6000, 'YHe': 0.252}\n",
      "{'H0': 67.9, 'As': 2.1415747511944239e-09, 'ombh2': 0.02227, 'nnu': 3.046, 'omch2': 0.11848000000000002, 'lens_potential_accuracy': 5.0, 'tau': 0.067, 'ns': 0.9681, 'lmax': 6000, 'YHe': 0.252}\n",
      "{'H0': 67.9, 'As': 2.1695969727549192e-09, 'ombh2': 0.02227, 'nnu': 3.046, 'omch2': 0.11903000000000001, 'lens_potential_accuracy': 5.0, 'tau': 0.07350000000000001, 'ns': 0.9681, 'lmax': 6000, 'YHe': 0.252}\n",
      "{'H0': 67.9, 'As': 2.1139144608640354e-09, 'ombh2': 0.02227, 'nnu': 3.046, 'omch2': 0.11903000000000001, 'lens_potential_accuracy': 5.0, 'tau': 0.06050000000000001, 'ns': 0.9681, 'lmax': 6000, 'YHe': 0.252}\n",
      "{'lens_potential_accuracy': 2.0, 'As': 2.139e-09, 'ombh2': 0.02227, 'omch2': 0.1184, 'H0': None, 'tau': 0.067, 'ns': 0.9681, 'cosmomc_theta': 0.0104106, 'lmax': 6000}\n",
      "{'H0': 67.9, 'As': 2.1415747511944239e-09, 'mnu': 0.06, 'ombh2': 0.02227, 'omch2': 0.11903000000000001, 'lens_potential_accuracy': 5.0, 'tau': 0.067, 'ns': 0.9681, 'lmax': 6000}\n",
      "{'H0': 67.9, 'As': 2.1415747511944239e-09, 'mnu': 0.06, 'ombh2': 0.02227, 'omch2': 0.11903000000000001, 'lens_potential_accuracy': 5.0, 'tau': 0.067, 'ns': 0.9681, 'lmax': 6000}\n",
      "{'H0': 67.9, 'As': 2.1415747511944239e-09, 'mnu': 0.06, 'ombh2': 0.02227, 'omch2': 0.11903000000000001, 'lens_potential_accuracy': 5.0, 'tau': 0.067, 'ns': 0.9681, 'lmax': 6000}\n",
      "{'H0': 67.9, 'As': 2.1415747511944239e-09, 'mnu': 0.06, 'ombh2': 0.02227, 'omch2': 0.11903000000000001, 'lens_potential_accuracy': 5.0, 'tau': 0.067, 'ns': 0.9681, 'lmax': 6000}\n",
      "{'H0': 67.9, 'As': 2.1415747511944239e-09, 'mnu': 0.06, 'ombh2': 0.02227, 'omch2': 0.11903000000000001, 'lens_potential_accuracy': 5.0, 'tau': 0.067, 'ns': 0.9681, 'lmax': 6000}\n",
      "{'H0': 67.9, 'As': 2.1415747511944239e-09, 'mnu': 0.06, 'ombh2': 0.02227, 'omch2': 0.11903000000000001, 'lens_potential_accuracy': 5.0, 'tau': 0.067, 'ns': 0.9681, 'lmax': 6000}\n",
      "{'H0': 67.9, 'As': 2.1415747511944239e-09, 'mnu': 0.06, 'ombh2': 0.02227, 'omch2': 0.11903000000000001, 'lens_potential_accuracy': 5.0, 'tau': 0.067, 'ns': 0.9681, 'lmax': 6000}\n",
      "{'H0': 67.9, 'As': 2.1415747511944239e-09, 'mnu': 0.06, 'ombh2': 0.02227, 'omch2': 0.11903000000000001, 'lens_potential_accuracy': 5.0, 'tau': 0.067, 'ns': 0.9681, 'lmax': 6000}\n",
      "{'H0': 68.17500000000001, 'As': 2.1415747511944239e-09, 'mnu': 0.06, 'ombh2': 0.02227, 'omch2': 0.11903000000000001, 'lens_potential_accuracy': 5.0, 'tau': 0.067, 'ns': 0.9681, 'lmax': 6000}\n",
      "{'H0': 67.62500000000001, 'As': 2.1415747511944239e-09, 'mnu': 0.06, 'ombh2': 0.02227, 'omch2': 0.11903000000000001, 'lens_potential_accuracy': 5.0, 'tau': 0.067, 'ns': 0.9681, 'lmax': 6000}\n",
      "{'H0': 67.9, 'As': 2.1415747511944239e-09, 'mnu': 0.06, 'ombh2': 0.02227, 'omch2': 0.11903000000000001, 'lens_potential_accuracy': 5.0, 'tau': 0.067, 'ns': 0.9681, 'lmax': 6000}\n",
      "{'H0': 67.9, 'As': 2.1415747511944239e-09, 'mnu': 0.06, 'ombh2': 0.02227, 'omch2': 0.11903000000000001, 'lens_potential_accuracy': 5.0, 'tau': 0.067, 'ns': 0.9681, 'lmax': 6000}\n",
      "{'H0': 67.9, 'As': 2.1481492599073809e-09, 'mnu': 0.06, 'ombh2': 0.02227, 'omch2': 0.11903000000000001, 'lens_potential_accuracy': 5.0, 'tau': 0.067, 'ns': 0.9681, 'lmax': 6000}\n",
      "{'H0': 67.9, 'As': 2.1350002424814674e-09, 'mnu': 0.06, 'ombh2': 0.02227, 'omch2': 0.11903000000000001, 'lens_potential_accuracy': 5.0, 'tau': 0.067, 'ns': 0.9681, 'lmax': 6000}\n",
      "{'H0': 67.9, 'As': 2.1415747511944239e-09, 'mnu': 0.065, 'ombh2': 0.02227, 'omch2': 0.11903000000000001, 'lens_potential_accuracy': 5.0, 'tau': 0.067, 'ns': 0.9681, 'lmax': 6000}\n"
     ]
    },
    {
     "name": "stdout",
     "output_type": "stream",
     "text": [
      "{'H0': 67.9, 'As': 2.1415747511944239e-09, 'mnu': 0.055, 'ombh2': 0.02227, 'omch2': 0.11903000000000001, 'lens_potential_accuracy': 5.0, 'tau': 0.067, 'ns': 0.9681, 'lmax': 6000}\n",
      "{'H0': 67.9, 'As': 2.1415747511944239e-09, 'mnu': 0.06, 'ombh2': 0.02227, 'omch2': 0.11903000000000001, 'lens_potential_accuracy': 5.0, 'tau': 0.067, 'ns': 0.9702999999999999, 'lmax': 6000}\n",
      "{'H0': 67.9, 'As': 2.1415747511944239e-09, 'mnu': 0.06, 'ombh2': 0.02227, 'omch2': 0.11903000000000001, 'lens_potential_accuracy': 5.0, 'tau': 0.067, 'ns': 0.9659, 'lmax': 6000}\n",
      "{'H0': 67.9, 'As': 2.1415747511944239e-09, 'mnu': 0.06, 'ombh2': 0.02237, 'omch2': 0.11893000000000001, 'lens_potential_accuracy': 5.0, 'tau': 0.067, 'ns': 0.9681, 'lmax': 6000}\n",
      "{'H0': 67.9, 'As': 2.1415747511944239e-09, 'mnu': 0.06, 'ombh2': 0.022170000000000002, 'omch2': 0.11913000000000001, 'lens_potential_accuracy': 5.0, 'tau': 0.067, 'ns': 0.9681, 'lmax': 6000}\n",
      "{'H0': 67.9, 'As': 2.1415747511944239e-09, 'mnu': 0.06, 'ombh2': 0.02227, 'omch2': 0.11958, 'lens_potential_accuracy': 5.0, 'tau': 0.067, 'ns': 0.9681, 'lmax': 6000}\n",
      "{'H0': 67.9, 'As': 2.1415747511944239e-09, 'mnu': 0.06, 'ombh2': 0.02227, 'omch2': 0.11848000000000002, 'lens_potential_accuracy': 5.0, 'tau': 0.067, 'ns': 0.9681, 'lmax': 6000}\n",
      "{'H0': 67.9, 'As': 2.1695969727549192e-09, 'mnu': 0.06, 'ombh2': 0.02227, 'omch2': 0.11903000000000001, 'lens_potential_accuracy': 5.0, 'tau': 0.07350000000000001, 'ns': 0.9681, 'lmax': 6000}\n",
      "{'H0': 67.9, 'As': 2.1139144608640354e-09, 'mnu': 0.06, 'ombh2': 0.02227, 'omch2': 0.11903000000000001, 'lens_potential_accuracy': 5.0, 'tau': 0.06050000000000001, 'ns': 0.9681, 'lmax': 6000}\n",
      "{'lens_potential_accuracy': 2.0, 'As': 2.139e-09, 'ombh2': 0.02227, 'omch2': 0.1184, 'H0': None, 'tau': 0.067, 'ns': 0.9681, 'cosmomc_theta': 0.0104106, 'lmax': 6000}\n",
      "{'H0': 67.9, 'As': 2.1415747511944239e-09, 'ombh2': 0.02227, 'omch2': 0.11903000000000001, 'lens_potential_accuracy': 5.0, 'tau': 0.067, 'ns': 0.9681, 'omk': -0.003687, 'lmax': 6000}\n",
      "{'H0': 67.9, 'As': 2.1415747511944239e-09, 'ombh2': 0.02227, 'omch2': 0.11903000000000001, 'lens_potential_accuracy': 5.0, 'tau': 0.067, 'ns': 0.9681, 'omk': -0.003687, 'lmax': 6000}\n",
      "{'H0': 67.9, 'As': 2.1415747511944239e-09, 'ombh2': 0.02227, 'omch2': 0.11903000000000001, 'lens_potential_accuracy': 5.0, 'tau': 0.067, 'ns': 0.9681, 'omk': -0.003687, 'lmax': 6000}\n",
      "{'H0': 67.9, 'As': 2.1415747511944239e-09, 'ombh2': 0.02227, 'omch2': 0.11903000000000001, 'lens_potential_accuracy': 5.0, 'tau': 0.067, 'ns': 0.9681, 'omk': -0.003687, 'lmax': 6000}\n",
      "{'H0': 67.9, 'As': 2.1415747511944239e-09, 'ombh2': 0.02227, 'omch2': 0.11903000000000001, 'lens_potential_accuracy': 5.0, 'tau': 0.067, 'ns': 0.9681, 'omk': -0.003687, 'lmax': 6000}\n",
      "{'H0': 67.9, 'As': 2.1415747511944239e-09, 'ombh2': 0.02227, 'omch2': 0.11903000000000001, 'lens_potential_accuracy': 5.0, 'tau': 0.067, 'ns': 0.9681, 'omk': -0.003687, 'lmax': 6000}\n",
      "{'H0': 67.9, 'As': 2.1415747511944239e-09, 'ombh2': 0.02227, 'omch2': 0.11903000000000001, 'lens_potential_accuracy': 5.0, 'tau': 0.067, 'ns': 0.9681, 'omk': -0.003687, 'lmax': 6000}\n",
      "{'H0': 67.9, 'As': 2.1415747511944239e-09, 'ombh2': 0.02227, 'omch2': 0.11903000000000001, 'lens_potential_accuracy': 5.0, 'tau': 0.067, 'ns': 0.9681, 'omk': -0.003687, 'lmax': 6000}\n",
      "{'H0': 68.17500000000001, 'As': 2.1415747511944239e-09, 'ombh2': 0.02227, 'omch2': 0.11903000000000001, 'lens_potential_accuracy': 5.0, 'tau': 0.067, 'ns': 0.9681, 'omk': -0.003687, 'lmax': 6000}\n",
      "{'H0': 67.62500000000001, 'As': 2.1415747511944239e-09, 'ombh2': 0.02227, 'omch2': 0.11903000000000001, 'lens_potential_accuracy': 5.0, 'tau': 0.067, 'ns': 0.9681, 'omk': -0.003687, 'lmax': 6000}\n",
      "{'H0': 67.9, 'As': 2.1415747511944239e-09, 'ombh2': 0.02227, 'omch2': 0.11903000000000001, 'lens_potential_accuracy': 5.0, 'tau': 0.067, 'ns': 0.9681, 'omk': -0.003687, 'lmax': 6000}\n",
      "{'H0': 67.9, 'As': 2.1415747511944239e-09, 'ombh2': 0.02227, 'omch2': 0.11903000000000001, 'lens_potential_accuracy': 5.0, 'tau': 0.067, 'ns': 0.9681, 'omk': -0.003687, 'lmax': 6000}\n",
      "{'H0': 67.9, 'As': 2.1481492599073809e-09, 'ombh2': 0.02227, 'omch2': 0.11903000000000001, 'lens_potential_accuracy': 5.0, 'tau': 0.067, 'ns': 0.9681, 'omk': -0.003687, 'lmax': 6000}\n",
      "{'H0': 67.9, 'As': 2.1350002424814674e-09, 'ombh2': 0.02227, 'omch2': 0.11903000000000001, 'lens_potential_accuracy': 5.0, 'tau': 0.067, 'ns': 0.9681, 'omk': -0.003687, 'lmax': 6000}\n",
      "{'H0': 67.9, 'As': 2.1415747511944239e-09, 'ombh2': 0.02227, 'omch2': 0.11903000000000001, 'lens_potential_accuracy': 5.0, 'tau': 0.067, 'ns': 0.9702999999999999, 'omk': -0.003687, 'lmax': 6000}\n",
      "{'H0': 67.9, 'As': 2.1415747511944239e-09, 'ombh2': 0.02227, 'omch2': 0.11903000000000001, 'lens_potential_accuracy': 5.0, 'tau': 0.067, 'ns': 0.9659, 'omk': -0.003687, 'lmax': 6000}\n",
      "{'H0': 67.9, 'As': 2.1415747511944239e-09, 'ombh2': 0.02237, 'omch2': 0.11893000000000001, 'lens_potential_accuracy': 5.0, 'tau': 0.067, 'ns': 0.9681, 'omk': -0.003687, 'lmax': 6000}\n",
      "{'H0': 67.9, 'As': 2.1415747511944239e-09, 'ombh2': 0.022170000000000002, 'omch2': 0.11913000000000001, 'lens_potential_accuracy': 5.0, 'tau': 0.067, 'ns': 0.9681, 'omk': -0.003687, 'lmax': 6000}\n",
      "{'H0': 67.9, 'As': 2.1415747511944239e-09, 'ombh2': 0.02227, 'omch2': 0.11903000000000001, 'lens_potential_accuracy': 5.0, 'tau': 0.067, 'ns': 0.9681, 'omk': -0.0001870000000000001, 'lmax': 6000}\n",
      "{'H0': 67.9, 'As': 2.1415747511944239e-09, 'ombh2': 0.02227, 'omch2': 0.11903000000000001, 'lens_potential_accuracy': 5.0, 'tau': 0.067, 'ns': 0.9681, 'omk': -0.007187000000000001, 'lmax': 6000}\n",
      "{'H0': 67.9, 'As': 2.1415747511944239e-09, 'ombh2': 0.02227, 'omch2': 0.11958, 'lens_potential_accuracy': 5.0, 'tau': 0.067, 'ns': 0.9681, 'omk': -0.003687, 'lmax': 6000}\n",
      "{'H0': 67.9, 'As': 2.1415747511944239e-09, 'ombh2': 0.02227, 'omch2': 0.11848000000000002, 'lens_potential_accuracy': 5.0, 'tau': 0.067, 'ns': 0.9681, 'omk': -0.003687, 'lmax': 6000}\n",
      "{'H0': 67.9, 'As': 2.1695969727549192e-09, 'ombh2': 0.02227, 'omch2': 0.11903000000000001, 'lens_potential_accuracy': 5.0, 'tau': 0.07350000000000001, 'ns': 0.9681, 'omk': -0.003687, 'lmax': 6000}\n",
      "{'H0': 67.9, 'As': 2.1139144608640354e-09, 'ombh2': 0.02227, 'omch2': 0.11903000000000001, 'lens_potential_accuracy': 5.0, 'tau': 0.06050000000000001, 'ns': 0.9681, 'omk': -0.003687, 'lmax': 6000}\n"
     ]
    }
   ],
   "source": [
    "for k in model_extensions:\n",
    "    params=dict(params3g_base,**k[1])\n",
    "    SPT3G_Fisher(params,0.06,'Saved_Fisher_Matrices/SPT3G_'+k[0]+'_lmin50_Fisher_Matrices.h5')"
   ]
  },
  {
   "cell_type": "markdown",
   "metadata": {},
   "source": [
    "### SPT3G Fisher Matrix fsky =0.035"
   ]
  },
  {
   "cell_type": "code",
   "execution_count": 16,
   "metadata": {},
   "outputs": [
    {
     "name": "stdout",
     "output_type": "stream",
     "text": [
      "{'lens_potential_accuracy': 2.0, 'As': 2.139e-09, 'ombh2': 0.02227, 'omch2': 0.1184, 'H0': None, 'tau': 0.067, 'ns': 0.9681, 'cosmomc_theta': 0.0104106, 'lmax': 6000}\n",
      "{'H0': 67.9, 'As': 2.1415747511944239e-09, 'ombh2': 0.02227, 'omch2': 0.11903000000000001, 'lens_potential_accuracy': 5.0, 'tau': 0.067, 'ns': 0.9681, 'lmax': 6000}\n",
      "{'H0': 67.9, 'As': 2.1415747511944239e-09, 'ombh2': 0.02227, 'omch2': 0.11903000000000001, 'lens_potential_accuracy': 5.0, 'tau': 0.067, 'ns': 0.9681, 'lmax': 6000}\n",
      "{'H0': 67.9, 'As': 2.1415747511944239e-09, 'ombh2': 0.02227, 'omch2': 0.11903000000000001, 'lens_potential_accuracy': 5.0, 'tau': 0.067, 'ns': 0.9681, 'lmax': 6000}\n",
      "{'H0': 67.9, 'As': 2.1415747511944239e-09, 'ombh2': 0.02227, 'omch2': 0.11903000000000001, 'lens_potential_accuracy': 5.0, 'tau': 0.067, 'ns': 0.9681, 'lmax': 6000}\n",
      "{'H0': 67.9, 'As': 2.1415747511944239e-09, 'ombh2': 0.02227, 'omch2': 0.11903000000000001, 'lens_potential_accuracy': 5.0, 'tau': 0.067, 'ns': 0.9681, 'lmax': 6000}\n",
      "{'H0': 67.9, 'As': 2.1415747511944239e-09, 'ombh2': 0.02227, 'omch2': 0.11903000000000001, 'lens_potential_accuracy': 5.0, 'tau': 0.067, 'ns': 0.9681, 'lmax': 6000}\n",
      "{'H0': 67.9, 'As': 2.1415747511944239e-09, 'ombh2': 0.02227, 'omch2': 0.11903000000000001, 'lens_potential_accuracy': 5.0, 'tau': 0.067, 'ns': 0.9681, 'lmax': 6000}\n",
      "{'H0': 67.9, 'As': 2.1415747511944239e-09, 'ombh2': 0.02227, 'omch2': 0.11903000000000001, 'lens_potential_accuracy': 5.0, 'tau': 0.067, 'ns': 0.9681, 'lmax': 6000}\n",
      "{'H0': 68.17500000000001, 'As': 2.1415747511944239e-09, 'ombh2': 0.02227, 'omch2': 0.11903000000000001, 'lens_potential_accuracy': 5.0, 'tau': 0.067, 'ns': 0.9681, 'lmax': 6000}\n",
      "{'H0': 67.62500000000001, 'As': 2.1415747511944239e-09, 'ombh2': 0.02227, 'omch2': 0.11903000000000001, 'lens_potential_accuracy': 5.0, 'tau': 0.067, 'ns': 0.9681, 'lmax': 6000}\n",
      "{'H0': 67.9, 'As': 2.1415747511944239e-09, 'ombh2': 0.02227, 'omch2': 0.11903000000000001, 'lens_potential_accuracy': 5.0, 'tau': 0.067, 'ns': 0.9681, 'lmax': 6000}\n",
      "{'H0': 67.9, 'As': 2.1415747511944239e-09, 'ombh2': 0.02227, 'omch2': 0.11903000000000001, 'lens_potential_accuracy': 5.0, 'tau': 0.067, 'ns': 0.9681, 'lmax': 6000}\n",
      "{'H0': 67.9, 'As': 2.1481492599073809e-09, 'ombh2': 0.02227, 'omch2': 0.11903000000000001, 'lens_potential_accuracy': 5.0, 'tau': 0.067, 'ns': 0.9681, 'lmax': 6000}\n",
      "{'H0': 67.9, 'As': 2.1350002424814674e-09, 'ombh2': 0.02227, 'omch2': 0.11903000000000001, 'lens_potential_accuracy': 5.0, 'tau': 0.067, 'ns': 0.9681, 'lmax': 6000}\n",
      "{'H0': 67.9, 'As': 2.1415747511944239e-09, 'ombh2': 0.02227, 'omch2': 0.11903000000000001, 'lens_potential_accuracy': 5.0, 'tau': 0.067, 'ns': 0.9702999999999999, 'lmax': 6000}\n",
      "{'H0': 67.9, 'As': 2.1415747511944239e-09, 'ombh2': 0.02227, 'omch2': 0.11903000000000001, 'lens_potential_accuracy': 5.0, 'tau': 0.067, 'ns': 0.9659, 'lmax': 6000}\n",
      "{'H0': 67.9, 'As': 2.1415747511944239e-09, 'ombh2': 0.02237, 'omch2': 0.11893000000000001, 'lens_potential_accuracy': 5.0, 'tau': 0.067, 'ns': 0.9681, 'lmax': 6000}\n",
      "{'H0': 67.9, 'As': 2.1415747511944239e-09, 'ombh2': 0.022170000000000002, 'omch2': 0.11913000000000001, 'lens_potential_accuracy': 5.0, 'tau': 0.067, 'ns': 0.9681, 'lmax': 6000}\n",
      "{'H0': 67.9, 'As': 2.1415747511944239e-09, 'ombh2': 0.02227, 'omch2': 0.11958, 'lens_potential_accuracy': 5.0, 'tau': 0.067, 'ns': 0.9681, 'lmax': 6000}\n",
      "{'H0': 67.9, 'As': 2.1415747511944239e-09, 'ombh2': 0.02227, 'omch2': 0.11848000000000002, 'lens_potential_accuracy': 5.0, 'tau': 0.067, 'ns': 0.9681, 'lmax': 6000}\n",
      "{'H0': 67.9, 'As': 2.1695969727549192e-09, 'ombh2': 0.02227, 'omch2': 0.11903000000000001, 'lens_potential_accuracy': 5.0, 'tau': 0.07350000000000001, 'ns': 0.9681, 'lmax': 6000}\n",
      "{'H0': 67.9, 'As': 2.1139144608640354e-09, 'ombh2': 0.02227, 'omch2': 0.11903000000000001, 'lens_potential_accuracy': 5.0, 'tau': 0.06050000000000001, 'ns': 0.9681, 'lmax': 6000}\n",
      "{'lens_potential_accuracy': 2.0, 'As': 2.139e-09, 'ombh2': 0.02227, 'omch2': 0.1184, 'H0': None, 'tau': 0.067, 'ns': 0.9681, 'cosmomc_theta': 0.0104106, 'lmax': 6000}\n",
      "{'H0': 67.9, 'As': 2.1415747511944239e-09, 'ombh2': 0.02227, 'nnu': 3.046, 'omch2': 0.11903000000000001, 'lens_potential_accuracy': 5.0, 'tau': 0.067, 'ns': 0.9681, 'lmax': 6000}\n",
      "{'H0': 67.9, 'As': 2.1415747511944239e-09, 'ombh2': 0.02227, 'nnu': 3.046, 'omch2': 0.11903000000000001, 'lens_potential_accuracy': 5.0, 'tau': 0.067, 'ns': 0.9681, 'lmax': 6000}\n",
      "{'H0': 67.9, 'As': 2.1415747511944239e-09, 'ombh2': 0.02227, 'nnu': 3.046, 'omch2': 0.11903000000000001, 'lens_potential_accuracy': 5.0, 'tau': 0.067, 'ns': 0.9681, 'lmax': 6000}\n",
      "{'H0': 67.9, 'As': 2.1415747511944239e-09, 'ombh2': 0.02227, 'nnu': 3.046, 'omch2': 0.11903000000000001, 'lens_potential_accuracy': 5.0, 'tau': 0.067, 'ns': 0.9681, 'lmax': 6000}\n",
      "{'H0': 67.9, 'As': 2.1415747511944239e-09, 'ombh2': 0.02227, 'nnu': 3.046, 'omch2': 0.11903000000000001, 'lens_potential_accuracy': 5.0, 'tau': 0.067, 'ns': 0.9681, 'lmax': 6000}\n",
      "{'H0': 67.9, 'As': 2.1415747511944239e-09, 'ombh2': 0.02227, 'nnu': 3.046, 'omch2': 0.11903000000000001, 'lens_potential_accuracy': 5.0, 'tau': 0.067, 'ns': 0.9681, 'lmax': 6000}\n",
      "{'H0': 67.9, 'As': 2.1415747511944239e-09, 'ombh2': 0.02227, 'nnu': 3.046, 'omch2': 0.11903000000000001, 'lens_potential_accuracy': 5.0, 'tau': 0.067, 'ns': 0.9681, 'lmax': 6000}\n",
      "{'H0': 67.9, 'As': 2.1415747511944239e-09, 'ombh2': 0.02227, 'nnu': 3.046, 'omch2': 0.11903000000000001, 'lens_potential_accuracy': 5.0, 'tau': 0.067, 'ns': 0.9681, 'lmax': 6000}\n",
      "{'H0': 68.17500000000001, 'As': 2.1415747511944239e-09, 'ombh2': 0.02227, 'nnu': 3.046, 'omch2': 0.11903000000000001, 'lens_potential_accuracy': 5.0, 'tau': 0.067, 'ns': 0.9681, 'lmax': 6000}\n",
      "{'H0': 67.62500000000001, 'As': 2.1415747511944239e-09, 'ombh2': 0.02227, 'nnu': 3.046, 'omch2': 0.11903000000000001, 'lens_potential_accuracy': 5.0, 'tau': 0.067, 'ns': 0.9681, 'lmax': 6000}\n",
      "{'H0': 67.9, 'As': 2.1415747511944239e-09, 'ombh2': 0.02227, 'nnu': 3.046, 'omch2': 0.11903000000000001, 'lens_potential_accuracy': 5.0, 'tau': 0.067, 'ns': 0.9681, 'lmax': 6000}\n",
      "{'H0': 67.9, 'As': 2.1415747511944239e-09, 'ombh2': 0.02227, 'nnu': 3.046, 'omch2': 0.11903000000000001, 'lens_potential_accuracy': 5.0, 'tau': 0.067, 'ns': 0.9681, 'lmax': 6000}\n",
      "{'H0': 67.9, 'As': 2.1481492599073809e-09, 'ombh2': 0.02227, 'nnu': 3.046, 'omch2': 0.11903000000000001, 'lens_potential_accuracy': 5.0, 'tau': 0.067, 'ns': 0.9681, 'lmax': 6000}\n",
      "{'H0': 67.9, 'As': 2.1350002424814674e-09, 'ombh2': 0.02227, 'nnu': 3.046, 'omch2': 0.11903000000000001, 'lens_potential_accuracy': 5.0, 'tau': 0.067, 'ns': 0.9681, 'lmax': 6000}\n",
      "{'H0': 67.9, 'As': 2.1415747511944239e-09, 'ombh2': 0.02227, 'nnu': 3.061, 'omch2': 0.11903000000000001, 'lens_potential_accuracy': 5.0, 'tau': 0.067, 'ns': 0.9681, 'lmax': 6000}\n",
      "{'H0': 67.9, 'As': 2.1415747511944239e-09, 'ombh2': 0.02227, 'nnu': 3.031, 'omch2': 0.11903000000000001, 'lens_potential_accuracy': 5.0, 'tau': 0.067, 'ns': 0.9681, 'lmax': 6000}\n",
      "{'H0': 67.9, 'As': 2.1415747511944239e-09, 'ombh2': 0.02227, 'nnu': 3.046, 'omch2': 0.11903000000000001, 'lens_potential_accuracy': 5.0, 'tau': 0.067, 'ns': 0.9702999999999999, 'lmax': 6000}\n",
      "{'H0': 67.9, 'As': 2.1415747511944239e-09, 'ombh2': 0.02227, 'nnu': 3.046, 'omch2': 0.11903000000000001, 'lens_potential_accuracy': 5.0, 'tau': 0.067, 'ns': 0.9659, 'lmax': 6000}\n",
      "{'H0': 67.9, 'As': 2.1415747511944239e-09, 'ombh2': 0.02237, 'nnu': 3.046, 'omch2': 0.11893000000000001, 'lens_potential_accuracy': 5.0, 'tau': 0.067, 'ns': 0.9681, 'lmax': 6000}\n",
      "{'H0': 67.9, 'As': 2.1415747511944239e-09, 'ombh2': 0.022170000000000002, 'nnu': 3.046, 'omch2': 0.11913000000000001, 'lens_potential_accuracy': 5.0, 'tau': 0.067, 'ns': 0.9681, 'lmax': 6000}\n",
      "{'H0': 67.9, 'As': 2.1415747511944239e-09, 'ombh2': 0.02227, 'nnu': 3.046, 'omch2': 0.11958, 'lens_potential_accuracy': 5.0, 'tau': 0.067, 'ns': 0.9681, 'lmax': 6000}\n",
      "{'H0': 67.9, 'As': 2.1415747511944239e-09, 'ombh2': 0.02227, 'nnu': 3.046, 'omch2': 0.11848000000000002, 'lens_potential_accuracy': 5.0, 'tau': 0.067, 'ns': 0.9681, 'lmax': 6000}\n",
      "{'H0': 67.9, 'As': 2.1695969727549192e-09, 'ombh2': 0.02227, 'nnu': 3.046, 'omch2': 0.11903000000000001, 'lens_potential_accuracy': 5.0, 'tau': 0.07350000000000001, 'ns': 0.9681, 'lmax': 6000}\n"
     ]
    },
    {
     "name": "stdout",
     "output_type": "stream",
     "text": [
      "{'H0': 67.9, 'As': 2.1139144608640354e-09, 'ombh2': 0.02227, 'nnu': 3.046, 'omch2': 0.11903000000000001, 'lens_potential_accuracy': 5.0, 'tau': 0.06050000000000001, 'ns': 0.9681, 'lmax': 6000}\n",
      "{'lens_potential_accuracy': 2.0, 'As': 2.139e-09, 'ombh2': 0.02227, 'omch2': 0.1184, 'H0': None, 'tau': 0.067, 'ns': 0.9681, 'cosmomc_theta': 0.0104106, 'lmax': 6000}\n",
      "{'H0': 67.9, 'As': 2.1415747511944239e-09, 'ombh2': 0.02227, 'nnu': 3.046, 'omch2': 0.11903000000000001, 'lens_potential_accuracy': 5.0, 'tau': 0.067, 'ns': 0.9681, 'lmax': 6000, 'YHe': 0.252}\n",
      "{'H0': 67.9, 'As': 2.1415747511944239e-09, 'ombh2': 0.02227, 'nnu': 3.046, 'omch2': 0.11903000000000001, 'lens_potential_accuracy': 5.0, 'tau': 0.067, 'ns': 0.9681, 'lmax': 6000, 'YHe': 0.252}\n",
      "{'H0': 67.9, 'As': 2.1415747511944239e-09, 'ombh2': 0.02227, 'nnu': 3.046, 'omch2': 0.11903000000000001, 'lens_potential_accuracy': 5.0, 'tau': 0.067, 'ns': 0.9681, 'lmax': 6000, 'YHe': 0.252}\n",
      "{'H0': 67.9, 'As': 2.1415747511944239e-09, 'ombh2': 0.02227, 'nnu': 3.046, 'omch2': 0.11903000000000001, 'lens_potential_accuracy': 5.0, 'tau': 0.067, 'ns': 0.9681, 'lmax': 6000, 'YHe': 0.252}\n",
      "{'H0': 67.9, 'As': 2.1415747511944239e-09, 'ombh2': 0.02227, 'nnu': 3.046, 'omch2': 0.11903000000000001, 'lens_potential_accuracy': 5.0, 'tau': 0.067, 'ns': 0.9681, 'lmax': 6000, 'YHe': 0.252}\n",
      "{'H0': 67.9, 'As': 2.1415747511944239e-09, 'ombh2': 0.02227, 'nnu': 3.046, 'omch2': 0.11903000000000001, 'lens_potential_accuracy': 5.0, 'tau': 0.067, 'ns': 0.9681, 'lmax': 6000, 'YHe': 0.252}\n",
      "{'H0': 67.9, 'As': 2.1415747511944239e-09, 'ombh2': 0.02227, 'nnu': 3.046, 'omch2': 0.11903000000000001, 'lens_potential_accuracy': 5.0, 'tau': 0.067, 'ns': 0.9681, 'lmax': 6000, 'YHe': 0.252}\n",
      "{'H0': 67.9, 'As': 2.1415747511944239e-09, 'ombh2': 0.02227, 'nnu': 3.046, 'omch2': 0.11903000000000001, 'lens_potential_accuracy': 5.0, 'tau': 0.067, 'ns': 0.9681, 'lmax': 6000, 'YHe': 0.252}\n",
      "{'H0': 68.17500000000001, 'As': 2.1415747511944239e-09, 'ombh2': 0.02227, 'nnu': 3.046, 'omch2': 0.11903000000000001, 'lens_potential_accuracy': 5.0, 'tau': 0.067, 'ns': 0.9681, 'lmax': 6000, 'YHe': 0.252}\n",
      "{'H0': 67.62500000000001, 'As': 2.1415747511944239e-09, 'ombh2': 0.02227, 'nnu': 3.046, 'omch2': 0.11903000000000001, 'lens_potential_accuracy': 5.0, 'tau': 0.067, 'ns': 0.9681, 'lmax': 6000, 'YHe': 0.252}\n",
      "{'H0': 67.9, 'As': 2.1415747511944239e-09, 'ombh2': 0.02227, 'nnu': 3.046, 'omch2': 0.11903000000000001, 'lens_potential_accuracy': 5.0, 'tau': 0.067, 'ns': 0.9681, 'lmax': 6000, 'YHe': 0.252}\n",
      "{'H0': 67.9, 'As': 2.1415747511944239e-09, 'ombh2': 0.02227, 'nnu': 3.046, 'omch2': 0.11903000000000001, 'lens_potential_accuracy': 5.0, 'tau': 0.067, 'ns': 0.9681, 'lmax': 6000, 'YHe': 0.252}\n",
      "{'H0': 67.9, 'As': 2.1415747511944239e-09, 'ombh2': 0.02227, 'nnu': 3.046, 'omch2': 0.11903000000000001, 'lens_potential_accuracy': 5.0, 'tau': 0.067, 'ns': 0.9681, 'lmax': 6000, 'YHe': 0.259}\n",
      "{'H0': 67.9, 'As': 2.1415747511944239e-09, 'ombh2': 0.02227, 'nnu': 3.046, 'omch2': 0.11903000000000001, 'lens_potential_accuracy': 5.0, 'tau': 0.067, 'ns': 0.9681, 'lmax': 6000, 'YHe': 0.245}\n",
      "{'H0': 67.9, 'As': 2.1481492599073809e-09, 'ombh2': 0.02227, 'nnu': 3.046, 'omch2': 0.11903000000000001, 'lens_potential_accuracy': 5.0, 'tau': 0.067, 'ns': 0.9681, 'lmax': 6000, 'YHe': 0.252}\n",
      "{'H0': 67.9, 'As': 2.1350002424814674e-09, 'ombh2': 0.02227, 'nnu': 3.046, 'omch2': 0.11903000000000001, 'lens_potential_accuracy': 5.0, 'tau': 0.067, 'ns': 0.9681, 'lmax': 6000, 'YHe': 0.252}\n",
      "{'H0': 67.9, 'As': 2.1415747511944239e-09, 'ombh2': 0.02227, 'nnu': 3.061, 'omch2': 0.11903000000000001, 'lens_potential_accuracy': 5.0, 'tau': 0.067, 'ns': 0.9681, 'lmax': 6000, 'YHe': 0.252}\n",
      "{'H0': 67.9, 'As': 2.1415747511944239e-09, 'ombh2': 0.02227, 'nnu': 3.031, 'omch2': 0.11903000000000001, 'lens_potential_accuracy': 5.0, 'tau': 0.067, 'ns': 0.9681, 'lmax': 6000, 'YHe': 0.252}\n",
      "{'H0': 67.9, 'As': 2.1415747511944239e-09, 'ombh2': 0.02227, 'nnu': 3.046, 'omch2': 0.11903000000000001, 'lens_potential_accuracy': 5.0, 'tau': 0.067, 'ns': 0.9702999999999999, 'lmax': 6000, 'YHe': 0.252}\n",
      "{'H0': 67.9, 'As': 2.1415747511944239e-09, 'ombh2': 0.02227, 'nnu': 3.046, 'omch2': 0.11903000000000001, 'lens_potential_accuracy': 5.0, 'tau': 0.067, 'ns': 0.9659, 'lmax': 6000, 'YHe': 0.252}\n",
      "{'H0': 67.9, 'As': 2.1415747511944239e-09, 'ombh2': 0.02237, 'nnu': 3.046, 'omch2': 0.11893000000000001, 'lens_potential_accuracy': 5.0, 'tau': 0.067, 'ns': 0.9681, 'lmax': 6000, 'YHe': 0.252}\n",
      "{'H0': 67.9, 'As': 2.1415747511944239e-09, 'ombh2': 0.022170000000000002, 'nnu': 3.046, 'omch2': 0.11913000000000001, 'lens_potential_accuracy': 5.0, 'tau': 0.067, 'ns': 0.9681, 'lmax': 6000, 'YHe': 0.252}\n",
      "{'H0': 67.9, 'As': 2.1415747511944239e-09, 'ombh2': 0.02227, 'nnu': 3.046, 'omch2': 0.11958, 'lens_potential_accuracy': 5.0, 'tau': 0.067, 'ns': 0.9681, 'lmax': 6000, 'YHe': 0.252}\n",
      "{'H0': 67.9, 'As': 2.1415747511944239e-09, 'ombh2': 0.02227, 'nnu': 3.046, 'omch2': 0.11848000000000002, 'lens_potential_accuracy': 5.0, 'tau': 0.067, 'ns': 0.9681, 'lmax': 6000, 'YHe': 0.252}\n",
      "{'H0': 67.9, 'As': 2.1695969727549192e-09, 'ombh2': 0.02227, 'nnu': 3.046, 'omch2': 0.11903000000000001, 'lens_potential_accuracy': 5.0, 'tau': 0.07350000000000001, 'ns': 0.9681, 'lmax': 6000, 'YHe': 0.252}\n",
      "{'H0': 67.9, 'As': 2.1139144608640354e-09, 'ombh2': 0.02227, 'nnu': 3.046, 'omch2': 0.11903000000000001, 'lens_potential_accuracy': 5.0, 'tau': 0.06050000000000001, 'ns': 0.9681, 'lmax': 6000, 'YHe': 0.252}\n",
      "{'lens_potential_accuracy': 2.0, 'As': 2.139e-09, 'ombh2': 0.02227, 'omch2': 0.1184, 'H0': None, 'tau': 0.067, 'ns': 0.9681, 'cosmomc_theta': 0.0104106, 'lmax': 6000}\n",
      "{'H0': 67.9, 'As': 2.1415747511944239e-09, 'mnu': 0.06, 'ombh2': 0.02227, 'omch2': 0.11903000000000001, 'lens_potential_accuracy': 5.0, 'tau': 0.067, 'ns': 0.9681, 'lmax': 6000}\n",
      "{'H0': 67.9, 'As': 2.1415747511944239e-09, 'mnu': 0.06, 'ombh2': 0.02227, 'omch2': 0.11903000000000001, 'lens_potential_accuracy': 5.0, 'tau': 0.067, 'ns': 0.9681, 'lmax': 6000}\n",
      "{'H0': 67.9, 'As': 2.1415747511944239e-09, 'mnu': 0.06, 'ombh2': 0.02227, 'omch2': 0.11903000000000001, 'lens_potential_accuracy': 5.0, 'tau': 0.067, 'ns': 0.9681, 'lmax': 6000}\n",
      "{'H0': 67.9, 'As': 2.1415747511944239e-09, 'mnu': 0.06, 'ombh2': 0.02227, 'omch2': 0.11903000000000001, 'lens_potential_accuracy': 5.0, 'tau': 0.067, 'ns': 0.9681, 'lmax': 6000}\n",
      "{'H0': 67.9, 'As': 2.1415747511944239e-09, 'mnu': 0.06, 'ombh2': 0.02227, 'omch2': 0.11903000000000001, 'lens_potential_accuracy': 5.0, 'tau': 0.067, 'ns': 0.9681, 'lmax': 6000}\n",
      "{'H0': 67.9, 'As': 2.1415747511944239e-09, 'mnu': 0.06, 'ombh2': 0.02227, 'omch2': 0.11903000000000001, 'lens_potential_accuracy': 5.0, 'tau': 0.067, 'ns': 0.9681, 'lmax': 6000}\n",
      "{'H0': 67.9, 'As': 2.1415747511944239e-09, 'mnu': 0.06, 'ombh2': 0.02227, 'omch2': 0.11903000000000001, 'lens_potential_accuracy': 5.0, 'tau': 0.067, 'ns': 0.9681, 'lmax': 6000}\n",
      "{'H0': 67.9, 'As': 2.1415747511944239e-09, 'mnu': 0.06, 'ombh2': 0.02227, 'omch2': 0.11903000000000001, 'lens_potential_accuracy': 5.0, 'tau': 0.067, 'ns': 0.9681, 'lmax': 6000}\n",
      "{'H0': 68.17500000000001, 'As': 2.1415747511944239e-09, 'mnu': 0.06, 'ombh2': 0.02227, 'omch2': 0.11903000000000001, 'lens_potential_accuracy': 5.0, 'tau': 0.067, 'ns': 0.9681, 'lmax': 6000}\n",
      "{'H0': 67.62500000000001, 'As': 2.1415747511944239e-09, 'mnu': 0.06, 'ombh2': 0.02227, 'omch2': 0.11903000000000001, 'lens_potential_accuracy': 5.0, 'tau': 0.067, 'ns': 0.9681, 'lmax': 6000}\n",
      "{'H0': 67.9, 'As': 2.1415747511944239e-09, 'mnu': 0.06, 'ombh2': 0.02227, 'omch2': 0.11903000000000001, 'lens_potential_accuracy': 5.0, 'tau': 0.067, 'ns': 0.9681, 'lmax': 6000}\n",
      "{'H0': 67.9, 'As': 2.1415747511944239e-09, 'mnu': 0.06, 'ombh2': 0.02227, 'omch2': 0.11903000000000001, 'lens_potential_accuracy': 5.0, 'tau': 0.067, 'ns': 0.9681, 'lmax': 6000}\n",
      "{'H0': 67.9, 'As': 2.1481492599073809e-09, 'mnu': 0.06, 'ombh2': 0.02227, 'omch2': 0.11903000000000001, 'lens_potential_accuracy': 5.0, 'tau': 0.067, 'ns': 0.9681, 'lmax': 6000}\n",
      "{'H0': 67.9, 'As': 2.1350002424814674e-09, 'mnu': 0.06, 'ombh2': 0.02227, 'omch2': 0.11903000000000001, 'lens_potential_accuracy': 5.0, 'tau': 0.067, 'ns': 0.9681, 'lmax': 6000}\n",
      "{'H0': 67.9, 'As': 2.1415747511944239e-09, 'mnu': 0.065, 'ombh2': 0.02227, 'omch2': 0.11903000000000001, 'lens_potential_accuracy': 5.0, 'tau': 0.067, 'ns': 0.9681, 'lmax': 6000}\n"
     ]
    },
    {
     "name": "stdout",
     "output_type": "stream",
     "text": [
      "{'H0': 67.9, 'As': 2.1415747511944239e-09, 'mnu': 0.055, 'ombh2': 0.02227, 'omch2': 0.11903000000000001, 'lens_potential_accuracy': 5.0, 'tau': 0.067, 'ns': 0.9681, 'lmax': 6000}\n",
      "{'H0': 67.9, 'As': 2.1415747511944239e-09, 'mnu': 0.06, 'ombh2': 0.02227, 'omch2': 0.11903000000000001, 'lens_potential_accuracy': 5.0, 'tau': 0.067, 'ns': 0.9702999999999999, 'lmax': 6000}\n",
      "{'H0': 67.9, 'As': 2.1415747511944239e-09, 'mnu': 0.06, 'ombh2': 0.02227, 'omch2': 0.11903000000000001, 'lens_potential_accuracy': 5.0, 'tau': 0.067, 'ns': 0.9659, 'lmax': 6000}\n",
      "{'H0': 67.9, 'As': 2.1415747511944239e-09, 'mnu': 0.06, 'ombh2': 0.02237, 'omch2': 0.11893000000000001, 'lens_potential_accuracy': 5.0, 'tau': 0.067, 'ns': 0.9681, 'lmax': 6000}\n",
      "{'H0': 67.9, 'As': 2.1415747511944239e-09, 'mnu': 0.06, 'ombh2': 0.022170000000000002, 'omch2': 0.11913000000000001, 'lens_potential_accuracy': 5.0, 'tau': 0.067, 'ns': 0.9681, 'lmax': 6000}\n",
      "{'H0': 67.9, 'As': 2.1415747511944239e-09, 'mnu': 0.06, 'ombh2': 0.02227, 'omch2': 0.11958, 'lens_potential_accuracy': 5.0, 'tau': 0.067, 'ns': 0.9681, 'lmax': 6000}\n",
      "{'H0': 67.9, 'As': 2.1415747511944239e-09, 'mnu': 0.06, 'ombh2': 0.02227, 'omch2': 0.11848000000000002, 'lens_potential_accuracy': 5.0, 'tau': 0.067, 'ns': 0.9681, 'lmax': 6000}\n",
      "{'H0': 67.9, 'As': 2.1695969727549192e-09, 'mnu': 0.06, 'ombh2': 0.02227, 'omch2': 0.11903000000000001, 'lens_potential_accuracy': 5.0, 'tau': 0.07350000000000001, 'ns': 0.9681, 'lmax': 6000}\n",
      "{'H0': 67.9, 'As': 2.1139144608640354e-09, 'mnu': 0.06, 'ombh2': 0.02227, 'omch2': 0.11903000000000001, 'lens_potential_accuracy': 5.0, 'tau': 0.06050000000000001, 'ns': 0.9681, 'lmax': 6000}\n",
      "{'lens_potential_accuracy': 2.0, 'As': 2.139e-09, 'ombh2': 0.02227, 'omch2': 0.1184, 'H0': None, 'tau': 0.067, 'ns': 0.9681, 'cosmomc_theta': 0.0104106, 'lmax': 6000}\n",
      "{'H0': 67.9, 'As': 2.1415747511944239e-09, 'ombh2': 0.02227, 'omch2': 0.11903000000000001, 'lens_potential_accuracy': 5.0, 'tau': 0.067, 'ns': 0.9681, 'omk': -0.003687, 'lmax': 6000}\n",
      "{'H0': 67.9, 'As': 2.1415747511944239e-09, 'ombh2': 0.02227, 'omch2': 0.11903000000000001, 'lens_potential_accuracy': 5.0, 'tau': 0.067, 'ns': 0.9681, 'omk': -0.003687, 'lmax': 6000}\n",
      "{'H0': 67.9, 'As': 2.1415747511944239e-09, 'ombh2': 0.02227, 'omch2': 0.11903000000000001, 'lens_potential_accuracy': 5.0, 'tau': 0.067, 'ns': 0.9681, 'omk': -0.003687, 'lmax': 6000}\n",
      "{'H0': 67.9, 'As': 2.1415747511944239e-09, 'ombh2': 0.02227, 'omch2': 0.11903000000000001, 'lens_potential_accuracy': 5.0, 'tau': 0.067, 'ns': 0.9681, 'omk': -0.003687, 'lmax': 6000}\n",
      "{'H0': 67.9, 'As': 2.1415747511944239e-09, 'ombh2': 0.02227, 'omch2': 0.11903000000000001, 'lens_potential_accuracy': 5.0, 'tau': 0.067, 'ns': 0.9681, 'omk': -0.003687, 'lmax': 6000}\n",
      "{'H0': 67.9, 'As': 2.1415747511944239e-09, 'ombh2': 0.02227, 'omch2': 0.11903000000000001, 'lens_potential_accuracy': 5.0, 'tau': 0.067, 'ns': 0.9681, 'omk': -0.003687, 'lmax': 6000}\n",
      "{'H0': 67.9, 'As': 2.1415747511944239e-09, 'ombh2': 0.02227, 'omch2': 0.11903000000000001, 'lens_potential_accuracy': 5.0, 'tau': 0.067, 'ns': 0.9681, 'omk': -0.003687, 'lmax': 6000}\n",
      "{'H0': 67.9, 'As': 2.1415747511944239e-09, 'ombh2': 0.02227, 'omch2': 0.11903000000000001, 'lens_potential_accuracy': 5.0, 'tau': 0.067, 'ns': 0.9681, 'omk': -0.003687, 'lmax': 6000}\n",
      "{'H0': 68.17500000000001, 'As': 2.1415747511944239e-09, 'ombh2': 0.02227, 'omch2': 0.11903000000000001, 'lens_potential_accuracy': 5.0, 'tau': 0.067, 'ns': 0.9681, 'omk': -0.003687, 'lmax': 6000}\n",
      "{'H0': 67.62500000000001, 'As': 2.1415747511944239e-09, 'ombh2': 0.02227, 'omch2': 0.11903000000000001, 'lens_potential_accuracy': 5.0, 'tau': 0.067, 'ns': 0.9681, 'omk': -0.003687, 'lmax': 6000}\n",
      "{'H0': 67.9, 'As': 2.1415747511944239e-09, 'ombh2': 0.02227, 'omch2': 0.11903000000000001, 'lens_potential_accuracy': 5.0, 'tau': 0.067, 'ns': 0.9681, 'omk': -0.003687, 'lmax': 6000}\n",
      "{'H0': 67.9, 'As': 2.1415747511944239e-09, 'ombh2': 0.02227, 'omch2': 0.11903000000000001, 'lens_potential_accuracy': 5.0, 'tau': 0.067, 'ns': 0.9681, 'omk': -0.003687, 'lmax': 6000}\n",
      "{'H0': 67.9, 'As': 2.1481492599073809e-09, 'ombh2': 0.02227, 'omch2': 0.11903000000000001, 'lens_potential_accuracy': 5.0, 'tau': 0.067, 'ns': 0.9681, 'omk': -0.003687, 'lmax': 6000}\n",
      "{'H0': 67.9, 'As': 2.1350002424814674e-09, 'ombh2': 0.02227, 'omch2': 0.11903000000000001, 'lens_potential_accuracy': 5.0, 'tau': 0.067, 'ns': 0.9681, 'omk': -0.003687, 'lmax': 6000}\n",
      "{'H0': 67.9, 'As': 2.1415747511944239e-09, 'ombh2': 0.02227, 'omch2': 0.11903000000000001, 'lens_potential_accuracy': 5.0, 'tau': 0.067, 'ns': 0.9702999999999999, 'omk': -0.003687, 'lmax': 6000}\n",
      "{'H0': 67.9, 'As': 2.1415747511944239e-09, 'ombh2': 0.02227, 'omch2': 0.11903000000000001, 'lens_potential_accuracy': 5.0, 'tau': 0.067, 'ns': 0.9659, 'omk': -0.003687, 'lmax': 6000}\n",
      "{'H0': 67.9, 'As': 2.1415747511944239e-09, 'ombh2': 0.02237, 'omch2': 0.11893000000000001, 'lens_potential_accuracy': 5.0, 'tau': 0.067, 'ns': 0.9681, 'omk': -0.003687, 'lmax': 6000}\n",
      "{'H0': 67.9, 'As': 2.1415747511944239e-09, 'ombh2': 0.022170000000000002, 'omch2': 0.11913000000000001, 'lens_potential_accuracy': 5.0, 'tau': 0.067, 'ns': 0.9681, 'omk': -0.003687, 'lmax': 6000}\n",
      "{'H0': 67.9, 'As': 2.1415747511944239e-09, 'ombh2': 0.02227, 'omch2': 0.11903000000000001, 'lens_potential_accuracy': 5.0, 'tau': 0.067, 'ns': 0.9681, 'omk': -0.0001870000000000001, 'lmax': 6000}\n",
      "{'H0': 67.9, 'As': 2.1415747511944239e-09, 'ombh2': 0.02227, 'omch2': 0.11903000000000001, 'lens_potential_accuracy': 5.0, 'tau': 0.067, 'ns': 0.9681, 'omk': -0.007187000000000001, 'lmax': 6000}\n",
      "{'H0': 67.9, 'As': 2.1415747511944239e-09, 'ombh2': 0.02227, 'omch2': 0.11958, 'lens_potential_accuracy': 5.0, 'tau': 0.067, 'ns': 0.9681, 'omk': -0.003687, 'lmax': 6000}\n",
      "{'H0': 67.9, 'As': 2.1415747511944239e-09, 'ombh2': 0.02227, 'omch2': 0.11848000000000002, 'lens_potential_accuracy': 5.0, 'tau': 0.067, 'ns': 0.9681, 'omk': -0.003687, 'lmax': 6000}\n",
      "{'H0': 67.9, 'As': 2.1695969727549192e-09, 'ombh2': 0.02227, 'omch2': 0.11903000000000001, 'lens_potential_accuracy': 5.0, 'tau': 0.07350000000000001, 'ns': 0.9681, 'omk': -0.003687, 'lmax': 6000}\n",
      "{'H0': 67.9, 'As': 2.1139144608640354e-09, 'ombh2': 0.02227, 'omch2': 0.11903000000000001, 'lens_potential_accuracy': 5.0, 'tau': 0.06050000000000001, 'ns': 0.9681, 'omk': -0.003687, 'lmax': 6000}\n"
     ]
    }
   ],
   "source": [
    "for k in model_extensions:\n",
    "    params=dict(params3g_base,**k[1])\n",
    "    SPT3G_Fisher(params,0.035,'Saved_Fisher_Matrices/SPT3G_f035_'+k[0]+'_lmin50_Fisher_Matrices.h5')"
   ]
  },
  {
   "cell_type": "markdown",
   "metadata": {},
   "source": [
    "###  SPT3G lensing reconstruction Fisher Matrix"
   ]
  },
  {
   "cell_type": "code",
   "execution_count": 15,
   "metadata": {},
   "outputs": [],
   "source": [
    "for k in model_extensions:\n",
    "    params=dict(params_base,**k[1])\n",
    "    SPT3G_phi_Fisher(params,0.06,'Saved_Fisher_Matrices/SPT3G_phi_'+k[0]+'_lmin50_Fisher_Matrices.h5')"
   ]
  },
  {
   "cell_type": "code",
   "execution_count": 16,
   "metadata": {},
   "outputs": [],
   "source": [
    "for k in model_extensions:\n",
    "    params=dict(params_base,**k[1])\n",
    "    SPT3G_phi_Fisher(params,0.035,'Saved_Fisher_Matrices/SPT3G_phi_f035_'+k[0]+'_lmin50_Fisher_Matrices.h5')"
   ]
  },
  {
   "cell_type": "markdown",
   "metadata": {
    "collapsed": true
   },
   "source": [
    "### plikHM_TTTEEE_lowTEB Fisher Matrix"
   ]
  },
  {
   "cell_type": "code",
   "execution_count": 95,
   "metadata": {
    "collapsed": true
   },
   "outputs": [],
   "source": [
    "planck_paths=['base/plikHM_TTTEEE_lowTEB/base_plikHM_TTTEEE_lowTEB',\n",
    "             'base_nnu/plikHM_TTTEEE_lowTEB/base_nnu_plikHM_TTTEEE_lowTEB',\n",
    "             'base_nnu_yhe/plikHM_TTTEEE_lowTEB/base_nnu_yhe_plikHM_TTTEEE_lowTEB',\n",
    "             'base_mnu/plikHM_TTTEEE_lowTEB/base_mnu_plikHM_TTTEEE_lowTEB',\n",
    "             'base_omegak/plikHM_TTTEEE_lowTEB/base_omegak_plikHM_TTTEEE_lowTEB']"
   ]
  },
  {
   "cell_type": "code",
   "execution_count": 87,
   "metadata": {
    "collapsed": true
   },
   "outputs": [],
   "source": [
    "for i,k in enumerate(model_extensions):\n",
    "    chain_path='/nfs/home/kmaylor/Official_Planck_chains/'+planck_paths[i]\n",
    "    params=dict(params_base,**k[1])\n",
    "    chain_params=[k for k,v in params.items() if isinstance(v,fish_param)]\n",
    "    Planck_chain_Fisher(chain_params,chain_path,\n",
    "                        'Saved_Fisher_Matrices/planck_TTTEEE_lowTEB'+k[0]+'_Fisher_Matrix.h5')"
   ]
  },
  {
   "cell_type": "markdown",
   "metadata": {
    "collapsed": true
   },
   "source": [
    "### plikHM_TTTEEE_lowTEB_lensing Fisher Matrix"
   ]
  },
  {
   "cell_type": "code",
   "execution_count": 21,
   "metadata": {
    "collapsed": true
   },
   "outputs": [],
   "source": [
    "planck_paths=['base/plikHM_TTTEEE_lowTEB_lensing/base_plikHM_TTTEEE_lowTEB_lensing',\n",
    "             'base_nnu/plikHM_TTTEEE_lowTEB_nnu1_lensing/base_nnu_plikHM_TTTEEE_lowTEB_nnu1_lensing',\n",
    "             'base_nnu_yhe/plikHM_TTTEEE_lowTEB_lensing/base_nnu_yhe_plikHM_TTTEEE_lowTEB_lensing',\n",
    "             'base_mnu/plikHM_TTTEEE_lowTEB_lensing/base_mnu_plikHM_TTTEEE_lowTEB_lensing',\n",
    "             'base_omegak/plikHM_TTTEEE_lowTEB_lensing/base_omegak_plikHM_TTTEEE_lowTEB_lensing']"
   ]
  },
  {
   "cell_type": "code",
   "execution_count": 26,
   "metadata": {},
   "outputs": [],
   "source": [
    "for i,k in enumerate(model_extensions):\n",
    "    if i in [1,2]:continue\n",
    "    chain_path='/nfs/home/kmaylor/Official_Planck_chains/'+planck_paths[i]\n",
    "    params=dict(params_base,**k[1])\n",
    "    chain_params=[k for k,v in params.items() if isinstance(v,fish_param)]\n",
    "    Planck_chain_Fisher(chain_params,chain_path,\n",
    "                        'Saved_Fisher_Matrices/planck_TTTEEE_lowTEB_lensing'+k[0]+'_Fisher_Matrix.h5')"
   ]
  },
  {
   "cell_type": "markdown",
   "metadata": {
    "collapsed": true
   },
   "source": [
    "### plikHM_TTTEEE_lowTEB_lensing_BAO Fisher Matrix"
   ]
  },
  {
   "cell_type": "code",
   "execution_count": 109,
   "metadata": {
    "collapsed": true
   },
   "outputs": [],
   "source": [
    "planck_paths=['base/plikHM_TTTEEE_lowTEB_lensing_BAO/base_plikHM_TTTEEE_lowTEB_lensing_BAO',\n",
    "             'base_nnu/plikHM_TTTEEE_lowTEB_nnu1_lensing_BAO/base_nnu_plikHM_TTTEEE_lowTEB_nnu1_lensing_BAO',\n",
    "             'base_nnu_yhe/plikHM_TTTEEE_lowTEB_lensing_BAO/base_nnu_yhe_plikHM_TTTEEE_lowTEB_lensing_BAO',\n",
    "             'base_mnu/plikHM_TTTEEE_lowTEB_lensing_BAO/base_mnu_plikHM_TTTEEE_lowTEB_lensing_BAO',\n",
    "             'base_omegak/plikHM_TTTEEE_lowTEB_lensing_BAO/base_omegak_plikHM_TTTEEE_lowTEB_lensing_BAO']"
   ]
  },
  {
   "cell_type": "code",
   "execution_count": 111,
   "metadata": {
    "collapsed": true
   },
   "outputs": [],
   "source": [
    "for i,k in enumerate(model_extensions):\n",
    "    if i in [0,1,2,4]:continue\n",
    "    chain_path='/nfs/home/kmaylor/Official_Planck_chains/'+planck_paths[i]\n",
    "    params=dict(params_base,**k[1])\n",
    "    chain_params=[k for k,v in params.items() if isinstance(v,fish_param)]\n",
    "    Planck_chain_Fisher(chain_params,chain_path,\n",
    "                        'Saved_Fisher_Matrices/planck_TTTEEE_lowTEB_lensing_BAO'+k[0]+'_Fisher_Matrix.h5')"
   ]
  },
  {
   "cell_type": "code",
   "execution_count": 30,
   "metadata": {},
   "outputs": [],
   "source": [
    "p1=K.chains.load_cosmomc_chain('/nfs/home/kmaylor/Official_Planck_chains/base_mnu/plikHM_TTTEEE_lowTEB/base_mnu_plikHM_TTTEEE_lowTEB').burnin(1000).join()"
   ]
  },
  {
   "cell_type": "code",
   "execution_count": 31,
   "metadata": {
    "collapsed": true
   },
   "outputs": [],
   "source": [
    "p2=K.chains.load_cosmomc_chain('/nfs/home/kmaylor/Official_Planck_chains/base_mnu/plikHM_TTTEEE_lowTEB_lensing/base_mnu_plikHM_TTTEEE_lowTEB_lensing').burnin(1000).join()"
   ]
  },
  {
   "cell_type": "markdown",
   "metadata": {},
   "source": [
    "### SPT-SZ Fisher Matrix"
   ]
  },
  {
   "cell_type": "code",
   "execution_count": 118,
   "metadata": {
    "collapsed": true
   },
   "outputs": [],
   "source": [
    "chain_params=[k for k,v in params_base.items() if isinstance(v,fish_param)]"
   ]
  },
  {
   "cell_type": "code",
   "execution_count": 119,
   "metadata": {
    "collapsed": true
   },
   "outputs": [],
   "source": [
    "chain_path=\"/home/kmaylor/Python_Projects/cosmology_chains/SPT_chainz_150x150.chains\"\n",
    "SPTSZ_chain_Fisher(chain_params,chain_path,'Saved_Fisher_Matrices/SPTSZ_lcdm_Fisher_Matrix.h5')"
   ]
  },
  {
   "cell_type": "markdown",
   "metadata": {},
   "source": [
    "# Load and Combine Planck and SPT FIsher Matrices"
   ]
  },
  {
   "cell_type": "code",
   "execution_count": 27,
   "metadata": {
    "collapsed": true
   },
   "outputs": [],
   "source": [
    "F={}\n",
    "for i,k in enumerate(model_extensions):\n",
    "    f={}\n",
    "    #SPT3G\n",
    "    f['SPT3G_fsky_0.035']=pd.read_hdf(\n",
    "        'Saved_Fisher_Matrices/SPT3G_f035_'+k[0]+'_lmin50_Fisher_Matrices.h5', 'key')\n",
    "    f['SPT3G_fsky_0.06']=pd.read_hdf(\n",
    "        'Saved_Fisher_Matrices/SPT3G_'+k[0]+'_lmin50_Fisher_Matrices.h5', 'key')\n",
    "    #SPT3G_clphiphi\n",
    "    f['SPT3G_clphiphi_fsky_0.06']=pd.read_hdf(\n",
    "        'Saved_Fisher_Matrices/SPT3G_phi_'+k[0]+'_lmin50_Fisher_Matrices.h5', 'key')\n",
    "    f['SPT3G_clphiphi_fsky_0.035']=pd.read_hdf(\n",
    "        'Saved_Fisher_Matrices/SPT3G_phi_f035_'+k[0]+'_lmin50_Fisher_Matrices.h5', 'key')\n",
    "    #SPT3G_lensing\n",
    "    f['SPT3G_lensing_fsky_0.035']=f['SPT3G_fsky_0.035'].add(f['SPT3G_clphiphi_fsky_0.035'])\n",
    "    f['SPT3G_lensing_fsky_0.06']=f['SPT3G_fsky_0.06'].add(f['SPT3G_clphiphi_fsky_0.06'])\n",
    "    #Planck_lmax800\n",
    "    f['Planck_TT_lmax_800']=pd.read_hdf(\n",
    "        'Saved_Fisher_Matrices/planck_TT_'+k[0]+'_800_Fisher_Matrix.h5', 'key')\n",
    "    #Planck_lmax800 and SPT3G\n",
    "    f['Planck_TT_lmax_800_SPT3G_fsky_0.035']=f['Planck_TT_lmax_800'].add(f['SPT3G_fsky_0.035'])\n",
    "    f['Planck_TT_lmax_800_SPT3G_fsky_0.06']=f['Planck_TT_lmax_800'].add(f['SPT3G_fsky_0.06'])\n",
    "    f['Planck_TT_lmax_800_SPT3G_lensing_fsky_0.035']=f['Planck_TT_lmax_800_SPT3G_fsky_0.035'].add(\n",
    "        f['SPT3G_clphiphi_fsky_0.035'])\n",
    "    f['Planck_TT_lmax_800_SPT3G_lensing_fsky_0.06']=f['Planck_TT_lmax_800_SPT3G_fsky_0.06'].add(\n",
    "        f['SPT3G_clphiphi_fsky_0.06'])\n",
    "    #Planck_TTTEEE_lowTEB\n",
    "    f['Planck_TTTEEE_lowTEB']=pd.read_hdf(\n",
    "        'Saved_Fisher_Matrices/planck_TTTEEE_lowTEB'+k[0]+'_Fisher_Matrix.h5', 'key')\n",
    "    #Planck_TTTEEE_lowTEB and SPT3G\n",
    "    f['Planck_TTTEEE_lowTEB_SPT3G_fsky_0.035']=f['Planck_TTTEEE_lowTEB'].add(f['SPT3G_fsky_0.035'])\n",
    "    f['Planck_TTTEEE_lowTEB_SPT3G_fsky_0.06']=f['Planck_TTTEEE_lowTEB'].add(f['SPT3G_fsky_0.06'])\n",
    "    f['Planck_TTTEEE_lowTEB_SPT3G_lensing_fsky_0.035']=f['Planck_TTTEEE_lowTEB'].add(\n",
    "        f['SPT3G_lensing_fsky_0.035'])\n",
    "    f['Planck_TTTEEE_lowTEB_SPT3G_lensing_fsky_0.06']=f['Planck_TTTEEE_lowTEB'].add(\n",
    "        f['SPT3G_lensing_fsky_0.06'])\n",
    "    #Planck_TTTEEE_lowTEB_lensing and SPT3G_lensing\n",
    "    if i not in [1,2]:\n",
    "        f['Planck_TTTEEE_lowTEB_lensing']=pd.read_hdf(\n",
    "            'Saved_Fisher_Matrices/planck_TTTEEE_lowTEB_lensing'+k[0]+'_Fisher_Matrix.h5', 'key')\n",
    "        f['Planck_TTTEEE_lowTEB_lensing_SPT3G_lensing_fsky_0.06']=f['Planck_TTTEEE_lowTEB_lensing'].add(\n",
    "            f['SPT3G_lensing_fsky_0.06'])\n",
    "        f['Planck_TTTEEE_lowTEB_lensing_SPT3G_lensing_fsky_0.035']=f['Planck_TTTEEE_lowTEB_lensing'].add(\n",
    "            f['SPT3G_lensing_fsky_0.035'])\n",
    "        #Planck_TTTEEE_lowTEB_lensing_BAO and SPT3G_lensing\n",
    "    if i not in [0,1,2,4]:\n",
    "        f['Planck_TTTEEE_lowTEB_lensing_BAO']=pd.read_hdf(\n",
    "            'Saved_Fisher_Matrices/planck_TTTEEE_lowTEB_lensing_BAO'+k[0]+'_Fisher_Matrix.h5', 'key')\n",
    "        f['Planck_TTTEEE_lowTEB_lensing_BAO_SPT3G_lensing_fsky_0.06']=f['Planck_TTTEEE_lowTEB_lensing'].add(\n",
    "            f['SPT3G_lensing_fsky_0.06'])\n",
    "        f['Planck_TTTEEE_lowTEB_lensing_BAO_SPT3G_lensing_fsky_0.035']=f['Planck_TTTEEE_lowTEB_lensing'].add(\n",
    "            f['SPT3G_lensing_fsky_0.035'])\n",
    "        #SPTSZ\n",
    "    if i ==0:\n",
    "        f['SPTSZ']=pd.read_hdf('Saved_Fisher_Matrices/SPTSZ_lcdm_Fisher_Matrix.h5', 'key')\n",
    "\n",
    "    F[k[0]]=pd.concat(f).transpose()"
   ]
  },
  {
   "cell_type": "code",
   "execution_count": 28,
   "metadata": {
    "collapsed": true
   },
   "outputs": [],
   "source": [
    "p.dump(F,open('All_Planck_and_SPT3G_Fisher_matrices.p','wb'))"
   ]
  },
  {
   "cell_type": "code",
   "execution_count": 30,
   "metadata": {
    "collapsed": true
   },
   "outputs": [],
   "source": [
    "\n",
    "G=p.load(open('All_Planck_and_SPT3G_Fisher_matrices.p','rb'))"
   ]
  },
  {
   "cell_type": "code",
   "execution_count": 31,
   "metadata": {},
   "outputs": [
    {
     "data": {
      "text/plain": [
       "{'lcdm_':       Planck_TTTEEE_lowTEB                                             \\\n",
       "                         H0         clamp             ns         ombh2   \n",
       " H0              109.368512    -41.069528    -429.001591 -1.482736e+05   \n",
       " clamp           -41.069528  10066.661288    3078.416168 -3.506980e+04   \n",
       " ns             -429.001591   3078.416168  111438.931807  2.301830e+05   \n",
       " ombh2       -148273.583059 -35069.795800  230182.989608  2.628671e+08   \n",
       " ommh2         39489.308448 -58403.443942   81991.264559 -5.055594e+07   \n",
       " tau               8.619230    293.824008   -4982.370283 -8.684540e+04   \n",
       " \n",
       "                                   Planck_TTTEEE_lowTEB_SPT3G_fsky_0.035  \\\n",
       "               ommh2           tau                                    H0   \n",
       " H0     3.948931e+04      8.619230                            275.994506   \n",
       " clamp -5.840344e+04    293.824008                           -137.125523   \n",
       " ns     8.199126e+04  -4982.370283                           -817.698624   \n",
       " ombh2 -5.055594e+07 -86845.400170                        -343638.267935   \n",
       " ommh2  1.583850e+07   6273.225408                         101266.431582   \n",
       " tau    6.273225e+03   4387.371216                              8.046825   \n",
       " \n",
       "                                                      ...       \\\n",
       "                clamp            ns         ombh2     ...        \n",
       " H0       -137.125523 -8.176986e+02 -3.436383e+05     ...        \n",
       " clamp   24739.960361  2.261717e+04  1.745475e+05     ...        \n",
       " ns      22617.167092  1.668269e+05  1.497514e+06     ...        \n",
       " ombh2  174547.467965  1.497514e+06  5.569391e+08     ...        \n",
       " ommh2 -123418.860793 -3.428714e+04 -1.212368e+08     ...        \n",
       " tau       419.042143 -4.916314e+03 -8.518817e+04     ...        \n",
       " \n",
       "       SPT3G_lensing_fsky_0.06                                            \\\n",
       "                            ns         ombh2         ommh2           tau   \n",
       " H0               1.829671e+06  3.427773e+07 -2.264232e+07 -5.144866e+06   \n",
       " clamp           -1.578172e+08 -2.663474e+09  1.786302e+09  4.153135e+08   \n",
       " ns               3.104622e+08  2.663950e+09 -2.105468e+09 -5.887998e+08   \n",
       " ombh2            2.663950e+09  7.811794e+10 -4.804947e+10 -9.877173e+09   \n",
       " ommh2           -2.105468e+09 -4.804947e+10  3.062539e+10  6.631192e+09   \n",
       " tau             -5.887998e+08 -9.877173e+09  6.631192e+09  1.543927e+09   \n",
       " \n",
       "              SPTSZ                                                          \\\n",
       "                 H0         clamp            ns         ombh2         ommh2   \n",
       " H0        6.306721    -26.081586    -32.969452 -8.647271e+03  2.787388e+03   \n",
       " clamp   -26.081586   4750.753084   4066.489035  2.505183e+03 -2.303031e+04   \n",
       " ns      -32.969452   4066.489035   5196.560350  4.493813e+04 -2.187578e+04   \n",
       " ombh2 -8647.270841   2505.182716  44938.134592  1.349904e+07 -3.704650e+06   \n",
       " ommh2  2787.387579 -23030.308947 -21875.780916 -3.704650e+06  1.285299e+06   \n",
       " tau      -2.232437     69.547905     40.766099 -6.585126e+03  3.800784e+02   \n",
       " \n",
       "                     \n",
       "                tau  \n",
       " H0       -2.232437  \n",
       " clamp    69.547905  \n",
       " ns       40.766099  \n",
       " ombh2 -6585.126112  \n",
       " ommh2   380.078406  \n",
       " tau    2706.166188  \n",
       " \n",
       " [6 rows x 120 columns],\n",
       " 'lcdm_mnu':       Planck_TTTEEE_lowTEB                                              \\\n",
       "                         H0         clamp            mnu             ns   \n",
       " H0               83.572807    -26.736481     722.149782    -199.896262   \n",
       " clamp           -26.736481  10252.543908    -181.142457    3212.589968   \n",
       " mnu             722.149782   -181.142457    6294.610166   -1215.421658   \n",
       " ns             -199.896262   3212.589968   -1215.421658  109927.014777   \n",
       " ombh2       -113003.509952 -70183.989163 -959148.873880 -154674.809550   \n",
       " ommh2         30084.246432 -55953.442351  260355.712370  149855.233608   \n",
       " tau              27.442714    235.760638      42.693796   -5098.466990   \n",
       " \n",
       "                                                   \\\n",
       "               ombh2         ommh2            tau   \n",
       " H0    -1.130035e+05  3.008425e+04      27.442714   \n",
       " clamp -7.018399e+04 -5.595344e+04     235.760638   \n",
       " mnu   -9.591489e+05  2.603557e+05      42.693796   \n",
       " ns    -1.546748e+05  1.498552e+05   -5098.466990   \n",
       " ombh2  2.150039e+08 -3.787664e+07 -114888.709354   \n",
       " ommh2 -3.787664e+07  1.234006e+07   11471.299972   \n",
       " tau   -1.148887e+05  1.147130e+04    4454.559458   \n",
       " \n",
       "       Planck_TTTEEE_lowTEB_SPT3G_fsky_0.035                               \\\n",
       "                                          H0          clamp           mnu   \n",
       " H0                               250.198801    -122.792476  2.285458e+03   \n",
       " clamp                           -122.792476   24925.842981 -8.417533e+02   \n",
       " mnu                             2285.457906    -841.753343  2.096699e+04   \n",
       " ns                              -588.593294   22751.340892 -4.432718e+03   \n",
       " ombh2                        -308368.194828  139433.274602 -2.786165e+06   \n",
       " ommh2                          91861.369566 -120968.859201  8.397635e+05   \n",
       " tau                               26.870309     360.978773  3.935054e+01   \n",
       " \n",
       "            ...      SPT3G_lensing_fsky_0.035                              \\\n",
       "            ...                         ombh2         ommh2           tau   \n",
       " H0         ...                  3.441410e+07 -2.268598e+07 -5.144866e+06   \n",
       " clamp      ...                 -2.663483e+09  1.786328e+09  4.153134e+08   \n",
       " mnu        ...                  1.537996e+09 -1.002793e+09 -2.243414e+08   \n",
       " ns         ...                  2.663334e+09 -2.105428e+09 -5.887998e+08   \n",
       " ombh2      ...                  7.791650e+10 -4.800027e+10 -9.877174e+09   \n",
       " ommh2      ...                 -4.800027e+10  3.060900e+10  6.631192e+09   \n",
       " tau        ...                 -9.877174e+09  6.631192e+09  1.543927e+09   \n",
       " \n",
       "       SPT3G_lensing_fsky_0.06                                            \\\n",
       "                            H0         clamp           mnu            ns   \n",
       " H0               1.763235e+04 -1.384911e+06  7.623341e+05  1.829671e+06   \n",
       " clamp           -1.384911e+06  1.117454e+08 -6.039159e+07 -1.578172e+08   \n",
       " mnu              7.623341e+05 -6.039159e+07  3.345992e+07  7.764377e+07   \n",
       " ns               1.829671e+06 -1.578172e+08  7.764377e+07  3.104622e+08   \n",
       " ombh2            3.427773e+07 -2.663474e+09  1.536718e+09  2.663950e+09   \n",
       " ommh2           -2.264232e+07  1.786302e+09 -1.002384e+09 -2.105468e+09   \n",
       " tau             -5.144866e+06  4.153135e+08 -2.243414e+08 -5.887998e+08   \n",
       " \n",
       "                                                  \n",
       "               ombh2         ommh2           tau  \n",
       " H0     3.427773e+07 -2.264232e+07 -5.144866e+06  \n",
       " clamp -2.663474e+09  1.786302e+09  4.153135e+08  \n",
       " mnu    1.536718e+09 -1.002384e+09 -2.243414e+08  \n",
       " ns     2.663950e+09 -2.105468e+09 -5.887998e+08  \n",
       " ombh2  7.811794e+10 -4.804947e+10 -9.877173e+09  \n",
       " ommh2 -4.804947e+10  3.062539e+10  6.631192e+09  \n",
       " tau   -9.877173e+09  6.631192e+09  1.543927e+09  \n",
       " \n",
       " [7 rows x 154 columns],\n",
       " 'lcdm_neff':       Planck_TTTEEE_lowTEB                                             \\\n",
       "                         H0         clamp           nnu             ns   \n",
       " H0              110.963375    -53.922171 -1.211125e+03    -523.294442   \n",
       " clamp           -53.922171   9977.600264  4.984952e+02    3133.745602   \n",
       " nnu           -1211.124587    498.495229  1.405231e+04   -1777.652646   \n",
       " ns             -523.294442   3133.745602 -1.777653e+03  114176.453401   \n",
       " ombh2       -149608.700343 -10999.100933  1.567208e+06  249850.587299   \n",
       " ommh2         40120.802082 -63275.530006 -4.684207e+05   38658.301032   \n",
       " tau              12.442391    435.193679 -4.961206e+01   -5148.129284   \n",
       " \n",
       "                                                  \\\n",
       "               ombh2         ommh2           tau   \n",
       " H0    -1.496087e+05  4.012080e+04     12.442391   \n",
       " clamp -1.099910e+04 -6.327553e+04    435.193679   \n",
       " nnu    1.567208e+06 -4.684207e+05    -49.612063   \n",
       " ns     2.498506e+05  3.865830e+04  -5148.129284   \n",
       " ombh2  2.630451e+08 -5.159940e+07 -95081.536070   \n",
       " ommh2 -5.159940e+07  1.602004e+07   7046.085640   \n",
       " tau   -9.508154e+04  7.046086e+03   4557.633164   \n",
       " \n",
       "       Planck_TTTEEE_lowTEB_SPT3G_fsky_0.035                               \\\n",
       "                                          H0          clamp           nnu   \n",
       " H0                               277.589369    -149.978166 -3.136319e+03   \n",
       " clamp                           -149.978166   24650.899337 -7.642273e+01   \n",
       " nnu                            -3136.319271     -76.422728  3.699052e+04   \n",
       " ns                              -911.991475   22672.496526 -2.970918e+03   \n",
       " ombh2                        -344973.385220  198618.162833  3.685953e+06   \n",
       " ommh2                         101897.925216 -128290.946856 -1.188215e+06   \n",
       " tau                               11.869986     560.411815 -5.116155e+01   \n",
       " \n",
       "            ...      SPT3G_lensing_fsky_0.035                              \\\n",
       "            ...                         ombh2         ommh2           tau   \n",
       " H0         ...                  3.441410e+07 -2.268598e+07 -5.144866e+06   \n",
       " clamp      ...                 -2.663483e+09  1.786328e+09  4.153134e+08   \n",
       " nnu        ...                  5.545238e+08 -3.566195e+08 -7.827303e+07   \n",
       " ns         ...                  2.663334e+09 -2.105428e+09 -5.887998e+08   \n",
       " ombh2      ...                  7.791650e+10 -4.800027e+10 -9.877174e+09   \n",
       " ommh2      ...                 -4.800027e+10  3.060900e+10  6.631192e+09   \n",
       " tau        ...                 -9.877174e+09  6.631192e+09  1.543927e+09   \n",
       " \n",
       "       SPT3G_lensing_fsky_0.06                                            \\\n",
       "                            H0         clamp           nnu            ns   \n",
       " H0               1.763235e+04 -1.384911e+06  2.635958e+05  1.829671e+06   \n",
       " clamp           -1.384911e+06  1.117454e+08 -2.108035e+07 -1.578172e+08   \n",
       " nnu              2.635958e+05 -2.108035e+07  4.192919e+06  2.589435e+07   \n",
       " ns               1.829671e+06 -1.578172e+08  2.589435e+07  3.104622e+08   \n",
       " ombh2            3.427773e+07 -2.663474e+09  5.560278e+08  2.663950e+09   \n",
       " ommh2           -2.264232e+07  1.786302e+09 -3.571323e+08 -2.105468e+09   \n",
       " tau             -5.144866e+06  4.153135e+08 -7.827304e+07 -5.887998e+08   \n",
       " \n",
       "                                                  \n",
       "               ombh2         ommh2           tau  \n",
       " H0     3.427773e+07 -2.264232e+07 -5.144866e+06  \n",
       " clamp -2.663474e+09  1.786302e+09  4.153135e+08  \n",
       " nnu    5.560278e+08 -3.571323e+08 -7.827304e+07  \n",
       " ns     2.663950e+09 -2.105468e+09 -5.887998e+08  \n",
       " ombh2  7.811794e+10 -4.804947e+10 -9.877173e+09  \n",
       " ommh2 -4.804947e+10  3.062539e+10  6.631192e+09  \n",
       " tau   -9.877173e+09  6.631192e+09  1.543927e+09  \n",
       " \n",
       " [7 rows x 112 columns],\n",
       " 'lcdm_neff_yp':       Planck_TTTEEE_lowTEB                                             \\\n",
       "                         H0            YHe         clamp           nnu   \n",
       " H0              111.179412    -865.312461    -82.575652 -1.211079e+03   \n",
       " YHe            -865.312461   40291.155335  -4142.408194  1.358575e+04   \n",
       " clamp           -82.575652   -4142.408194  10366.134941  8.347626e+02   \n",
       " nnu           -1211.079488   13585.753966    834.762633  1.395855e+04   \n",
       " ns             -536.545369  -41276.856142   2970.002022 -1.171000e+03   \n",
       " ombh2       -147559.000969  680061.035882  43270.396614  1.540054e+06   \n",
       " ommh2         40392.674952 -427910.339715 -75950.249410 -4.703799e+05   \n",
       " tau              11.893729    1138.452145    530.064939 -6.509527e+01   \n",
       " \n",
       "                                                                  \\\n",
       "                   ns         ombh2         ommh2            tau   \n",
       " H0       -536.545369 -1.475590e+05  4.039267e+04      11.893729   \n",
       " YHe    -41276.856142  6.800610e+05 -4.279103e+05    1138.452145   \n",
       " clamp    2970.002022  4.327040e+04 -7.595025e+04     530.064939   \n",
       " nnu     -1170.999913  1.540054e+06 -4.703799e+05     -65.095271   \n",
       " ns     111195.987335  3.441903e+05  3.582373e+04   -4738.855586   \n",
       " ombh2  344190.275330  2.579251e+08 -5.098903e+07 -108154.669223   \n",
       " ommh2   35823.726653 -5.098903e+07  1.626849e+07    7278.881017   \n",
       " tau     -4738.855586 -1.081547e+05  7.278881e+03    4474.522959   \n",
       " \n",
       "       Planck_TTTEEE_lowTEB_SPT3G_fsky_0.035                    ...       \\\n",
       "                                          H0           YHe      ...        \n",
       " H0                               275.436576 -2.352804e+03      ...        \n",
       " YHe                            -2352.803992  1.315896e+05      ...        \n",
       " clamp                           -180.722574 -2.315133e+04      ...        \n",
       " nnu                            -3088.436388  3.667179e+04      ...        \n",
       " ns                              -928.298113 -9.673149e+04      ...        \n",
       " ombh2                        -338977.777244  8.782642e+05      ...        \n",
       " ommh2                         101270.914540 -1.017633e+06      ...        \n",
       " tau                               12.418982  1.232062e+03      ...        \n",
       " \n",
       "       SPT3G_lensing_fsky_0.035               SPT3G_lensing_fsky_0.06  \\\n",
       "                          ommh2           tau                      H0   \n",
       " H0               -2.292759e+07 -5.199101e+06            1.799745e+04   \n",
       " YHe               1.715518e+07  3.979655e+06           -1.625171e+04   \n",
       " clamp             1.786223e+09  4.153319e+08           -1.399546e+06   \n",
       " nnu              -3.568328e+08 -7.833253e+07            2.667215e+05   \n",
       " ns               -2.105223e+09 -5.888214e+08            1.848361e+06   \n",
       " ombh2            -4.800873e+10 -9.880038e+09            3.466743e+07   \n",
       " ommh2             3.060360e+10  6.630652e+09           -2.288458e+07   \n",
       " tau               6.630652e+09  1.543963e+09           -5.199101e+06   \n",
       " \n",
       "                                                                              \\\n",
       "                 YHe         clamp           nnu            ns         ombh2   \n",
       " H0    -1.625171e+04 -1.399546e+06  2.667215e+05  1.848361e+06  3.466743e+07   \n",
       " YHe    1.584512e+05  1.042894e+06 -1.683557e+05 -1.477446e+06 -2.657616e+07   \n",
       " clamp  1.042894e+06  1.117527e+08 -2.109644e+07 -1.578266e+08 -2.664276e+09   \n",
       " nnu   -1.683557e+05 -2.109644e+07  4.197407e+06  2.591657e+07  5.564940e+08   \n",
       " ns    -1.477446e+06 -1.578266e+08  2.591657e+07  3.104753e+08  2.664771e+09   \n",
       " ombh2 -2.657616e+07 -2.664276e+09  5.564940e+08  2.664771e+09  7.815239e+10   \n",
       " ommh2  1.669308e+07  1.786198e+09 -3.573318e+08 -2.105264e+09 -4.805687e+10   \n",
       " tau    3.979701e+06  4.153318e+08 -7.833253e+07 -5.888215e+08 -9.880037e+09   \n",
       " \n",
       "                                    \n",
       "               ommh2           tau  \n",
       " H0    -2.288458e+07 -5.199101e+06  \n",
       " YHe    1.669308e+07  3.979701e+06  \n",
       " clamp  1.786198e+09  4.153318e+08  \n",
       " nnu   -3.573318e+08 -7.833253e+07  \n",
       " ns    -2.105264e+09 -5.888215e+08  \n",
       " ombh2 -4.805687e+10 -9.880037e+09  \n",
       " ommh2  3.061974e+10  6.630652e+09  \n",
       " tau    6.630652e+09  1.543963e+09  \n",
       " \n",
       " [8 rows x 128 columns],\n",
       " 'lcdm_omk':       Planck_TTTEEE_lowTEB                                             \\\n",
       "                         H0         clamp             ns         ombh2   \n",
       " H0                1.397251     -5.646764      -8.680030 -7.599963e+02   \n",
       " clamp            -5.646764  10132.770353    3940.098373 -6.232125e+04   \n",
       " ns               -8.680030   3940.098373  117284.515001 -3.714250e+05   \n",
       " ombh2          -759.996261 -62321.251097 -371425.001718  6.031024e+07   \n",
       " omk            -307.295155    679.721217    5081.682066  3.388617e+05   \n",
       " ommh2           247.321072 -40062.256379  238452.256820  2.439866e+06   \n",
       " tau              -9.022455    527.816169   -3997.495363 -9.525278e+04   \n",
       " \n",
       "                                                   \\\n",
       "                  omk         ommh2           tau   \n",
       " H0       -307.295155  2.473211e+02     -9.022455   \n",
       " clamp     679.721217 -4.006226e+04    527.816169   \n",
       " ns       5081.682066  2.384523e+05  -3997.495363   \n",
       " ombh2  338861.676646  2.439866e+06 -95252.779619   \n",
       " omk     73004.561816 -6.125503e+04  -1478.421953   \n",
       " ommh2  -61255.033546  1.578921e+06   3553.166724   \n",
       " tau     -1478.421953  3.553167e+03   4739.224334   \n",
       " \n",
       "       Planck_TTTEEE_lowTEB_SPT3G_fsky_0.035                               \\\n",
       "                                          H0         clamp             ns   \n",
       " H0                               175.130484    -56.244255    -309.853656   \n",
       " clamp                            -56.244255  24556.522638   23118.283036   \n",
       " ns                              -309.853656  23118.283036  171832.661266   \n",
       " ombh2                        -194471.727696  98422.947435  790590.757174   \n",
       " omk                           -82068.970540  24813.644089  147677.284873   \n",
       " ommh2                          60251.641773 -86347.947187  162586.549724   \n",
       " tau                               -9.186467    625.203849   -3965.638579   \n",
       " \n",
       "            ...      SPT3G_lensing_fsky_0.035                              \\\n",
       "            ...                           omk         ommh2           tau   \n",
       " H0         ...                  8.276378e+06 -2.163502e+07 -4.998249e+06   \n",
       " clamp      ...                 -7.168878e+08  1.806791e+09  4.277420e+08   \n",
       " ns         ...                  1.028791e+09 -2.131487e+09 -6.052691e+08   \n",
       " ombh2      ...                  1.688496e+10 -4.809585e+10 -1.011868e+10   \n",
       " omk        ...                  4.532394e+09 -1.128002e+10 -2.679469e+09   \n",
       " ommh2      ...                 -1.128002e+10  3.056728e+10  6.751673e+09   \n",
       " tau        ...                 -2.679469e+09  6.751673e+09  1.598678e+09   \n",
       " \n",
       "       SPT3G_lensing_fsky_0.06                                            \\\n",
       "                            H0         clamp            ns         ombh2   \n",
       " H0               1.609517e+04 -1.337485e+06  1.768483e+06  3.282944e+07   \n",
       " clamp           -1.337485e+06  1.144696e+08 -1.618442e+08 -2.708150e+09   \n",
       " ns               1.768483e+06 -1.618442e+08  3.190050e+08  2.729255e+09   \n",
       " ombh2            3.282944e+07 -2.708150e+09  2.729255e+09  7.834798e+10   \n",
       " omk              8.218369e+06 -7.168905e+08  1.028851e+09  1.694891e+10   \n",
       " ommh2           -2.159247e+07  1.806774e+09 -2.131507e+09 -4.814148e+10   \n",
       " tau             -4.998249e+06  4.277421e+08 -6.052691e+08 -1.011868e+10   \n",
       " \n",
       "                                                  \n",
       "                 omk         ommh2           tau  \n",
       " H0     8.218369e+06 -2.159247e+07 -4.998249e+06  \n",
       " clamp -7.168905e+08  1.806774e+09  4.277421e+08  \n",
       " ns     1.028851e+09 -2.131507e+09 -6.052691e+08  \n",
       " ombh2  1.694891e+10 -4.814148e+10 -1.011868e+10  \n",
       " omk    4.559693e+09 -1.130004e+10 -2.679469e+09  \n",
       " ommh2 -1.130004e+10  3.058217e+10  6.751672e+09  \n",
       " tau   -2.679469e+09  6.751672e+09  1.598678e+09  \n",
       " \n",
       " [7 rows x 133 columns]}"
      ]
     },
     "execution_count": 31,
     "metadata": {},
     "output_type": "execute_result"
    }
   ],
   "source": []
  },
  {
   "cell_type": "code",
   "execution_count": null,
   "metadata": {
    "collapsed": true
   },
   "outputs": [],
   "source": []
  }
 ],
 "metadata": {
  "kernelspec": {
   "display_name": "Python 3",
   "language": "python",
   "name": "python3"
  },
  "language_info": {
   "codemirror_mode": {
    "name": "ipython",
    "version": 3
   },
   "file_extension": ".py",
   "mimetype": "text/x-python",
   "name": "python",
   "nbconvert_exporter": "python",
   "pygments_lexer": "ipython3",
   "version": "3.4.3"
  }
 },
 "nbformat": 4,
 "nbformat_minor": 2
}
