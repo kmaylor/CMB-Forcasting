{
 "cells": [
  {
   "cell_type": "code",
   "execution_count": 1,
   "metadata": {},
   "outputs": [
    {
     "name": "stdout",
     "output_type": "stream",
     "text": [
      "Populating the interactive namespace from numpy and matplotlib\n"
     ]
    }
   ],
   "source": [
    "%pylab notebook"
   ]
  },
  {
   "cell_type": "markdown",
   "metadata": {},
   "source": [
    "# TESTING FISHER_CMB.PY "
   ]
  },
  {
   "cell_type": "markdown",
   "metadata": {},
   "source": [
    "##  First lets try to remake the Fig 3 from Benson 2014"
   ]
  },
  {
   "cell_type": "markdown",
   "metadata": {},
   "source": [
    "### First import the necessary modules"
   ]
  },
  {
   "cell_type": "code",
   "execution_count": 2,
   "metadata": {},
   "outputs": [],
   "source": [
    "from Fisher_CMB import *\n",
    "from Models.SPT3G.spt3G_model import spt3G_model\n",
    "from Models.Planck.Planck_model import planck_model\n",
    "from pickle import load as pload\n",
    "from Covariances.create_basic_cov import *"
   ]
  },
  {
   "cell_type": "markdown",
   "metadata": {},
   "source": [
    "#### Best guess for the parameters used to make the figure WMAP + SPTSZ"
   ]
  },
  {
   "cell_type": "code",
   "execution_count": 3,
   "metadata": {
    "collapsed": true
   },
   "outputs": [],
   "source": [
    "params={'H0':72.5,#'cosmomc_theta': 1.0429e-2,\n",
    "                           'ombh2':0.0223,\n",
    "                           'omch2':0.1093,\n",
    "                           'tau':0.083,\n",
    "                           'As':2.142e-09,#*exp(2*0.068),\n",
    "                           'ns':0.9623,\n",
    "                           'lmax':6000,\n",
    "                           'lens_potential_accuracy':2.0}"
   ]
  },
  {
   "cell_type": "markdown",
   "metadata": {},
   "source": [
    "#### Create the covariances for SPT3G  and planck that will be saved to files"
   ]
  },
  {
   "cell_type": "code",
   "execution_count": 4,
   "metadata": {},
   "outputs": [],
   "source": [
    "\n",
    "create_basic_cov(.06,.0003,[array([4.19262, 2.51558, 4.02493]),'ukarc'],\n",
    "                     filename=\"Covariances/spt3G_cov_ell_200_5000.p\",\n",
    "                     time= 3.7e7,\n",
    "                     specrange = (200,5000),\n",
    "                     bin_size = 24,\n",
    "                     spectra=('TT','EE','TE'),\n",
    "                     params=params\n",
    "                     )"
   ]
  },
  {
   "cell_type": "code",
   "execution_count": 5,
   "metadata": {},
   "outputs": [],
   "source": [
    "\n",
    "create_basic_cov(.65,.00145,[62,'uks'],\n",
    "                     filename=\"Covariances/planck_cov_ell_2_5000.p\",\n",
    "                     time= 3.7e7,\n",
    "                     specrange = (2,5000),\n",
    "                     bin_size = 24,\n",
    "                     spectra=('TT','EE','TE'),\n",
    "                     params=params\n",
    "                     )"
   ]
  },
  {
   "cell_type": "markdown",
   "metadata": {},
   "source": [
    "#### load the pickled covariances"
   ]
  },
  {
   "cell_type": "code",
   "execution_count": 6,
   "metadata": {
    "collapsed": true
   },
   "outputs": [],
   "source": [
    "scov=pload(open( \"Covariances/spt3G_cov_ell_200_5000.p\", \"rb\" ))\n",
    "pcov_ell_2_5000=pload(open( \"Covariances/planck_cov_ell_2_5000.p\", \"rb\" ))\n"
   ]
  },
  {
   "cell_type": "markdown",
   "metadata": {},
   "source": [
    "####  Creat models for SPT3G and Planck and cut out the portion that corresponds to D_b_EE"
   ]
  },
  {
   "cell_type": "code",
   "execution_count": 7,
   "metadata": {
    "collapsed": true
   },
   "outputs": [],
   "source": [
    "ms=spt3G_model(specrange = [('TT',(200,3000)),\n",
    "                                ('EE',(200,5000)),\n",
    "                                ('TE',(200,5000))],bin_size=24)\n",
    "cmbs=ms(**params)[len(ms.windows['EE']):len(ms.windows['EE'])*2]"
   ]
  },
  {
   "cell_type": "code",
   "execution_count": 8,
   "metadata": {},
   "outputs": [],
   "source": [
    "mp=planck_model(specrange = [('TT',(2,3000)),\n",
    "                                ('EE',(2,5000)),\n",
    "                                ('TE',(2,5000))],bin_size=24)\n",
    "cmbp=mp(**params)[len(mp.windows['EE']):len(mp.windows['EE'])*2]"
   ]
  },
  {
   "cell_type": "code",
   "execution_count": 9,
   "metadata": {
    "scrolled": false
   },
   "outputs": [
    {
     "data": {
      "application/javascript": [
       "/* Put everything inside the global mpl namespace */\n",
       "window.mpl = {};\n",
       "\n",
       "\n",
       "mpl.get_websocket_type = function() {\n",
       "    if (typeof(WebSocket) !== 'undefined') {\n",
       "        return WebSocket;\n",
       "    } else if (typeof(MozWebSocket) !== 'undefined') {\n",
       "        return MozWebSocket;\n",
       "    } else {\n",
       "        alert('Your browser does not have WebSocket support.' +\n",
       "              'Please try Chrome, Safari or Firefox ≥ 6. ' +\n",
       "              'Firefox 4 and 5 are also supported but you ' +\n",
       "              'have to enable WebSockets in about:config.');\n",
       "    };\n",
       "}\n",
       "\n",
       "mpl.figure = function(figure_id, websocket, ondownload, parent_element) {\n",
       "    this.id = figure_id;\n",
       "\n",
       "    this.ws = websocket;\n",
       "\n",
       "    this.supports_binary = (this.ws.binaryType != undefined);\n",
       "\n",
       "    if (!this.supports_binary) {\n",
       "        var warnings = document.getElementById(\"mpl-warnings\");\n",
       "        if (warnings) {\n",
       "            warnings.style.display = 'block';\n",
       "            warnings.textContent = (\n",
       "                \"This browser does not support binary websocket messages. \" +\n",
       "                    \"Performance may be slow.\");\n",
       "        }\n",
       "    }\n",
       "\n",
       "    this.imageObj = new Image();\n",
       "\n",
       "    this.context = undefined;\n",
       "    this.message = undefined;\n",
       "    this.canvas = undefined;\n",
       "    this.rubberband_canvas = undefined;\n",
       "    this.rubberband_context = undefined;\n",
       "    this.format_dropdown = undefined;\n",
       "\n",
       "    this.image_mode = 'full';\n",
       "\n",
       "    this.root = $('<div/>');\n",
       "    this._root_extra_style(this.root)\n",
       "    this.root.attr('style', 'display: inline-block');\n",
       "\n",
       "    $(parent_element).append(this.root);\n",
       "\n",
       "    this._init_header(this);\n",
       "    this._init_canvas(this);\n",
       "    this._init_toolbar(this);\n",
       "\n",
       "    var fig = this;\n",
       "\n",
       "    this.waiting = false;\n",
       "\n",
       "    this.ws.onopen =  function () {\n",
       "            fig.send_message(\"supports_binary\", {value: fig.supports_binary});\n",
       "            fig.send_message(\"send_image_mode\", {});\n",
       "            if (mpl.ratio != 1) {\n",
       "                fig.send_message(\"set_dpi_ratio\", {'dpi_ratio': mpl.ratio});\n",
       "            }\n",
       "            fig.send_message(\"refresh\", {});\n",
       "        }\n",
       "\n",
       "    this.imageObj.onload = function() {\n",
       "            if (fig.image_mode == 'full') {\n",
       "                // Full images could contain transparency (where diff images\n",
       "                // almost always do), so we need to clear the canvas so that\n",
       "                // there is no ghosting.\n",
       "                fig.context.clearRect(0, 0, fig.canvas.width, fig.canvas.height);\n",
       "            }\n",
       "            fig.context.drawImage(fig.imageObj, 0, 0);\n",
       "        };\n",
       "\n",
       "    this.imageObj.onunload = function() {\n",
       "        this.ws.close();\n",
       "    }\n",
       "\n",
       "    this.ws.onmessage = this._make_on_message_function(this);\n",
       "\n",
       "    this.ondownload = ondownload;\n",
       "}\n",
       "\n",
       "mpl.figure.prototype._init_header = function() {\n",
       "    var titlebar = $(\n",
       "        '<div class=\"ui-dialog-titlebar ui-widget-header ui-corner-all ' +\n",
       "        'ui-helper-clearfix\"/>');\n",
       "    var titletext = $(\n",
       "        '<div class=\"ui-dialog-title\" style=\"width: 100%; ' +\n",
       "        'text-align: center; padding: 3px;\"/>');\n",
       "    titlebar.append(titletext)\n",
       "    this.root.append(titlebar);\n",
       "    this.header = titletext[0];\n",
       "}\n",
       "\n",
       "\n",
       "\n",
       "mpl.figure.prototype._canvas_extra_style = function(canvas_div) {\n",
       "\n",
       "}\n",
       "\n",
       "\n",
       "mpl.figure.prototype._root_extra_style = function(canvas_div) {\n",
       "\n",
       "}\n",
       "\n",
       "mpl.figure.prototype._init_canvas = function() {\n",
       "    var fig = this;\n",
       "\n",
       "    var canvas_div = $('<div/>');\n",
       "\n",
       "    canvas_div.attr('style', 'position: relative; clear: both; outline: 0');\n",
       "\n",
       "    function canvas_keyboard_event(event) {\n",
       "        return fig.key_event(event, event['data']);\n",
       "    }\n",
       "\n",
       "    canvas_div.keydown('key_press', canvas_keyboard_event);\n",
       "    canvas_div.keyup('key_release', canvas_keyboard_event);\n",
       "    this.canvas_div = canvas_div\n",
       "    this._canvas_extra_style(canvas_div)\n",
       "    this.root.append(canvas_div);\n",
       "\n",
       "    var canvas = $('<canvas/>');\n",
       "    canvas.addClass('mpl-canvas');\n",
       "    canvas.attr('style', \"left: 0; top: 0; z-index: 0; outline: 0\")\n",
       "\n",
       "    this.canvas = canvas[0];\n",
       "    this.context = canvas[0].getContext(\"2d\");\n",
       "\n",
       "    var backingStore = this.context.backingStorePixelRatio ||\n",
       "\tthis.context.webkitBackingStorePixelRatio ||\n",
       "\tthis.context.mozBackingStorePixelRatio ||\n",
       "\tthis.context.msBackingStorePixelRatio ||\n",
       "\tthis.context.oBackingStorePixelRatio ||\n",
       "\tthis.context.backingStorePixelRatio || 1;\n",
       "\n",
       "    mpl.ratio = (window.devicePixelRatio || 1) / backingStore;\n",
       "\n",
       "    var rubberband = $('<canvas/>');\n",
       "    rubberband.attr('style', \"position: absolute; left: 0; top: 0; z-index: 1;\")\n",
       "\n",
       "    var pass_mouse_events = true;\n",
       "\n",
       "    canvas_div.resizable({\n",
       "        start: function(event, ui) {\n",
       "            pass_mouse_events = false;\n",
       "        },\n",
       "        resize: function(event, ui) {\n",
       "            fig.request_resize(ui.size.width, ui.size.height);\n",
       "        },\n",
       "        stop: function(event, ui) {\n",
       "            pass_mouse_events = true;\n",
       "            fig.request_resize(ui.size.width, ui.size.height);\n",
       "        },\n",
       "    });\n",
       "\n",
       "    function mouse_event_fn(event) {\n",
       "        if (pass_mouse_events)\n",
       "            return fig.mouse_event(event, event['data']);\n",
       "    }\n",
       "\n",
       "    rubberband.mousedown('button_press', mouse_event_fn);\n",
       "    rubberband.mouseup('button_release', mouse_event_fn);\n",
       "    // Throttle sequential mouse events to 1 every 20ms.\n",
       "    rubberband.mousemove('motion_notify', mouse_event_fn);\n",
       "\n",
       "    rubberband.mouseenter('figure_enter', mouse_event_fn);\n",
       "    rubberband.mouseleave('figure_leave', mouse_event_fn);\n",
       "\n",
       "    canvas_div.on(\"wheel\", function (event) {\n",
       "        event = event.originalEvent;\n",
       "        event['data'] = 'scroll'\n",
       "        if (event.deltaY < 0) {\n",
       "            event.step = 1;\n",
       "        } else {\n",
       "            event.step = -1;\n",
       "        }\n",
       "        mouse_event_fn(event);\n",
       "    });\n",
       "\n",
       "    canvas_div.append(canvas);\n",
       "    canvas_div.append(rubberband);\n",
       "\n",
       "    this.rubberband = rubberband;\n",
       "    this.rubberband_canvas = rubberband[0];\n",
       "    this.rubberband_context = rubberband[0].getContext(\"2d\");\n",
       "    this.rubberband_context.strokeStyle = \"#000000\";\n",
       "\n",
       "    this._resize_canvas = function(width, height) {\n",
       "        // Keep the size of the canvas, canvas container, and rubber band\n",
       "        // canvas in synch.\n",
       "        canvas_div.css('width', width)\n",
       "        canvas_div.css('height', height)\n",
       "\n",
       "        canvas.attr('width', width * mpl.ratio);\n",
       "        canvas.attr('height', height * mpl.ratio);\n",
       "        canvas.attr('style', 'width: ' + width + 'px; height: ' + height + 'px;');\n",
       "\n",
       "        rubberband.attr('width', width);\n",
       "        rubberband.attr('height', height);\n",
       "    }\n",
       "\n",
       "    // Set the figure to an initial 600x600px, this will subsequently be updated\n",
       "    // upon first draw.\n",
       "    this._resize_canvas(600, 600);\n",
       "\n",
       "    // Disable right mouse context menu.\n",
       "    $(this.rubberband_canvas).bind(\"contextmenu\",function(e){\n",
       "        return false;\n",
       "    });\n",
       "\n",
       "    function set_focus () {\n",
       "        canvas.focus();\n",
       "        canvas_div.focus();\n",
       "    }\n",
       "\n",
       "    window.setTimeout(set_focus, 100);\n",
       "}\n",
       "\n",
       "mpl.figure.prototype._init_toolbar = function() {\n",
       "    var fig = this;\n",
       "\n",
       "    var nav_element = $('<div/>')\n",
       "    nav_element.attr('style', 'width: 100%');\n",
       "    this.root.append(nav_element);\n",
       "\n",
       "    // Define a callback function for later on.\n",
       "    function toolbar_event(event) {\n",
       "        return fig.toolbar_button_onclick(event['data']);\n",
       "    }\n",
       "    function toolbar_mouse_event(event) {\n",
       "        return fig.toolbar_button_onmouseover(event['data']);\n",
       "    }\n",
       "\n",
       "    for(var toolbar_ind in mpl.toolbar_items) {\n",
       "        var name = mpl.toolbar_items[toolbar_ind][0];\n",
       "        var tooltip = mpl.toolbar_items[toolbar_ind][1];\n",
       "        var image = mpl.toolbar_items[toolbar_ind][2];\n",
       "        var method_name = mpl.toolbar_items[toolbar_ind][3];\n",
       "\n",
       "        if (!name) {\n",
       "            // put a spacer in here.\n",
       "            continue;\n",
       "        }\n",
       "        var button = $('<button/>');\n",
       "        button.addClass('ui-button ui-widget ui-state-default ui-corner-all ' +\n",
       "                        'ui-button-icon-only');\n",
       "        button.attr('role', 'button');\n",
       "        button.attr('aria-disabled', 'false');\n",
       "        button.click(method_name, toolbar_event);\n",
       "        button.mouseover(tooltip, toolbar_mouse_event);\n",
       "\n",
       "        var icon_img = $('<span/>');\n",
       "        icon_img.addClass('ui-button-icon-primary ui-icon');\n",
       "        icon_img.addClass(image);\n",
       "        icon_img.addClass('ui-corner-all');\n",
       "\n",
       "        var tooltip_span = $('<span/>');\n",
       "        tooltip_span.addClass('ui-button-text');\n",
       "        tooltip_span.html(tooltip);\n",
       "\n",
       "        button.append(icon_img);\n",
       "        button.append(tooltip_span);\n",
       "\n",
       "        nav_element.append(button);\n",
       "    }\n",
       "\n",
       "    var fmt_picker_span = $('<span/>');\n",
       "\n",
       "    var fmt_picker = $('<select/>');\n",
       "    fmt_picker.addClass('mpl-toolbar-option ui-widget ui-widget-content');\n",
       "    fmt_picker_span.append(fmt_picker);\n",
       "    nav_element.append(fmt_picker_span);\n",
       "    this.format_dropdown = fmt_picker[0];\n",
       "\n",
       "    for (var ind in mpl.extensions) {\n",
       "        var fmt = mpl.extensions[ind];\n",
       "        var option = $(\n",
       "            '<option/>', {selected: fmt === mpl.default_extension}).html(fmt);\n",
       "        fmt_picker.append(option)\n",
       "    }\n",
       "\n",
       "    // Add hover states to the ui-buttons\n",
       "    $( \".ui-button\" ).hover(\n",
       "        function() { $(this).addClass(\"ui-state-hover\");},\n",
       "        function() { $(this).removeClass(\"ui-state-hover\");}\n",
       "    );\n",
       "\n",
       "    var status_bar = $('<span class=\"mpl-message\"/>');\n",
       "    nav_element.append(status_bar);\n",
       "    this.message = status_bar[0];\n",
       "}\n",
       "\n",
       "mpl.figure.prototype.request_resize = function(x_pixels, y_pixels) {\n",
       "    // Request matplotlib to resize the figure. Matplotlib will then trigger a resize in the client,\n",
       "    // which will in turn request a refresh of the image.\n",
       "    this.send_message('resize', {'width': x_pixels, 'height': y_pixels});\n",
       "}\n",
       "\n",
       "mpl.figure.prototype.send_message = function(type, properties) {\n",
       "    properties['type'] = type;\n",
       "    properties['figure_id'] = this.id;\n",
       "    this.ws.send(JSON.stringify(properties));\n",
       "}\n",
       "\n",
       "mpl.figure.prototype.send_draw_message = function() {\n",
       "    if (!this.waiting) {\n",
       "        this.waiting = true;\n",
       "        this.ws.send(JSON.stringify({type: \"draw\", figure_id: this.id}));\n",
       "    }\n",
       "}\n",
       "\n",
       "\n",
       "mpl.figure.prototype.handle_save = function(fig, msg) {\n",
       "    var format_dropdown = fig.format_dropdown;\n",
       "    var format = format_dropdown.options[format_dropdown.selectedIndex].value;\n",
       "    fig.ondownload(fig, format);\n",
       "}\n",
       "\n",
       "\n",
       "mpl.figure.prototype.handle_resize = function(fig, msg) {\n",
       "    var size = msg['size'];\n",
       "    if (size[0] != fig.canvas.width || size[1] != fig.canvas.height) {\n",
       "        fig._resize_canvas(size[0], size[1]);\n",
       "        fig.send_message(\"refresh\", {});\n",
       "    };\n",
       "}\n",
       "\n",
       "mpl.figure.prototype.handle_rubberband = function(fig, msg) {\n",
       "    var x0 = msg['x0'] / mpl.ratio;\n",
       "    var y0 = (fig.canvas.height - msg['y0']) / mpl.ratio;\n",
       "    var x1 = msg['x1'] / mpl.ratio;\n",
       "    var y1 = (fig.canvas.height - msg['y1']) / mpl.ratio;\n",
       "    x0 = Math.floor(x0) + 0.5;\n",
       "    y0 = Math.floor(y0) + 0.5;\n",
       "    x1 = Math.floor(x1) + 0.5;\n",
       "    y1 = Math.floor(y1) + 0.5;\n",
       "    var min_x = Math.min(x0, x1);\n",
       "    var min_y = Math.min(y0, y1);\n",
       "    var width = Math.abs(x1 - x0);\n",
       "    var height = Math.abs(y1 - y0);\n",
       "\n",
       "    fig.rubberband_context.clearRect(\n",
       "        0, 0, fig.canvas.width, fig.canvas.height);\n",
       "\n",
       "    fig.rubberband_context.strokeRect(min_x, min_y, width, height);\n",
       "}\n",
       "\n",
       "mpl.figure.prototype.handle_figure_label = function(fig, msg) {\n",
       "    // Updates the figure title.\n",
       "    fig.header.textContent = msg['label'];\n",
       "}\n",
       "\n",
       "mpl.figure.prototype.handle_cursor = function(fig, msg) {\n",
       "    var cursor = msg['cursor'];\n",
       "    switch(cursor)\n",
       "    {\n",
       "    case 0:\n",
       "        cursor = 'pointer';\n",
       "        break;\n",
       "    case 1:\n",
       "        cursor = 'default';\n",
       "        break;\n",
       "    case 2:\n",
       "        cursor = 'crosshair';\n",
       "        break;\n",
       "    case 3:\n",
       "        cursor = 'move';\n",
       "        break;\n",
       "    }\n",
       "    fig.rubberband_canvas.style.cursor = cursor;\n",
       "}\n",
       "\n",
       "mpl.figure.prototype.handle_message = function(fig, msg) {\n",
       "    fig.message.textContent = msg['message'];\n",
       "}\n",
       "\n",
       "mpl.figure.prototype.handle_draw = function(fig, msg) {\n",
       "    // Request the server to send over a new figure.\n",
       "    fig.send_draw_message();\n",
       "}\n",
       "\n",
       "mpl.figure.prototype.handle_image_mode = function(fig, msg) {\n",
       "    fig.image_mode = msg['mode'];\n",
       "}\n",
       "\n",
       "mpl.figure.prototype.updated_canvas_event = function() {\n",
       "    // Called whenever the canvas gets updated.\n",
       "    this.send_message(\"ack\", {});\n",
       "}\n",
       "\n",
       "// A function to construct a web socket function for onmessage handling.\n",
       "// Called in the figure constructor.\n",
       "mpl.figure.prototype._make_on_message_function = function(fig) {\n",
       "    return function socket_on_message(evt) {\n",
       "        if (evt.data instanceof Blob) {\n",
       "            /* FIXME: We get \"Resource interpreted as Image but\n",
       "             * transferred with MIME type text/plain:\" errors on\n",
       "             * Chrome.  But how to set the MIME type?  It doesn't seem\n",
       "             * to be part of the websocket stream */\n",
       "            evt.data.type = \"image/png\";\n",
       "\n",
       "            /* Free the memory for the previous frames */\n",
       "            if (fig.imageObj.src) {\n",
       "                (window.URL || window.webkitURL).revokeObjectURL(\n",
       "                    fig.imageObj.src);\n",
       "            }\n",
       "\n",
       "            fig.imageObj.src = (window.URL || window.webkitURL).createObjectURL(\n",
       "                evt.data);\n",
       "            fig.updated_canvas_event();\n",
       "            fig.waiting = false;\n",
       "            return;\n",
       "        }\n",
       "        else if (typeof evt.data === 'string' && evt.data.slice(0, 21) == \"data:image/png;base64\") {\n",
       "            fig.imageObj.src = evt.data;\n",
       "            fig.updated_canvas_event();\n",
       "            fig.waiting = false;\n",
       "            return;\n",
       "        }\n",
       "\n",
       "        var msg = JSON.parse(evt.data);\n",
       "        var msg_type = msg['type'];\n",
       "\n",
       "        // Call the  \"handle_{type}\" callback, which takes\n",
       "        // the figure and JSON message as its only arguments.\n",
       "        try {\n",
       "            var callback = fig[\"handle_\" + msg_type];\n",
       "        } catch (e) {\n",
       "            console.log(\"No handler for the '\" + msg_type + \"' message type: \", msg);\n",
       "            return;\n",
       "        }\n",
       "\n",
       "        if (callback) {\n",
       "            try {\n",
       "                // console.log(\"Handling '\" + msg_type + \"' message: \", msg);\n",
       "                callback(fig, msg);\n",
       "            } catch (e) {\n",
       "                console.log(\"Exception inside the 'handler_\" + msg_type + \"' callback:\", e, e.stack, msg);\n",
       "            }\n",
       "        }\n",
       "    };\n",
       "}\n",
       "\n",
       "// from http://stackoverflow.com/questions/1114465/getting-mouse-location-in-canvas\n",
       "mpl.findpos = function(e) {\n",
       "    //this section is from http://www.quirksmode.org/js/events_properties.html\n",
       "    var targ;\n",
       "    if (!e)\n",
       "        e = window.event;\n",
       "    if (e.target)\n",
       "        targ = e.target;\n",
       "    else if (e.srcElement)\n",
       "        targ = e.srcElement;\n",
       "    if (targ.nodeType == 3) // defeat Safari bug\n",
       "        targ = targ.parentNode;\n",
       "\n",
       "    // jQuery normalizes the pageX and pageY\n",
       "    // pageX,Y are the mouse positions relative to the document\n",
       "    // offset() returns the position of the element relative to the document\n",
       "    var x = e.pageX - $(targ).offset().left;\n",
       "    var y = e.pageY - $(targ).offset().top;\n",
       "\n",
       "    return {\"x\": x, \"y\": y};\n",
       "};\n",
       "\n",
       "/*\n",
       " * return a copy of an object with only non-object keys\n",
       " * we need this to avoid circular references\n",
       " * http://stackoverflow.com/a/24161582/3208463\n",
       " */\n",
       "function simpleKeys (original) {\n",
       "  return Object.keys(original).reduce(function (obj, key) {\n",
       "    if (typeof original[key] !== 'object')\n",
       "        obj[key] = original[key]\n",
       "    return obj;\n",
       "  }, {});\n",
       "}\n",
       "\n",
       "mpl.figure.prototype.mouse_event = function(event, name) {\n",
       "    var canvas_pos = mpl.findpos(event)\n",
       "\n",
       "    if (name === 'button_press')\n",
       "    {\n",
       "        this.canvas.focus();\n",
       "        this.canvas_div.focus();\n",
       "    }\n",
       "\n",
       "    var x = canvas_pos.x * mpl.ratio;\n",
       "    var y = canvas_pos.y * mpl.ratio;\n",
       "\n",
       "    this.send_message(name, {x: x, y: y, button: event.button,\n",
       "                             step: event.step,\n",
       "                             guiEvent: simpleKeys(event)});\n",
       "\n",
       "    /* This prevents the web browser from automatically changing to\n",
       "     * the text insertion cursor when the button is pressed.  We want\n",
       "     * to control all of the cursor setting manually through the\n",
       "     * 'cursor' event from matplotlib */\n",
       "    event.preventDefault();\n",
       "    return false;\n",
       "}\n",
       "\n",
       "mpl.figure.prototype._key_event_extra = function(event, name) {\n",
       "    // Handle any extra behaviour associated with a key event\n",
       "}\n",
       "\n",
       "mpl.figure.prototype.key_event = function(event, name) {\n",
       "\n",
       "    // Prevent repeat events\n",
       "    if (name == 'key_press')\n",
       "    {\n",
       "        if (event.which === this._key)\n",
       "            return;\n",
       "        else\n",
       "            this._key = event.which;\n",
       "    }\n",
       "    if (name == 'key_release')\n",
       "        this._key = null;\n",
       "\n",
       "    var value = '';\n",
       "    if (event.ctrlKey && event.which != 17)\n",
       "        value += \"ctrl+\";\n",
       "    if (event.altKey && event.which != 18)\n",
       "        value += \"alt+\";\n",
       "    if (event.shiftKey && event.which != 16)\n",
       "        value += \"shift+\";\n",
       "\n",
       "    value += 'k';\n",
       "    value += event.which.toString();\n",
       "\n",
       "    this._key_event_extra(event, name);\n",
       "\n",
       "    this.send_message(name, {key: value,\n",
       "                             guiEvent: simpleKeys(event)});\n",
       "    return false;\n",
       "}\n",
       "\n",
       "mpl.figure.prototype.toolbar_button_onclick = function(name) {\n",
       "    if (name == 'download') {\n",
       "        this.handle_save(this, null);\n",
       "    } else {\n",
       "        this.send_message(\"toolbar_button\", {name: name});\n",
       "    }\n",
       "};\n",
       "\n",
       "mpl.figure.prototype.toolbar_button_onmouseover = function(tooltip) {\n",
       "    this.message.textContent = tooltip;\n",
       "};\n",
       "mpl.toolbar_items = [[\"Home\", \"Reset original view\", \"fa fa-home icon-home\", \"home\"], [\"Back\", \"Back to  previous view\", \"fa fa-arrow-left icon-arrow-left\", \"back\"], [\"Forward\", \"Forward to next view\", \"fa fa-arrow-right icon-arrow-right\", \"forward\"], [\"\", \"\", \"\", \"\"], [\"Pan\", \"Pan axes with left mouse, zoom with right\", \"fa fa-arrows icon-move\", \"pan\"], [\"Zoom\", \"Zoom to rectangle\", \"fa fa-square-o icon-check-empty\", \"zoom\"], [\"\", \"\", \"\", \"\"], [\"Download\", \"Download plot\", \"fa fa-floppy-o icon-save\", \"download\"]];\n",
       "\n",
       "mpl.extensions = [\"eps\", \"pdf\", \"png\", \"ps\", \"raw\", \"svg\"];\n",
       "\n",
       "mpl.default_extension = \"png\";var comm_websocket_adapter = function(comm) {\n",
       "    // Create a \"websocket\"-like object which calls the given IPython comm\n",
       "    // object with the appropriate methods. Currently this is a non binary\n",
       "    // socket, so there is still some room for performance tuning.\n",
       "    var ws = {};\n",
       "\n",
       "    ws.close = function() {\n",
       "        comm.close()\n",
       "    };\n",
       "    ws.send = function(m) {\n",
       "        //console.log('sending', m);\n",
       "        comm.send(m);\n",
       "    };\n",
       "    // Register the callback with on_msg.\n",
       "    comm.on_msg(function(msg) {\n",
       "        //console.log('receiving', msg['content']['data'], msg);\n",
       "        // Pass the mpl event to the overriden (by mpl) onmessage function.\n",
       "        ws.onmessage(msg['content']['data'])\n",
       "    });\n",
       "    return ws;\n",
       "}\n",
       "\n",
       "mpl.mpl_figure_comm = function(comm, msg) {\n",
       "    // This is the function which gets called when the mpl process\n",
       "    // starts-up an IPython Comm through the \"matplotlib\" channel.\n",
       "\n",
       "    var id = msg.content.data.id;\n",
       "    // Get hold of the div created by the display call when the Comm\n",
       "    // socket was opened in Python.\n",
       "    var element = $(\"#\" + id);\n",
       "    var ws_proxy = comm_websocket_adapter(comm)\n",
       "\n",
       "    function ondownload(figure, format) {\n",
       "        window.open(figure.imageObj.src);\n",
       "    }\n",
       "\n",
       "    var fig = new mpl.figure(id, ws_proxy,\n",
       "                           ondownload,\n",
       "                           element.get(0));\n",
       "\n",
       "    // Call onopen now - mpl needs it, as it is assuming we've passed it a real\n",
       "    // web socket which is closed, not our websocket->open comm proxy.\n",
       "    ws_proxy.onopen();\n",
       "\n",
       "    fig.parent_element = element.get(0);\n",
       "    fig.cell_info = mpl.find_output_cell(\"<div id='\" + id + \"'></div>\");\n",
       "    if (!fig.cell_info) {\n",
       "        console.error(\"Failed to find cell for figure\", id, fig);\n",
       "        return;\n",
       "    }\n",
       "\n",
       "    var output_index = fig.cell_info[2]\n",
       "    var cell = fig.cell_info[0];\n",
       "\n",
       "};\n",
       "\n",
       "mpl.figure.prototype.handle_close = function(fig, msg) {\n",
       "    var width = fig.canvas.width/mpl.ratio\n",
       "    fig.root.unbind('remove')\n",
       "\n",
       "    // Update the output cell to use the data from the current canvas.\n",
       "    fig.push_to_output();\n",
       "    var dataURL = fig.canvas.toDataURL();\n",
       "    // Re-enable the keyboard manager in IPython - without this line, in FF,\n",
       "    // the notebook keyboard shortcuts fail.\n",
       "    IPython.keyboard_manager.enable()\n",
       "    $(fig.parent_element).html('<img src=\"' + dataURL + '\" width=\"' + width + '\">');\n",
       "    fig.close_ws(fig, msg);\n",
       "}\n",
       "\n",
       "mpl.figure.prototype.close_ws = function(fig, msg){\n",
       "    fig.send_message('closing', msg);\n",
       "    // fig.ws.close()\n",
       "}\n",
       "\n",
       "mpl.figure.prototype.push_to_output = function(remove_interactive) {\n",
       "    // Turn the data on the canvas into data in the output cell.\n",
       "    var width = this.canvas.width/mpl.ratio\n",
       "    var dataURL = this.canvas.toDataURL();\n",
       "    this.cell_info[1]['text/html'] = '<img src=\"' + dataURL + '\" width=\"' + width + '\">';\n",
       "}\n",
       "\n",
       "mpl.figure.prototype.updated_canvas_event = function() {\n",
       "    // Tell IPython that the notebook contents must change.\n",
       "    IPython.notebook.set_dirty(true);\n",
       "    this.send_message(\"ack\", {});\n",
       "    var fig = this;\n",
       "    // Wait a second, then push the new image to the DOM so\n",
       "    // that it is saved nicely (might be nice to debounce this).\n",
       "    setTimeout(function () { fig.push_to_output() }, 1000);\n",
       "}\n",
       "\n",
       "mpl.figure.prototype._init_toolbar = function() {\n",
       "    var fig = this;\n",
       "\n",
       "    var nav_element = $('<div/>')\n",
       "    nav_element.attr('style', 'width: 100%');\n",
       "    this.root.append(nav_element);\n",
       "\n",
       "    // Define a callback function for later on.\n",
       "    function toolbar_event(event) {\n",
       "        return fig.toolbar_button_onclick(event['data']);\n",
       "    }\n",
       "    function toolbar_mouse_event(event) {\n",
       "        return fig.toolbar_button_onmouseover(event['data']);\n",
       "    }\n",
       "\n",
       "    for(var toolbar_ind in mpl.toolbar_items){\n",
       "        var name = mpl.toolbar_items[toolbar_ind][0];\n",
       "        var tooltip = mpl.toolbar_items[toolbar_ind][1];\n",
       "        var image = mpl.toolbar_items[toolbar_ind][2];\n",
       "        var method_name = mpl.toolbar_items[toolbar_ind][3];\n",
       "\n",
       "        if (!name) { continue; };\n",
       "\n",
       "        var button = $('<button class=\"btn btn-default\" href=\"#\" title=\"' + name + '\"><i class=\"fa ' + image + ' fa-lg\"></i></button>');\n",
       "        button.click(method_name, toolbar_event);\n",
       "        button.mouseover(tooltip, toolbar_mouse_event);\n",
       "        nav_element.append(button);\n",
       "    }\n",
       "\n",
       "    // Add the status bar.\n",
       "    var status_bar = $('<span class=\"mpl-message\" style=\"text-align:right; float: right;\"/>');\n",
       "    nav_element.append(status_bar);\n",
       "    this.message = status_bar[0];\n",
       "\n",
       "    // Add the close button to the window.\n",
       "    var buttongrp = $('<div class=\"btn-group inline pull-right\"></div>');\n",
       "    var button = $('<button class=\"btn btn-mini btn-primary\" href=\"#\" title=\"Stop Interaction\"><i class=\"fa fa-power-off icon-remove icon-large\"></i></button>');\n",
       "    button.click(function (evt) { fig.handle_close(fig, {}); } );\n",
       "    button.mouseover('Stop Interaction', toolbar_mouse_event);\n",
       "    buttongrp.append(button);\n",
       "    var titlebar = this.root.find($('.ui-dialog-titlebar'));\n",
       "    titlebar.prepend(buttongrp);\n",
       "}\n",
       "\n",
       "mpl.figure.prototype._root_extra_style = function(el){\n",
       "    var fig = this\n",
       "    el.on(\"remove\", function(){\n",
       "\tfig.close_ws(fig, {});\n",
       "    });\n",
       "}\n",
       "\n",
       "mpl.figure.prototype._canvas_extra_style = function(el){\n",
       "    // this is important to make the div 'focusable\n",
       "    el.attr('tabindex', 0)\n",
       "    // reach out to IPython and tell the keyboard manager to turn it's self\n",
       "    // off when our div gets focus\n",
       "\n",
       "    // location in version 3\n",
       "    if (IPython.notebook.keyboard_manager) {\n",
       "        IPython.notebook.keyboard_manager.register_events(el);\n",
       "    }\n",
       "    else {\n",
       "        // location in version 2\n",
       "        IPython.keyboard_manager.register_events(el);\n",
       "    }\n",
       "\n",
       "}\n",
       "\n",
       "mpl.figure.prototype._key_event_extra = function(event, name) {\n",
       "    var manager = IPython.notebook.keyboard_manager;\n",
       "    if (!manager)\n",
       "        manager = IPython.keyboard_manager;\n",
       "\n",
       "    // Check for shift+enter\n",
       "    if (event.shiftKey && event.which == 13) {\n",
       "        this.canvas_div.blur();\n",
       "        // select the cell after this one\n",
       "        var index = IPython.notebook.find_cell_index(this.cell_info[0]);\n",
       "        IPython.notebook.select(index + 1);\n",
       "    }\n",
       "}\n",
       "\n",
       "mpl.figure.prototype.handle_save = function(fig, msg) {\n",
       "    fig.ondownload(fig, null);\n",
       "}\n",
       "\n",
       "\n",
       "mpl.find_output_cell = function(html_output) {\n",
       "    // Return the cell and output element which can be found *uniquely* in the notebook.\n",
       "    // Note - this is a bit hacky, but it is done because the \"notebook_saving.Notebook\"\n",
       "    // IPython event is triggered only after the cells have been serialised, which for\n",
       "    // our purposes (turning an active figure into a static one), is too late.\n",
       "    var cells = IPython.notebook.get_cells();\n",
       "    var ncells = cells.length;\n",
       "    for (var i=0; i<ncells; i++) {\n",
       "        var cell = cells[i];\n",
       "        if (cell.cell_type === 'code'){\n",
       "            for (var j=0; j<cell.output_area.outputs.length; j++) {\n",
       "                var data = cell.output_area.outputs[j];\n",
       "                if (data.data) {\n",
       "                    // IPython >= 3 moved mimebundle to data attribute of output\n",
       "                    data = data.data;\n",
       "                }\n",
       "                if (data['text/html'] == html_output) {\n",
       "                    return [cell, data, j];\n",
       "                }\n",
       "            }\n",
       "        }\n",
       "    }\n",
       "}\n",
       "\n",
       "// Register the function which deals with the matplotlib target/channel.\n",
       "// The kernel may be null if the page has been refreshed.\n",
       "if (IPython.notebook.kernel != null) {\n",
       "    IPython.notebook.kernel.comm_manager.register_target('matplotlib', mpl.mpl_figure_comm);\n",
       "}\n"
      ],
      "text/plain": [
       "<IPython.core.display.Javascript object>"
      ]
     },
     "metadata": {},
     "output_type": "display_data"
    },
    {
     "data": {
      "text/html": [
       "<img src=\"data:image/png;base64,iVBORw0KGgoAAAANSUhEUgAAAoAAAAHgCAYAAAA10dzkAAAgAElEQVR4XuydB3hU1daG30mhJCGBQAolECCUEAyEroAgiqhgQRRU8FpQL4pY8F7LtWH57Q0VFDtWEFTELghIB+k1CYSEFhIIkIQMJW3+Z09mYNJn5kxmJjnrPE8omV2/vc5Z76xdjgG5RAFRQBQQBUQBUUAUEAV0pYBBV72VzooCooAoIAqIAqKAKCAKIAAoRiAKiAKigCggCogCooDOFBAA1NmAS3dFAVFAFBAFRAFRQBQQABQbEAVEAVFAFBAFRAFRQGcKCADqbMClu6KAKCAKiAKigCggCggAig2IAqKAKCAKiAKigCigMwUEAHU24NJdUUAUEAVEAVFAFBAFBADFBkQBUUAUEAVEAVFAFNCZAgKAOhtw6a4oIAqIAqKAKCAKiAICgGIDooAoIAqIAqKAKCAK6EwBAUCdDbh0VxQQBUQBUUAUEAVEAQFAsQFRQBQQBUQBUUAUEAV0poAAoM4GXLorCogCooAoIAqIAqKAAKDYgCggCogCooAoIAqIAjpTQABQZwMu3RUFRAFRQBQQBUQBUUAAUGxAFBAFRAFRQBQQBUQBnSkgAKizAZfuigKigCggCogCooAoIAAoNiAKiAKigCggCogCooDOFBAA1NmAS3dFAVFAFBAFRAFRQBQQABQbEAVEAVFAFBAFRAFRQGcKCADqbMClu6KAKCAKiAKigCggCggAig2IAqKAKCAKiAKigCigMwUEAHU24NJdUUAUEAVEAVFAFBAFBADFBkQBUUAUEAVEAVFAFNCZAgKAOhtw6a4oIAqIAqKAKCAKiAICgGIDooAoIAqIAqKAKCAK6EwBAUCdDbh0VxQQBUQBUUAUEAVEAQFAsQFRQBQQBUQBUUAUEAV0poAAoM4GXLorCogCooAoIAqIAqKAAKDYgCggCogCooAoIAqIAjpTQABQZwMu3RUFRAFRQBQQBUQBUUAAUGxAFBAFRAFRQBQQBUQBnSkgAKizAZfuigKigCggCogCooAoIAAoNiAKiAKigCggCogCooDOFBAAdH7AJwL/BSKBzcAkYK3zxUlO4EKLpj2B5sBIYJ6NMspenwHuBBoDK4C7gV02aUKBd4ArgWLgO+B+IM8mTTwwDegNHLGkf0VGoJQCjwHXAp2BU8BK4BEgySZVA+B14AagPvAHcA+QaZOmNfAecJFlDGYCquxCmzSDgTeAOGA/8DzwmYzHWQWUjaufaMtvtgPPAr9Z/i/j4DljeRR4EZgKPCDj4faBmAI8XaZW9YxSzy11yb1RxZAIADpnr2OAz4EJwBrLjX890Ak47FyRkgu4HOgPrAe+rwAAFYAoeLgFSAWeA84DugCnLQoqp6jg8d+AP/Ap8A9wk+XzYCAZWGh5cKv8n1jG8AMZhbMK/A7MsmjnB7wAdLVobbSkUmA3HLgVyAHetUC3GkN1+QKbgAwL2KtxUffNh8D/LGnaAtuA94GPgIuBtyzlKqCUq+TLTJHli456Ziv7V18+EwAFgzIOnrES9QXyWyAXWGwDgDIe7hsPBYDXAZfYVKm+XGbJM6r6QRAArF6jilIo6FNQca/lQx9L5EJFnl5yrkjJVUYBUxkAVLaabok4vWZJG2KJNikAUbASC+ywRPbWWdJcBvwKtLLkV5GU/7NEbvMtadSYXWPzrVEGo7wCYZYvN4OApYDSXkVPFVjPtSRX37p3AucDqy1A/zPQwiYqqL40vQyo8pT+6t8KIhVcWi81lirCq8ZOrooVOGaBQKW9jIP7rSQI2GCJeD9h+aKjIoByX7h3LBQAqmd39wqqlbGoZiwEAB031nrAScu3DtvpSTW1pZzW1Y4XKTkqUKAsALYDUixRDxVVsl5/Wx6+apr3dgsgNrH5XEWvVHRQRWh/sESgVBRQPTSsl5qeXASo6ePjMhoVKhBjiUCpiKmK2A0B/gKU1tk2OfZaInhvWqYpryrzcFYRvz1AD2CjBSaVI7VOn6mibrOUoR7gcpVWQEVVlS2r542KAKolKDIO7rcSpb+C8AeBJTYAKPeFe8dCAaCKhqsZCPWcX2WZJdonz6jqB0IAsHqNyqZQ0YyDwAUWY7N+rtaQqehIX8eLlBx2AKDSW635U/ofskmvpmAULKppeTWtqKbH1FS87aWm5dU6ETU186dl+lhNEVsvNYWsptLU3yqCJVdpBVSEe77lC84Ay0cq8qem19XaP9tLrYNV02Fqul5NqbcBhtkkCADUFPIVljVsajpelaPWUVkv9dkvgEqr1h/KVbLUQTk3taZJrWdV+qvItoyD+61DrXl93DLToKDDFgBlPNw7HmrZkIrGqnV/aomJes63tMwoqKUT8oyqYjwEAB03VgFAxzVzJkfZCKAAoDMquiaPAmf1oFXwd0AA0DWiOliKmnlQG2pUVFStebrD8oVTTX2Jk3NQTA3JowC1vGQosMVSjgCgBkFdnFXNwqlZiMmWL49ybwgAutTEZArYpXJWWphMAbtH5+pqURs71LIGtUNbbbyxXjLVVZ1yNfu52sSklkTMlingmhW6TOlq6YhaSqI25VgvNS2vnlfq1AEV7VZjI0sj3DospSpT6/PVGCyQe6PqQZAIoHNGqjaBqKkudfSLutQUmVpzoJylbAJxTtOyuSrbBKI2gKijR9Sl1vKp6d2ym0B6WXYSqzSXAmpHa9lNIBFAgaUctcPVeuSJa1pf+0tRzwa1qUkdxaOOabE9akf1zrrA+kbLUTvqd2rqPbGCTSBqasa6O/4u4FUgHDhj2QSipnzVFKf1+tqyHlM2gVRuR2rNqnrmqLWvahOIjIN77rlGlmUNtrWpKJOye7WhSR1jJOPhnrGoqBY1HazuC7U2UK3TlLGoYiwEAJ0zVLXeTBmXWkemQFAtYB9t2UVqewaac6XrN5e6edVmA3WpDQIqjK/Wk6nF1uqmVuvK1LlbtsfAqDP9yh4Do+BO7Ta1HgOjpmysx8AocFHrRdRaQPXAVrtP1TEwajG3HANzzvamWzRT0T/bs//UYmvrujw1NazgTQG4OgpDAaO61HS9uqzHwKjd2w9bNix8YTnupewxMOpcRjUOKrL4thwDU+ohoNZHquON1D2gAETZsroXVLRJRTlkHDz7zLSdAlYtkfFw33iogMBPlmlftTxLnROrlkUon6DgT8ZCALBGrFEdAWM9CFrtSr3PciZgjVSmk0JVpEkBX9lLwbaCDOtB0CqKpNZ6LLccw6A2ElgvtZNXRWJtD4JWY1PZQdDqvCgFLgoG5TqngIrAVnSpHbrWQ5qth6yq6JPtQdDq3D/rpTaBqIewGlu1+UONpYL4sgdBq13D6qGt1hiq8x3lIOhzGn5sOR9RRVIVgKu1Z8peFfypS8bBs3duWQCU8XDfeKgjo9TylKYW4FM+QW3QUcsj5N6oZhwkAug+Q5WaRAFRQBQQBUQBUUAU8AoFBAC9YhikEaKAKCAKiAKigCggCrhPAQFA92ktNYkCooAoIAqIAqKAKOAVCggAesUwSCNEAVFAFBAFRAFRQBRwnwICgO7TWmoSBUQBUUAUEAVEAVHAKxQQAPSKYZBGiAKigCggCogCooAo4D4FBADdp7XUJAqIAqKAKCAKiAKigFcoIADoFcMgjRAFRAFRQBQQBUQBUcB9CggAatNaHX77GKBO6levtZLLcwrIWHhO+7I1y1h4z1iolsh4eM94yFjIWHiNAgKA2oZCvYtWncyvXi+mXoUll+cUkLHwnPZla5ax8J6xUC2R8fCe8ZCxkLHwGgUEALUNhdzM2vRzZW4ZC1eqqa0sGQtt+rk6t4yHqxV1vjwZC+e1c3VO3Y+FAKA2k9K9AWmTz6W5ZSxcKqemwmQsNMnn8swyHi6X1OkCZSycls7lGXU/FgKA2mzKakCtgBPaipLcGhVoBBwAZCw0CumC7DIWLhDRhUXIeLhQTI1FyVhoFNCF2a1jodslXAKAzlnTRED9+AMxzhUhuUQBUUAUEAVEAVHAwwrsBgqAaZYfDzfHfdULAGrT2hwB3L9/P8HB6p9yiQKiQG1SwGiEFi1Kt3j3bogp87WuLv/O2vu63MeK+ib91rudq32bUcoMJAJYmx7aXtRWMwDm5OQIAHrRoEhTRIHqFFDgFxRUcarMTIiIKP1ZXf6dtad1uY8V9U36rXc7VwCo2E8AsLrnpXxesQICgGIZokAtVEAAsPygCQCe06QuayHgawVfAUCZAtbmvAQAteknuUUBtylgC30SERIAFBCSCKBEAN32+K2TFQkA1slhlU7VRQUEAEHAV8BXwFcigFYbkAigc57OugvYB+gkawCdE1FyiQLuUKCi6V4BIQEhASGJAFoigElAsewCdsfTuG7VIRHAujWe0ps6qIAAYNVr2wSE9A5Cel37KGsAJQKozeEJAGrTT3KLAjWiQHXTvRIBlAiggK/ewVcAUABQm/sRANSmn+QWBWpEAQHAitf7CfgK+Ar4yhpAWQPoGrcjAOgaHaUUUcAlCtg73SsgJCAkICQRQNkF7JLHrm4LEQDU7dBLx71RAQFAx9dzCQjpHYQct5naeE5ieTuXKWCZAtbmxQQAteknuUUBzQo4M90rEUCJAAr46h18BQAFALW5HwFAbfpJblFAswICgPav9xPwFfAV8JU1gLIGUJvbkXMAteknuUUBzQpome4VEBIQEhCSCKCcA6j5MazrAiQCqOvhl857UgEBQNes3RIQ0jsIucaOvH1doKwBLP+0lilgbR5MAFCbfjWS2xYM8vIgMLBGqpFCPayAAKBrHLcAoACgHmxAAFAA0NUuSwDQ1YpqKK8iIBAA1CCoF2Z11Xo/mQKWKWA9QI/YeVV2LptAJAKozckJAGrTz6W5FRx06rSP/v1XkJPTh1272rFli0EigC5V2bOFCQBq2/AhQCDgK+Arm0CsNiAAqM2fCQBq08+lubMzE9mxazD5hZnmcuvXa0Xb2UG0f3sdJwlEooEulduthbl6uldASEBIQEjvU98SARQA1ObGBAC16ac5txUM2rQ5wuzZAzh1Khk/v6YUFeViMhVgMPgz5bGVLFnVSwBQs9qeK0AA8Jz2rl5sLyCkdxCqOdtyta1qKa+8nQsACgBq82kCgNr005xbgUF4kJGMuFA2v+VHcb1mjB27khMnmvDTT2MoKvoZk+lJhgx5VgBQs9ruLaAmp3slAigRQAFfvYOvAKAAoDafJgBYgX5Wxx0Rkcbu3W0ICqo5M7MCoJEgjFFwfoP1bN3Vw9yqbt3289tv/zB48LUkJyMAqM3W3Z5bAND16/0EfAV8BXxlDaDVBmrOM7vdXbi1QjkIugq5rVC24vUgAk6HkfD4Hg7nBdXIZgxbAFRNCiSv1Ho/42EjgRFB5tYaM/MIDJczYdx6pzhRmTumewWEBIQEhCQCKAdBO/GAlixnFZAIoEUK5bRjWhg5dPMjMG0aLeunsvi1S0jvmsLRI89z2RWP1wgAHjuWxMqVScyYcQWzZvmVq8MKgAWBkL1jDWGt+4j5eqEC7o72CQAKAAoACgBaADAEUPPBurskAqhtyAUAbQBwwR+v0qXrXtq8n0Pom+/z6rSP6dLlfnOK2I1XEHHXty4/lTkx8W4yMt4nO/vfDB36fnkANMINN/zO5MlXYzLFcfHFG2QqWJvNuzS3p6J9AoACgAKAAoACgC59nOuuMAFAy5Dn5uayZUtbCguP0b79F0RFjUM592++fICYTlPxMTTg/O7J+IdEucxICgvzWLWqBUVFJ/jss0VMm3ZRhQCYkHCUDz+MxGQqZMqUnfzyS+caiUbKQdTlh9YbInv27hwUINA7EJyzX3ttpjamEzuXNYBWG5AIoDYcEQC06Ldnz/+xb98TGAyd6NlzO0FBvmYAbN3sBL8v6ovxzE46RL9Fy+iSiKDWS03t5kwdQPLQTTRs2IE+fZIwGCo3582bR3D8+C+kpz/F1Vc/IwCodQCqye9NkT17nbQ4RgFAPdiAHvpoX4RfdgELAGpzhAKAQGFOOqs3d6GwOIfYmM+IaHVLKVX373+LlJQHadSoNz17rtWmuHXK+bCR5E29yam3kzZRL9K2/aNVlnvgwNfs3j2WevViiI9PdtnOZEciXHX9IGpHtPBGJ+SNbbIXXrWkk34L+OrBBsr3UQBQAFAbjggAAvtTXyZl76ME1O9I7/P+wRCkZDl35ecfMU/VqinY11/fwaxZsZojcLmZh9mY2Mp82HO3Ttto0jyuypHMzc1j48ZwTKZTxMWtJSyst7aRt4KoEYJKNhlTnRMWAPRuR6sHJ2hfZOTcrVGdTddmzWpz27WMi/RbpoCtNiAAqA0DdA+AKuqzds0QDD6LiUkdQavRsyrc6LFv33sYjQlMntyXuXO1v583I+NPEhOH4ePTmh490qqN6Kl2Ll1yAw0DZ9My/QI6XP2nSzakOBL1cicA2rarpuutjdO9AkLlH3xaoKI25hUQ8u4vZK62KYkAlr/nBQAFADUpkJtrZOPGUEymfM47L4mmTTtWWJ6ChOBgKC52zYHMu3c/w4EDUzh8+DaGD/+k2oiiqv+1F+cw6JLRNDRE0bfXzjoHgJXBqACgfY5OgMA+nVztmD1Vnoy33sdbpoAFADXhD7qPAObkHOXhh18hNnYbd9zxc6WROFcfyJyXZ6JLl2RMJgOJiR3tAsD4+FxmzpxLfPxggoPbaRv5SqaAn39qNRN73kboel96fbeGf7YHEhFRuqqaArLqopHuqLc2O9Xa3HYtECX91jsI6XXKXwBQAFAbBugeAO2dalQAWDwgiPSrffC57TE6dHlek/L21mutxNXRsfLTniZSUmawf//95mhokybDKCr4hVatfWscAO2dgnUlAFYHm1qAxFN5BYQEhPRgA3roo31LPAQABQA1YYhEAO2Wz2gk66EL2HbDFho27Ejfvkl2Z60ooaMAaFuGlrwVAWUAeaz/tC8Z0TssH4dSVDCLi6+91jzfbX09nTWvK0FMlWkvANo+FLW2QQCw+k0/tcXR1pZ2uvqLgfRb78AvACgA6ByGyLuAAbW798SJ9TRufCG+vgHVKllQkM2KFaGAifPPT6d+/ebV5qkoQWrq05w8uZOWLSfRuPFAh8ooLMxh376Z/PjjTiZPfs/pt4LYAtDDD/zC5VePAHxJ3f08t9/5CFBya2VkmBg9+jtWrLiaoiJ/8++0wlfZDgsAumYKS4BA70DgGjtyNai6ujyx83K7gFU0ohiYZvlxyKfU5sQCgNpGT9dTwIcOfUJS0nhCQgaQkLDMLiXXretBXt5GYmO/ISLiBrvylE20dm1XTp7cTlzcXMLCRjlUhgLA5csVhBbz0EP7Wbq0VbXrB6uKQPr4mFi27ALy81cTEXEfXbpMLZV8/frR5ObOISPjJW68UYGhawBQawTOWQh1BjZri8OpLe0UIHANqMl46x34JQIoAOgQPpRLrF8ANBrZvnAQR0LW0ybqcdq2t29NX1LSgxw69BbZ2RMYOvQ9h+BLwUf3Tnv48Mv25oHon7DPqVfLrVvXh7y8f1i16gvuu2+cQ22wWoAVhPr1+4sXX7wEaEjHjnto2TKylJHs2jWTAwduxcenIffdt53Nm9u6JAKoFQCtjXQUBAUAXQMfroY4LeUJCOkdhOqeTcsaQPvARgDQPp0qS6VbADTl5bFifRSFpmwS4v4iJGyIXUqmp88jOXkkfn6dSUjY6RB8Kfh44uHZXH39DQT6d6Z393VOHeWSnPww6emvcvLkeAYN+sihNpQFQB+fIgYNmkNoaAbTpz9QbsNHRkoeh/YNJJtNHDp4FzeNm1HqwGhHAaxs/er/Wpy/o/ULANY9ZykAKACoBxso30eJAAoA2oUtlSbSJQAqCBjUZwevTYvDYPBnYI9MfBo1sUvJnJxjbNzYzLwOMCEhg5CQMmekVFGKqnfu3Cdp0+Z5IiJuJzb2Y7vqLJvo0KFfSUoajp9fexISdjsNgOFBRoyUvAZEbfRIzSx/5IuCs1deWcCIEZfi49OEyy5LJy2twVlQdBTAXA2A9mwMcVW0UQuouiOvHpygfZGRuge50u/yj0p33FPeVIcAYHkbEAB0CiHOZtItAE6ZMo/hw0cSGNid3r032q2igol//ulGw4aniIn5mqZNezmY9wrgN9q2nUabNvfYndc2YW7GITYktjKvA+zWMYkmLSo+vLps4WVB6O3X8nl++0j47TcCTScqBcDWrYtYuDCawsID/Pbbtzz00PUCgBZxvdtBCAh50/i4ui0C/HqPfEoEUADQKYQQAJw//xmaN59CePgtdOnymd0qKoi65x4jLVoE8uSTEFD95uGzZavDnzdtiqCw8AhduqwmPLyv3fXaJlRnEu5M6kNe0Q5i2nxOq7Y321WOLQBmZBjZt+9CmjUbzqhRj7NxY/0qp2I///x/REW9SHHxcLp2/dlpAHTHFKw1KumOulzt1LWUJ0CgdyAQ4Ndy/3h7XokASgTQLkfvQCLdRgB//HEkLVrMo02bN2nb9gG7JVNQYTt16siOiNzcXBYuHELjxjvp3TuLRo0a2l1vKQA0woIFE2nS5APS0l7i1lsfsqsZtkCUljaX1NTrMRjaMXjwbvOxL1U9APv0SeLllzsTFNSd6Oi1hIU5dySMO6BMQEhASA82oIc+ytR3VVPfEgGUCKBTCCERwG7dNhMbu4ZPP1VRsM52q2gLgCZlfbk5GIIUR1d/WeHH17eAnBx/p9buqVpUOSNHZtGuXSALFzYkJcW+o1ls4WvLlhs4enQ2e/c+zK23vmxufEWRM9sH8Ndf76S4uDOXXWagmVoG6cSRMAKANRelESAQ8NWDDeihj/aBrwCgAGD13FFVCq+OALrijRfa5Kkkt9HIjrfCOdorn67d5tMk8nK7qnFVfyqCKHs2Y1jzBQef4qefwiguNvLGG2v46ac+lcKcbV0BlN40cpLAs/22p34rvAaV7Ds5e7l66kUchICQHmxAD320D4Rq7lni6meTlvLKj7cAoACgXehRaSLvBECjkdw+IWSODWPEm7+TlNXduXCTNm2qzL1t23VkZX1Hu3av0Lr1f+2q6dSpIvr182XHDsjOduoEmFL1OAqU1vT33z+Pa64Zia9vFBdeuPfsWz8qgriKALDYD5r5Hub4mTABwEzvgS0BAu8ZCy2O3t68Mt56H28BQAFAu9CjdgHgicNZbE2MI7/4MFOf+5kfFqnXlDkx31hJt48fX8ypU7to3HgQAQGdnFJw796XSE19jLCwMcTFzaq2DJPJxKpVUdSrF0Zc3A80bBhdbZ7qEqSmTmfjxk9YufJunnlmfLVTylaY+/HHcQQHf0VW1oNcf/0bVa4fLBttvO22J7n11jeZPftlpk9XbxSsfmjcfQyLOEa9O0a9RoSk3/bCc21MJxHA8h5RALA6Sqj6c6+MAKr30e498KS55Z9PX8Mnc/py5r5xLLi4H1ddM5ETJ7RFzxITbycj41PatHmKtm2fcUrBY8cWsGXLpTRo0J5+/dQmiqqv06f3s3p1a/P7dgcOPIGvr3MbQGxr2b37SQ4ceB6j8VYGD/7ULgBsHpLNLwtaUmQ4yazP/2LGp0McAsDp018iNvYx8vNHMGzYTwKAEgE8awOecqoC/AL8erABAUABwOo4w9HPvQ4A8/OzWLOmPUVFucye/QWvvTaOevWOsXp1O4qKcli2bCmTJw+sFnaqEmLdup7k5W0gLu57wsJGOqqZOX1BwTFWrGhq/vfYscdITm5SaZtUBOzcuYPx9O692ak6y2Y6dOhnkpKuxM8vloSEHVXWb113FxG8j8UT25DXxZ9Lxx8lO7+RQwA4fPgm/vOfBHx8Ahg+/Bh5efXNzapqDaAjEUAfH+jUaReLFrWgefNzawxVHfYChh6cgayNKn8L2WsfdSWd2LnewVemgCUCqA0lvAsAjUZ2f3cxB1qvISiwOz17rcdg8DH3cOe2O8nM+ohAv87EdlhDUIR9O2/LylNcXMCyZUGYTPn07ZtCw4btnFZQQenp06l8+eVCpk69uHIAO2zk8B8j2Bu1hPCwW+kS96nTddpmzM4+bD5XUB3hkpBwnJCQkArLrW7nrT0bOM6VYWL58hYUFGTwzTcL+OAD9R7h0nBWtjz7ANDELbf8xd0TXuDU6cX4G0LZuvVrnnxmGFlZJd2y13GLY9S7Yzx3G9hrM7Uxndi53u1cAFAAUBtKeBUAnj6WxJot52GigPjOPxEaaVn7B2Qf2su23d0pLMqmY5vvaNH2Wqd6npe3lXXr4vH1DWbAgONnAdOZwrZtG01W1hySkl5m3LiHqwTAlK2DOea7jrZRU2nT/j5nqiuXR4HV+vVtKS5OIzZ2IRERF1cLgCrCVlxcNbBVVIgtxG3dehtZWZ9x5MhDjB79WqUAWB14nnVge4wcWzWQjBbn3sji49OAPj120ODO/xE46yPUjmN7nbQ4Rr07RgFAe++V2phO7m/r/S0AKACoDSW8BgAVLEybOpU+FzxAcIOe9Djv79IL/YxGkldcR3q932kROYGOnd9zqucZ+z8lMeV2Qvx6kJCwVNNiwr173ycnZz779t3CRReNqRQA8zLz2JwcTUHRUeJilhDWapBTbS+bSWm2ePENBAXNpmXL/6Njx/+Zk1QWgQsPP8mmTbtZv74rffr4OPQ2D1uY27NHnR94A35+XRg4cLtD0bmKHE7a7q9I3T/OvD7yRO4Enn1uMvPnHqD5v56EpUvN7ykWACw9+jIFXP4Wqo0wo6XNAkJ6/6IjACgA6BxKqO2b6kfNr3bKyckhONi5KVXnqi+fSwHGi88s5V83fULQ8sO0uG1OOTjLyprPtm1X06BBO/r23Y3B4Pjw79n1MPsOvkqLvIvpeNGPmgDw5Em45RZYswZ27qy8qOPH97N5c8kGkJ49Tzj9BpCKAPCjGa/QrccjNDWdT78hC8ygVBkAPvjgT1x11VX4+/eje/dVDq2jtAXA9PRjJCWpI2CKmTx5Lxs3trY7OlfW4YWGZvDjj10pLDxKUohKnG4AACAASURBVNKTTJjwbDmg7N37D/z8Cpg3b8RZaK3K+Ylj1LtjlAigFrD09rxyf5eLACaZH8YwzfLjKrfs9eU4TgBe3yW3NtCrIoBqo0K9enDsWMUwVViYx4oVoZhMBfTpk0xAQAeHxFIQ882XI4npNI/2q3sRNWmJJgC09xy+o0d3M3v2E6gDmEeO/NEh8Kqqg6r+W29cwuTHbqZpo2H0iJ+K0VQ5AM6dez9Nm77N0aMTuOyy9xxqR6l1fHuMZO+/mfptevPmy+OY+l6U0wDYtesKpk8fSVZWK8aMWU1BQb1SADhw4Pc8++woDIZwOnXaQfPmJRtvBADLQ544RgFfPdiAHvpoX4RfIoACgA4hULnEXgeAFU1h2rZ606aLOXFiLbGxX9Os2ZUO9V5BTFRUJq1bJ7JoUVtCQ1VUzvnLeNhIYEQQ+U3g5LY0GrdoU2Fh9oKioy1R5QYHmxg82MCsWRAeXlKCigCqy7rz1/owWbasC4WFO/n557k888woTQAY/u+RYDIRtnIeWSftX59n+2CzvlkkvzF0CdhMSnp8ObDz9z/DH7/3wOCzg+aH+9BjzCJzlFMAUACw7P3i7ZErV7dPQEjvwC8AKADoKDWUTu81AKgOZzYY/AkO7ouPj3+lvTp+/CDh4WEUFtar8uiRigpwNYgpADzwQSsODcgmqvmztO9UcnZh2cvV9VrLr2x3bUUAeMklB3n77VbmHcNjxx6t8tia6vrgKkd2yYBTLFgRaAZJ6zq/ipzavf9eyKgbhmIw1Of2G5PZc+gcuNv3Tflcj1zVdm90vt7YJnfoLf3WOwjp9f4WABQArCMAuGHDBeTmrqJTp49o3nx8pb3SAlMqb8+ekJpa+TSzI3IqADz21VBSElYR2uRK4rvNL5ddvQEkNzeF225rxy+/+FQ6ve1IvRUBYEaGidjYTI4fjyxXlHLCn8z4iH4D76SRIZYLB//D4bxA5yOAlsOPGzc+TELCYrZvP5+tW1vbtT7PCgRDh6bw9dfbOXJkOE2b+laZ12AwsXRpLwoLN7Bly2vcf/9DEgGs4ABqASEBIT3YgB76aN8XWwFAAUBnyOFcHq+IABYUZFsOVS6mX7+9NGhQ+dSsgjh13F1cHKxYkU9QUMmaMXuuY8e2cfz4Fxw92oe4OMemQCsrPydnNRs3no+/fzMuuOBwuY0pp08fYPXqKPz8Qhk6NIOsLH+HwKuqfllhuF+/jbz66lBOnw5m6NA9FQLg+nWjaRgwh9b7BnHeLb+4BABnzLiUjh0XsHTp20yYMMkhAPzhh4k0bjwdo/EueveeUW3el1/+kD597sLPL4bBg5MoKio5H9K+B6VeIwTSb3dEID1Vh4CQ3oFfAFAA0B7yqTyN5wHQaOTIf/qyfcx2GjbsRN++iVX2SEHPT/O+pG3Ms4TuaUaHqxbYvZFj374P2bPnLvLzL6d//19dAmLFxWdYtizYfLB0nz67CAiIKdX+I0fmsX37SAyGeAYP3uzwtLU9ABgVlcvnnzcxbwS7/fYDpKa2LJUtI6OAzZubUa9eLjNmrGbWrL6a2mEFzw8+eJEOHf7HmTPXkJDwQ7UQZwW2bt2ymT27FcXFRj777C9eeWVItXmbNMnjxx9bUFR0gnnzFjB1avkDqMtq5SnH7Kl6BQj0DgQC/J6699xRb/n7WwBQALAOAGDyD4NIb7Wels3voUMntZO96utw+jfsSL6JIFN7evXZbDcApqQ8zP79r9Ky5X106DC1umrs/nzDhv7k5q5k0aKZPPLIv8xgaYWkb755ksjI5zl27DZGjfpEE3hV1aB163qQl7eRH36Yzdtvjy4DgEUMG7aMXr0W8Mknz2Ey+Whqh7Vv1123hokT++Hj05hOnbKIjPQtVW9lD8WvvnqDhISH8PWN48ILt5KZaagWAFXB27ffi9H4N8eOvcpll10mEUD1EpgKLnc4I2+qQ8BXwFcPNiAAWP5hJwBoN6ZUmNArIoDr1nYjz5BCXMdZhLUYU22PTmUnsmZTrHnTyMAeGfg0Cq02j0qwdes1HD36IzEx79Cq1b125bEnUXLyf0hPf50jRyZwxRUlx6tYIWnJkiswmX6jQ4d3adlSHb1YM1dS0n0cOvQOBw9OYty4t6sFMXte/1ZZS6198/cvZOHCUIqLTxATs56oqB7V1puRkkfagfM4VZzGtk3vMOnBe+0+Qubw3qM025+I4ZtvCJz2cqWHQ+vBGcjUd3nr9CYodUdbxM71Dr4SARQA1MYTHgfAvMwc1idGYDKdIb7TNkKbx1XbI7WxYsWKphQWHqdnz/U0alQaPCorYO3aOE6e3EF8/O+Ehg6rth57E6Snf09y8iggnt69N58FwMaNTSxeHElh4WF69Fht3uFcU9fBg9+ya9cY/PwSGDhwQ6lqsrOhXbuSjS/WyxUAqMpasOBK/Px+plWrV+nQ4T/VAuD+/evYvbs3BkMDbropk/T0YLsBMHOPkfB2QeY6qno7iDhGvTvGc2boDhDzVB1i53q3cwFAAUBtROFxADx2LJEtW2Lx8QmkR49cgoJKFvdXd6nzALOzF1W7a9hajslUzNKlAWbQ7Ns3hYYN21VXhd2f5+Rkkpn5LD4+A2je/MazADhqeDKPTulkfgPIwJ4Z+DZqZneZjiY8nr6bzcnqYGwfnnviIItWlOwGHjYshXfemUqDBtfQvv0Qjh+3e8a80ibY7sR+66036dZtMo0bX05Cwq/VAuCOHQ+QmTmVkyfHMHz4LHN6Rx1ow4Yn6NRpHZs2XSSbQCoYJUf1tC2iNuYVENI7COkV+AUABQAdJYXS6T0OgHl5p/nkk41AOuPH278zd/fu/3DgwOu0aDGRjh3frVaF06f3snp1tHna+MILT2EwlF6vVm0BVSRQQDRwIGzbBgcOnHsYv/7K6/To/R+Ci7vQo+9a7eRVVRsOG9m2pQOn/A6RcfB1bhw32Zx65sw3aN36Ic6cGcpll/2pae2ftXpbABw2aDWPTjkfX58gxly9j0PZajNKyVURTKxZczEnTy7ivfd+5ttvhzsMgJ07ZzBrVjR+foX861+H2bAhtNz6QQECAQI92IAe+ihLHco/9M9pIgAoAKiFXMDjAOjsuX6ZmV+zc+dYgoMvoEePFdWqcOzYArZsuZSAgM706bOz2vSOJKjsQOaoqCRuuOEz7r23K61bj3WkSIfTqjY888zn3HzzVubPf4gnnohEvWlj+coh5JxZy8qlr/H40w+5HAADyCNl03SaNL6EwVfHsnpzwyoBUJ1XOGDAJlJTu1JUVHLgt6NRp7//Po/i4m0sXTqTCRP+JQBYxloc1dM2e23MKyAkwK8HGyjfRwFAAUCHUaFUBo8DoLPNP3kyie3bxxASMsCuCKCaAj5z5qB53WBQ0LlXjjlbv20+BV8tmhxjX8emnIn0I2ZJNieKzr2uTMt6O3vbV/JaOPDxgcLCklyTJ73Fldc+aJ4Wvue2LexMi3M5AKp6IiJgy5bqnZBq26FD1aerDgo//fQpoqOfo7BwJPHx3wsACgA69UVCwNfxL1/eoJkeYM++yKcAoACgvYRQcTqPA2Bq6hTq129JePho/PxCHOqNs9FDhyqxI7Fqx/kJK3j7gwHm15XN+nw9c+fHkZVVktldAGh992/jxvD66wtp104dlVJE69Yv0779wy5ri63u9j6MW4UeJW3zcXx/XUSzB8Zy9FTV7/OtKhI1dOhG/ve/Hvj4NLQcPxNQ4SjVxmiWljbbOxZ1LV1d64+9NiD91v5l0huA1vnxFgAUALQDUKpI4lEALCoysmxZI8DEBRdkUq9euEO98SYADA/KY/m8ruSE7MXH0JPQpoPYu/cibrttGKmprnv7R2UC2Wpxfo8/eeH1kl3ODRuOo337zwkLK7lVXAGjFQFgYuJH/PzzLD755FV27EgoF5F55f+m0W/go7RqMI6ufV4zH+HivAMz8fffbSku3kvbtj8QHX2NAKCNAvY6lLqSznk7OidabdRC+i0ACOagifpD0aDuLgFAbUPuUQDMzV3Lhg198fcPp3//TId7okDkllsK8PE5xqefRlT+Zg+jkV3b/o1vWBtaNr2D+iFtHa6rqgxWIDrvvANMn96NwkLreSv1ueqqTA4dCnHJW0fsaYNKc/01b3DP/Q8RfCCEi8enkLS/6dlp0poCwI0bR5Gd/T07dz7NPfdMKQOA6jic7sAWWrV6nQ4dSjaoaHFg3866j7CId4jIu4BeV/5ZCii1lFub89bmtmsBMOm33kFI27OktthP+XZKBFAAUBvKeBQADx36mKSkO2jc+GK6d1/ocE/S039g164bgQH06rWwUsgqzsth2fpmmEyF9OuWRIMmHR2uy174Orj/B5J3X2tOnrr7Km6/80eXRN2qa3DpqJyJbt2WkpjYmzNnAkptsqgpAExNnUla2q2YTAkMGVJyDqHVqV977UomTepvmbI9SGTkuZ3CtukcgcK7bv2dG2+5HH/fplw2OJW8YhVJLn1pgYramLe2ODJXayv9FgDUgw0IAJb3ggKA1ZFB1Z97FAB37XqAgwen0qrVA8TEvOlwT44cWc/27b3w9Q0lISGLoKDy5qDAaNigrTz/Wjw+Pg0Y2OMwhqDysOBw5TYZbOHr6MFTZJ98lv0HXuORB+azZvPlHgDAykGopgDw0KEjJCaqsweLefbZfSxeHHUWAH/7bSwNGnxNXt7t9OnzsV2vfasOEho0yGfr1o9o2fIy+vRpZz6CRwCwRIHqtKtrzrKu9cfe8ZN+6x18JQIoAKiFXDx8DMymTZeQnf0XnTp9TPPmtzvckxMZx9iQpN4iUki3jjtp0qJzuTIUnD344G/cdNMVBAR0pU+frQ7X40gGVV98PBw5UsiJE37mrK6AruraUNG6vIochCvaUuEmkD1GDib3IKd+MmdOP8xll79sBpHLLz/MG2+0wmQq4OWX1zFzZk+XAKDq2+DBMGcOhIVVrI69jrSupBMg0DsQnLsP6opN27cbVq/9FgAUAKyODLw1Amg0smJ9GwqKj9IjbinBYQMd74nRyD8bemAsSqZrp7k0a65ex1b6UrDy/vtv07Pn/TRtOpLzzvve8XocyFERHLkCuqprgjsB0NqWUucf7jFieKwj2yekm4+defPNlXz4VldObBjF/qZ/UFTYh0uGrnFLdEpASEBIDzaghz4KAJZ/8stB0Oc0EQCsjgy8FADzs9NYuUltxjAwsOdh516TZjSyY+llHG64nLatn6VNuycrBMCff55ERMS7tGz5MB06vKxNsWpye2pnsscBMLMEOn79dSwNG35NUVE8cdF/sW9lJCejivjum09594NbXQyAJhITP2TOnF959dWPyc1tWmp06nIURBxjVY5RrxEh6XddvufLA79EAAUAteGM59YAGo3k//cOTsY2ovHtbzr9mrS9e18iNfUxwsNvokuXryoEwFWrLsPP7w/atfuQ1q3v0KaYlwJgRVG5iiIEroxGVvQGlJ49j/Hxx+NovyKOoAffpl3oBnoN/J05c9TOX4OLARBWrYrn9OmtLF36NU8/rTYEaXOCI0bs4ZprvuXyyy+jdevuFBVpK8+dURp31uVNjlb6LRFfPdiAAGB55ysACD+o5VDAX8B1DtKNRwEQ68nFGqgkK+tntm27ksDAeHr33lwhAP7+eyxNmybSufMSIiMHOSiRY8k9FQGsCgA1yFtl5yt7Bd67bxYwMfAzuOsuAsnTeOZf1QC2c+cjZGS8Qn7+zQwb9rnTAHjttVt56qmJ1Ku3DF/fYPp13ECT5pEYTVrOK3QvPOrBCUrkUyKfYudW4PdYBFALczjmUKtJLQBYAn9qW+sttQoAXWQGp08fICXlIYKCEmjT5tEKATA4uIiwsP3s2hVBo0bn3lXroiaUKkYA0L3Qs3fvEvbsuQg/vzCGDs3g9Gmfsw2wN0qVnr6XlJR+FBZmmNcvFuTfzvm93yQotGS3+AU9fmLVhuFkZhpctoFFlWtv++xNJ45RImF6sAE99NG+LzoeA0AtzOFStysAWCKnGpB7awsAKkh65pn3CAnZw513jiE8vJdLjcK2MHcDmbvrKyucOzehVBYBdOcDOiMlm+QDURQV5zFr5t/M+OxChwAwIiKb+fP7c/LkDgyGrjz55G8sW9bqLJw98MA9XH31e+zY8SbXXfeAAKBFXXuh1B3p3Glv7uiPvXVIv/UO/B4DQC3M4VJfX9sBUHmr/wI9gebASGBeGYUmWtKoQ9bUHOckYG2ZNLUOADdsGEJR0WJiYr6kVauxLjUKTxYmAOjeCKBylmvWjKFRo285fPgRxox5yW4ADDScYPlv55Ndfzu+vi24447VJCdHmfNbnfCECe8yZswkDAY/YmKW0qrV+aXMy15n7Y50AgR6BwL333tq45ftJXZec2NQ/v52CgA9zRwudc+1HQAvB/oD6wF1PklZABwDqIVNE4A1wAPqTV9AJ+CwjZK1DgA3b25Hfn4qsbHLiYhQEjh/nTxZzCuv7CU1NZ/p0zuVeiNIZuY3HD06n2bNRhIePtr5SmpJTr1FAJXDeeWV2YwYcQN+fh0ZODDRvNnEFuIqc1CD+s1lyovX42MIYPrUv5j9Q78K4NHEjz+MJrjxXOr7tOCKS7eSfSbUbsh0J5S5sy53OHp765B+C/jqwQZcBICeZg6XetLaDoC2YpgqAEAFff9YpndVWrXAaT/wDnAu1GH/FHB9QP1YL7XI6UBOTg7BwWo/iHuuvLxC1q9vWHKAc7cDNGnSUlPFe/e+Q2rqfZw+PZKBA78vBYDJyXeTnv4+rVs/Trt2z2uqpzZk1iMAdumSy/ffN6dRo96MHz+fjRtLbLl6gDAxaNBcZszIpXPn8aWG1zZvu8gMvpjbg/yCQ6xe/g6PPalWW5Rc1dfhvnTe2CZ36CP9FgDUgw1UAYCtgBM2D7AzgPqp7nIHc1TXBk2f12UArAectKzrs50Wngk0Bq62Uc7eCOAU4OmyirsbAE+f3sfq1W0wGPy58MLTGAznFu47Yw2ZmYvYufNifHxi6NlzVykA3LTpYrKzF9G582dERqp9MnX70iMAqmmo77/Po379IJ54AjZurB66/P2hoKD6dFZrmT79bWJj78fXN5pLL03m9Gl/AUAPTP/Ztzj+3D3uDgD1VB16gB4Z7/L+qoKDoMsmegZQvr66qywA1gRzVNcGTZ/XZQBsARxUmxCBVTYqvQKos0z6Wn63EOgGqPMqjlmmiG3T2wrsFRHA7OylbNo0iAYN2tOv325NBqAy5+QcZuNG5Y0M9OiRR3BwwNkyV61qzZkz+0lIWEFIiJKybl96BcCKRrUyx3zVVQeYMyeQF19swnvv2RfFCwk5xS+/RFNQcJh//vmUhx++VQBQANCjNiAAqPfI59k1gK6KANYEc9SowxUA1CavR84BzMj4nMTEW2jc+GK6d1f8qu1S0LNhQzhFRUfo2nUdzZqpPTVQVHSKZctKYPCCCw5Tr14lL43VVr1X5dY7ADZufJiCgnoYjY0rnZ7duuVKGjRcTWz2RKJG/JfUzEC7dvcmJ7/K8eOfEhLyCnFxI8yHRHsq+iORkfK3nTeNhTvaIgAoAAghygzUH4oGHb3KRgDtBUBH66mx9HUZAB0JxzorsEcAMC3tOdLSniIycjydO3/kbNvP5lPQs2rVEPz8FtO+/WdERd2C+t348duYMOE8fH1DGDDgOAZDXTKXimXTMwDee+/9jBz5Ln/99QYvvHB/hXC2b9/fpKSoFRO+PPnkdpYv72Q3xGWkHCd86xIM384l5NsPyC0MtDuvAME5e3W1FgJCegehmrMtV9uqlvLK27lTu4BtHYeWKWDNftsVBdQlj17Zgkx15Is6+kVdarHcPuDdMptAHNVSHS2jflR5ndy9BtBkKiY/PwP1d4MGKnqt7VLQ8923E2nddjqtTl9FzMCvMRLIu299S9/+Y2hU1IGe/TY6/bo5ba2ru7m94RxA2wfqo/95jWHD/0tAvQ5cfvE6du4NLhXZ8/MrZtWqvuTlrSMr626uv366eXDsfijvMRLeLsicx/qGE7vzWt6VbGsNrs4rICQgpAcb0EMf7YvwnwXAJKAYmGb5sdfpuJM57G2TQ+lqOwAqbxJj6bFauq5emLrYspZPgZ46BkZt+vi35ew/dQyMOsuks/JbDilVcWKPRABd0O5SRSgQefLRaVw16l6C6/eiR/wSMwDee9cH3HbbPYTtjCD29mQBQBcLXxMAaH1tXUWRzOqAKTg4h59+aktx8XGWLPmSe+4ZWwoAn39+Fv3734iPTxC33LKbtLSSRWzVlVvW4QQE5DJ48LesW3cpW7e2tmv62NE6nAFFcYwCgHqwAT300UEAdGQK2NPM4VIvVNsBUM1FKeAreynoK1llXvKGD3VYtDoIehNwn+VMQFcIWWcAML5DIr/deyFh3x2lydJcMwCGBxnJrR9EYRDU35snAOgKi7Epw1UAWNG7ip0BQNW0GTNeoGPHxzEYOtC58w4iI/3MLe7QKo2Z3wzgTOFBErc/xd33qo1yJZejcPb668Pp0eNXtm17mtGjpwgAOqmjM5Brn2M8V7KjY+uqNrmjXmfttzb1Uca7/EO7gl3AjgCgp5nDpV6otgOgS8VwojC3A6DJVMSOHWNp0KA10dFT8PU9t2PXifaXy+LONXCuaG9tLsMbAbBlyzxmzWpLYWEWUVGfEBNzG/7+Z/jg/SFEt1tJA98orrpiHUfywp0GwMcf/5pLLhmLn19rOnRIJTKy9DFG7nD+4hircowCgJ6yQXfUK+BrjXRrXgNYm92Pue0CgNqG0O0AePr0AVavjjK/WqvkDEBfbT0ok9sKJQMG5HLXXcE89BCkpkrwz6UiWwrzRgBUTftuzsuENnvUvNFj6cLDPP9KCLff/igjR35IfPwqWrSILSWHo04rKEgdCdOc4uIc2rdfQOvWl2gqz1URGXGMMgWsBxvQQx/t+4InACgA6Jxn99gmkOzs5WzaNJAGDdrRr1+Kc62vItfRo8vZunUOPj7zadgwiG3bvmT06G6lDod2eaVSoHnXdVDJ/giHI2uunAJWlUeHH+Hrb+KgYQPO65pKUNd2sG8fUU13sX5HjEumbOfMuYdmzd6jadObiI//yql+Owqe1WkrjlEAUA82oIc+OgiAzm4CqfWeSwBQ2xC6PQKYkfEliYk307jxELp3/0tb6yvIvX59H06cUG/PU5cvt912mG3bQgUAXa506QJdDYDW0p2JMqq86jzArVs38vyTg3n/swbm4tTOXXvP/KsOzq6/ajn3PDgQH0MDbh2zh9TM5g6Db3V1OOroHE3v6vo9VZ70W8BXDzZQvo8SARQA1ObY3QuARiNpn11CWtxqIiNupXPsp9paX0HutLRXSEt7xPzJwYOXMG7cAiqKMLm8Yp0X6G0AqIajZoHExNKlsRQVJbF8+UyefPJfAoBuOOrGvsjIuZuxZm2gpB5P1aEH6JHxLu9YNG4CqVOeSgBQ23C6HQATfx1CRthaols/TXQ7e15X6FgHc48msmFryRqv6W+9wZwfHxQAdExCp1LrDwDhww+fJSZmCibTIwwZ8qIAoACgW21AAFDvkU+JAAoAOuWuz2ZyOwBuXn4Bx+tvoVP7D2gedae21leQ23jESOpvceQG7GPUHXvIyIkWAHS5yuULdAYA7YnMOjsF7I7ITFzcEdatK+CHH1owbhwUq6NYJSJUyjjcER0TENI7COk14isAKACozbm7HQD/WZeA0bSL+M4/ERo5QlvrKwLAw0YCI0q/rcEe0HB5Q3RWoB4B0JOwJ1NjVU2N6RUIpN/u+MLhqTrKf9ERABQAdA40PLYLuLi4kIKCLPz8QvD1behc66vIZQsiAn4ul7fSAvUOgMHBR8nNbSoRwJKXq5y93OEsJQIoEUA92EAVACi7gN3n6upUTW6NALoDztxRR52yABd1Rq8AmJFRyMyZI+jZcyH//e8uNm5sK5sCBADdYgN6gB6JdFcV6ZYIoEQAtTlwAUBt+kluiwJ6BcDMPUbSt3QnO2Q3melPc8PYKW5x/uIYZQpYAFDvkU8BQAFAbQjiVgA8dmwX8+Y9xZ49nXjssSk1cjafRAC1GYSzuXULgJnw+utfcPnl/8LfP5rBg1M4eNDHJYdNO+rgHU3vjulZd9Qh/dY7CLl3yYE7bNq+L3gCgAKAznrsknxuBcCMjN9JTLwc6E7v3htrBAC1ySG5nVVAzwDYvv1Jy6vhcvn664U8//zFDgOgr28Rt9yylNdfOJ/GkSVrY7t1XEbOmVjWrm1qV3kCQgJCerABPfRRANA+TyQAaJ9OlaVyKwDu3/8ZKSm3cebMMAYM+F0AUNvYeVVuPQNgRAR89909hIa+h9F4I717f20XsFkf8tHRx/h85o0YfP6hf8QaDB07YvKBWTPb0jIqg/ZLOtFxynJOEnh2zO1zEHqNjEi/PRWlcke9AoDWLzoSARQAdA4DPLILeM+el9i37zGOH7+FSy/9TADQubHzylx6B8Brr13PpEm9MBjq07FjOi1ahJYap8oc46hRW3nhhaspKkrFYGhI9+6ptGgRQUDAQd6ZegWRLbaYy1n616c8/fytAoAVHDYtQCCRTz3YQPk+ngVA2QXslV7R+xvl1gjg7t0PcuDAW0RFPUL79i95vzrSQrsV0DsAgonlyxMoKNhMVNTbxMRMqhYAD+7ZRuqBwRQUHcXPry1PPvkDs2d3Oxs99PEx8f33DxES8iYGQz2+++5P3nlnkLlciQCWN013RJ+8qQ49QI/YeVV2LhFAiQDa7aIrTOhWANyx40YOH55F+/ZvEBX1oLaWS26vUkAAEF58bjb/uv0E4btaETJ4YJVTttHRR/jmmws4fXo3vr4JjB+/gF27mpYDOx+fYjauv55j2d/j5xPCvXeuZnNyZwHACqzfm+DMHW0RANR75FMAUABQGwa4FQA3bbqI7OwlxMaqNVI3amu55PYqSu70sAAAIABJREFUBWoKAG07aW8dnnKMjesZOX79v2H2bAILsysFwPr1TzJ37sUEBa3G17cN48evYteu5pVG9g6lHOVg+mBOFG4j78QYrrxqlgCgAGCVywHcAaCeqsNT97en661iCjgEUDSou0sAUNuQuxUA166N4+TJHXTrtogmTS7S1nLJ7VUK2Atntk7D0Te12FuHpx/Uqo9RUafw8Sni9OmS1xLa9rt1WBLfvtGZguYBvPB/y/htcY9qnfnEiRuYOLEXAQGxPPLIWmbPDiy30cQb+q02xNhe7oAE6bfeI2HnLM4d9uapOgQAy7s8AUBtGOBWADSZisyvgfP1Va+Ba6Ct5ZLbqxSwF84chb7aFAG0tjUl5U/Wrv03ycnX8PTTb1YY2QsOzmLLljSio3vZDUxffPEXPXteyPjx/sybV97pCwgJCOnBBvTQR/vWPsoUsACgNgxwKwBqa6rk9mYFBADPjU5q4nzSDl2NweDHtk0fMunBf3Fg1wFMq/9Dy+xBBE26FaMp0OE3hgQFQX5+yY99DkKvkRHpt6eiVO6oVwBQjoGx2oAAoDYqEADUpp/ktiggAGgDHXuMHN7Sn6yQzeZf+vjEYTAcoKgoh/j4P7n+ygEsWtnQYQBUZQVg5IR/EEcGQPsluRhNjcrZoDucsDfVIUAgkU892ED5PkoEUADQOQRx+zmARuNO0tKeITCwC9HRTznXasnltQoIAJaOOqk1gK+99ibdu79MUVHJ+ux6/vF89/003nhjgPn/zkCUwVDMzJldiIpK4ssvf+bjj4cLAFoUcEbP2gwOtbntWsZK+l0uAijnAHqtZ/TuhrktApiVNZ9t266mUaPe9Oy51rtVkdY5rIAAYGkAtG6GuOSSo4waNYOhQ9vSocMYTOoVHxqB5auv/kuLFq9hMg1hyJC/BAA16uksjGsdR631erp+LRCnJa/0W6aArTYgEUCHXXWpDG4DwPT0D0lOvoumTa/kvPPma2u15PY6BQQAKwbAmnBW3brt46232gFFvPnmRubP717KHrQ419qYtyY01gpn7tBR+q33qW+ZAhYA1IYCbgPAtLTnSEt7iubN76RTpw+0tVpye50CAoDuA0BV05YtN3L06CxOnvwXw4fPFAB0ckq9NkNUbW67FkCWfksEUCKArkEAtwFgcvJE0tOn06bNE7Rt+5xrWi+leJ0CtiBY0UNeD8fAaHFu9ubdv3spu/cPwmDw5747d7JlV/uztmBvGXUlnQCB3iNh7v3y5an7prydSwRQIoDaEMBtALht2yiysr6nQ4d3adlS7UGRqy4qIADo3OYOhyFmj5ED+88nt3grKclPc8e/pwgAZgoIOWxHtVAzPfTRvmOeBAAFALVRhNsAcMOG/uTmriQubi5hYaO0tVpye60CAoBuAsBMeP/9r7jwwnEEBIyjX78vMJlKzMJTEQpP1StAIOCrBxuQCGB5tycAqA0F3AaAa9Z05NSpXSQkLCckpL+2Vktur1VAANB9ABYTc4YdO/bwzz+x3HEHHDsmAOiJV9EJ+Lp3ClYPsCcRQPtcnACgfTpVlsptAFjyGrij+PmF4ONTX1urJbfXKiAA6D4AVLATEAAnT5Y2B08BiafqFSCQCKAebEAigBIBdJXjd+9B0LZUoGUXgKt6L+XUmAICgO4FQOtANmmSiclkIDs7XKaAbazbU1Dqjnr1AD32RcLcG4F0x9ja1++zawDlIOga82h1u2D3RAAFAOu2Fdn0TgDQ/QB48w3PM378k7T6pw3x/9tOamYgMhVa96fDBQD1HvmUTSAyBawNLdwCgMasdeydfz0B+yD6v9sgMFBbqyW31yogAOh+ALz3rm8ZdeMY/HyacM1lu9iR1lQA0HKHeCpa4456BQAFACFEmYH6o+R9kzq7BAC1DbhbADAr/Tu2JV9HI784eiasEQDUNmZenVsA0P0AWL9+IQsXtqWw8AC///4FkyePEwAUAKyzNiDgKwdBW21AAFAbDrgFADMyZpKYeCtNmgyjW7fftbVYcnu1AgKA7gdAZRAzZz5H69ZPUVx8AV27rqizzt++tVF6XRMm/XZH5NVTdZQHX5kCFgDUhgM1DoAKCD755A3OO+8hwsJuIi7uK20tltxerYAAoGcAsFu3Q0yd2hqTqZCYmM1ERcWXshNPOS131CsRIb1PheoVfAUABQC14YBbAPD77x8nKuoFmjefRKdOb2trseT2agUEAD0DgMooFiy4Hj+/uYSHTyAu7j0BwDp+KLaAr97BVwBQAFAbDrgFABcunEBIyAyiop6hffuntLVYcnu1ApUBoCtO/7Etuyrnp1fHePf43xg97grq12vF2GvVbmB1e5dc7ojEeaoOPfRRpr7LP/Y8ZW+eqlemgMvbgACgNhxwCwCuXHkd/v7f0bbtu7RpI+8B1jZk3p1bANBzsBVAHonL/kdkxwcYeVNzfvmroQBgLXzXrb2AIeArEUDZBezd/tDbW+cWAFy/fgjFxYuJifmGVq1u8HZNpH0aFBAA9BwAqmHr0AFWrIDw8NKDaC9U1MZ0AkJ6B6Fztl4b7dfeNksEUCKAGlxzhVndAoAjRhQRE3OcN94IoFGjAFf3QcrzIgUEAD0LgOeme020bp3Ivn2xMgUcUTdhWMBX7+ArawBlClib83cLAAYFlTTSFevAtHVXcte0AgKAngfA9PQTzJlzBXFxa3jiiWRWr462aw1gSEgO27al8Oqr2Rw96sOsWYMpKvJcf5yPjOg1IiT9ttdmamM6iQBKBNBV/ttt7wKWt8C5ashqRzkCgJ4DJlsHsXzpEEKbLaaxX2+GXfE7W3eHVno24CWXbGDyg28TEDgLk+mMuZjmze/g68+m8exL9eyCx3ORR/dH2yQSpvdImF7BV94FLBFAbVxQ4xHA3NyTzJ17O9nZzbjzzjdp1MhfW4slt1crIADoHQB43ZVr+b9Xh1BUbMSYdy29en9LZKRvKdvZv38727Y+TIOGv579vb9fOP5FgXRu/wEjr+rBXxubUhAIfVsvYuPOi86m86YIigCgAKAebEAigBIBdLXzr3EAPH58L5s3R2Mw1KNnz9MEBQmzu3oQvak8AUDvAMCICBg/fiE333wFJlMBTZvexPPP381vv/Wh6EQBufWDWDXXQGGQCYPBj7DT5/Ps+88y9f1BREYa8PWF+kVGchsEsfkVyI5rwJ9/fsfLL19hNjcBQM9HnfQAPXL8Tfmn+zlNZA2g0IQ271/jAHjixAbWr+9JvXrNueCCdG2tldxer4AAoOfgqCIgeOu1r+jW82bAZP44rtWnhHW4zfzvvWNh8ZBr+Gb2y/z5Z8cKwc7f/zSrV15Hbt4vZlD8/OPv+eSLKwUAbe5ET8GwAKDeI58CgAKA2pCgxgHw2LEFbNlyKYGBXende6u21kpur1dAANC7AFAZzOjRv/H4459x4sRS+vTZiX9MNwL37WBPRoA52md7VQQzGSnZZCVfwZEGq/D1jeCWW7ayenWY17xvWEBI7yDk+WisO74EyBSwTAG7GgBqHAAzM2exc+eNhIQMIiFhiavbL+V5mQICgN4HgNYp2w4dTPj6Gjh+vMRoHHFasbGn+PHH3hQWbqeo6Gq6dv3BLnh0pA41bV0djMqUYPkb3h0ae1MdAvxW4JcIoEQAtQFAjQPgwYPT2LXrXpo1u5auXb/T1lrJXasUqKkd4NW9b1gcRM1EhIYN28xjj/XBZMqnTZsPadfuDqeAzdUwIeNdM+PtDIy7emwF+KsCfgFAAUBtSFDjAJiW9ixpaU/TvPlddOo0Q1trJXetUkAA0L1TU+4AoXenvkRc/GOo3cJjr93J3iOhZzvpDucvQCARQHfYuTfWUb5NAoACgNqQoMYBcNeu+zl48G1at36Mdu1e0NZayV2rFBAArHsAGOx3gk3LH6Z5p8nccEMUP/7RQADQQ+8b9kZIcceXAOm3TAFbbUAAUBsS1DgAmkxFFBQcx2Dwxd+/ibbWSu5apYAAYN0DQNWj+Hj46y8ICyttju5w/hIBlAigAKAAoACga1CgxgHQNc2UUkSBcwrIGsCKN3B4wjFGR28jLa2ruWoBwLoJ/J4cWwH+qoBfpoAlAqiNDAQAteknuT2ggACg5wEwIyWPrM8acWQIfDTtN76ae5kAoM294A4Y9gTw297u7uijAKAAYFUuRgBQmwOucQDctWsSahpYrQFs0CBKW2sltygACAB6HgAz9xjJXnQ+6e23gukCLhqynMxMg0fOBhQQkl3AerCB8n2UCKAAoDYkqHEAXLYsmKKiE/Tpk0RAQMnbBuQSBbQoIADoBQCYCRdfnM6777bHZDrNF1/8wYsvXioAaDFsd0TH9AA9EgGUCKBEALV4y6rz1igAFhfns3RpfXML+vfPwt+/ac31RErWjQICgN4BgOrg5jlzJtOs2ZtAX2JjV3nkcGgBIYkA6sEGJAJY3sVJBFCb269RADxzJoNVq5oDBgYNKjDvBJZLFNCqgACg9wBg586ZzJjRluLiU7Rt+wvR0VeUGl6JhJ2Tw9Va6AF6JAIoEUCJAGr1mJXnr1EANBq3888/XfHzC2XAgKM11wspWVcKCAB6DwAqw5sz+yGahb9BkKETgwav4yRBZ+3R1dAjQFAVENQcbLpjHO2tQ8BXjoGx2oBEAJ1z/RMB9eMDdMrJySE4WLGga6/s7KVs2jSIhg070LdvsmsLl9J0q4AAoHcBYHyHvbzzURx+fo2Z/uYivpp7bq2vvU5dSzoBApkC1oMNlO/j2U0gSUAxMM3yoxvfIACobahrNAJ45MgPbN9+LcHB/ejRY5W2lkpuUcCigACgdwGgGpb331/J7bf34NprG/Dzz+6NROnB+UvkUyKfVQBgCKBoUHeXAKC2Ia9RAExP/4jk5DsJDR1OfLyNV9DWZsmtcwUEAL0PAIOCICXFM5EoAUDP6K4laqslr4y3TAFbbUAAUBsM1CgAqvP/CguzMZkKqVcvQltLJbcoIBHAszbgrRGh5s2L6N//R5YvvwaTyccth0MLEAgA6sEGJAJY3gUKAGrDgpoDwJp6Eay2/kruOqCARAC9LwKozEq9HeTg743I7QLLFn/MU8/eLgBoc79piXp5K/Cro4BsL1f3Ufpd1dS3HAQtAKjNoQsAatNPcntAAQFA7wRA9XaQU98NJLXXRvx8Ixg9JpFNmxrX+OHQeoj+CAhVBULnPnMHgHqqDokASgTQ1e62RgFw3wvxnA4rJPKmrwgOH+Dqtkt5OlVAANBLATAToqPP8Mcf3SgqSuLw4YkMHvyuAKDlPnU1OAj46n3qWyKAEgHUBgE1BoDGw0aSdvQhlx10bPsNLdrcoK2lklsUsCggAOi9AKimBO+6axE33nix+QD4mJh/iIrqWaPThAJCegchiQDKLmBxj84oUKMAuDUxltPF++nSfiHhUcohyCUKaFdAANC7AVCN8J9/3Ih/vVkE+ndk7A2L2XWgxdmBl0iYa4BFwFfv4CsRQIkAavOnNQeARli/PoTi4lzi4xMJDe2kraWSWxSQCGCVEOVNQNCl7R4++KwvBcVZFBfdwNBLv6FYHVVLxfCqBQq9qd/ubIs769IyPq7OK/2WY2CsNiAAqA0LagwAT5w4w/r1Dcyt69HjKMHBodpaKrlFAQHAWgOAqqGXX76B5577NzExcxg6NJp//hEAdOWuWQEhiQCCOgPa/IccBC0e0mEFagwAjx8/wObNUYAvvXrlExSk3jonlyigXQGZAvb+KWDrKB87dIomVw1C0V+QIZfeg5Yxa9blREaWfHc3GKBt21yWLdvPxIkd+P33epw+DX5++Rw44H82XVWwIyCkdxA690xxdbTRm8orb+cyBSwRQG3+tMYA8MiRjWzf3gN//0i6dz9EYKC2hkpuUcCqgABg7QFAdTRMeLsg89CNGvouk/53Lz4+DahHU3x8G3Km+DBFRSXBi169thIUPZiwozvYOCqCQ6Mb8Xfqmzz3ws3k5tYzp5HjUMo/B7wJUtzRFgF+mQK22oAAoDYuqDEAPHToT5KShlGv3nl067ZFAFDbOEluGwUEAGsnCF1/zRtMmvQ4RT6ny9mzn08wXf1fofFF9xN2Zh+r7o7gwOiSZPV9mvPqy7P54deBAoAVPAncAV3eVIcAoACgAKBrkKDGADAvr5j778+mXj0jr70WJQDomvGSUgABwNoJgMp4/f3PkJaWzhNPZJCfbyQ5uSU7dkSxZ09QqfMCg4KOs2HtNI5kvUN+0WEMhgYsWfIFd999XblzBQUIZApYDzYgU8Dl3Z9EALUhQY0BoLwJTtvASO7KFRAArL0AWNk0bmURpp49c/nssxvx9f3VbBAxa/vS6ZG/OEn5NSXeFKVyR1v0AD0y5V/VlL+sARQA1EYKAoDa9JPcHlBAAFA/AKh2zfr6FvH1lw8QHvmu+XDpWZ//zYxPB5azPHdAlzfVIQCo98inAKAAoDYHXGMAmJY2g3nzNvHLL2OYN2+wTAFrGyfJbaOAAKC+ALBk6E3Mnz+Brl0jSUp6mssvL3+qgDfBmTvaIgAoACjHwIhr1KJAjQHgli3XcOzYj2zZMp3x4+8WANQySpK3lAICgHoEQLV+0MSxjAKCWoagzooJJK/UVLA7oMub6hAAFAAUABTnqEWBGgPADRv6k5u7kj//nMvjj48SANQySpJXADCitBHodm2U5ViZYn+4pPdsFq+0bBWugTeMeBPs6Xa8M8tDnoCv7AK22oBMAWuDA4cB0N7NHWvWdOTUqV18+unfTJ9+oQCgtnGS3DIFXMoG9AwEbdoYee+9PkRH7zA/Xz7//EKzNt4ObK5un4CQRAAlAiiuUYsCmgDQWnFeHuUAb/nyJhQWZvP00zv49ddYAUAtoyR5JQIoEcBSkPf553cRFfUhfn4dGDFiMzk5DQUAbe4SV8OmN5Un4CsRQIkAugYKagQAi4vzWbq0vrmFY8ceITm5mQCga8ZLSpFzACuNdunJMYaH5zB3bhxFRQeJ2tef+Fv+IDUzsNwZgd4ELq5ui57Gu6IHn6v19Pbyyo+37AKWKWAYAbwOqG1xLwMfOUAJTgHg5MmwaxcsXlxSU9kI4Jkz6axa1dLcpCFDCjhxwkcA0IFBkaRVKyCbQPS5CaTsNO8jk7/jsiuvw2Dw5+lH1/Ltj90FAC23jrfDjJb2Cfh6PAKohTlc6t70DoB+wA7gIiAHWA9cABy1U2WHAfDkSUhLgy5dYNAgWLq0PADm5W1m3bru+PuH079/pp1NkWSigH0KCAAKAFotZdGiERgMv5Cffxnduv1KZGRpl6AFNLw9r4CQrAH0wBpArcxh30PezlR6B0AFe/8FRlr0egtYA3xjp34OA6Byvl98ARMmwNGj0KcPbNlSeg2gyWQyr/8rLMyhYcNoO5siyUQB+xQQABQAtFrK4MG7mDKlKyZTPtHRP9K27VWljMjbIU5L+wQABQA9AIBamcO+h7ydqWo7AKrtawrgegLNLSA3r0zfJ1rSRAKbgUnAWkua64DBwL2W/6uyTMBrdurnFAA2awZLlkDfvrBzJ7RuXX4TiJ31SzJRwGEFBAAFAG2NZs6sh+kYu5WYggmE9bpEN2cDCgAKADoBgJ5mDoef91VlqO0AeDnQ3zJ1+30FADgG+ByYYInsPQBcD3QCDgMeAcCgIIiMhLVrISoKzpyB+iV7PuQSBWpcAQFAAUBbI2sVmsO+ab9ieOZZAhPXCQDW8SNxBHw1rQH0NHO41D/UdgC0FUNF7tRUrm0EUE3n/mMT4VMbPfYD7wAvWdb7lZ0CVtHBrytRWWGaLao1Ag7k5OQQHKyCgRVfVoc7dSpMmgQTJ8J778FTT8Ezz0BhIfiplQGWKzNzFtnZS2jadATNmqn1onKJAq5TQABQANDWmgIwYiTI/Cv1dpBThoaYTCWvitMyxerteQWEJAJoiQC2Ak7Y3BNnAPVT3eUO5qiuDZo+r8sAWA84aYny2ULhTKAxcDWgsGunZRrYnk0gU4CnyypuDwA2agT790PLljB8OPz6K1x0ESxaBEVFpQFw4cJ/4+v7AW3aPE3btqpKuUQB1ykgACgAWJE1HTyYxRtv/I/Q0Dwef7zkO7C3Q5yW9gkACgBaALDs7fAMYI/jLQuANcEcrnvwV1BSXQbAFsBBS5RvlU3fXwEGAX0tv1OrntWaP/WVV332QRWKOx0BHDoUVq4EkwkMBlBOODwctm2D5s2hSRPz6znN14oV15Kf/wMdOkyjZct7atQApHD9KSAAKABYkdXv3buJlJSeGAzFdJvegVZzNtbpswEFAAUAXRwBrAnmqFEHJQCoTV67NoEoh/v++/DQQ+eme6tywmvWDOTkyeV06fIt4eFqyaJcooDrFBAAFACsyJpUNG3d2gkEBM0g0NCeIUPWk3IopM6eDSgAKADoxCYQ21unbATQXgB03cNcY0l1GQDtCcdqlA+7AVBt+FBTvtYNH5U54Xr11NmAnf+/vfMAj6M69/dPkqskywVkuTdwxxiDTbExJkAM9oUAlxYIzXTiQEiFS/IPLaETQieh3ITQEgI3CQktONSA6bap7hVj2RhbRpKbyv/5VrPySlpLuzuzM7O77zyPQizNOTPzntGeV9855zvavHm+xo59Sd272yJlDgh4RwABRAB3JoDfnLxSd90/VjW1G/T2G7/Wmef8AAF0YLkZbg5TWcTX1SKQ1gTQD+fwriOQlM0CaKBsEYgt6rDUL3bYMO8KSXc6i0BShWmpZezL6hueyBzAtWulwYOlzZulzp0bhoBtNbAd9uEwcaK0eHFDSphHHumhmpoNmjDhIxUVjU71HikHgbgEEEAEcGcCWFYm3XnnvRo9+kLl53fT0KEL1KdPaZPTwyQzbu4FESIC6EQA50uqk3SX85Voz7GzRSDpcI5E7ymp8zJdAE2hdnee+ANJP5RkG6x95YiepYGxRR/nOyJoaWBOlDTCvCspUvFPTjgCaGlebKWv7QRSWLhDAIuKpE2bpPx8qUcPaa8Rm/SLa7tGrjZxryXq0G2wB7dJFRDYQQABRABbE8BOnWr14ovjtX37HPX+aqL2Pu6FrEwNgwAigCkMAQftHJ52ZZkugDY+6uyo24SLSd+ZzncsybOlerFE0HMkXexEBr0AmbAAXnedNHCgdMopLZM+19U1COBRR0m7lizTGeea9OVpyviNyiveeXoZLx6AOnKPAAKIALYmgPaz886cpZPPOEwdO/bXHTe/r8ee2rWxiJuoW5jKIoAIYAoCGLRzeNphZboAegojhcoSFsDocG9lZUsB3L5dat9euuEG6b7bq/TpYaerpr5Cne/5G1uEpNAoFGmdAAKIALYlgJYbcMHvT1fp9Ot16jn99cTfOyGA5dkhTIivZ3MAM76rQQDdNWFCAtjWJaILQ2wO4NTJ1Vr8RVFDkXi22FZl/BwCbRBAABHAtgTQfm4L0j7/XBpY2jRR9NLyoqxYGIIIZYfQJhpVbtnem5RCBDCr+hcEMLXmTGoRSFuXsA45mhdw1co69TtynDRvHgLYFjh+nhIBBBABTEQA7RzrXAeXVWnx1GJtPLirDrxmqT5Z1h0BdAAmKh9hOg/xbREBTHURSEqfv2EqhAC6aw1PIoDWIe+5p/TPf0ojRjTsEjJlCqO/7pqG0jsjgAAigMkI4JT93tG99++n+oJ6bd9+hMaMeVK9exc2qSJMgpPovSBCRACJANJPuiHgmQDaHMFu3aQ//UmaPLlhxxBbLcwBAa8JIIAIYDICaKlhzj//OZ1yynGqq6tWl4LRuuGW3+mJv01srCZR6QrTeQggAogAet275FZ9ngpgFJ2ljFm/nghgbr1K/j0tAogAJiuAdv55Z76k02Ycq5o62zY9T70q9lffByvU6+9vaWl5ccYNCyOACCAC6F+/k41XSosAGijWf2Tj6xKOZ0IAEcBUBNBWBq8f1k9Lbh2ltYVvRKro3Hl37fvxZco7+5zIv+vaSV1qKiN5A8MU7Yt3LwggAogAhqNPytS7QAAzteVy+L4RQAQwFQGMFaZLL3lFPzrtxyoeOk2D7q2WbrlFte2lN/6ap23tp2rUe5u162/eU7fy8tAmkUYAEUAEMIc7QheP7vkq4GiewOg9EQF00ToUbZUAAogAuhVAmxdoR6+SKn1R0F/asEEbx0hzbt9Rc0F+sfotm6D+/2+uuq5YEbqoIAKIALrcCi7jexpWAbtrQiKA7vhROgACCCAC6JUANkrUkir1HFKsqkn99ZczztTIkY+pumZR5MftCrrp2adv07U3nR6qYWEEEAEkAhhAB5RFl0QAs6gxc+VREEAE0HMBjNklw+YKVuYV68sfTdDSb61Xde2SyOX2WfULdTnnBhVtXR+KYWEEEAFEAHOl10vPc7YqgLEdbWtDurHnMQScnoai1h0EEEAEMJ0CGBsVLB3ZTcvun6ya/fbS0HmTpJNOUlFtBQLoJNmODqX7KaN+XitMC4FaPjc7gTAE7M4MEEB3/CgdAAEEEAH0RQBjooIHjq/Wa3O7Sdu3a9fOX0QEcPPmLpHbCEoSECEigEQAA+iAsuiSbQrgUUdJq1dL773Xdl6/RCOGWcSPRwmAAAKIAPotgDYsXKVi1RRJ866X8krLNP28eVqzqScCGNMYfsgw4ttiK7iukiwcmHMHEcDUmjyhVcDW0XbuLOXnN+z1W1TU+sUQwNQag1LJEUAAEUC/BTB6veWfzdbyVd9QbcEWbak+XtP+688qL88LJIk0IkQEkFXAyfUdnN2UQKsRwOrqhu3cNm+W6uoQQF6ecBBAABHAoASwfEmVOlw5WXPP+kj19du1cOF1OvroyxBAp0GIAO54M71m0VL4mQNIBNBdn9yqAJr4WQRw2TKptBQBdIea0l4RQAARwCAF0NLFrL5hshbs+1pkS7kxT+yjAXe/7PvCECKARACZA+hVr5Kb9bQqgFu2SJ06Se+/Lw0fjgDm5isSvqdGABHAwAQwZmHIU0+ep+7k0k3NAAAgAElEQVQ97lO7/G76/gWz9f6nwxtvy+voD1vBtWxxPxiH6RpEAFu+A0QA3fXPCQngrFnS/vsjgO5QU9orAgggAhgGASwt2qBnn52sr2s/Vl3tETrsm8+qvr7hzvwQByKARACJAHrVq+RmPa0K4NatUseO0hNPSNOnty2AuYmQp/abAAKIAIZBAG1l8Lope2n+LWUatvvdKjrsbBW92zAUjAD6ORcufdfyox0TvQYRQCKAXve1rQrgtm1Shw7Sb38rnXoqAug1fOpLjQACiACGQQCj97CxfIu6HnmQ9M47KlIlAujss5yuCGW66k1UxII6DwFEAFPrMXdeypOt4Ly+KeqDQGsEEEAEMEwCaCuDbWGIHfuMmqXPlo3X0qUlaV8ZjAgxBMwQMH1lKgQSygOYSsWUgUC6CSCACGAYBXDVMdKCi/LV+4sRGnnqJ43RwHSJWrrqDSrCleh1ee4WiaDnS6qTdJfzle6P4NDUzyIQd01BBNAdP0oHQAABRABDJYDOyuApU/6jK688KNIXj3h2nHa78bW0poZBhIgAEgEMoAPKoksigFnUmLnyKAggAhhGAbR7euzhK9Sr79UqyC/WTy6erbfmjm681UQjXImehwAigAhgrvR66XlOBDA9XKk1jQQQQAQwrALYvWOFZv3rYFXUzpHq99XUw1/X9u3tI7ebqNgleh4CiAAigGnsaHKgagQwBxo52x4RAUQAwyqAlhpm/X576J2bNqi2tkIDlk7SmLOeT8vKYAQQAUQAs6138/d5EEB/eXM1DwgggAhgWAUwel/LFj6ipatOjWwV98cHPtCDD48lAhjTaIlGOdkBpeWbvoMJewGzCMRdh4oAuuNH6QAIIIAIYNgF0FLDbJgzTcX7fltvv3aWjj25c+SWo3kCvYjeeVGHGxELqizP3WIVcFdJZoM5dyCA7pocAXTHj9IBEEAAEcBMEMDS4d2Ud/Y5KvvdVSqva8iOjAA2tJwbeUQAEcDoO4AAuuuAEUB3/CgdAAEEEAHMBAGMJocuVblWdynT0rOlo55crgUrBzTePiK0oyUTZYEAIoAIoLuOl0TQ7vhROkACCCACGHoBdHID2n0WqlKv3d5Fm8ZIhQVDNPbsDeqxcKXrhSGIEItAnEUgJIIOsD/K5EsTAczk1svRe0cAEcDMEsAqrZ0wRHNvyde22jXq1G6Abrv+YT32T0sanfqwMAKIALIKOEc7QY8eGwH0CCTV+EcAAUQAM00Aq1SszQcM1twbarSldqXy8jpoyPvj1e/HbyjPNvGKEUGGQlsfFkZ8GQJmCNib/hYB9IYjtfhIAAFEADNJABuFZUmVuk3prfkPjND69u9Evt01f6xGXZ2vjrM+kM0VXKfEF4sgQkQAiQD62PFk4aUQwCxs1Gx/JAQQAcxUAbSFIfWS7r31Vo0ed7k6dR6o8cV/Vv4eY1VavwYBbPDfxoM8gC3fdPIA7mDCKmB3vT0C6I4fpQMggAAigBkpgE0WhlRp/chB2n75heryyDvSc8+pb4dl+tflu6vP0j3V7Q/vtzksTASQCCARwAA6oCy6JAKYRY2ZK4+CACKA2SCANi8w9jj1mOt0zvf/p3FoeMBjBRpx7zNap15NZLD5syc6ZzBbzkN8mQMYfQeIALrr9RFAd/woHQABBBABzHQBbJSYJVWK5gsc3fstPXXThVrT7yPV12+LnFJfO1X7/XKxCl9e3CKJNCJEBJAIYAAdUBZdEgHMosbMlUdBABHArBHAZsPCFhXcOqyHVl49Rp/3ejMignl57TXws/00cObryqtNPW0MEcAdb00msmgp/OwFTATQXa+PALrjR+kACCCACGA2C2D02aoP6K83rxqlgvbPq1u3QzX25enK+8GPPN1OLjtEKLPFLtE2QABb/tYjgO46YATQHT9KB0AAAUQAs1EA4w0Ll2qNPrrmJHU/8w51OPhYafHiFulilpYXqSyB1bOJikbYz2PomzmA0XcAAXTXASOA7vhROgACCCACmNUCGGdYWJ06SVu2RB77/O9cphsX3a2ub22KRAMRQCKAkmw8OOcOBDC1Jmcv4NS4USoEBBBABDDnBNB54DXflD67XMrPL9KYB4ao+0MfRn5iIlitokYsYY/iubk/IoAtIoDsBRyCfikTb4EIYCa2Wo7fMwKIAOaKADYfFq7tJP37r4epfccXVZBfrLG39FXJ3+cjgA4oN2IZ9rItxZdFIEQA3clACwGM7VwrK6WiHX9UursSpSHgEQEEEAHMVQG05x7cZYX+72/HaGPe+2pfsKvG/axEpa/NIwKo+L8XYRe7RO8PAWz5W48AuutU4wrggAFS377S7NlSYaG7C1AaAl4TQAARwJwTwGbzAitKyzTniX6qrJ+vTgX9NPOMF/Te0lGNw8HZPC+QIWAWgUTfAQTQXe8aVwDPP196+GGptlYqKHB3AUpDwGsCCCACmOsCaPkCtw3urvcf6qItNSuUp4N10BGvK29rTdYvDEEAEUAE0JteNa4AXnaZdMcdUk2N1K6dNxeiFgh4RQABRABzWQCjz16oKq09ZKw+uHK9Bg2+Wn1vmK+8O+9CALM0JQ5DwAwBe9WHRuuJK4A33ihddZW0fbvUvr3Xl6Q+CLgjgAAigAigZAJokcCabx2q307+u2Ze2kWqq2tEk60rg4kAEgEkAuiuD21VAO+7T7rkEmnbNqlDB28uRC0Q8IoAAogAIoA7BNBYlKpc61SmmiJpaw+paGX2poZBABFABNCb3jRuBPAvf5HOOAMB9AYxtXhNAAFEABHAHQRsFengsip92adY826Q6kq7aZ+LO6r7gsVZuTIYAUQAEUBvetW4Avjcc9Jxx0lbt0odO3pzIWqBgFcEEEAEEAFsKYAbi4v13pOl2tJhnbrnjdeRR/xNK7f0jZyYTTuGIIAIIALoTW8aVwBffVWaNg0B9AYxtXhNAAFEABHAlgJo8wErJ/fT+7/coLq6KlWs/5GOPv4WBDAmhU4my2PLeycRNGlg3PWucQVw5kxp1Cjpooukzp3dXYDSEPCaAAKIACKA8QXQvrv2krH65Oi5kRNGv3qoSq+Y1XhyNiwMyWSJSzTpc7zzEMCWv/UIoLvelZ1A3PGjdAAEEEAEEAFsKoBlTuqT6MrgRf+7r1YNejuyXdzeNw9W0dPZs2cwAsgQMEPA3nS8CKA3HKnFRwIIIAKIALYugHX50r+fO0jt2r+q7p0na+zRCyIvDRHABm5uInFBlSUCSATQ6242rgCOG9ewAvjjj9kL2Gvg1OeeAAKIACKArQug/XRMn0/0p7/8WLsPvU0djp0hvf56Y7oY+3mmLgwhAkgEkAig+37UaogrgJs3S7vuKlVXsxewN5ipxUsCCCACiADGF8BYObLUMFVDx0n19dKiRZEfRfMFIoBRiWqbY3R4PWjxJAJIBNDLfnSnApiX1yB+CKDXuKnPCwIIIAKIALYtLhEBVHHjiauPlO4Z8V1dffPdip08n2nDwkGLGEPAXnyKe1MHi0BS4zhTkn3lSxpeUVGhkhILBnJAIPwEEEAEEAFMTgCrBkrvPNjwiT9w6YEafNbrLRBGRTAowUn0ughgiyHg+ZJsD8C7nK/wf4h7dIcIoDuQLYaA3VVHaQiknwACiAAigMkJoJ296tbJWrTXa5GCA1d+Q4NOfyluJDBREQvqPASQOYDRdwABdNffIoDu+FE6AAIIIAKIALYtgM1Tw1iJB+6+SruNvCJSuPeGSRp64hvKr6mP/Lv5/MBqFTVeJCjZSywfXuIsMlkeW947iaARQHcdMALojh+lAyCAACKACGDi0hPNDRiVvDk3/LcW7vuGpHrtUrOvRp7+mdp9samJAEZrD+OwcCZLnBuRRgBb/tYjgO46YATQHT9KB0AAAUQAEcDUBXCdyrTupwfok+nvq75+q0b1uF09D79WpWvmyn4We4QxKogAMgQcfQcQQHcdMALojh+lAyCAACKACGDiAhgrTLErgzcdNUzrrzpCg1ccIh17rErr1yCATf03VAmjiQASAfS6u0UAvSZKfWkngAAigAigewGM1NCjh1RTI23apKHdP9Rff7i3dv97P3V8Z2nkx7ERwOgVgx4WJgJIBJAIoDfdLALoDUdq8ZEAAogAIoAeCWAMyOuuOEoHHPy02hV009DZ+6vs0ufjRgURwGCSSBMBJALodTeLAHpNlPrSTgABRAARwNQEMN7K4GhNE3Z7Xff+7ix9nb+gIfqXd4hmXnyvXp43rAnuoOcFEgEkAkgE0JtuFgH0hiO1+EgAAUQAEUDvBdDErrygTCt+vY+W7TlHUq3at++tEa9M0C4/f7phS7kQDAsjgAggAuhNh4sAesORWnwkgAAigAhgegQwugp405Re+uyKDqrOWxG50Mhtl6rs1AeldesCnxeIACKACKA3HS4C6A1HavGRAAKIACKA7gSwUaKWVKnnkIb9gpsv+KjtKD10+3c1aszz2qf/s2o3bqL05ZdxBdDPYWEEEAFEAL3pcBFAbzhSi48EEEAEEAFMvwBGpXDN2INUUNhDevNN2SDw1AmP6YV3Tm6yjRwCmP6FIS3Fl51AyAPoruNFAN3xo3QABBBABBAB9EgAy3eIS+yOIdHam0cFV3xbWnK+1Ltisoae9Ibyt9bGjR7aN9O1WpgIIBFAIoDedLwIoDccqcVHAgggAogABiOAK08r1OKzNke2keteu7f2OOFTFWzY7Ou8QAQQAUQAvelwEUBvOFKLjwQQQAQQAfReABvFqpV5gXbOZRc9qunHn6u6uiqV5O2hMd9ZqT6fL2ixiwgRQG+HhRkCbvlbzxCwu44XAXTHj9IBEEAAEUAEMDgBtGHhRSccog8vWqWa2goV5Q/Teaf/VR8sH9WkWdI1L5AIIBFAIoDedLwIoDccqcVHAgggAogAplEAE5wXWHnYEM39xdfaXrtOBfljNem/lyp/vS1MaDjStY0cAogAIoDedLgIoDccqcVHAgggAogABi+AdgfVB++mOddUatCQa9TnjiXS9dcjgA6B8hiR9kJaW9bBKmCGgN11vAigO36UDoAAAogAIoD+CGCjdLQyL7Bmwmj99sS3NfOnxY27hewsAujFsLAXMuW1nPlRHwLY8rceAXTXASOA7vhROgACCCACiACGRwBjZW9bV2n5mXka8mB79fp6ZYuFIQhg6gtDEEAE0OvuFgH0mij1pZ0AAogAIoDhE8C1KtMHd0mbRkk9aifoyG89pRXV/Zs0lRfzAokAMgcw+g4QAXTX3SKA7vhROgACCCACiAD6LIAJLgzZePRgzfvhGtXVbVbNtqN1yLf+0Zgs2qthYQQQAUQAd/z+/5+kgyXNknR8kv0xApgkME4PngACiAAigOEUQLurr87eSx+e9qnq67eqZ/UBGnn0bOXV2CZy8VcGJxsVRABDL4BunCSpDoYIYIP8dZF0BgKY1LvDyRlKAAFEABHA4ASwUcBaWRjy5UXj9fFxc1RfX6NeFRM1/Ng3lFefuAC2NlcQAQy9ALpxkqR6JQSwAZcB/x4CmNS7w8kZSgABRAARwHALoN3dVT/9g6ZMmyGpTgPLp2rwt1+ImxswXgQQAWy5WKSl+IY6DUyqTpJUrxR2ATxI0k8k7SOpt6RjJf212RPOdM7pJWmupIskvZ0UBQQwSVycnskEEEAEEAEMvwCaxH105XFaevhqjR3xD3Xe/1iVzn+11ZXB0adqbViYCKCrCGDYnSSprinsAjhN0iRJ70l6Ko4AniTpIUkXSHpL0iWSTpA0XNJah8QcSe3iUJkqabXz/VRtmzmASb1unBwGAgggAogAhkAAE1wYUnv+DBUsWCa99FJKEcB4Umj7DC8tL1JZWdM3wY98fEFdw6MIYNidJKkuJuwCGPswNgu2eQTQpO8dZ/jWzs2XtFLSHZJ2pFRvG0miAthRkn1FD5s7uKqiokIlJeaCHBAIPwEEEAFEADNHAGPb6siDHtAtB1+sYddWJ70wJNejgq0IYD9JX8dw3irJvto6wuAkbd1jqz/PZAHsYDvpOPP2YoeF/yCpm6SjkyCTqABeKemK5vUigEmQ5tTACSCACCACmHkCuK279PLjndWhw2btum0/jTxprgo2biEqmOCWca0IYPNfh6skWV/f1tFcAINwkrbuMWsFsI+kzyVNlPRmzFPeKGmKpP0SJPOipLGSimwFvjOEHFtfbDVEABOEymnhJYAAIoAIYOYJoN3xzy55SFOPOUf19dvUJW+Uxpy9Rn0Xf5ryvMDmi0WyeVjYhwhgEE7iqqPJ5AigV7DdAGQOoBt6lA2EAAKIACKA4RLARjlpJTWMnWPCtvA7h+qj8z9XTe0GdWzXV3fe+JAeefrQJk3a1srg6Mm5NCzcigB2lWRLgpM9mkcAw+AkST1DJgugl+HWpKDFnIwApkqOcoERQAARQAQwcwVwncpUPXmwPvxVnTbXLldeXgft/p+x6vszmw7fcLgRwGyNCvoggGFwkqT6lUwWQHtQWwRiKV8s9YsdtghkhaQ7k1wEkhQ0SZZ6xr7sesOZA5gsPs4PkgACiAAigJktgHb32/uU6LM/jNL6drM1cOAVGvzzhdKjjyKASvT3uzEP4PxIskXpLucr0Y/nnS0CCcJJEr3nJueFXQCLJe3u3PEHkn4o6SVnrp6JnqWBsUUf5zsiaGlgTpQ0wt6BlIgkV4gIYHK8ODsEBBDARDuIkEpCgpPeE0230TIywnMnyi6d5xWqSlWyLnDH0TyyV58n3X/H73XO/qOUN2mytHWr7Hs968s9mRcYvbKljamOTJNvONL53Om6Rst6U0oEHXYnSaqHCbsA2upcE77mh0nfmc43bQcPSxZtiaAt59/FTmQwKRApnowApgiOYsERQAARwHhvXyZ26m7uOV2i4eaeYssmIoD2DBEpbN9P2r5dte2lub+RXq/8lS66/OfKq23YQ7jxPDVN/JfKUHGm5hD0SADD7iRJdSxhF8CkHiaAkxHAAKBzSXcEEEAEEAHcQcArYfNaKJMSQEfsVh8lLbBxMsuFVj9OI77/hTp9uMZTAYw+Z6ZFBT0SQHcfviErjQC6axAE0B0/SgdAAAFEABHA7BRAi/d98cv9tWjyPNXVVatdQTcNe3qYet70tmcLQ5q/O1ERDKtIN7/fHfeZ0hBwAJ/Y6bskApgaWxaBpMaNUiEggAAigAhg+AWwMWKVQGoYWxkce/zXpNm6+tqz9HXdJ5Fvl1Xsr2/NeFQLNwxpcl4qQ8DN353mq4bDOlewlQhgqotAQvBp7u4WEEB3/IgAuuNH6QAIIIAIIAKY3QJoUlbeqa+W33+Qlvd9ObLItXOnU7TfufOkjz5qfHivBTBacRijgq0IYKp5AAP49Pb2kgigO56NAlhQUKJiZ8FWZaVUtGPBlLsrUBoCHhNAABFABDD7BTAaFdx45t5aeO5mDR31jLpNnC59+mnaBTCMUUEEsOVvPQLornNtIoA9ekQWYunrrxFAd1gpnU4CCCACiABmkADGpP1JZWGIPWn9rj307X0W60/Pd488+Pp9pe7vSWW1qaeLiRJMJYoYxAISBBAB9LpfbSKAr7wiTZ8eScWkjrZrMAcEQkgAAUQAEcDcEkB72qiofXmA9NG1Utfa0TpzxpOau9LS5u44EhU6NwIYLevnUDECiAB63R03EcB335WmTJG2bJE6dfL6UtQHAW8IIIAIIAKYwwJ4YL4+/WWhausrVVAwXOMv+Vqd31/dCMRPAfRzqBgBRAC96UHjbAVncwA/+USaMAEB9Aoy9aSHAAKIACKAuSuA9uRV3xymeb+o1Naa1epQ0FNjbuyuLv+wxbCJ7yPsRQSwLdn0cqi4FQFkFXB6upqsr7VJBHD5cmnUKGnzZqlz56x/dh4wQwkggAggApiZAtgoMSmkhmkuW1v36KW37y5Vbe2HKsgv1ujHRqjHve8mnC/QDwGMXsOLoWIigEQAve6ymwjgunXSoEEIoNeQqc9bAgggAogAIoBGYHSvRXrkkeO1MX+O8vLaafyT0zXojvsS2kfYTwGMFylMVgoRQATQ255UaiKA1rH27ClVV0uFhV5fivog4A0BBBABRAARwOhwb3lhX3325/HqMHyidp9/iEqPnJARApjs8DECiAB604PuqKWJANq3Lf8fAug1ZurzkgACiAAigBkugB6khokKoOULrLeEcBdeqLz//b1KNy9Tefsy5W2Xonni4slW0BHAtgSwtftriB7WSrIc0JH/sX3hcu4gD6C7Jm8igM88o0gy6IMOIg+gO6yUTicBBBABRAARwFgBjH0f+rRfrmeuH6jiuiHa7SdLIhKYbQJoz7NYZQ36hwCms7vJyrpb7AXMTiBZ2c5Z+VAIIAKIACKAOxPAaRP/oEt/dUYEUO8NkzTshP+oZ5yE0ZkcAWwmgKwCzsqeLv0PxVZw6WfMFTwmgAAigAhg9ghg9EnKPVgZHJXCededoPn7vx7ZQ7i0ej9NPfZJfb6tX9xPIjdDsUGVtQexMV8igB53LjlWXRMB7NJFqq+X2As4x96CDHtcBBABRAARwJ1FAKNStvbyifp06juqr9+umm3T9I3jXlRB5fYWr05QEufmughgQzMyB9Bd590ogO3bl0Ry/y1cKPXpwxxAd1gpnU4CCCACiAAigG0JoP18/UX76uPj5qmufou61e2pPU5cqHbrNzd5fdyIWFBlEUAE0Is+toUAzp8v9euHAHoBlzrSQwABRAARwCwUQI9XBkcJbTxznObNWKT8/AKNq7lVRYec1TDU5RxBSZyb6yKACKAXvWujAHboUBLZ//ftt6XRoxFAL+BSR3oIIIAIIAKIACYSAYxSmnHci/rNrTXq+vNHpYceIgKYno9m32tlCNgd8kYB7NixRB07Si+8IE2ahAC6w0rpdBJAABFABBABTEYAI9G27iOkDRsi4DaMkzp8JRUtT3zvYDcRO6/LEgEkAuhFH9tCAJ94Qpo+HQH0Ai51pIcAAogAIoDZLYDRp/NyZbAljLajqr/0/r15kU5u9OPDNfzeZxLaOcRriXNTHwKIALrpXVvkAezUqUQdOkj33y+dfDIC6AYuZdNLAAFEABFABDDpCKAjgNu6Sh8/PFgVxUsl5evTOdfpgh9c2mRFqRs586NsMwEkD2B6u5ysrb0xAhgVwJtvjuyoE9kSjgMCYSSAACKACCACmKoAWrm6wnZa8Pj+WtPFcgVKvddP1NBTZit/W13k335InJtrEAEkAuhF39xkCPjll6XHH5fuvBMB9AIudaSHAAKIACKAOSKAaVoZbPRsHfDKew7WkhGvRP7VVXtp1Mwv1PGTcgQwPR/dntfKIhB3SNkJxB0/SgdAAAFEABFABNBtpC5K8Gc/eExHHHOuausqNWDXSzTktJdVOuf5UM8LJAJIBNCLrhcB9IIidfhKAAFEABFABNArAbSh2OUTx2vFjXtp2C6/Uv6EiSqtXIwA+vqpntrFiACmxi1aCgF0x4/SARBAABFABDD3BDD6xIWqUpWKI/90O4+uSR2WB61XL2n5cvUqWKXXL+in/v/qoY4LvnJ9LTf3Ga8sEUAigF50vY0CWFxcoq+/lg4/XJo1izmAXsCljvQQQAARQAQQAfRcAGNequ/N+KGOP/3XalfQQyOeGKJd73jXlWwigOnpC4gAuuPaRADz86W99pL+8x8E0B1WSqeTAAKIACKACGA6BXDPfrP14MNnqLLeMqxIfb88SFNn/FFLKwc2efW8FrtE6yMCSATQiz62UQC7dClRXp40aJD08ccIoBdwqSM9BBBABBABRADTKYAmYuVF/bTkgQO0quzVCOyCgrHa+/9tUtErlj+w4UhU2Lw+DwFEAN30ri0SQZeUmAtK3btLq1YhgG7gUja9BBBABBABzF0BjD55ebk0uGzHfMBkpSzR89fP3EefnbRM22vXKz+/UCNfmqjSK18MkwCSCDq9XU7W1t4YAYwKYEGBtGkTApi1LZ4FD4YAIoAIIALolwAa6a0jSvXmXXsov91bGj/2LRWOP1ZatIgIYMD9CXMA3TVAEwE08evaVaqsRADdYaV0OgkggAggAogA+imARrss/wstvuIyFX/VTbrttkgDDO0xTwu/2rPJ6+j1cC+rgHfemyCA7nraJgK4cqU0YAAC6A4ppdNNAAFEABFABNBvAWwuYhv3lN69uaOGLpuoARe+rLxa21vEn3mBdp1Nkro2vAb2H/tnzh0IoLsmbzEE7K46SkMg/QQQQAQQAUQAgxbARd/L16rjGvYO7l43TiPPXaEOS9b7MiyMADa8/wigu/4WAXTHj9IBEEAAEUAEEAE0ASwra+CQSnLoKMFUh2wt3nfTVXdp/4N/orq6anVo10uj7+mp3R/9V9p3EUEAEUAvul4E0AuK1OErAQQQAUQAEcCgBdBawORx2TcO0MdXSdW1S5SX104LP75GZ3/vf5TXMCIcOVKVzJ2VRQARQC86XQTQC4rU4SsBBBABRAARwLAI4DqVqWaXQi14aE+tLZwdaZg9qn+uXU+8VbIPKwQwbf0DQ8Du0CKA7vhROgACCCACiAAigGESQGsNC/itvnGiNkzbTaPXnKa8w4+Q6hrmCBIBTE9HgQC644oAuuNH6QAIIIAIIAKIAMYKYJRGMgtDomW8lrND9vpS/149Slq7VjVF0lf752n0rDWezgtkCJghYC+6XgTQC4rU4SsBBBABRAARwLAKYFQoLSJocwO/PEjatnmGDj3tCRWsr2xsODfiiQAigF50ugigFxSpw1cCCCACiAAigKEXwDxp+cU9tOyYDZEB4uJ2IzX6F7Xq/NIC18PCCCAC6KbT3elewG4qpSwE/CCAACKACCACGHYBjLbQV98ZqY/P+1K1detUUNBVI17cR6VX/9vVvMBmAshewH50PFl4DSKAWdio2f5ICCACiAAigJkigNZS+w2dq3vuOVmbCj6JNFz/jUfosNPu19LKfk1e5USHheS36QsAABLYSURBVIkAEgH0op9HAL2gSB2+EkAAEUAEEAHMJAE0sStvV6Yl9+2rVYPeVseO/VS/7S1NPLgvAuii92AVsAt4kiIC+PvfV+jUU0tUUOCuMkpDwA8CCCACiAAigDsTwER3B4kSTDTq5tV56y4YrQ4/uU7f/f5kPfKP7gigi04DAXQBLyqAUoUqK0tUVOSuMkpDwA8CCCACiAAigJkqgJGWKyxUafXSSGqY1dOlqgm7aMgtm9SrclVC6WIYAmYI2Iu+NhIBRAC9QEkdfhFAABFABBABzGgBdJJDry4p0+zH81TbuV6FBYN1+0336eGnD2szKogAIoBe9LcIoBcUqcNXAgggAogAIoDZIIAWAVw/Y5Tmz/hS22rXRvYSHrhksgZc+Jryt9ZEGjne0DMCiAB60elGBHD58gr17cscQC+AUkf6CSCACCACiABmiwBaS24f1EML7hmmdZ0a9hLuUjBKw3+5XcUvLEQAW+lSmAPorr9tXAVcXFyi/Hx3lVEaAn4QQAARQAQQAWxLAKOEdrY9XPTnXi3ucFuf7Rxy7c/u05SpP1ZNXYXy8ztr/3+fq75X/azFvEAigEQAvehrGwWwqIgIoBdAqSP9BBBABBABRACzTQCjw72rho/WgjuGqGi3QzTk6V4qveRkBHAn3QoRQHf9LQLojh+lAyCAACKACCACmK0CaPMCLRqoE45T3jPPqbRqiZYNKlP5UUUa9OA25VdtjzT+JkldG14D+4/9M+cOBNBdkzcKYGFhidq1c1cZpSHgBwEEEAFEABHAbBbA2Pe7Z94Xevau3vp6pFRYMEQjbuukkic/QQAlIYDuetxGAezcuUTt27urjNIQ8IMAAogAIoAIYK4IoM1R/OT4PbXg4jptr10nKV/91hyoXS54Sz0qthIB9KPTydJrIIBZ2rDZ/FgIIAKIACKAuSSANiy8fUA3Lbp7lMqL3og0ft2W/jp02koEMJs7uzQ/W0QAZ82q0KRJJerYMc1Xo3oIeEAAAUQAEUAEMNcEMNri6783XvNPXKUNm9boyCMj32UOoAf9Si5WQSLoXGz1DH9mBBABRAARwGQEMN7+wFGCYUkDY/eT6L3U9Oqiub8erfGnRPIGIoAZ3qcFdfsIYFDkuW7KBBBABBABRABzWQCt9VkFzCKQVDvRmZLsy1I/D2cv4FQxUi4IAgggAogAIoAIYGMamPk2JVDSXc5XEB/LgVyTVcDusBMBdMeP0gEQQAARQAQQAUQAyQOIALrrgBFAd/woHQABBBABRAARQAQQAUQA3XXACKA7fpQOgAACiAAigAggAogAIoDuOmAE0B0/SgdAAAFEABFABDAVAYxSK19SpZ5DiiP/THTlbZjOs/tmEQiLQNx2vwigW4KU950AAogAIoAIIAJIBJAIoLvuFwF0x4/SARBAABFABBABRAARQATQXQeMALrjR+kACCCACCACiAAigAggAuiuA0YA3fGjdAAEEEAEEAFEABFABBABdNcBI4Du+FE6AAIIIAKIACKACCACiAC664ARQHf8KB0AAQQQAUQAEcBcFsC6fGl9V6nnhsh7wF7AAfRD2XBJBDAbWjHHngEBRAARQAQwlwVw7TekD0+WDjsPAcyx7s/Tx0UAPcVJZX4QQAARQAQQAXQlgOVSWVkDw0JVqUoNOQGjR5hy/sW7l6oB0mu3SNNOQAD96HOy9RoIYLa2bBY/FwKIACKACGAuC2C9kwi6W8NrwBBwFvd36Xw0BDCddKk7LQQQQAQQAUQAc1kArfXZCYSdQNx2sBEBrKioUEmJ/V8OCISfAAKIACKACCACyCpgVgG7668RQHf8KB0AAQQQAUQAEUAEEAFEAN11wAigO36UDoAAAogAIoAIIAKIACKA7jpgBNAdP0oHQAABRAARQAQQAUQAEUB3HTAC6I4fpQMggAAigAggAogAIoAIoLsOGAF0x4/SARBAABFABBAB9EoAoyTLl1Sp55CGfIBhzwNo98gqYFYBu+1+EUC3BCnvOwEEEAFEABFABJAIIBFAd90vAuiOH6UDIIAAIoAIIAKIACKAuS6A/SX9UVJPSTWSrpH0RBJ9MgKYBCxODQcBBBABRAARQAQwlALo1kmS6mRyXQB7S7IdDedI6iXpPUnDJFUlSBEBTBAUp4WHAAKIACKACCACGEoBdOskSXU0uS6AzWHNlXSkpJUJUkQAEwTFaeEhgAAigAggAogAhlIA3TpJUh1N2AXwIEk/kbSPJDPjYyX9tdkTznTOsQieCdxFkt5OikLDyXaNP0jaI4myCGASsDg1HAQQQAQQAUQAEcCUBDDsTpJUJxN2AZwmaZIzNPtUHAE8SdJDki6Q9JakSySdIGm4pLUOCRvebReHylRJq53v95D0mqRzJb2RBEEEMAlYnBoOAgggAogAIoAIYEoCGHYnSaqTCbsAxj5MfRwBNOl7R9L3nBPzneHbOyRdnyCJjpL+Jek+Z0FIa8XsXPuKHl0krVq5cqVKSswFOSAQfgImgH36NNznokXS7rvHv+d4P8vm70UpZPMz0t4t33XaewcTr1h0VpXWyPmQcaofrEVaqqYfNkF9z27J8gDaigtJ/SR9HfNmbJVkX20dYXCStu6x1Z9nsgB2kFQt6fhmw8I2jNtN0tEJkLHnf1TSfElXJnC+nXNFAudxCgQgAAEIQAACmUfgqgR9oLkABuEkruhmsgDanxefS5oo6c0YCjdKmiJpvwTIHCjpVUnzYs49TdKHOykbNwIY5y+IBC7NKR4TiERjaQuPqaZWHW2RGrd0laI90kU2+Xppi+SZpavEztoi1QhgEE7iik2uC6AreJIicwDVMJXAIsocwRGgLYJj3/zKtEV42sLuhPYIT3vQFtnTFs0jgF4IoK90MlkAvQi3uoXNL7Nbgt6Vpy28Y+m2JtrCLUFvy9Me3vJ0Uxtt4Yaet2XdtkU6hoC9fcI2astkAbRHs0UglvLFUr/YYYtAVki6M4lFIG6Au32B3Fybsk0J0BbheSNoi/C0BRFA2iJcBMJzN24/p3a2CCRIJ0mKbtgFsFhqXDb0gaQfSnpJ0leO6FkaGFv0cb4jgpYG5kRJIySVJ0UitZNtTuD/SLouwVVDqV2FUokQoC0SoeTPObSFP5wTvQrtkSip9J9HW6SfcaJXSKUtwu4kiT575LywC+DBjvA1fyiTvjOdb1oKGEsWbYmgLeffxU5kMCkQnAwBCEAAAhCAAARaIZBVThJ2AeRNhAAEIAABCEAAAhDwmAAC6DFQqoMABCAAAQhAAAJhJ4AAhr2FuD8IQAACEIAABCDgMQEE0GOgVAcBCEAAAhCAAATCTgABTL2FZsYsPpnrpKKx5d8cqRM4yGG6j6TecfZ+tvfVtuk519nu7z+SLpS0MOaSPSTZXtBHSaqT9KSk70uqjDlnT0l3SZogaZ1zvu0gw7GDgK1u/29nRf1mSW9IutTZNjF6VidJt0j6trNH9vOSvttsBf4ASfdI+obTBraAy+quiYFtE6t/LWm0s5f3LyX9nsZoJGDvuH0Ncr7zsaSrJT3r/Jt2CO5luczJAnGbJMtCYQft4V97xNue1bZ2tUwgtEUb7YAApvaiWvqZhyRd4Kw4tl/8EyQNl7Q2tSopJWmapEmS3pP0VBwBNAExeThD0lJJ10gaI2mUpC0OQesUTR4tNVB7Sf8r6R1Jpzg/t9xPCyS96HxwW/kHnQ/v39EKjQSek/S4w66dpGsl7eGwrnLOMrH7L2dFvu2IY/k3TbqtDe0ocFbmr3HE3trFfm/uk3S5c85gSR9JulfS/ZIOlfQbp14TSo6GP2ZqnT907DPb3n/LfDBOkskg7RDMW2J/QP7Z2QXK0pNFBZD28K89TACPl3RYzCXtj8sv+YxquxEQwLYZxTvDElCbVFgKGjssAfVKJ5J0fWpVUqoZgeZJNu1dXe1EnG52zrUt+Czfo6UEMlkZKekTJ7L3rnPOEZKecfYItvIWSfmVkzZom3OOtdkxMX810hgtCZQ6f9zYPtu2f7axt+ipifVfnNPtr+5PJR0gabYj9P+QZFskRfNy2h9NN0iy+oy//X+TSJPL6GFt2U2StR1HfAKWC9Uk0NjTDv6/JZYP7n0n4v1z5w8dE0B+L/xtCxNA++zeK85laYs22gIBTP5lDcMWdMnfdeaVaC6AQyQtdqIelu8xerzifPjaMO9ZjiB2j/m5Ra8sOmgR2v9zIlAWBbQPjehhw5P/lmTDxxsyD5Uvd7y7E4GyiKlF7A6RNEuSsd4YcwfLnQjerc4w5beafThbxG+JpL0lWXJ3k0nrSKPRE6tqhlOHfYBzNCVgUVV7l20o3SKAlv+UdvD/LTH+JuE/kPRyjADye+FvW5gA2h9CNgJhn/NvOqNEtiMYbYEAev42ZtyGz54T8KfC5gI4UZLN+TP+X8Tcgg3B2Lk2LG/DijY8ZkPxsYcNy1/hDJW94Awf2xBx9LAhZBtKs/9aBIujKQGLcP/dicod6PzIIn82vG7Z9GMPmwdrw2E2XG9D6gMlHR5zQqEkG0Ke7sxhs+F4q8d204ke9rN/SrJzbf4hR8NUB+vcbH6ZzWc1/hbZph38fztszuvPnJEGk45YAaQ9/G0PmzZk0Vib92dTTOxzvq8zomBTJ/iMaqU9iAAm/7IigMkzS6UEApgKtfSUsTlN9kFr8rcKAUwP5DZqtZEHW1BjUVGb83SOJBuOt6EvOjn/mqS/JJte8k1J85zLIoD+8W/rSjZ1xEYhbNtY++OR3w0EsK13JqmfMwScFK6UT2YIOGV0nha0hR1HS7IV2rbwJnowvOIp5qQrs0VMNiXiTwwBJ83OTQGbOmJTSWxRTvSwYXn7vLIFUBbttrZhaoQbyu7K2vx8a4N/8bvROkgigKm9aLYIxIa6LnKK2xCZzTmwzpJFIKkxbV5qZ4tAbAGIpR6xw+by2fBu80Ug452VxHbOVEm2orWfs4gkugikTNJ2px5b4RpNeeLN3Wd+LfbZYOl0jpVkaVpiU+3Y00UnWJ/spNqx79nQ+2dxFoHY0Ex0dfx5km6S1FPSVmcRiA352hBn9HjUmY/JIpCdv0c2Z9U+c2zuqy0CoR38+Z3r4kxriL2aRZnsvbcFTbYYkPbwpy3iXcWGg+33wuYG2jxN2qKVtkAAU3tRbb6ZvVw2j8xE0Cawn+isIo2udkyt5twuZb+8ttjADlsgYGF8m09mk63tl9rmlVnerdg0MJbTr3kaGJM7W20aTQNjQzbRNDAmLjZfxOYC2ge2rT61NDA2mZs0MDvev7sdZhb9M17RwyZbR+fl2dCwyZsJ+CZHGO08m69pRzQNjK2+/qmzYOGPTrqX5mlgLC+jtYNFFm8nDUyTDwKbH2npjex3wATE3mX7XbBok0U5aIdgPzdjh4DtTmgP/9rDAgJPO8O+Nj3L8sTatAjrE0z+aAsEMC1vo6WAsdVHtgrPVqVe7OQETMvFcqRSizSZ8DU/TLZNMqKJoC2KZHM9XnfSMNhCguhhK3ktEhubCNraZmeJoC1flEW6TAY5dhCwCGy8w1boRpM0RxPeWvTJFoNEE0Fb3r/oYYtA7EPY2tYWf1hbmsQ3TwRtq4btQ9vmGFp+RxJB72D4gJMf0SKpJuA298zeV5M/O2iHYH9zmwsg7eFfe1jKKJuesosjfNYn2AIdmx7B70Yb7UAE0L8XlStBAAIQgAAEIACBUBBAAEPRDNwEBCAAAQhAAAIQ8I8AAugfa64EAQhAAAIQgAAEQkEAAQxFM3ATEIAABCAAAQhAwD8CCKB/rLkSBCAAAQhAAAIQCAUBBDAUzcBNQAACEIAABCAAAf8IIID+seZKEIAABCAAAQhAIBQEEMBQNAM3AQEIQAACEIAABPwjgAD6x5orQQACEIAABCAAgVAQQABD0QzcBAQgAAEIQAACEPCPAALoH2uuBAEIQAACEIAABEJBAAEMRTNwExCAAAQgAAEIQMA/Agigf6y5EgQgAAEIQAACEAgFAQQwFM3ATUAAAhCAAAQgAAH/CCCA/rHmShCAAAQgAAEIQCAUBBDAUDQDNwEBCEAAAhCAAAT8I4AA+seaK0EAAhCAAAQgAIFQEEAAQ9EM3AQEIAABCEAAAhDwjwAC6B9rrgQBCEAAAhCAAARCQQABDEUzcBMQgAAEIAABCEDAPwIIoH+suRIEIAABCEAAAhAIBQEEMBTNwE1AAAIQgAAEIAAB/wgggP6x5koQgAAEIAABCEAgFAQQwFA0AzcBAQhAAAIQgAAE/COAAPrHmitBAAIQgAAEIACBUBBAAEPRDNwEBCAAAQhAAAIQ8I8AAugfa64EAQhAAAIQgAAEQkEAAQxFM3ATEIAABCAAAQhAwD8CCKB/rLkSBCAAAQhAAAIQCAUBBDAUzcBNQAACEIAABCAAAf8IIID+seZKEIAABCAAAQhAIBQEEMBQNAM3AQEIQAACEIAABPwj8P8BDC2U8g2RBQIAAAAASUVORK5CYII=\" width=\"640\">"
      ],
      "text/plain": [
       "<IPython.core.display.HTML object>"
      ]
     },
     "metadata": {},
     "output_type": "display_data"
    },
    {
     "data": {
      "text/plain": [
       "(0, 5000)"
      ]
     },
     "execution_count": 9,
     "metadata": {},
     "output_type": "execute_result"
    }
   ],
   "source": [
    "errorbar(dot(mp.windows['EE'],range(5000)[mp.windowrange['EE']]),cmbp,\\\n",
    "         yerr=sqrt(diag(pcov_ell_2_5000['EEEE'])),fmt='--',color='w',ecolor='b')\n",
    "\n",
    "errorbar(dot(ms.windows['EE'],range(5000)[ms.windowrange['EE']]),cmbs,\\\n",
    "         yerr=sqrt(diag(scov['EEEE'])),fmt='--',color='y',ecolor='r')\n",
    "\n",
    "yscale(\"log\", nonposy='clip')\n",
    "tick_params(which='both',top=True,right=True,labeltop=True,labelright=True)\n",
    "ylim(0.01,70)\n",
    "yticks([.01,.1,1,10])\n",
    "\n",
    "xlim(0,5000)"
   ]
  },
  {
   "cell_type": "markdown",
   "metadata": {},
   "source": [
    "##  Lets try looking at the constraints on Yp and Neff from SPT3G + Planck"
   ]
  },
  {
   "cell_type": "markdown",
   "metadata": {},
   "source": [
    "#### Set the parameters, you can throw everything for the model in here, fish_params will be included in the covariance. The first number in fish_param is the fiducial model value, second is step size and the last is the optional prior."
   ]
  },
  {
   "cell_type": "code",
   "execution_count": 15,
   "metadata": {
    "collapsed": true
   },
   "outputs": [],
   "source": [
    "params={'H0':None,'cosmomc_theta': fish_param(1.04106e-2,0.00041),\n",
    "                           'ombh2':fish_param(0.02227,0.0002),\n",
    "                           'ommh2':fish_param(0.1413,0.0011),\n",
    "                           'tau':fish_param(0.067,0.013, 0.02),\n",
    "                           'clamp':fish_param(1.873e-09,0.0115e-9),\n",
    "                           'ns':fish_param( 0.9681,0.0044),\n",
    "                           #'mnu':fish_param(.06,0.01),\n",
    "                           'nnu':fish_param(3.046,0.03),\n",
    "                           'YHe':fish_param(.252,.014),\n",
    "                           'lmax':6000,'lens_potential_accuracy':2.0}"
   ]
  },
  {
   "cell_type": "markdown",
   "metadata": {},
   "source": [
    "####  Calculate the fisher matrices for planck and spt"
   ]
  },
  {
   "cell_type": "code",
   "execution_count": 16,
   "metadata": {},
   "outputs": [
    {
     "name": "stdout",
     "output_type": "stream",
     "text": [
      "[[  1.09100934e+05  -1.06941972e+14   2.06278678e+07   8.21982888e+03\n",
      "   -1.26236620e+05  -1.41800405e+05   2.37204573e+05  -7.40399323e+02]\n",
      " [ -1.06941972e+14   1.55282410e+23  -4.06810940e+16  -6.11171536e+12\n",
      "    1.06157769e+14  -7.77056700e+13  -5.42584225e+14   1.38066864e+12]\n",
      " [  2.06278678e+07  -4.06810940e+16   6.77421956e+10   3.85849991e+06\n",
      "   -4.61986224e+07  -4.06854116e+08   1.34443631e+08  -5.18221105e+05]\n",
      " [  8.21982888e+03  -6.11171536e+12   3.85849991e+06   9.79118322e+02\n",
      "   -1.27482855e+04  -4.31591276e+04  -2.80798119e+03  -6.91783632e+01]\n",
      " [ -1.26236620e+05   1.06157769e+14  -4.61986224e+07  -1.27482855e+04\n",
      "    2.00577398e+05  -2.76511889e+05  -1.03735898e+05  -1.25805950e+03]\n",
      " [ -1.41800405e+05  -7.77056700e+13  -4.06854116e+08  -4.31591276e+04\n",
      "   -2.76511889e+05   4.01429805e+07   1.38641752e+06  -2.96529810e+04]\n",
      " [  2.37204573e+05  -5.42584225e+14   1.34443631e+08  -2.80798119e+03\n",
      "   -1.03735898e+05   1.38641752e+06   2.87061947e+06  -2.01311107e+03]\n",
      " [ -7.40399323e+02   1.38066864e+12  -5.18221105e+05  -6.91783632e+01\n",
      "   -1.25805950e+03  -2.96529810e+04  -2.01311107e+03   6.83396323e+03]]\n",
      "0 YHe 0.0259966018399\n",
      "1 clamp 2.29325875159e-11\n",
      "2 cosmomc_theta 1.97074938269e-05\n",
      "3 nnu 0.502413037092\n",
      "4 ns 0.0127004066467\n",
      "5 ombh2 0.000309471385569\n",
      "6 ommh2 0.00732373328383\n",
      "7 tau 0.0129964543019\n"
     ]
    }
   ],
   "source": [
    "full_pcov = make_full_cov(['TT','EE','TE'],pcov_ell_2_5000)\n",
    "Fp=Fisher_Matrix(params,full_pcov,\n",
    "                 planck_model(specrange = [('TT',(2,3000)),('EE',(2,5000)),('TE',(2,5000))]))"
   ]
  },
  {
   "cell_type": "code",
   "execution_count": 17,
   "metadata": {
    "scrolled": true
   },
   "outputs": [
    {
     "ename": "KeyboardInterrupt",
     "evalue": "",
     "output_type": "error",
     "traceback": [
      "\u001b[0;31m---------------------------------------------------------------------------\u001b[0m",
      "\u001b[0;31mKeyboardInterrupt\u001b[0m                         Traceback (most recent call last)",
      "\u001b[0;32m<ipython-input-17-e25798db0617>\u001b[0m in \u001b[0;36m<module>\u001b[0;34m()\u001b[0m\n\u001b[1;32m      2\u001b[0m Fs=Fisher_Matrix(params,full_scov,spt3G_model(specrange = [('TT',(200,3000)),\n\u001b[1;32m      3\u001b[0m                                 \u001b[0;34m(\u001b[0m\u001b[0;34m'EE'\u001b[0m\u001b[0;34m,\u001b[0m\u001b[0;34m(\u001b[0m\u001b[0;36m200\u001b[0m\u001b[0;34m,\u001b[0m\u001b[0;36m5000\u001b[0m\u001b[0;34m)\u001b[0m\u001b[0;34m)\u001b[0m\u001b[0;34m,\u001b[0m\u001b[0;34m\u001b[0m\u001b[0m\n\u001b[0;32m----> 4\u001b[0;31m                                 ('TE',(200,5000))]))\n\u001b[0m",
      "\u001b[0;32m/nfs/home/kmaylor/Forecasting/Fisher_CMB.py\u001b[0m in \u001b[0;36mFisher_Matrix\u001b[0;34m(params, cov, model, show_results)\u001b[0m\n\u001b[1;32m     42\u001b[0m                                                                                if isinstance(v,fish_param)])\n\u001b[1;32m     43\u001b[0m     \u001b[0;32melse\u001b[0m\u001b[0;34m:\u001b[0m\u001b[0;34m\u001b[0m\u001b[0m\n\u001b[0;32m---> 44\u001b[0;31m         FM=(add_priors(params,Fisher_Calc(derivative(model,params),cov)), [k for k,v in params.items()\n\u001b[0m\u001b[1;32m     45\u001b[0m                                                                            if isinstance(v,fish_param)])\n\u001b[1;32m     46\u001b[0m         \u001b[0mprint\u001b[0m\u001b[0;34m(\u001b[0m\u001b[0mFM\u001b[0m\u001b[0;34m[\u001b[0m\u001b[0;36m0\u001b[0m\u001b[0;34m]\u001b[0m\u001b[0;34m)\u001b[0m\u001b[0;34m\u001b[0m\u001b[0m\n",
      "\u001b[0;32m/nfs/home/kmaylor/Forecasting/Fisher_CMB.py\u001b[0m in \u001b[0;36mderivative\u001b[0;34m(model, params)\u001b[0m\n\u001b[1;32m     76\u001b[0m             \u001b[0mtmp\u001b[0m\u001b[0;34m.\u001b[0m\u001b[0mupdate\u001b[0m\u001b[0;34m(\u001b[0m\u001b[0mbase\u001b[0m\u001b[0;34m)\u001b[0m \u001b[0;31m#this update replaces all fish_params with base value and can now be fed to model\u001b[0m\u001b[0;34m\u001b[0m\u001b[0m\n\u001b[1;32m     77\u001b[0m             \u001b[0mtmp\u001b[0m\u001b[0;34m[\u001b[0m\u001b[0mk\u001b[0m\u001b[0;34m]\u001b[0m\u001b[0;34m+=\u001b[0m\u001b[0mv\u001b[0m\u001b[0;34m.\u001b[0m\u001b[0mstep\u001b[0m\u001b[0;34m/\u001b[0m\u001b[0;36m2\u001b[0m\u001b[0;34m\u001b[0m\u001b[0m\n\u001b[0;32m---> 78\u001b[0;31m             \u001b[0mmodelu\u001b[0m \u001b[0;34m=\u001b[0m \u001b[0mmodel\u001b[0m\u001b[0;34m(\u001b[0m\u001b[0;34m**\u001b[0m\u001b[0mtmp\u001b[0m\u001b[0;34m)\u001b[0m\u001b[0;34m\u001b[0m\u001b[0m\n\u001b[0m\u001b[1;32m     79\u001b[0m             \u001b[0mtmp\u001b[0m\u001b[0;34m[\u001b[0m\u001b[0mk\u001b[0m\u001b[0;34m]\u001b[0m\u001b[0;34m-=\u001b[0m\u001b[0mv\u001b[0m\u001b[0;34m.\u001b[0m\u001b[0mstep\u001b[0m\u001b[0;34m\u001b[0m\u001b[0m\n\u001b[1;32m     80\u001b[0m             \u001b[0mmodeld\u001b[0m \u001b[0;34m=\u001b[0m \u001b[0mmodel\u001b[0m\u001b[0;34m(\u001b[0m\u001b[0;34m**\u001b[0m\u001b[0mtmp\u001b[0m\u001b[0;34m)\u001b[0m\u001b[0;34m\u001b[0m\u001b[0m\n",
      "\u001b[0;32m/nfs/home/kmaylor/Forecasting/Models/SPT3G/spt3G_model.py\u001b[0m in \u001b[0;36m__call__\u001b[0;34m(self, **params)\u001b[0m\n\u001b[1;32m     51\u001b[0m \u001b[0;34m\u001b[0m\u001b[0m\n\u001b[1;32m     52\u001b[0m         \u001b[0;31m#Calculate model for current params\u001b[0m\u001b[0;34m\u001b[0m\u001b[0;34m\u001b[0m\u001b[0m\n\u001b[0;32m---> 53\u001b[0;31m         \u001b[0mcmb\u001b[0m \u001b[0;34m=\u001b[0m \u001b[0mself\u001b[0m\u001b[0;34m.\u001b[0m\u001b[0mcmb\u001b[0m\u001b[0;34m(\u001b[0m\u001b[0;34m**\u001b[0m\u001b[0mparams\u001b[0m\u001b[0;34m)\u001b[0m\u001b[0;34m\u001b[0m\u001b[0m\n\u001b[0m\u001b[1;32m     54\u001b[0m         \u001b[0mforegrounds\u001b[0m \u001b[0;34m=\u001b[0m \u001b[0mself\u001b[0m\u001b[0;34m.\u001b[0m\u001b[0mforegrounds\u001b[0m\u001b[0;34m(\u001b[0m\u001b[0;34m**\u001b[0m\u001b[0mparams\u001b[0m\u001b[0;34m)\u001b[0m\u001b[0;34m\u001b[0m\u001b[0m\n\u001b[1;32m     55\u001b[0m         cals = {'TT':1/params.get('Tcal',1)**2,\n",
      "\u001b[0;32m/nfs/home/kmaylor/Forecasting/Models/CMB/Fisher_camb.py\u001b[0m in \u001b[0;36m__call__\u001b[0;34m(self, ALens, As, DoLensing, H0, cosmomc_theta, k_eta_max_scalar, lmax, massive_neutrinos, massless_neutrinos, mnu, nnu, NonLinear, ns, ombh2, omch2, omk, pivot_scalar, tau, YHe, AccuracyBoost, lens_potential_accuracy, nokwargs, spectra, **kwargs)\u001b[0m\n\u001b[1;32m     59\u001b[0m         \u001b[0;31m#feed params to camb and calulate power spectra, returned in specs\u001b[0m\u001b[0;34m\u001b[0m\u001b[0;34m\u001b[0m\u001b[0m\n\u001b[1;32m     60\u001b[0m         \u001b[0mcp\u001b[0m\u001b[0;34m=\u001b[0m\u001b[0mself\u001b[0m\u001b[0;34m.\u001b[0m\u001b[0m_camb\u001b[0m\u001b[0;34m.\u001b[0m\u001b[0mset_params\u001b[0m\u001b[0;34m(\u001b[0m\u001b[0;34m**\u001b[0m\u001b[0mparams\u001b[0m\u001b[0;34m)\u001b[0m\u001b[0;34m\u001b[0m\u001b[0m\n\u001b[0;32m---> 61\u001b[0;31m         \u001b[0mself\u001b[0m\u001b[0;34m.\u001b[0m\u001b[0mresult\u001b[0m \u001b[0;34m=\u001b[0m \u001b[0mself\u001b[0m\u001b[0;34m.\u001b[0m\u001b[0m_camb\u001b[0m\u001b[0;34m.\u001b[0m\u001b[0mget_results\u001b[0m\u001b[0;34m(\u001b[0m\u001b[0mcp\u001b[0m\u001b[0;34m)\u001b[0m\u001b[0;34m\u001b[0m\u001b[0m\n\u001b[0m\u001b[1;32m     62\u001b[0m         \u001b[0mspecs\u001b[0m \u001b[0;34m=\u001b[0m \u001b[0mself\u001b[0m\u001b[0;34m.\u001b[0m\u001b[0mresult\u001b[0m\u001b[0;34m.\u001b[0m\u001b[0mget_cmb_power_spectra\u001b[0m\u001b[0;34m(\u001b[0m\u001b[0mspectra\u001b[0m\u001b[0;34m=\u001b[0m\u001b[0;34m[\u001b[0m\u001b[0;34m'total'\u001b[0m\u001b[0;34m,\u001b[0m\u001b[0;34m'lens_potential'\u001b[0m\u001b[0;34m]\u001b[0m\u001b[0;34m)\u001b[0m\u001b[0;34m\u001b[0m\u001b[0m\n\u001b[1;32m     63\u001b[0m \u001b[0;34m\u001b[0m\u001b[0m\n",
      "\u001b[0;32m~/CAMB/pycamb/camb/camb.py\u001b[0m in \u001b[0;36mget_results\u001b[0;34m(params)\u001b[0m\n\u001b[1;32m    951\u001b[0m     \"\"\"\n\u001b[1;32m    952\u001b[0m     \u001b[0mres\u001b[0m \u001b[0;34m=\u001b[0m \u001b[0mCAMBdata\u001b[0m\u001b[0;34m(\u001b[0m\u001b[0;34m)\u001b[0m\u001b[0;34m\u001b[0m\u001b[0m\n\u001b[0;32m--> 953\u001b[0;31m     \u001b[0mres\u001b[0m\u001b[0;34m.\u001b[0m\u001b[0mcalc_power_spectra\u001b[0m\u001b[0;34m(\u001b[0m\u001b[0mparams\u001b[0m\u001b[0;34m)\u001b[0m\u001b[0;34m\u001b[0m\u001b[0m\n\u001b[0m\u001b[1;32m    954\u001b[0m     \u001b[0;32mreturn\u001b[0m \u001b[0mres\u001b[0m\u001b[0;34m\u001b[0m\u001b[0m\n\u001b[1;32m    955\u001b[0m \u001b[0;34m\u001b[0m\u001b[0m\n",
      "\u001b[0;32m~/CAMB/pycamb/camb/camb.py\u001b[0m in \u001b[0;36mcalc_power_spectra\u001b[0;34m(self, params)\u001b[0m\n\u001b[1;32m    406\u001b[0m         \"\"\"\n\u001b[1;32m    407\u001b[0m         \u001b[0;32mif\u001b[0m \u001b[0mparams\u001b[0m \u001b[0;32mis\u001b[0m \u001b[0;32mnot\u001b[0m \u001b[0;32mNone\u001b[0m\u001b[0;34m:\u001b[0m\u001b[0;34m\u001b[0m\u001b[0m\n\u001b[0;32m--> 408\u001b[0;31m             \u001b[0mresult\u001b[0m \u001b[0;34m=\u001b[0m \u001b[0mself\u001b[0m\u001b[0;34m.\u001b[0m\u001b[0mcalc_transfers\u001b[0m\u001b[0;34m(\u001b[0m\u001b[0mparams\u001b[0m\u001b[0;34m,\u001b[0m \u001b[0monly_transfers\u001b[0m\u001b[0;34m=\u001b[0m\u001b[0;32mFalse\u001b[0m\u001b[0;34m)\u001b[0m\u001b[0;34m\u001b[0m\u001b[0m\n\u001b[0m\u001b[1;32m    409\u001b[0m             \u001b[0;32mif\u001b[0m \u001b[0mresult\u001b[0m \u001b[0;34m!=\u001b[0m \u001b[0;36m0\u001b[0m\u001b[0;34m:\u001b[0m\u001b[0;34m\u001b[0m\u001b[0m\n\u001b[1;32m    410\u001b[0m                 \u001b[0;32mraise\u001b[0m \u001b[0mCAMBError\u001b[0m\u001b[0;34m(\u001b[0m\u001b[0;34m'Error getting transfer functions: %u'\u001b[0m \u001b[0;34m%\u001b[0m \u001b[0mresult\u001b[0m\u001b[0;34m)\u001b[0m\u001b[0;34m\u001b[0m\u001b[0m\n",
      "\u001b[0;32m~/CAMB/pycamb/camb/camb.py\u001b[0m in \u001b[0;36mcalc_transfers\u001b[0;34m(self, params, only_transfers)\u001b[0m\n\u001b[1;32m    396\u001b[0m         \u001b[0mopt\u001b[0m \u001b[0;34m=\u001b[0m \u001b[0mc_bool\u001b[0m\u001b[0;34m(\u001b[0m\u001b[0;34m)\u001b[0m\u001b[0;34m\u001b[0m\u001b[0m\n\u001b[1;32m    397\u001b[0m         \u001b[0mopt\u001b[0m\u001b[0;34m.\u001b[0m\u001b[0mvalue\u001b[0m \u001b[0;34m=\u001b[0m \u001b[0monly_transfers\u001b[0m\u001b[0;34m\u001b[0m\u001b[0m\n\u001b[0;32m--> 398\u001b[0;31m         \u001b[0;32mreturn\u001b[0m \u001b[0mCAMBdata_gettransfers\u001b[0m\u001b[0;34m(\u001b[0m\u001b[0mself\u001b[0m\u001b[0;34m.\u001b[0m\u001b[0m_key\u001b[0m\u001b[0;34m,\u001b[0m \u001b[0mbyref\u001b[0m\u001b[0;34m(\u001b[0m\u001b[0mparams\u001b[0m\u001b[0;34m)\u001b[0m\u001b[0;34m,\u001b[0m \u001b[0mbyref\u001b[0m\u001b[0;34m(\u001b[0m\u001b[0mopt\u001b[0m\u001b[0;34m)\u001b[0m\u001b[0;34m)\u001b[0m\u001b[0;34m\u001b[0m\u001b[0m\n\u001b[0m\u001b[1;32m    399\u001b[0m \u001b[0;34m\u001b[0m\u001b[0m\n\u001b[1;32m    400\u001b[0m     \u001b[0;32mdef\u001b[0m \u001b[0mcalc_power_spectra\u001b[0m\u001b[0;34m(\u001b[0m\u001b[0mself\u001b[0m\u001b[0;34m,\u001b[0m \u001b[0mparams\u001b[0m\u001b[0;34m=\u001b[0m\u001b[0;32mNone\u001b[0m\u001b[0;34m)\u001b[0m\u001b[0;34m:\u001b[0m\u001b[0;34m\u001b[0m\u001b[0m\n",
      "\u001b[0;31mKeyboardInterrupt\u001b[0m: "
     ]
    }
   ],
   "source": [
    "full_scov = make_full_cov(['TT','EE','TE'],scov)\n",
    "Fs=Fisher_Matrix(params,full_scov,spt3G_model(specrange = [('TT',(200,3000)),\n",
    "                                ('EE',(200,5000)),\n",
    "                                ('TE',(200,5000))]))"
   ]
  },
  {
   "cell_type": "markdown",
   "metadata": {},
   "source": [
    "#### Add matrices to get the joint constraint"
   ]
  },
  {
   "cell_type": "code",
   "execution_count": null,
   "metadata": {
    "collapsed": true
   },
   "outputs": [],
   "source": [
    "Fps = Fp[0]+Fs[0]"
   ]
  },
  {
   "cell_type": "markdown",
   "metadata": {},
   "source": [
    "### Now some functions for making sloppy plots"
   ]
  },
  {
   "cell_type": "markdown",
   "metadata": {},
   "source": [
    "#### make the x and y range in terms of sigma"
   ]
  },
  {
   "cell_type": "code",
   "execution_count": null,
   "metadata": {
    "collapsed": true
   },
   "outputs": [],
   "source": [
    "def contour_range(mu,std,nsig=4,points=100):\n",
    "    return linspace(mu-nsig*std,mu+nsig*std,points)"
   ]
  },
  {
   "cell_type": "markdown",
   "metadata": {},
   "source": [
    "#### function for making the contours"
   ]
  },
  {
   "cell_type": "code",
   "execution_count": null,
   "metadata": {
    "collapsed": true
   },
   "outputs": [],
   "source": [
    "def sig_contours(mu,sigma,colors='k'):\n",
    "    x=contour_range(mu[0],sqrt(sigma[0,0]),nsig=5)\n",
    "    y=contour_range(mu[1],sqrt(sigma[1,1]),nsig=5)\n",
    "    X,Y=meshgrid(x,y)\n",
    "    Z = bivariate_normal(X, Y, sigmax=sqrt(sigma[0,0]), sigmay=sqrt(sigma[1,1]),\n",
    "                      mux=mu[0], muy=mu[1],sigmaxy=sigma[0,1])\n",
    "    z1 = bivariate_normal(mu[0]+sqrt(sigma[0,0])*1, mu[1], sigmax=sqrt(sigma[0,0]), sigmay=sqrt(sigma[1,1]),\n",
    "                      mux=mu[0], muy=mu[1],sigmaxy=sigma[0,1])\n",
    "    z2 = bivariate_normal(mu[0]+sqrt(sigma[0,0])*2, mu[1], sigmax=sqrt(sigma[0,0]), sigmay=sqrt(sigma[1,1]),\n",
    "                      mux=mu[0], muy=mu[1],sigmaxy=sigma[0,1])\n",
    "        \n",
    "    return contour(Y, X, Z,[z2,z1],colors=colors)\n",
    "        \n"
   ]
  },
  {
   "cell_type": "markdown",
   "metadata": {},
   "source": [
    "### And throw everything together to make the plot"
   ]
  },
  {
   "cell_type": "code",
   "execution_count": null,
   "metadata": {},
   "outputs": [],
   "source": [
    "mu = [.252,3.046]\n",
    "sigmap = array([[inv(Fp[0])[0,0],inv(Fp[0])[0,3]],[inv(Fp[0])[3,0],inv(Fp[0])[3,3]]])\n",
    "sigmaps = array([[inv(Fps)[0,0],inv(Fps)[0,3]],[inv(Fps)[3,0],inv(Fps)[3,3]]])\n",
    "xlab = r'$\\rm{N}_{\\rm{eff}}$'\n",
    "ylab = r'$\\rm{Y}_{\\rm{p}}$'\n",
    "titl='$SPT3G(T:200<\\ell<3000,P:200<\\ell<5000)$'+ \\\n",
    "'\\n $Planck(T:2<\\ell<3000,P:2<\\ell<5000)$'+ \\\n",
    "'\\n $LCDM$+$N_{eff}$+$Y_p$'\n",
    "\n",
    "matplotlib.rc('text', usetex = True)\n",
    "figure()\n",
    "cs2=sig_contours(mu,sigmap,colors = 'r')\n",
    "cs1=sig_contours(mu,sigmaps,colors = 'k')\n",
    "fmt1=dict(zip(cs1.levels,[r'$\\textit{Planck}$+$\\rm{SPT3G}$',r'$\\textit{Planck}$+$\\rm{SPT3G}$']))\n",
    "fmt2=dict(zip(cs2.levels,[r'$\\textit{Planck}$',r'$\\textit{Planck}$']))\n",
    "\n",
    "clabel(cs2,cs2.levels[::2], inline=True, fmt=fmt2, fontsize=14)\n",
    "clabel(cs1,cs1.levels[::2], inline=True, fmt=fmt1, fontsize=14)\n",
    "xlabel(xlab, fontsize=14)\n",
    "ylabel(ylab, fontsize=14)\n",
    "title(titl)\n",
    "tight_layout()\n",
    "savefig('Figures/Yp_Neff_constraints_planck_and_planckSPT3G.pdf')"
   ]
  },
  {
   "cell_type": "markdown",
   "metadata": {},
   "source": [
    "## Now lets look at H0 and Omegabh^2 vs Neff with and without Planck ell>800"
   ]
  },
  {
   "cell_type": "markdown",
   "metadata": {},
   "source": [
    "#### First make the fisher matrices need for LCDM+Neff"
   ]
  },
  {
   "cell_type": "code",
   "execution_count": null,
   "metadata": {
    "collapsed": true
   },
   "outputs": [],
   "source": [
    "params={'H0':fish_param(67.90,0.55),#'cosmomc_theta': fish_param(1.04106e-2,0.00041),\n",
    "                           'ombh2':fish_param(0.02227,0.0002),\n",
    "                           'ommh2':fish_param(0.1413,0.0011),\n",
    "                           'tau':fish_param(0.067,0.013, 0.02),\n",
    "                           'clamp':fish_param(1.873e-09,0.0115e-9),\n",
    "                           'ns':fish_param( 0.9681,0.0044),\n",
    "                           'nnu':fish_param(3.046,0.03),\n",
    "                           \n",
    "                           'lmax':6000,'lens_potential_accuracy':2.0}"
   ]
  },
  {
   "cell_type": "code",
   "execution_count": null,
   "metadata": {
    "scrolled": true
   },
   "outputs": [],
   "source": [
    "Fp_5000_h0_neff=Fisher_Matrix(params,make_full_cov(['TT','EE','TE'],pcov_ell_2_5000),planck_model(specrange = [('TT',(2,3000)),\n",
    "                                ('EE',(2,5000)),\n",
    "                                ('TE',(2,5000))]))"
   ]
  },
  {
   "cell_type": "code",
   "execution_count": null,
   "metadata": {
    "collapsed": true
   },
   "outputs": [],
   "source": [
    "pcov_ell_2_800=pload(open( \"Covariances/planck_cov_ell_2_800.p\", \"rb\" ))"
   ]
  },
  {
   "cell_type": "code",
   "execution_count": null,
   "metadata": {
    "scrolled": true
   },
   "outputs": [],
   "source": [
    "Fp_800_h0_neff=Fisher_Matrix(params,make_full_cov(['TT','EE','TE'],pcov_ell_2_800),planck_model(specrange = [('TT',(2,800)),\n",
    "                                ('EE',(2,800)),\n",
    "                                ('TE',(2,800))]))"
   ]
  },
  {
   "cell_type": "code",
   "execution_count": null,
   "metadata": {
    "scrolled": true
   },
   "outputs": [],
   "source": [
    "Fs_h0_neff=Fisher_Matrix(params,make_full_cov(['TT','EE','TE'],scov),spt3G_model(specrange = [('TT',(200,3000)),\n",
    "                                ('EE',(200,5000)),\n",
    "                                ('TE',(200,5000))]))"
   ]
  },
  {
   "cell_type": "code",
   "execution_count": null,
   "metadata": {
    "collapsed": true
   },
   "outputs": [],
   "source": [
    "Fps_5000_h0_neff = Fp_5000_h0_neff[0]+Fs_h0_neff[0]\n",
    "Fps_800_5000_h0_neff = Fp_800_h0_neff[0]+Fs_h0_neff[0]"
   ]
  },
  {
   "cell_type": "markdown",
   "metadata": {},
   "source": [
    "#### And now the matrices for just LCDM"
   ]
  },
  {
   "cell_type": "code",
   "execution_count": null,
   "metadata": {
    "collapsed": true
   },
   "outputs": [],
   "source": [
    "params={'H0':fish_param(67.90,0.55),#'cosmomc_theta': fish_param(1.04106e-2,0.00041),\n",
    "                           'ombh2':fish_param(0.02227,0.0002),\n",
    "                           'ommh2':fish_param(0.1413,0.0011),\n",
    "                           'tau':fish_param(0.067,0.013, 0.02),\n",
    "                           'clamp':fish_param(1.873e-09,0.0115e-9),\n",
    "                           'ns':fish_param( 0.9681,0.0044),\n",
    "                           #'nnu':fish_param(3.046,0.03),\n",
    "                           \n",
    "                           'lmax':6000,'lens_potential_accuracy':2.0}"
   ]
  },
  {
   "cell_type": "code",
   "execution_count": null,
   "metadata": {
    "scrolled": true
   },
   "outputs": [],
   "source": [
    "Fp_5000_h0=Fisher_Matrix(params,make_full_cov(['TT','EE','TE'],pcov_ell_2_5000),planck_model(specrange = [('TT',(2,3000)),\n",
    "                                ('EE',(2,5000)),\n",
    "                                ('TE',(2,5000))]))"
   ]
  },
  {
   "cell_type": "code",
   "execution_count": null,
   "metadata": {
    "scrolled": true
   },
   "outputs": [],
   "source": [
    "Fp_800_h0=Fisher_Matrix(params,make_full_cov(['TT','EE','TE'],pcov_ell_2_800),planck_model(specrange = [('TT',(2,800)),\n",
    "                                ('EE',(2,800)),\n",
    "                                ('TE',(2,800))]))"
   ]
  },
  {
   "cell_type": "code",
   "execution_count": null,
   "metadata": {
    "scrolled": true
   },
   "outputs": [],
   "source": [
    "Fs_h0=Fisher_Matrix(params,make_full_cov(['TT','EE','TE'],scov),spt3G_model(specrange = [('TT',(200,3000)),\n",
    "                                ('EE',(200,5000)),\n",
    "                                ('TE',(200,5000))]))\n"
   ]
  },
  {
   "cell_type": "code",
   "execution_count": null,
   "metadata": {
    "collapsed": true
   },
   "outputs": [],
   "source": [
    "Fps_5000_h0 = Fp_5000_h0[0]+Fs_h0[0]\n",
    "Fps_800_5000_h0 = Fp_800_h0[0]+Fs_h0[0]"
   ]
  },
  {
   "cell_type": "markdown",
   "metadata": {},
   "source": [
    "## Constraints on H0 and Neff with Full Planck Data"
   ]
  },
  {
   "cell_type": "code",
   "execution_count": null,
   "metadata": {},
   "outputs": [],
   "source": [
    "mu = [67.9,3.046]\n",
    "sigmap = array([[inv(Fp_5000_h0_neff[0])[0,0],inv(Fp_5000_h0_neff[0])[0,2]],[inv(Fp_5000_h0_neff[0])[2,0],\n",
    "                                                                    inv(Fp_5000_h0_neff[0])[2,2]]])\n",
    "sigmaps = array([[inv(Fps_5000_h0_neff)[0,0],inv(Fps_5000_h0_neff)[0,2]],[inv(Fps_5000_h0_neff)[2,0],\n",
    "                                                                inv(Fps_5000_h0_neff)[2,2]]])\n",
    "\n",
    "\n",
    "xlab = r'$\\rm{N}_{\\rm{eff}}$'\n",
    "ylab = r'$H_0$'\n",
    "titl='$SPT3G(T:200<\\ell<3000,P:200<\\ell<5000)$'+ \\\n",
    "'\\n $Planck(T:2<\\ell<3000,P:2<\\ell<5000)$'+ \\\n",
    "'\\n $LCDM$+$N_{eff}$'\n",
    "\n",
    "matplotlib.rc('text', usetex = True)\n",
    "figure()\n",
    "cs2=sig_contours(mu,sigmap,colors = 'r')\n",
    "cs1=sig_contours(mu,sigmaps,colors = 'k')\n",
    "\n",
    "fmt1=dict(zip(cs1.levels,['P+SPT3G','P+SPT3G']))\n",
    "fmt2=dict(zip(cs2.levels,[r'$\\textit{Planck}$',r'$\\textit{Planck}$']))\n",
    "\n",
    "\n",
    "clabel(cs2,cs2.levels[::2], inline=True, fmt=fmt2,fontsize=14)\n",
    "clabel(cs1,cs1.levels[::2], inline=True, fmt=fmt1,fontsize=14)\n",
    "errorbar(mu[1],mu[0],yerr = sqrt(inv(Fp_5000_h0[0])[0,0]),color='r',elinewidth=8,label='Planck LCDM constraint on H0')\n",
    "errorbar(mu[1],mu[0],yerr = sqrt(inv(Fps_5000_h0)[0,0]),color='k',elinewidth=6,label='Planck +SPT3G')\n",
    "\n",
    "xlabel(xlab,fontsize=14)\n",
    "ylabel(ylab,fontsize=14)\n",
    "title(titl)\n",
    "legend(loc='upper left')\n",
    "ylim(60,78)\n",
    "xlim(2.5,3.5)\n",
    "\n",
    "tight_layout()\n",
    "savefig('Figures/H0_Neff_constraints_planck_and_planckSPT3G.pdf')"
   ]
  },
  {
   "cell_type": "markdown",
   "metadata": {},
   "source": [
    "## Constraints on H0 and Neff with Planck (ell< 800)"
   ]
  },
  {
   "cell_type": "code",
   "execution_count": null,
   "metadata": {},
   "outputs": [],
   "source": [
    "mu = [67.9,3.046]\n",
    "sigmap = array([[inv(Fp_800_h0_neff[0])[0,0],inv(Fp_800_h0_neff[0])[0,2]],[inv(Fp_800_h0_neff[0])[2,0],\n",
    "                                                                    inv(Fp_800_h0_neff[0])[2,2]]])\n",
    "\n",
    "sigmaps_800 = array([[inv(Fps_800_5000_h0_neff)[0,0],inv(Fps_800_5000_h0_neff)[0,2]],\n",
    "                     [inv(Fps_800_5000_h0_neff)[2,0],inv(Fps_800_5000_h0_neff)[2,2]]])\n",
    "\n",
    "xlab = r'$\\rm{N}_{\\rm{eff}}$'\n",
    "ylab = r'$H_0$'\n",
    "titl='$SPT3G(T:200<\\ell<3000,P:200<\\ell<5000)$'+ \\\n",
    "'\\n $Planck(T:2<\\ell<800,P:2<\\ell<800)$'+ \\\n",
    "'\\n $LCDM$+$N_{eff}$'\n",
    "\n",
    "matplotlib.rc('text', usetex = True)\n",
    "figure()\n",
    "cs2=sig_contours(mu,sigmap,colors = 'r')\n",
    "cs3=sig_contours(mu,sigmaps_800,colors = 'g')\n",
    "\n",
    "fmt2=dict(zip(cs2.levels,[r'$\\textit{Planck}$',r'$\\textit{Planck}$']))\n",
    "fmt3=dict(zip(cs3.levels,['P+SPT3G','P+SPT3G']))\n",
    "\n",
    "\n",
    "clabel(cs2,cs2.levels[::2], inline=True, fmt=fmt2,fontsize=14)\n",
    "clabel(cs3,cs3.levels[::2], inline=True, fmt=fmt3, fontsize=14)\n",
    "errorbar(mu[1],mu[0],yerr = sqrt(inv(Fp_800_h0[0])[0,0]),color='r',elinewidth=8,label='Planck LCDM constraint on H0')\n",
    "errorbar(mu[1],mu[0],yerr = sqrt(inv(Fps_800_5000_h0)[0,0]),color='g',elinewidth=6,label='Planck +SPT3G')\n",
    "\n",
    "xlabel(xlab,fontsize=14)\n",
    "ylabel(ylab,fontsize=14)\n",
    "title(titl)\n",
    "legend(loc='upper left')\n",
    "ylim(60,78)\n",
    "xlim(2.5,3.5)\n",
    "tight_layout()\n",
    "\n",
    "savefig('Figures/H0_Neff_constraints_planck_and_planck_800SPT3G.pdf')"
   ]
  },
  {
   "cell_type": "markdown",
   "metadata": {},
   "source": [
    "## Constraints on Omegabh^2 and Neff with Full Planck Data"
   ]
  },
  {
   "cell_type": "code",
   "execution_count": null,
   "metadata": {},
   "outputs": [],
   "source": [
    "mu = [0.0223,3.046]\n",
    "sigmap = array([[inv(Fp_5000_h0_neff[0])[4,4],inv(Fp_5000_h0_neff[0])[4,2]],[inv(Fp_5000_h0_neff[0])[2,4],\n",
    "                                                                    inv(Fp_5000_h0_neff[0])[2,2]]])\n",
    "sigmaps = array([[inv(Fps_5000_h0_neff)[4,4],inv(Fps_5000_h0_neff)[4,2]],[inv(Fps_5000_h0_neff)[2,4],\n",
    "                                                                inv(Fps_5000_h0_neff)[2,2]]])\n",
    "\n",
    "\n",
    "xlab = r'$\\rm{N}_{\\rm{eff}}$'\n",
    "ylab = r'$\\Omega_bh^2$'\n",
    "titl='$SPT3G(T:200<\\ell<3000,P:200<\\ell<5000)$'+ \\\n",
    "'\\n $Planck(T:2<\\ell<3000,P:2<\\ell<5000)$'+ \\\n",
    "'\\n $LCDM$+$N_{eff}$'\n",
    "\n",
    "matplotlib.rc('text', usetex = True)\n",
    "figure()\n",
    "cs2=sig_contours(mu,sigmap,colors = 'r')\n",
    "cs1=sig_contours(mu,sigmaps,colors = 'k')\n",
    "\n",
    "fmt1=dict(zip(cs1.levels,['P+SPT3G','P+SPT3G']))\n",
    "fmt2=dict(zip(cs2.levels,[r'$\\textit{Planck}$',r'$\\textit{Planck}$']))\n",
    "\n",
    "\n",
    "clabel(cs2,cs2.levels[::2], inline=True, fmt=fmt2,fontsize=14)\n",
    "clabel(cs1,cs1.levels[::2], inline=True, fmt=fmt1,fontsize=14)\n",
    "errorbar(0,0,yerr = 0,color='r',elinewidth=8,label='Planck ')\n",
    "errorbar(0,0,yerr = 0,color='k',elinewidth=6,label='Planck +SPT3G')\n",
    "legend(loc='upper left')\n",
    "\n",
    "xlabel(xlab,fontsize=14)\n",
    "ylabel(ylab,fontsize=14)\n",
    "title(titl)\n",
    "xlim(2,4)\n",
    "ylim(.021,.0235)\n",
    "tight_layout()\n",
    "savefig('Figures/omegabh2_Neff_constraints_planck_and_planckSPT3G.pdf')"
   ]
  },
  {
   "cell_type": "markdown",
   "metadata": {},
   "source": [
    "## Constraints on Omegabh^2 and Neff with Planck (ell < 800)"
   ]
  },
  {
   "cell_type": "code",
   "execution_count": null,
   "metadata": {},
   "outputs": [],
   "source": [
    "mu = [0.0223,3.046]\n",
    "sigmap = array([[inv(Fp_800_h0_neff[0])[4,4],inv(Fp_800_h0_neff[0])[4,2]],[inv(Fp_800_h0_neff[0])[2,4],\n",
    "                                                                    inv(Fp_800_h0_neff[0])[2,2]]])\n",
    "\n",
    "sigmaps_800 = array([[inv(Fps_800_5000_h0_neff)[4,4],inv(Fps_800_5000_h0_neff)[4,2]],\n",
    "                     [inv(Fps_800_5000_h0_neff)[2,4],inv(Fps_800_5000_h0_neff)[2,2]]])\n",
    "\n",
    "xlab = r'$\\rm{N}_{\\rm{eff}}$'\n",
    "ylab = r'$\\Omega_bh^2$'\n",
    "titl='$SPT3G(T:200<\\ell<3000,P:200<\\ell<5000)$'+ \\\n",
    "'\\n $Planck(T:2<\\ell<800,P:2<\\ell<800)$'+ \\\n",
    "'\\n $LCDM$+$N_{eff}$'\n",
    "\n",
    "matplotlib.rc('text', usetex = True)\n",
    "figure()\n",
    "cs2=sig_contours(mu,sigmap,colors = 'r')\n",
    "cs3=sig_contours(mu,sigmaps_800,colors = 'g')\n",
    "\n",
    "fmt2=dict(zip(cs2.levels,[r'$\\textit{Planck}$',r'$\\textit{Planck}$']))\n",
    "fmt3=dict(zip(cs3.levels,['P+SPT3G','P+SPT3G']))\n",
    "\n",
    "\n",
    "clabel(cs2,cs2.levels[::2], inline=True, fmt=fmt2,fontsize=14)\n",
    "clabel(cs3,cs3.levels[::2], inline=True, fmt=fmt3, fontsize=14)\n",
    "errorbar(0,0,yerr = 0,color='r',elinewidth=8,label='Planck ')\n",
    "errorbar(0,0,yerr = 0,color='g',elinewidth=6,label='Planck +SPT3G')\n",
    "legend(loc='upper left')\n",
    "\n",
    "xlabel(xlab,fontsize=14)\n",
    "ylabel(ylab,fontsize=14)\n",
    "title(titl)\n",
    "xlim(2,4)\n",
    "ylim(.021,.0235)\n",
    "tight_layout()\n",
    "savefig('Figures/omegabh2_Neff_constraints_planck_and_planck_800SPT3G.pdf')"
   ]
  },
  {
   "cell_type": "markdown",
   "metadata": {
    "collapsed": true
   },
   "source": [
    "## One more test, make the left panel of Figure 23 from the S4 science book"
   ]
  },
  {
   "cell_type": "markdown",
   "metadata": {},
   "source": [
    "#### We will do this for a 1' beam the y axis is the constraint on Neff and the x axis is the sky fraction"
   ]
  },
  {
   "cell_type": "markdown",
   "metadata": {},
   "source": [
    "#### My result is a bit off. For fsky = .4 the constraint on Neff is .03 in the science book but I get .04. If I reduced the covariance by a factor of two I get a more similar result"
   ]
  },
  {
   "cell_type": "code",
   "execution_count": null,
   "metadata": {},
   "outputs": [],
   "source": [
    "params={'H0':None,'cosmomc_theta': fish_param(1.0438e-2,1.3e-5),\n",
    "                           'ombh2':fish_param(0.0223,0.001),\n",
    "                           'ommh2':fish_param(0.13,0.007),\n",
    "                           'tau':fish_param(0.083,0.02, 0.02),\n",
    "                           'clamp':fish_param(1.93e-09,4.5e-11),\n",
    "                           'ns':fish_param(0.9623,0.032),\n",
    "                           'nnu':fish_param(3.046,0.03),\n",
    "                           \n",
    "                           'lmax':6000,'lens_potential_accuracy':2.0}"
   ]
  },
  {
   "cell_type": "markdown",
   "metadata": {},
   "source": [
    "#### This next cell can take some time depending on your machine, you might want to get some coffee.\n",
    "We are calculating 8 fisher matrices for 7 parameters and camb gets called twice for each parameter, so 112 calls to camb"
   ]
  },
  {
   "cell_type": "code",
   "execution_count": null,
   "metadata": {},
   "outputs": [],
   "source": [
    "results=[]\n",
    "for fsky in arange(.1,.9,.1):\n",
    "    s4cov=create_basic_cov(fsky,.0003,[sqrt(fsky/.4),'ukarc'],\n",
    "                     specrange = (30,5000),\n",
    "                     bin_size = 24,\n",
    "                     spectra=('TT','EE','TE'),\n",
    "                     )\n",
    "    Fs4=Fisher_Matrix(params,make_full_cov(['TT','EE','TE'],s4cov),\n",
    "                 planck_model(bin_size=24,specrange = [('TT',(30,3000)),('EE',(30,5000)),('TE',(30,5000))]))[0]\n",
    "    results.append((fsky,sqrt(inv(Fs4)[2,2])))"
   ]
  },
  {
   "cell_type": "code",
   "execution_count": null,
   "metadata": {
    "collapsed": true
   },
   "outputs": [],
   "source": [
    "fskys,Neffs=zip(*results)"
   ]
  },
  {
   "cell_type": "code",
   "execution_count": null,
   "metadata": {},
   "outputs": [],
   "source": [
    "plot(fskys,array(Neffs))"
   ]
  },
  {
   "cell_type": "code",
   "execution_count": null,
   "metadata": {
    "collapsed": true
   },
   "outputs": [],
   "source": []
  }
 ],
 "metadata": {
  "kernelspec": {
   "display_name": "Python 3",
   "language": "python",
   "name": "python3"
  },
  "language_info": {
   "codemirror_mode": {
    "name": "ipython",
    "version": 3
   },
   "file_extension": ".py",
   "mimetype": "text/x-python",
   "name": "python",
   "nbconvert_exporter": "python",
   "pygments_lexer": "ipython3",
   "version": "3.4.3"
  }
 },
 "nbformat": 4,
 "nbformat_minor": 1
}
