{
 "cells": [
  {
   "cell_type": "code",
   "execution_count": 3,
   "metadata": {},
   "outputs": [
    {
     "ename": "ImportError",
     "evalue": "No module named 'Fisher_CMB'",
     "output_type": "error",
     "traceback": [
      "\u001b[0;31m---------------------------------------------------------------------------\u001b[0m",
      "\u001b[0;31mImportError\u001b[0m                               Traceback (most recent call last)",
      "\u001b[0;32m<ipython-input-3-16b3b8018a1d>\u001b[0m in \u001b[0;36m<module>\u001b[0;34m()\u001b[0m\n\u001b[0;32m----> 1\u001b[0;31m \u001b[0;32mfrom\u001b[0m \u001b[0mFisher_CMB\u001b[0m \u001b[0;32mimport\u001b[0m \u001b[0;34m*\u001b[0m\u001b[0;34m\u001b[0m\u001b[0m\n\u001b[0m\u001b[1;32m      2\u001b[0m \u001b[0;32mfrom\u001b[0m \u001b[0mModels\u001b[0m\u001b[0;34m.\u001b[0m\u001b[0mSPT3G\u001b[0m\u001b[0;34m.\u001b[0m\u001b[0mspt3G_model\u001b[0m \u001b[0;32mimport\u001b[0m \u001b[0mspt3G_model\u001b[0m\u001b[0;34m\u001b[0m\u001b[0m\n\u001b[1;32m      3\u001b[0m \u001b[0;32mfrom\u001b[0m \u001b[0mModels\u001b[0m\u001b[0;34m.\u001b[0m\u001b[0mPlanck\u001b[0m\u001b[0;34m.\u001b[0m\u001b[0mPlanck_model\u001b[0m \u001b[0;32mimport\u001b[0m \u001b[0mplanck_model\u001b[0m\u001b[0;34m\u001b[0m\u001b[0m\n\u001b[1;32m      4\u001b[0m \u001b[0;32mfrom\u001b[0m \u001b[0mpickle\u001b[0m \u001b[0;32mimport\u001b[0m \u001b[0mload\u001b[0m \u001b[0;32mas\u001b[0m \u001b[0mpload\u001b[0m\u001b[0;34m\u001b[0m\u001b[0m\n\u001b[1;32m      5\u001b[0m \u001b[0;32mfrom\u001b[0m \u001b[0mpickle\u001b[0m \u001b[0;32mimport\u001b[0m \u001b[0mdump\u001b[0m\u001b[0;34m\u001b[0m\u001b[0m\n",
      "\u001b[0;31mImportError\u001b[0m: No module named 'Fisher_CMB'"
     ]
    }
   ],
   "source": [
    "from Fisher_CMB import *\n",
    "from Models.SPT3G.spt3G_model import spt3G_model\n",
    "from Models.Planck.Planck_model import planck_model\n",
    "from pickle import load as pload\n",
    "from pickle import dump\n",
    "from Covariances.create_basic_cov import *\n",
    "import pandas as pd\n",
    "import cosmoslik as K\n",
    "import matplotlib.lines as mlines"
   ]
  },
  {
   "cell_type": "code",
   "execution_count": 4,
   "metadata": {},
   "outputs": [
    {
     "ename": "NameError",
     "evalue": "name 'fish_param' is not defined",
     "output_type": "error",
     "traceback": [
      "\u001b[0;31m---------------------------------------------------------------------------\u001b[0m",
      "\u001b[0;31mNameError\u001b[0m                                 Traceback (most recent call last)",
      "\u001b[0;32m<ipython-input-4-0dc75e0325c6>\u001b[0m in \u001b[0;36m<module>\u001b[0;34m()\u001b[0m\n\u001b[1;32m      1\u001b[0m model_extensions=[('lcdm_',{}),\n\u001b[0;32m----> 2\u001b[0;31m                   \u001b[0;34m(\u001b[0m\u001b[0;34m'lcdm_neff'\u001b[0m\u001b[0;34m,\u001b[0m\u001b[0;34m{\u001b[0m\u001b[0;34m'nnu'\u001b[0m\u001b[0;34m:\u001b[0m\u001b[0mfish_param\u001b[0m\u001b[0;34m(\u001b[0m\u001b[0;36m3.046\u001b[0m\u001b[0;34m,\u001b[0m\u001b[0;36m0.03\u001b[0m\u001b[0;34m)\u001b[0m\u001b[0;34m}\u001b[0m\u001b[0;34m)\u001b[0m\u001b[0;34m,\u001b[0m\u001b[0;34m\u001b[0m\u001b[0m\n\u001b[0m\u001b[1;32m      3\u001b[0m                   ('lcdm_neff_yp',{'nnu':fish_param(3.046,0.03),\n\u001b[1;32m      4\u001b[0m                            'YHe':fish_param(.252,.014),}),\n\u001b[1;32m      5\u001b[0m                   \u001b[0;34m(\u001b[0m\u001b[0;34m'lcdm_mnu'\u001b[0m\u001b[0;34m,\u001b[0m\u001b[0;34m{\u001b[0m\u001b[0;34m'mnu'\u001b[0m\u001b[0;34m:\u001b[0m\u001b[0mfish_param\u001b[0m\u001b[0;34m(\u001b[0m\u001b[0;36m.06\u001b[0m\u001b[0;34m,\u001b[0m\u001b[0;36m0.01\u001b[0m\u001b[0;34m)\u001b[0m\u001b[0;34m}\u001b[0m\u001b[0;34m)\u001b[0m\u001b[0;34m,\u001b[0m\u001b[0;34m\u001b[0m\u001b[0m\n",
      "\u001b[0;31mNameError\u001b[0m: name 'fish_param' is not defined"
     ]
    }
   ],
   "source": [
    "model_extensions=[('lcdm_',{}),\n",
    "                  ('lcdm_neff',{'nnu':fish_param(3.046,0.03)}),\n",
    "                  ('lcdm_neff_yp',{'nnu':fish_param(3.046,0.03),\n",
    "                           'YHe':fish_param(.252,.014),}),\n",
    "                  ('lcdm_mnu',{'mnu':fish_param(.06,0.01)}),\n",
    "                  ('lcdm_omk',{'omk':fish_param(-0.003687,0.007)})]"
   ]
  },
  {
   "cell_type": "code",
   "execution_count": null,
   "metadata": {
    "collapsed": true
   },
   "outputs": [],
   "source": [
    "Fs={}\n",
    "for k in model_extensions:\n",
    "    Fs[k[0]]=pd.read_hdf('Saved_Fisher_Matrices/SPT3G_f035_'+k[0]+'_lmin50_Fisher_Matrices.h5', 'key')"
   ]
  }
 ],
 "metadata": {
  "kernelspec": {
   "display_name": "Python 3",
   "language": "python",
   "name": "python3"
  },
  "language_info": {
   "codemirror_mode": {
    "name": "ipython",
    "version": 3
   },
   "file_extension": ".py",
   "mimetype": "text/x-python",
   "name": "python",
   "nbconvert_exporter": "python",
   "pygments_lexer": "ipython3",
   "version": "3.4.3"
  }
 },
 "nbformat": 4,
 "nbformat_minor": 2
}
